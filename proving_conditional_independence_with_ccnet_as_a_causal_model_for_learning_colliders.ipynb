{
 "cells": [
  {
   "cell_type": "markdown",
   "metadata": {},
   "source": [
    "Author:\n",
    "        \n",
    "        PARK, JunHo, junho@ccnets.org\n",
    "\n",
    "        \n",
    "        KIM, JeongYoong, jeongyoong@ccnets.org\n",
    "        \n",
    "    COPYRIGHT (c) 2024. CCNets. All Rights reserved."
   ]
  },
  {
   "cell_type": "markdown",
   "metadata": {},
   "source": [
    "# Introduction to CCNet: A New Paradigm in Causal Learning\n",
    "\n",
    "## Overview of CCNet\n",
    "CCNet (Cooperative Causal Network) introduces a framework for understanding causal dynamics in observed data, decoupling the direct causes of an observation (X) from the target outcome (Y). This model uses neural networks to identify explanatory factors in observed data that are conditionally independent from the target variable given the observations.\n",
    "\n",
    "## A Method for Causal Learning with Neural Networks\n",
    "\n",
    "CCNet learns the causal relationship between observed data (X) and target outcomes (Y) using three interconnected neural network models: the Explainer, the Reasoner, and the Producer. This tutorial aims to prove the conditional independence of explanatory factors (E) and the target outcome (Y) given the observation (X).\n",
    "\n",
    "## Experiment Description\n",
    "\n",
    "### Objective\n",
    "Empirically validate the conditional independence of explanatory factors (E) from the target outcome (Y) given the observations (X) using CCNet.\n",
    "\n",
    "### Dataset\n",
    "The experiment uses the CelebA dataset, containing images with 40 attributes (e.g., Smiling, Gender, Eyeglasses, Young). Selected attributes configure the causal model dataset for training CCNet.\n",
    "\n",
    "### Methodology\n",
    "\n",
    "#### Dataset Preparation\n",
    "1. **CausalModelDataset**: Configures the dataset to include specific attributes hypothesized to be causally related to the target outcome.\n",
    "2. **EncodingDataset**: Generates encodings (explanatory factors) from the dataset using the causal model for classifier training.\n",
    "\n",
    "#### Training Process\n",
    "1. **Causal Model Training**: Iteratively train the causal model over several epochs to refine causal relationships.\n",
    "2. **Classifier Training and Evaluation**:\n",
    "   - **Selected Attribute Classifier**: Trained on encodings of selected attributes (e.g., Male, Smiling). Since the explanation vector should be conditionally independent of these selected attributes if CCNet works correctly, this classifier should not be able to predict these selected attributes.\n",
    "   - **None-Selected Attribute Classifier**: Trained on encodings of non-selected attributes (e.g., Eyeglasses, Young). This classifier should be able to predict the non-selected attributes if the explanation vector contains the remaining information about the human face.\n",
    "   - The tutorial also switches selected and non-selected labels, training the causal model with Eyeglasses and Young, then evaluating the classifier's ability to predict other attributes.\n",
    "\n",
    "#### Validation and Visualization\n",
    "1. **Performance Metrics**: Record accuracy and F1 score for each epoch to compare the effectiveness of the causal model.\n",
    "2. **Plotting Results**: Visualize performance trends over epochs to assess the causal model's impact.\n",
    "\n",
    "### What to Prove and Why\n",
    "\n",
    "#### Conditional Independence\n",
    "- **What to Prove**: Explanatory factors (E) are conditionally independent of the target outcome (Y) given the observations (X).\n",
    "- **Why**: Ensures the model correctly identifies true causal factors, providing accurate and reliable causal inferences.\n",
    "\n",
    "#### Causal Generation\n",
    "- **What to Prove**: CCNet improves the generative capacity by learning and utilizing causal relationships effectively.\n",
    "- **Why**: Demonstrates CCNet's ability to generate realistic data that captures the underlying causal dynamics, showing its robustness in modeling generative processes rather than just inferential graphs.\n",
    "\n",
    "### Summary\n",
    "This experiment aims to validate CCNet's ability to identify and utilize causal relationships in the CelebA dataset. By focusing on conditional independence and comparing classifier performance, the experiment provides empirical evidence of CCNet's efficacy in causal generation. This highlights CCNet's strength in learning a generative graph that accurately captures the causal dynamics in the data.\n"
   ]
  },
  {
   "cell_type": "code",
   "execution_count": 1,
   "metadata": {},
   "outputs": [],
   "source": [
    "from nn.utils.init import set_random_seed\n",
    "set_random_seed(0)\n",
    "\n",
    "import warnings\n",
    "warnings.filterwarnings(\"ignore\")"
   ]
  },
  {
   "cell_type": "code",
   "execution_count": 2,
   "metadata": {},
   "outputs": [
    {
     "name": "stdout",
     "output_type": "stream",
     "text": [
      "Files already downloaded and verified\n",
      "Files already downloaded and verified\n"
     ]
    }
   ],
   "source": [
    "import torch\n",
    "import torchvision.datasets as dset\n",
    "from torchvision import transforms\n",
    "\n",
    "# import albumentations\n",
    "n_img_sz = 64\n",
    "# Load the CelebA dataset for training. Specify the root directory where the dataset is located\n",
    "trainset = dset.CelebA(root='../data/celeba', split = \"train\", transform=transforms.Compose([\n",
    "                            transforms.Resize(n_img_sz), # Transformations include resizing the images to `n_img_sz`\n",
    "                            transforms.CenterCrop(n_img_sz), # Center cropping to the same size\n",
    "                            transforms.ToTensor(), # Converting the images to tensors,\n",
    "                            transforms.Normalize((0.5, 0.5, 0.5), (0.5, 0.5, 0.5)), # Normalizing the pixel values to have a mean and standard deviation of 0.5 across all channels.\n",
    "                        ]), download= True)\n",
    "\n",
    "testset = dset.CelebA(root='../data/celeba', split = \"test\", transform=transforms.Compose([\n",
    "                            transforms.Resize(n_img_sz), # Transformations include resizing the images to `n_img_sz`\n",
    "                            transforms.CenterCrop(n_img_sz), # Center cropping to the same size\n",
    "                            transforms.ToTensor(), # Converting the images to tensors\n",
    "                            transforms.Normalize((0.5, 0.5, 0.5), (0.5, 0.5, 0.5)), # Normalizing the pixel values to have a mean and standard deviation of 0.5 across all channels.\n",
    "                        ]), download= True)    "
   ]
  },
  {
   "cell_type": "code",
   "execution_count": 3,
   "metadata": {},
   "outputs": [],
   "source": [
    "trainset = torch.utils.data.Subset(trainset, range(0, 40000))\n",
    "testset = torch.utils.data.Subset(testset, range(0, 10000))"
   ]
  },
  {
   "cell_type": "code",
   "execution_count": 4,
   "metadata": {},
   "outputs": [],
   "source": [
    "label_list = ['5_o_Clock_Shadow', 'Arched_Eyebrows', 'Attractive', 'Bags_Under_Eyes', 'Bald', 'Bangs', 'Big_Lips', 'Big_Nose', \n",
    "              'Black_Hair', 'Blond_Hair', 'Blurry', 'Brown_Hair', 'Bushy_Eyebrows', 'Chubby', 'Double_Chin', 'Eyeglasses', 'Goatee', \n",
    "              'Gray_Hair', 'Heavy_Makeup', 'High_Cheekbones', 'Male', 'Mouth_Slightly_Open', 'Mustache', 'Narrow_Eyes', 'No_Beard', \n",
    "              'Oval_Face', 'Pale_Skin', 'Pointy_Nose', 'Receding_Hairline', 'Rosy_Cheeks', 'Sideburns', 'Smiling', 'Straight_Hair', \n",
    "              'Wavy_Hair', 'Wearing_Earrings', 'Wearing_Hat', 'Wearing_Lipstick', 'Wearing_Necklace', 'Wearing_Necktie', 'Young' ]\n",
    "male_and_smiling_attributes = torch.tensor([label_list.index('Male'), label_list.index('Smiling')])\n",
    "eyeglasses_and_young_attributes = torch.tensor([label_list.index('Eyeglasses'), label_list.index('Young')])"
   ]
  },
  {
   "cell_type": "code",
   "execution_count": 5,
   "metadata": {},
   "outputs": [],
   "source": [
    "# Custom dataset class for CelebA dataset\n",
    "import torch\n",
    "from torch.utils.data import Dataset\n",
    "from torch.utils.data import DataLoader\n",
    "\n",
    "class CausalModelDataset(Dataset):\n",
    "    def __init__(self, dataset, selected_attributes):\n",
    "        self.dataset = dataset\n",
    "        self.selected_attributes = selected_attributes\n",
    "    \n",
    "    def __getitem__(self, index):\n",
    "        X, y = self.dataset[index]\n",
    "        y = torch.index_select(y.unsqueeze(0), 1, self.selected_attributes).squeeze(0)\n",
    "        return X, y\n",
    "    \n",
    "    def __len__(self):\n",
    "        return len(self.dataset)\n",
    "\n",
    "class EncodingDataset(Dataset):\n",
    "    def __init__(self, dataset, attributes, causal_model):\n",
    "        self.dataset = dataset\n",
    "        self.attributes = attributes\n",
    "        self.causal_model = causal_model\n",
    "\n",
    "        data_loader = DataLoader(dataset=dataset, batch_size=256, shuffle=False, drop_last=False)\n",
    "        list_encodings = []\n",
    "        list_labels = []\n",
    "        with torch.no_grad():\n",
    "            for images, labels in data_loader:\n",
    "                images = images.to(self.causal_model.device)\n",
    "                encodings = self.causal_model.explain(images).detach().cpu()\n",
    "                attributes = labels[:, self.attributes]\n",
    "                list_encodings.append(encodings)\n",
    "                list_labels.append(attributes)\n",
    "        self.encodings = torch.cat(list_encodings, dim=0)\n",
    "        self.labels = torch.cat(list_labels, dim=0)\n",
    "        \n",
    "    def __getitem__(self, index):\n",
    "        return self.encodings[index], self.labels[index]\n",
    "\n",
    "    def __len__(self):\n",
    "        return len(self.dataset)"
   ]
  },
  {
   "cell_type": "code",
   "execution_count": 6,
   "metadata": {},
   "outputs": [],
   "source": [
    "from tools.setting.ml_params import MLParameters\n",
    "from tools.setting.data_config import DataConfig\n",
    "from trainer_hub import TrainerHub\n",
    "num_classes = 2\n",
    "data_config = DataConfig(dataset_name = 'celebA', task_type='multi_label_classification', obs_shape=[3, n_img_sz, n_img_sz], \\\n",
    "                        label_size=num_classes)\n",
    "\n",
    "#  Set training configuration from the AlgorithmConfig class, returning them as a Namespace object.\n",
    "ml_params = MLParameters(ccnet_network = 'resnet')\n",
    "\n",
    "ml_params.training.num_epoch = 3\n",
    "ml_params.model.ccnet_config.num_layers = 4\n",
    "ml_params.algorithm.reset_pretrained = True\n",
    "ml_params.algorithm.error_function = 'mae'\n",
    "\n",
    "# Set the device to GPU if available, else CPU\n",
    "device = torch.device(\"cuda\" if torch.cuda.is_available() else \"cpu\")\n"
   ]
  },
  {
   "cell_type": "code",
   "execution_count": 7,
   "metadata": {},
   "outputs": [],
   "source": [
    "from nn.tabnet import TabNet \n",
    "from tools.setting.ml_params import ModelConfig\n",
    "\n",
    "class AttributeClassifier(torch.nn.Module):\n",
    "    def __init__(self, input_size, output_size, num_layers=3, hidden_size=256):\n",
    "        super(AttributeClassifier, self).__init__()\n",
    "        \n",
    "        model_config = ModelConfig('tabnet')\n",
    "        model_config.num_layers = num_layers\n",
    "        model_config.d_model = hidden_size\n",
    "        \n",
    "        self.input_size = input_size\n",
    "        self.output_size = output_size\n",
    "        self.hidden_size = hidden_size\n",
    "        \n",
    "        # Create a list to hold all layers\n",
    "        layers = []\n",
    "        \n",
    "        # Input layer\n",
    "        layers.append(torch.nn.Linear(input_size, hidden_size))\n",
    "        layers.append(torch.nn.ReLU())\n",
    "        \n",
    "        ## Add TabNet layers\n",
    "        layers.append(TabNet(model_config))\n",
    "        layers.append(torch.nn.ReLU())\n",
    "\n",
    "        # Output layer\n",
    "        layers.append(torch.nn.Linear(hidden_size, output_size))\n",
    "        \n",
    "        # Register all layers\n",
    "        self.layers = torch.nn.Sequential(*layers)\n",
    "\n",
    "    def forward(self, x):\n",
    "        x = self.layers(x)\n",
    "        return torch.sigmoid(x)"
   ]
  },
  {
   "cell_type": "code",
   "execution_count": 8,
   "metadata": {},
   "outputs": [],
   "source": [
    "# Function to train classifier\n",
    "DECAY_RATE = 0.01\n",
    "ITERATION_100K = 100000\n",
    "gamma = pow(DECAY_RATE, 1 / ITERATION_100K)    \n",
    "\n",
    "def train_classifier(model, trainset, num_epochs=3, gamma=gamma):\n",
    "    model.train()\n",
    "    train_loader = DataLoader(trainset, batch_size=64, shuffle=True)    \n",
    "    len_loader = len(train_loader)\n",
    "    optimizer = torch.optim.Adam(model.parameters(), lr=0.001)\n",
    "    scheduler = torch.optim.lr_scheduler.ExponentialLR(optimizer, gamma=gamma)\n",
    "    for epoch in range(num_epochs):\n",
    "        sum_loss = 0\n",
    "        for data, labels in train_loader:\n",
    "            data, labels = data.to(device), labels.to(device).float()\n",
    "            optimizer.zero_grad()\n",
    "            outputs = model(data)\n",
    "            loss = torch.nn.functional.binary_cross_entropy_with_logits(outputs, labels)\n",
    "            loss.backward()\n",
    "            optimizer.step()\n",
    "            scheduler.step()\n",
    "            sum_loss += loss.item()\n",
    "        print(\"Epoch: \", epoch, \"Loss: \", sum_loss / len_loader)\n",
    "    print(\"Learning rate: \", optimizer.param_groups[0]['lr'])"
   ]
  },
  {
   "cell_type": "code",
   "execution_count": 9,
   "metadata": {},
   "outputs": [],
   "source": [
    "import torch\n",
    "from torch.utils.data import DataLoader\n",
    "from sklearn.metrics import accuracy_score, classification_report, f1_score\n",
    "import matplotlib.pyplot as plt\n",
    "\n",
    "# Function to evaluate classifier\n",
    "def test_classifier(model, dataset):\n",
    "    model.eval()\n",
    "    all_preds = []\n",
    "    all_labels = []\n",
    "    \n",
    "    dataloader = DataLoader(dataset, batch_size=64, shuffle=False)\n",
    "    with torch.no_grad():\n",
    "        for data, labels in dataloader:\n",
    "            data, labels = data.to(device), labels.to(device).float()\n",
    "            outputs = model(data)\n",
    "            preds = torch.sigmoid(outputs).round()\n",
    "            all_preds.append(preds.cpu())\n",
    "            all_labels.append(labels.cpu())\n",
    "    \n",
    "    all_preds = torch.cat(all_preds)\n",
    "    all_labels = torch.cat(all_labels)\n",
    "    \n",
    "    accuracy = accuracy_score(all_labels, all_preds)\n",
    "    f1 = f1_score(all_labels, all_preds, average='macro')\n",
    "    return accuracy, f1"
   ]
  },
  {
   "cell_type": "code",
   "execution_count": 10,
   "metadata": {},
   "outputs": [],
   "source": [
    "import matplotlib.pyplot as plt\n",
    "import numpy as np\n",
    "from IPython.display import display, clear_output\n",
    "\n",
    "def plot_accuracy(ax, epochs, selected_results_dict, none_selected_results_dict):\n",
    "    ax.cla()\n",
    "    ax.plot(epochs, selected_results_dict['accuracy'], label='Selected Attributes Accuracy')\n",
    "    ax.plot(epochs, none_selected_results_dict['accuracy'], label='None Selected Attributes Accuracy')\n",
    "    ax.set_xlabel('Epochs')\n",
    "    ax.set_ylabel('Accuracy')\n",
    "    ax.set_title('None Selected Attribute score should be higher')\n",
    "    ax.legend()\n",
    "\n",
    "def plot_f1_score(ax, epochs, selected_results_dict, none_selected_results_dict):\n",
    "    ax.cla()\n",
    "    ax.plot(epochs, selected_results_dict['f1_score'], label='Selected Attributes F1 Score')\n",
    "    ax.plot(epochs, none_selected_results_dict['f1_score'], label='None Selected Attributes F1 Score')\n",
    "    ax.set_xlabel('Epochs')\n",
    "    ax.set_ylabel('F1 Score')\n",
    "    ax.set_title('Selected Attribute score should be lower')\n",
    "    ax.legend()"
   ]
  },
  {
   "cell_type": "code",
   "execution_count": 11,
   "metadata": {},
   "outputs": [],
   "source": [
    "def test_classifiers(epoch, axs, selected_classifier, none_selected_classifier, testset_selected, testset_none_selected, selected_results, none_selected_results):\n",
    "    print(f\"Testing causal classifier on selected attributes at epoch {epoch}...\")\n",
    "    selected_acc, selected_f1 = test_classifier(selected_classifier, testset_selected)\n",
    "    selected_results['accuracy'].append(selected_acc)\n",
    "    selected_results['f1_score'].append(selected_f1)\n",
    "\n",
    "    print(f\"Testing classifier on none selected attributes at epoch {epoch}...\")\n",
    "    none_selected_acc, none_selected_f1 = test_classifier(none_selected_classifier, testset_none_selected)\n",
    "    none_selected_results['accuracy'].append(none_selected_acc)\n",
    "    none_selected_results['f1_score'].append(none_selected_f1)\n",
    "\n",
    "    # Update plots\n",
    "    epochs = range(1, len(selected_results['accuracy']) + 1)\n",
    "    \n",
    "    plot_accuracy(axs[0], epochs, selected_results, none_selected_results)\n",
    "    plot_f1_score(axs[1], epochs, selected_results, none_selected_results)\n"
   ]
  },
  {
   "cell_type": "code",
   "execution_count": 12,
   "metadata": {},
   "outputs": [],
   "source": [
    "import matplotlib.pyplot as plt\n",
    "\n",
    "def display_plot(fig):\n",
    "    plt.tight_layout()\n",
    "    clear_output(wait=True)\n",
    "    display(fig, display_id='fig')\n",
    "    plt.pause(0.1)  # Pause to allow the plot to update\n",
    "\n",
    "def update_annot(ind, line, annot):\n",
    "    pos = line.get_offsets()[ind[\"ind\"][0]]\n",
    "    annot.xy = pos\n",
    "    text = f\"{pos[0]:.2f}, {pos[1]:.2f}\"\n",
    "    annot.set_text(text)\n",
    "    annot.get_bbox_patch().set_alpha(0.4)\n",
    "\n",
    "def hover(event, fig, ax, line, annot):\n",
    "    vis = annot.get_visible()\n",
    "    if event.inaxes == ax:\n",
    "        cont, ind = line.contains(event)\n",
    "        if cont:\n",
    "            update_annot(ind, line, annot)\n",
    "            annot.set_visible(True)\n",
    "            fig.canvas.draw_idle()\n",
    "        else:\n",
    "            if vis:\n",
    "                annot.set_visible(False)\n",
    "                fig.canvas.draw_idle()\n",
    "\n",
    "def initialize_plot():\n",
    "    # Sample data\n",
    "    x = np.linspace(0, 10, 100)\n",
    "    y = np.sin(x)\n",
    "    \n",
    "    # Turn off interactive mode initially\n",
    "    plt.ioff()\n",
    "    \n",
    "    # Create the figure and axes\n",
    "    fig, axs = plt.subplots(1, 2, figsize=(14, 6))\n",
    "    \n",
    "    # Create the scatter plot on the first subplot\n",
    "    ax = axs[0]\n",
    "    line = ax.scatter(x, y)\n",
    "    \n",
    "    # Annotate point\n",
    "    annot = ax.annotate(\"\", xy=(0,0), xytext=(20,20),\n",
    "                        textcoords=\"offset points\",\n",
    "                        bbox=dict(boxstyle=\"round\", fc=\"w\"),\n",
    "                        arrowprops=dict(arrowstyle=\"->\"))\n",
    "    annot.set_visible(False)\n",
    "    \n",
    "    # Connect the hover event\n",
    "    fig.canvas.mpl_connect(\"motion_notify_event\", lambda event: hover(event, fig, ax, line, annot))\n",
    "\n",
    "    return fig, axs, ax, line, annot"
   ]
  },
  {
   "cell_type": "code",
   "execution_count": 13,
   "metadata": {},
   "outputs": [],
   "source": [
    "def train_causal_model_and_classifiers(causal_model_selected_attributes, none_selected_attributes, num_epoch):\n",
    "    \n",
    "    causal_model_dataset = CausalModelDataset(trainset, causal_model_selected_attributes)\n",
    "    trainer_hub = TrainerHub(ml_params, data_config, device, use_print = True, print_interval=200)\n",
    "    encoding_size = data_config.explain_size\n",
    "    causal_model = trainer_hub.ccnet    \n",
    "    \n",
    "    # Initialize the plot\n",
    "    fig, axs, ax, line, annot = initialize_plot()\n",
    "    \n",
    "    # Create dictionaries to store results\n",
    "    selected_results_dict = {'accuracy': [], 'f1_score': []}\n",
    "    none_selected_results_dict = {'accuracy': [], 'f1_score': []}\n",
    "\n",
    "    for epoch in range(num_epoch):\n",
    "        if epoch > 0:\n",
    "            print(f\"Training causal model at epoch {epoch}...\")\n",
    "            trainer_hub.train(causal_model_dataset)\n",
    "\n",
    "        selected_classifier = AttributeClassifier(encoding_size, num_classes).to(device)\n",
    "        none_selected_classifier = AttributeClassifier(encoding_size, num_classes).to(device)\n",
    "        \n",
    "        # Train and evaluate classifiers on the explanation datasets\n",
    "        print(\"Training causal classifier on selected attributes...\")\n",
    "        trainset_selected_attributes = EncodingDataset(trainset, causal_model_selected_attributes, causal_model)\n",
    "        testset_selected_attributes = EncodingDataset(testset, causal_model_selected_attributes, causal_model)\n",
    "        train_classifier(selected_classifier, trainset_selected_attributes)\n",
    "\n",
    "        print(\"Training classifier on none selected attributes...\")\n",
    "        trainset_none_selected_attributes = EncodingDataset(trainset, none_selected_attributes, causal_model)\n",
    "        testset_none_selected_attributes = EncodingDataset(testset, none_selected_attributes, causal_model)    \n",
    "        \n",
    "        train_classifier(none_selected_classifier, trainset_none_selected_attributes)\n",
    "        \n",
    "        # Test classifiers\n",
    "        test_classifiers(epoch, axs, selected_classifier, none_selected_classifier, \n",
    "                         testset_selected_attributes, testset_none_selected_attributes, \n",
    "                         selected_results_dict, none_selected_results_dict)\n",
    "        \n",
    "        # Update the plot\n",
    "        display_plot(fig)\n",
    "\n",
    "    plt.ioff()  # Turn off interactive mode\n",
    "    plt.show()"
   ]
  },
  {
   "cell_type": "code",
   "execution_count": 14,
   "metadata": {},
   "outputs": [
    {
     "data": {
      "image/png": "[encoded data removed]",
      "text/plain": [
       "<Figure size 1400x600 with 2 Axes>"
      ]
     },
     "metadata": {},
     "output_type": "display_data"
    },
    {
     "data": {
      "text/plain": [
       "<Figure size 640x480 with 0 Axes>"
      ]
     },
     "metadata": {},
     "output_type": "display_data"
    },
    {
     "name": "stdout",
     "output_type": "stream",
     "text": [
      "Training causal model at epoch 18...\n"
     ]
    },
    {
     "data": {
      "application/vnd.jupyter.widget-view+json": {
       "model_id": "05293bfa08814b96b1e84e5cd53bd669",
       "version_major": 2,
       "version_minor": 0
      },
      "text/plain": [
       "Epochs:   0%|          | 0/3 [00:00<?, ?it/s]"
      ]
     },
     "metadata": {},
     "output_type": "display_data"
    },
    {
     "data": {
      "application/vnd.jupyter.widget-view+json": {
       "model_id": "05ccf9d6bc0543808a2c2fd67270f75a",
       "version_major": 2,
       "version_minor": 0
      },
      "text/plain": [
       "Iterations:   0%|          | 0/625 [00:00<?, ?it/s]"
      ]
     },
     "metadata": {},
     "output_type": "display_data"
    },
    {
     "name": "stdout",
     "output_type": "stream",
     "text": [
      "[0/3][125/625][Time 167.97]\n",
      "Unified LR across all optimizers: 7.668093270370849e-05\n",
      "--------------------Training Metrics--------------------\n",
      "CCNet:  Three Resnet\n",
      "Inf: 0.0015\tGen: 0.1314\tRec: 0.1313\tE: 0.0015\tR: 0.0015\tP: 0.2612\n",
      "[0/3][325/625][Time 24.10]\n",
      "Unified LR across all optimizers: 7.622287520188142e-05\n",
      "--------------------Training Metrics--------------------\n",
      "CCNet:  Three Resnet\n",
      "Inf: 0.0015\tGen: 0.1321\tRec: 0.1320\tE: 0.0016\tR: 0.0015\tP: 0.2626\n",
      "[0/3][525/625][Time 24.17]\n",
      "Unified LR across all optimizers: 7.576755393013899e-05\n",
      "--------------------Training Metrics--------------------\n",
      "CCNet:  Three Resnet\n",
      "Inf: 0.0015\tGen: 0.1320\tRec: 0.1320\tE: 0.0015\tR: 0.0015\tP: 0.2626\n"
     ]
    },
    {
     "data": {
      "application/vnd.jupyter.widget-view+json": {
       "model_id": "99cc78335e794e7eb27ce7d1ed42d4dd",
       "version_major": 2,
       "version_minor": 0
      },
      "text/plain": [
       "Iterations:   0%|          | 0/625 [00:00<?, ?it/s]"
      ]
     },
     "metadata": {},
     "output_type": "display_data"
    },
    {
     "name": "stdout",
     "output_type": "stream",
     "text": [
      "[1/3][100/625][Time 24.26]\n",
      "Unified LR across all optimizers: 7.531495254346968e-05\n",
      "--------------------Training Metrics--------------------\n",
      "CCNet:  Three Resnet\n",
      "Inf: 0.0021\tGen: 0.1315\tRec: 0.1315\tE: 0.0021\tR: 0.0021\tP: 0.2609\n",
      "[1/3][300/625][Time 24.16]\n",
      "Unified LR across all optimizers: 7.486505479450006e-05\n",
      "--------------------Training Metrics--------------------\n",
      "CCNet:  Three Resnet\n",
      "Inf: 0.0023\tGen: 0.1321\tRec: 0.1321\tE: 0.0023\tR: 0.0023\tP: 0.2619\n",
      "[1/3][500/625][Time 24.25]\n",
      "Unified LR across all optimizers: 7.441784453291099e-05\n",
      "--------------------Training Metrics--------------------\n",
      "CCNet:  Three Resnet\n",
      "Inf: 0.0020\tGen: 0.1314\tRec: 0.1314\tE: 0.0020\tR: 0.0020\tP: 0.2608\n"
     ]
    },
    {
     "data": {
      "application/vnd.jupyter.widget-view+json": {
       "model_id": "7f99c04af43d42d1b247a15cfa3d8333",
       "version_major": 2,
       "version_minor": 0
      },
      "text/plain": [
       "Iterations:   0%|          | 0/625 [00:00<?, ?it/s]"
      ]
     },
     "metadata": {},
     "output_type": "display_data"
    },
    {
     "name": "stdout",
     "output_type": "stream",
     "text": [
      "[2/3][75/625][Time 25.08]\n",
      "Unified LR across all optimizers: 7.397330570485824e-05\n",
      "--------------------Training Metrics--------------------\n",
      "CCNet:  Three Resnet\n",
      "Inf: 0.0019\tGen: 0.1311\tRec: 0.1311\tE: 0.0019\tR: 0.0019\tP: 0.2602\n"
     ]
    }
   ],
   "source": [
    "train_causal_model_and_classifiers(causal_model_selected_attributes = eyeglasses_and_young_attributes, none_selected_attributes = male_and_smiling_attributes, num_epoch = 20)"
   ]
  },
  {
   "cell_type": "code",
   "execution_count": null,
   "metadata": {},
   "outputs": [],
   "source": [
    "train_causal_model_and_classifiers(causal_model_selected_attributes = male_and_smiling_attributes, none_selected_attributes = eyeglasses_and_young_attributes, num_epoch = 20)"
   ]
  }
 ],
 "metadata": {
  "kernelspec": {
   "display_name": "ccnets",
   "language": "python",
   "name": "python3"
  },
  "language_info": {
   "codemirror_mode": {
    "name": "ipython",
    "version": 3
   },
   "file_extension": ".py",
   "mimetype": "text/x-python",
   "name": "python",
   "nbconvert_exporter": "python",
   "pygments_lexer": "ipython3",
   "version": "3.10.9"
  }
 },
 "nbformat": 4,
 "nbformat_minor": 2
}
