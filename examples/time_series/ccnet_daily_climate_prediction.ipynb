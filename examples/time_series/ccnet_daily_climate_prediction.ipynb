{
 "cells": [
  {
   "cell_type": "markdown",
   "id": "ace33ea6",
   "metadata": {},
   "source": [
    "Authors : Jinsu Kim, JunHo Park\n",
    "\n",
    "ⓒ 2022 CCNets, Inc. All Rights Reserved."
   ]
  },
  {
   "attachments": {},
   "cell_type": "markdown",
   "id": "86e99e77",
   "metadata": {
    "papermill": {
     "duration": 0.011182,
     "end_time": "2023-06-06T07:48:39.422820",
     "exception": false,
     "start_time": "2023-06-06T07:48:39.411638",
     "status": "completed"
    },
    "tags": []
   },
   "source": [
    "![](https://storage.googleapis.com/kaggle-datasets-images/312121/636393/a5097396fc07cf882d3e0d631b100a36/dataset-cover.jpg?t=2019-08-23-15-00-53)"
   ]
  },
  {
   "attachments": {},
   "cell_type": "markdown",
   "id": "190c2467",
   "metadata": {
    "papermill": {
     "duration": 0.011099,
     "end_time": "2023-06-06T07:48:39.445154",
     "exception": false,
     "start_time": "2023-06-06T07:48:39.434055",
     "status": "completed"
    },
    "tags": []
   },
   "source": [
    "***"
   ]
  },
  {
   "attachments": {},
   "cell_type": "markdown",
   "id": "2633cc40",
   "metadata": {
    "papermill": {
     "duration": 0.010898,
     "end_time": "2023-06-06T07:48:39.467494",
     "exception": false,
     "start_time": "2023-06-06T07:48:39.456596",
     "status": "completed"
    },
    "tags": []
   },
   "source": [
    "<h1 style = 'font-family: Times New Roman'> <b>|</b><i> 1. Content</i></h1>\n",
    "\n",
    "<br>\n",
    "\n",
    "> <h4 style = 'font-family: Times New Roman'>\n",
    "The Dataset is fully dedicated for the developers who want to train the model on Weather Forecasting for Indian climate.<br><br> This dataset provides data from 1st January 2013 to 24th April 2017 in the city of Delhi, India. <br><br>The 4 parameters here are\n",
    "meantemp, humidity, wind_speed, meanpressure.\n",
    "    \n",
    "  \n",
    "<h1 style = 'font-family: Times New Roman'> <b>|</b><i> 2. About Dataset</i></h1>\n",
    "\n",
    "<br> \n",
    "    \n",
    "5 columns in the dataset, below is <u>description of features</u>:\n",
    "\n",
    "*  (1) <b>meantemp</b>: Mean temperature averaged out from multiple 3 hour intervals in a day. \n",
    "    \n",
    "*  (2) <b>humidity</b>: Humidity value for the day (units are grams of water vapor per cubic meter volume of air).\n",
    "    \n",
    "    \n",
    "*  (3) <b>wind_speed</b>: Wind speed measured in kmph.\n",
    "    \n",
    "    \n",
    "*  (4) <b>meanpressure</b>: Pressure reading of weather (measure in atm)\n",
    "    \n",
    "    \n",
    "<h1 style = 'font-family: Times New Roman'> <b>|</b><i> 3. Goal of the Notebook</i></h1>\n",
    "    \n",
    "> <h4 style = 'font-family: Times New Roman'>\n",
    "Goal is to train and test model using GPT, Pytorch. <br><br>\n",
    "    The Target Column used here is <b>meantemp</b>\n",
    "</h4>\n",
    "\n",
    " "
   ]
  },
  {
   "cell_type": "markdown",
   "id": "02a794e7",
   "metadata": {},
   "source": [
    "https://www.kaggle.com/datasets/sumanthvrao/daily-climate-time-series-data"
   ]
  },
  {
   "attachments": {},
   "cell_type": "markdown",
   "id": "c651489d",
   "metadata": {
    "papermill": {
     "duration": 0.010985,
     "end_time": "2023-06-06T07:48:39.512835",
     "exception": false,
     "start_time": "2023-06-06T07:48:39.501850",
     "status": "completed"
    },
    "tags": []
   },
   "source": [
    "***"
   ]
  },
  {
   "attachments": {},
   "cell_type": "markdown",
   "id": "7ee258dd",
   "metadata": {
    "papermill": {
     "duration": 0.011662,
     "end_time": "2023-06-06T07:48:39.535835",
     "exception": false,
     "start_time": "2023-06-06T07:48:39.524173",
     "status": "completed"
    },
    "tags": []
   },
   "source": [
    "<a id=\"1\"></a>\n",
    "> <h1 style = 'font-family: Times New Roman'><b> <b style = 'color: #42c2f5'>1.</b> Import Necessary Libraries </b></h1>"
   ]
  },
  {
   "cell_type": "code",
   "execution_count": 1,
   "id": "795ae437",
   "metadata": {},
   "outputs": [],
   "source": [
    "import os\n",
    "import sys\n",
    "path_append = \"../../\"\n",
    "sys.path.append(path_append)  # Go up one directory from where you are."
   ]
  },
  {
   "cell_type": "code",
   "execution_count": 2,
   "id": "5301b228",
   "metadata": {
    "execution": {
     "iopub.execute_input": "2023-06-06T07:48:45.607892Z",
     "iopub.status.busy": "2023-06-06T07:48:45.607512Z",
     "iopub.status.idle": "2023-06-06T07:48:45.631478Z",
     "shell.execute_reply": "2023-06-06T07:48:45.630508Z"
    },
    "papermill": {
     "duration": 0.038975,
     "end_time": "2023-06-06T07:48:45.633894",
     "exception": false,
     "start_time": "2023-06-06T07:48:45.594919",
     "status": "completed"
    },
    "tags": []
   },
   "outputs": [
    {
     "data": {
      "text/html": [
       "<div>\n",
       "<style scoped>\n",
       "    .dataframe tbody tr th:only-of-type {\n",
       "        vertical-align: middle;\n",
       "    }\n",
       "\n",
       "    .dataframe tbody tr th {\n",
       "        vertical-align: top;\n",
       "    }\n",
       "\n",
       "    .dataframe thead th {\n",
       "        text-align: right;\n",
       "    }\n",
       "</style>\n",
       "<table border=\"1\" class=\"dataframe\">\n",
       "  <thead>\n",
       "    <tr style=\"text-align: right;\">\n",
       "      <th></th>\n",
       "      <th>date</th>\n",
       "      <th>meantemp</th>\n",
       "      <th>humidity</th>\n",
       "      <th>wind_speed</th>\n",
       "      <th>meanpressure</th>\n",
       "    </tr>\n",
       "  </thead>\n",
       "  <tbody>\n",
       "    <tr>\n",
       "      <th>0</th>\n",
       "      <td>2013-01-01</td>\n",
       "      <td>10.000000</td>\n",
       "      <td>84.500000</td>\n",
       "      <td>0.000000</td>\n",
       "      <td>1015.666667</td>\n",
       "    </tr>\n",
       "    <tr>\n",
       "      <th>1</th>\n",
       "      <td>2013-01-02</td>\n",
       "      <td>7.400000</td>\n",
       "      <td>92.000000</td>\n",
       "      <td>2.980000</td>\n",
       "      <td>1017.800000</td>\n",
       "    </tr>\n",
       "    <tr>\n",
       "      <th>2</th>\n",
       "      <td>2013-01-03</td>\n",
       "      <td>7.166667</td>\n",
       "      <td>87.000000</td>\n",
       "      <td>4.633333</td>\n",
       "      <td>1018.666667</td>\n",
       "    </tr>\n",
       "    <tr>\n",
       "      <th>3</th>\n",
       "      <td>2013-01-04</td>\n",
       "      <td>8.666667</td>\n",
       "      <td>71.333333</td>\n",
       "      <td>1.233333</td>\n",
       "      <td>1017.166667</td>\n",
       "    </tr>\n",
       "    <tr>\n",
       "      <th>4</th>\n",
       "      <td>2013-01-05</td>\n",
       "      <td>6.000000</td>\n",
       "      <td>86.833333</td>\n",
       "      <td>3.700000</td>\n",
       "      <td>1016.500000</td>\n",
       "    </tr>\n",
       "  </tbody>\n",
       "</table>\n",
       "</div>"
      ],
      "text/plain": [
       "         date   meantemp   humidity  wind_speed  meanpressure\n",
       "0  2013-01-01  10.000000  84.500000    0.000000   1015.666667\n",
       "1  2013-01-02   7.400000  92.000000    2.980000   1017.800000\n",
       "2  2013-01-03   7.166667  87.000000    4.633333   1018.666667\n",
       "3  2013-01-04   8.666667  71.333333    1.233333   1017.166667\n",
       "4  2013-01-05   6.000000  86.833333    3.700000   1016.500000"
      ]
     },
     "execution_count": 2,
     "metadata": {},
     "output_type": "execute_result"
    }
   ],
   "source": [
    "import pandas  as pd\n",
    "train_df = pd.read_csv(path_append + '../data/Daily Climate/DailyDelhiClimateTrain.csv')\n",
    "test_df = pd.read_csv(path_append + '../data/Daily Climate/DailyDelhiClimateTest.csv')\n",
    "train_df.head()"
   ]
  },
  {
   "attachments": {},
   "cell_type": "markdown",
   "id": "e96bc665",
   "metadata": {
    "papermill": {
     "duration": 0.013688,
     "end_time": "2023-06-06T07:48:47.482824",
     "exception": false,
     "start_time": "2023-06-06T07:48:47.469136",
     "status": "completed"
    },
    "tags": []
   },
   "source": [
    "<a id=\"2\"></a>\n",
    "> <h1 style = 'font-family: Times New Roman'><b> <b style = 'color: #4290f5'>2.</b> Modeling: Preprocess </b></h1>"
   ]
  },
  {
   "cell_type": "code",
   "execution_count": 3,
   "id": "98f3898b",
   "metadata": {
    "execution": {
     "iopub.execute_input": "2023-06-06T07:48:47.430173Z",
     "iopub.status.busy": "2023-06-06T07:48:47.429869Z",
     "iopub.status.idle": "2023-06-06T07:48:47.452861Z",
     "shell.execute_reply": "2023-06-06T07:48:47.451873Z"
    },
    "papermill": {
     "duration": 0.040115,
     "end_time": "2023-06-06T07:48:47.455226",
     "exception": false,
     "start_time": "2023-06-06T07:48:47.415111",
     "status": "completed"
    },
    "tags": []
   },
   "outputs": [
    {
     "name": "stdout",
     "output_type": "stream",
     "text": [
      "Train set \n",
      "\n",
      "\n"
     ]
    },
    {
     "data": {
      "text/html": [
       "<div>\n",
       "<style scoped>\n",
       "    .dataframe tbody tr th:only-of-type {\n",
       "        vertical-align: middle;\n",
       "    }\n",
       "\n",
       "    .dataframe tbody tr th {\n",
       "        vertical-align: top;\n",
       "    }\n",
       "\n",
       "    .dataframe thead th {\n",
       "        text-align: right;\n",
       "    }\n",
       "</style>\n",
       "<table border=\"1\" class=\"dataframe\">\n",
       "  <thead>\n",
       "    <tr style=\"text-align: right;\">\n",
       "      <th></th>\n",
       "      <th>date</th>\n",
       "      <th>meantemp</th>\n",
       "      <th>humidity</th>\n",
       "      <th>wind_speed</th>\n",
       "      <th>meanpressure</th>\n",
       "    </tr>\n",
       "  </thead>\n",
       "  <tbody>\n",
       "    <tr>\n",
       "      <th>0</th>\n",
       "      <td>2013-01-01</td>\n",
       "      <td>10.000000</td>\n",
       "      <td>84.500000</td>\n",
       "      <td>0.000000</td>\n",
       "      <td>1015.666667</td>\n",
       "    </tr>\n",
       "    <tr>\n",
       "      <th>1</th>\n",
       "      <td>2013-01-02</td>\n",
       "      <td>7.400000</td>\n",
       "      <td>92.000000</td>\n",
       "      <td>2.980000</td>\n",
       "      <td>1017.800000</td>\n",
       "    </tr>\n",
       "    <tr>\n",
       "      <th>2</th>\n",
       "      <td>2013-01-03</td>\n",
       "      <td>7.166667</td>\n",
       "      <td>87.000000</td>\n",
       "      <td>4.633333</td>\n",
       "      <td>1018.666667</td>\n",
       "    </tr>\n",
       "    <tr>\n",
       "      <th>3</th>\n",
       "      <td>2013-01-04</td>\n",
       "      <td>8.666667</td>\n",
       "      <td>71.333333</td>\n",
       "      <td>1.233333</td>\n",
       "      <td>1017.166667</td>\n",
       "    </tr>\n",
       "    <tr>\n",
       "      <th>4</th>\n",
       "      <td>2013-01-05</td>\n",
       "      <td>6.000000</td>\n",
       "      <td>86.833333</td>\n",
       "      <td>3.700000</td>\n",
       "      <td>1016.500000</td>\n",
       "    </tr>\n",
       "  </tbody>\n",
       "</table>\n",
       "</div>"
      ],
      "text/plain": [
       "         date   meantemp   humidity  wind_speed  meanpressure\n",
       "0  2013-01-01  10.000000  84.500000    0.000000   1015.666667\n",
       "1  2013-01-02   7.400000  92.000000    2.980000   1017.800000\n",
       "2  2013-01-03   7.166667  87.000000    4.633333   1018.666667\n",
       "3  2013-01-04   8.666667  71.333333    1.233333   1017.166667\n",
       "4  2013-01-05   6.000000  86.833333    3.700000   1016.500000"
      ]
     },
     "execution_count": 3,
     "metadata": {},
     "output_type": "execute_result"
    }
   ],
   "source": [
    "print('Train set \\n\\n')\n",
    "train_df.head()"
   ]
  },
  {
   "cell_type": "code",
   "execution_count": 4,
   "id": "7acbfacc",
   "metadata": {},
   "outputs": [
    {
     "data": {
      "text/html": [
       "<div>\n",
       "<style scoped>\n",
       "    .dataframe tbody tr th:only-of-type {\n",
       "        vertical-align: middle;\n",
       "    }\n",
       "\n",
       "    .dataframe tbody tr th {\n",
       "        vertical-align: top;\n",
       "    }\n",
       "\n",
       "    .dataframe thead th {\n",
       "        text-align: right;\n",
       "    }\n",
       "</style>\n",
       "<table border=\"1\" class=\"dataframe\">\n",
       "  <thead>\n",
       "    <tr style=\"text-align: right;\">\n",
       "      <th></th>\n",
       "      <th>Min</th>\n",
       "      <th>Max</th>\n",
       "      <th>Mean</th>\n",
       "      <th>Std</th>\n",
       "      <th>Null Count</th>\n",
       "      <th>Scaled</th>\n",
       "      <th>Encoded</th>\n",
       "    </tr>\n",
       "  </thead>\n",
       "  <tbody>\n",
       "    <tr>\n",
       "      <th>humidity</th>\n",
       "      <td>-3.433935</td>\n",
       "      <td>2.888945</td>\n",
       "      <td>-4.328179e-16</td>\n",
       "      <td>1.240160</td>\n",
       "      <td>0</td>\n",
       "      <td>Minmax</td>\n",
       "      <td>None</td>\n",
       "    </tr>\n",
       "    <tr>\n",
       "      <th>wind_speed</th>\n",
       "      <td>-1.144013</td>\n",
       "      <td>6.446100</td>\n",
       "      <td>9.630388e-02</td>\n",
       "      <td>0.810917</td>\n",
       "      <td>0</td>\n",
       "      <td>Robust</td>\n",
       "      <td>None</td>\n",
       "    </tr>\n",
       "    <tr>\n",
       "      <th>meanpressure</th>\n",
       "      <td>-75.954763</td>\n",
       "      <td>500.583698</td>\n",
       "      <td>1.153938e-01</td>\n",
       "      <td>13.151422</td>\n",
       "      <td>0</td>\n",
       "      <td>Robust</td>\n",
       "      <td>None</td>\n",
       "    </tr>\n",
       "    <tr>\n",
       "      <th>day_of_year_sin</th>\n",
       "      <td>-0.999991</td>\n",
       "      <td>0.999991</td>\n",
       "      <td>5.124306e-02</td>\n",
       "      <td>0.709811</td>\n",
       "      <td>0</td>\n",
       "      <td>None</td>\n",
       "      <td>EncodedDateTime</td>\n",
       "    </tr>\n",
       "    <tr>\n",
       "      <th>day_of_year_cos</th>\n",
       "      <td>-0.999963</td>\n",
       "      <td>1.000000</td>\n",
       "      <td>3.489912e-02</td>\n",
       "      <td>0.702109</td>\n",
       "      <td>0</td>\n",
       "      <td>None</td>\n",
       "      <td>EncodedDateTime</td>\n",
       "    </tr>\n",
       "    <tr>\n",
       "      <th>meantemp</th>\n",
       "      <td>6.000000</td>\n",
       "      <td>38.714286</td>\n",
       "      <td>2.522192e+01</td>\n",
       "      <td>7.345014</td>\n",
       "      <td>0</td>\n",
       "      <td>None</td>\n",
       "      <td>None</td>\n",
       "    </tr>\n",
       "  </tbody>\n",
       "</table>\n",
       "</div>"
      ],
      "text/plain": [
       "                       Min         Max          Mean        Std  Null Count   \n",
       "humidity         -3.433935    2.888945 -4.328179e-16   1.240160           0  \\\n",
       "wind_speed       -1.144013    6.446100  9.630388e-02   0.810917           0   \n",
       "meanpressure    -75.954763  500.583698  1.153938e-01  13.151422           0   \n",
       "day_of_year_sin  -0.999991    0.999991  5.124306e-02   0.709811           0   \n",
       "day_of_year_cos  -0.999963    1.000000  3.489912e-02   0.702109           0   \n",
       "meantemp          6.000000   38.714286  2.522192e+01   7.345014           0   \n",
       "\n",
       "                 Scaled          Encoded  \n",
       "humidity         Minmax             None  \n",
       "wind_speed       Robust             None  \n",
       "meanpressure     Robust             None  \n",
       "day_of_year_sin    None  EncodedDateTime  \n",
       "day_of_year_cos    None  EncodedDateTime  \n",
       "meantemp           None             None  "
      ]
     },
     "metadata": {},
     "output_type": "display_data"
    },
    {
     "data": {
      "text/plain": [
       "{'num_features': 5,\n",
       " 'num_classes': 1,\n",
       " 'encoded_columns': Index(['day_of_year_sin', 'day_of_year_cos'], dtype='object'),\n",
       " 'one_hot_encoded_columns': Index([], dtype='object'),\n",
       " 'encoded_datatime_columns': Index(['day_of_year_sin', 'day_of_year_cos'], dtype='object'),\n",
       " 'scalers': {'humidity': 'minmax',\n",
       "  'meanpressure': 'robust',\n",
       "  'wind_speed': 'robust'}}"
      ]
     },
     "execution_count": 4,
     "metadata": {},
     "output_type": "execute_result"
    }
   ],
   "source": [
    "from  tools.preprocessing.data_frame import auto_preprocess_dataframe\n",
    "\n",
    "target_columns = ['meantemp']\n",
    "df = pd.concat([train_df, test_df], axis=0)\n",
    "len_train = len(train_df)\n",
    "df, description = auto_preprocess_dataframe(df, target_columns)\n",
    "\n",
    "train_df = df[:len_train]\n",
    "test_df = df[len_train:]\n",
    "\n",
    "description"
   ]
  },
  {
   "cell_type": "code",
   "execution_count": 5,
   "id": "fe1d6169",
   "metadata": {
    "execution": {
     "iopub.execute_input": "2023-06-06T07:48:47.561153Z",
     "iopub.status.busy": "2023-06-06T07:48:47.560859Z",
     "iopub.status.idle": "2023-06-06T07:48:47.614267Z",
     "shell.execute_reply": "2023-06-06T07:48:47.613108Z"
    },
    "papermill": {
     "duration": 0.07063,
     "end_time": "2023-06-06T07:48:47.616557",
     "exception": false,
     "start_time": "2023-06-06T07:48:47.545927",
     "status": "completed"
    },
    "tags": []
   },
   "outputs": [
    {
     "name": "stdout",
     "output_type": "stream",
     "text": [
      "train df shape:  (1103, 6)\n",
      "test df shape:  (473, 6)\n"
     ]
    }
   ],
   "source": [
    "import torch\n",
    "from sklearn.model_selection import train_test_split\n",
    "from tools.preprocessing.dataset import TemplateDataset\n",
    "\n",
    "min_seq_len = 8\n",
    "max_seq_len = 16\n",
    "train_df, test_df = train_test_split(df, test_size=0.3, random_state=42, shuffle=False)\n",
    "# Prepare the training data\n",
    "train_df_x = train_df.iloc[:-1, :]  # Select all rows except the last one and all columns (present day's data) including the target column(meantemp)\n",
    "train_df_y = train_df.iloc[1:, -1:]  # Select all rows starting from the second row and only the last column (next day's data) only for the target column(meantemp)\n",
    "\n",
    "# Prepare the testing data\n",
    "test_df_x = test_df.iloc[:-1, :]  # Select all rows except the last one and all columns (present day's data) including the target column(meantemp)\n",
    "test_df_y = test_df.iloc[1:, -1:]  # Select all rows starting from the second row and only the last column (next day's data) only for the target column(meantemp)\n",
    "\n",
    "print('train df shape: ', train_df.shape)\n",
    "print('test df shape: ', test_df.shape)\n",
    "trainset = TemplateDataset(train_df_x, train_df_y, min_seq_len = min_seq_len, max_seq_len = max_seq_len)\n",
    "testset = TemplateDataset(test_df_x, test_df_y, min_seq_len = max_seq_len, max_seq_len = max_seq_len)"
   ]
  },
  {
   "attachments": {},
   "cell_type": "markdown",
   "id": "0afd0de6",
   "metadata": {
    "papermill": {
     "duration": 0.013979,
     "end_time": "2023-06-06T07:48:47.684234",
     "exception": false,
     "start_time": "2023-06-06T07:48:47.670255",
     "status": "completed"
    },
    "tags": []
   },
   "source": [
    "<a id=\"3\"></a>\n",
    "> <h1 style = 'font-family: Times New Roman'><b> <b style = 'color: #427bf5'>3.</b> Modeling</b></h1>"
   ]
  },
  {
   "cell_type": "code",
   "execution_count": 6,
   "id": "e30c7982",
   "metadata": {
    "execution": {
     "iopub.execute_input": "2023-06-06T07:48:47.810201Z",
     "iopub.status.busy": "2023-06-06T07:48:47.809899Z",
     "iopub.status.idle": "2023-06-06T07:48:47.838881Z",
     "shell.execute_reply": "2023-06-06T07:48:47.837946Z"
    },
    "papermill": {
     "duration": 0.046557,
     "end_time": "2023-06-06T07:48:47.841396",
     "exception": false,
     "start_time": "2023-06-06T07:48:47.794839",
     "status": "completed"
    },
    "tags": []
   },
   "outputs": [
    {
     "name": "stdout",
     "output_type": "stream",
     "text": [
      "Trainer Name: causal_trainer\n",
      "\n",
      "\n",
      "\u001b[1mModelParameters Parameters:\u001b[0m\n"
     ]
    },
    {
     "data": {
      "text/html": [
       "<div>\n",
       "<style scoped>\n",
       "    .dataframe tbody tr th:only-of-type {\n",
       "        vertical-align: middle;\n",
       "    }\n",
       "\n",
       "    .dataframe tbody tr th {\n",
       "        vertical-align: top;\n",
       "    }\n",
       "\n",
       "    .dataframe thead th {\n",
       "        text-align: right;\n",
       "    }\n",
       "</style>\n",
       "<table border=\"1\" class=\"dataframe\">\n",
       "  <thead>\n",
       "    <tr style=\"text-align: right;\">\n",
       "      <th></th>\n",
       "      <th>ccnet_config</th>\n",
       "      <th>ccnet_network</th>\n",
       "    </tr>\n",
       "  </thead>\n",
       "  <tbody>\n",
       "    <tr>\n",
       "      <th>0</th>\n",
       "      <td>See details below</td>\n",
       "      <td>gpt</td>\n",
       "    </tr>\n",
       "  </tbody>\n",
       "</table>\n",
       "</div>"
      ],
      "text/plain": [
       "        ccnet_config ccnet_network\n",
       "0  See details below           gpt"
      ]
     },
     "metadata": {},
     "output_type": "display_data"
    },
    {
     "name": "stdout",
     "output_type": "stream",
     "text": [
      "\u001b[3m\n",
      "Detailed ccnet_config Configuration:\u001b[0m\n"
     ]
    },
    {
     "data": {
      "text/html": [
       "<div>\n",
       "<style scoped>\n",
       "    .dataframe tbody tr th:only-of-type {\n",
       "        vertical-align: middle;\n",
       "    }\n",
       "\n",
       "    .dataframe tbody tr th {\n",
       "        vertical-align: top;\n",
       "    }\n",
       "\n",
       "    .dataframe thead th {\n",
       "        text-align: right;\n",
       "    }\n",
       "</style>\n",
       "<table border=\"1\" class=\"dataframe\">\n",
       "  <thead>\n",
       "    <tr style=\"text-align: right;\">\n",
       "      <th></th>\n",
       "      <th>ccnet_config_num_layers</th>\n",
       "      <th>ccnet_config_d_model</th>\n",
       "      <th>ccnet_config_dropout</th>\n",
       "      <th>ccnet_config_obs_shape</th>\n",
       "      <th>ccnet_config_reset_pretrained</th>\n",
       "      <th>ccnet_config_network_name</th>\n",
       "      <th>ccnet_config_device</th>\n",
       "      <th>ccnet_config_model_name</th>\n",
       "    </tr>\n",
       "  </thead>\n",
       "  <tbody>\n",
       "    <tr>\n",
       "      <th>0</th>\n",
       "      <td>5</td>\n",
       "      <td>256</td>\n",
       "      <td>0.05</td>\n",
       "      <td>[6]</td>\n",
       "      <td>False</td>\n",
       "      <td>gpt</td>\n",
       "      <td>None</td>\n",
       "      <td>gpt</td>\n",
       "    </tr>\n",
       "  </tbody>\n",
       "</table>\n",
       "</div>"
      ],
      "text/plain": [
       "   ccnet_config_num_layers  ccnet_config_d_model  ccnet_config_dropout   \n",
       "0                        5                   256                  0.05  \\\n",
       "\n",
       "  ccnet_config_obs_shape  ccnet_config_reset_pretrained   \n",
       "0                    [6]                          False  \\\n",
       "\n",
       "  ccnet_config_network_name ccnet_config_device ccnet_config_model_name  \n",
       "0                       gpt                None                     gpt  "
      ]
     },
     "metadata": {},
     "output_type": "display_data"
    },
    {
     "name": "stdout",
     "output_type": "stream",
     "text": [
      "\u001b[1mTrainingParameters Parameters:\u001b[0m\n"
     ]
    },
    {
     "data": {
      "text/html": [
       "<div>\n",
       "<style scoped>\n",
       "    .dataframe tbody tr th:only-of-type {\n",
       "        vertical-align: middle;\n",
       "    }\n",
       "\n",
       "    .dataframe tbody tr th {\n",
       "        vertical-align: top;\n",
       "    }\n",
       "\n",
       "    .dataframe thead th {\n",
       "        text-align: right;\n",
       "    }\n",
       "</style>\n",
       "<table border=\"1\" class=\"dataframe\">\n",
       "  <thead>\n",
       "    <tr style=\"text-align: right;\">\n",
       "      <th></th>\n",
       "      <th>batch_size</th>\n",
       "      <th>max_iters</th>\n",
       "      <th>max_seq_len</th>\n",
       "      <th>min_seq_len</th>\n",
       "      <th>num_epoch</th>\n",
       "    </tr>\n",
       "  </thead>\n",
       "  <tbody>\n",
       "    <tr>\n",
       "      <th>0</th>\n",
       "      <td>64</td>\n",
       "      <td>25600</td>\n",
       "      <td>None</td>\n",
       "      <td>None</td>\n",
       "      <td>400</td>\n",
       "    </tr>\n",
       "  </tbody>\n",
       "</table>\n",
       "</div>"
      ],
      "text/plain": [
       "   batch_size  max_iters max_seq_len min_seq_len  num_epoch\n",
       "0          64      25600        None        None        400"
      ]
     },
     "metadata": {},
     "output_type": "display_data"
    },
    {
     "name": "stdout",
     "output_type": "stream",
     "text": [
      "\u001b[1mOptimizationParameters Parameters:\u001b[0m\n"
     ]
    },
    {
     "data": {
      "text/html": [
       "<div>\n",
       "<style scoped>\n",
       "    .dataframe tbody tr th:only-of-type {\n",
       "        vertical-align: middle;\n",
       "    }\n",
       "\n",
       "    .dataframe tbody tr th {\n",
       "        vertical-align: top;\n",
       "    }\n",
       "\n",
       "    .dataframe thead th {\n",
       "        text-align: right;\n",
       "    }\n",
       "</style>\n",
       "<table border=\"1\" class=\"dataframe\">\n",
       "  <thead>\n",
       "    <tr style=\"text-align: right;\">\n",
       "      <th></th>\n",
       "      <th>clip_grad_range</th>\n",
       "      <th>decay_rate_100k</th>\n",
       "      <th>learning_rate</th>\n",
       "      <th>max_grad_norm</th>\n",
       "      <th>scheduler_type</th>\n",
       "    </tr>\n",
       "  </thead>\n",
       "  <tbody>\n",
       "    <tr>\n",
       "      <th>0</th>\n",
       "      <td>None</td>\n",
       "      <td>0.05</td>\n",
       "      <td>0.001</td>\n",
       "      <td>1.0</td>\n",
       "      <td>exponential</td>\n",
       "    </tr>\n",
       "  </tbody>\n",
       "</table>\n",
       "</div>"
      ],
      "text/plain": [
       "  clip_grad_range  decay_rate_100k  learning_rate  max_grad_norm   \n",
       "0            None             0.05          0.001            1.0  \\\n",
       "\n",
       "  scheduler_type  \n",
       "0    exponential  "
      ]
     },
     "metadata": {},
     "output_type": "display_data"
    },
    {
     "name": "stdout",
     "output_type": "stream",
     "text": [
      "\u001b[1mAlgorithmParameters Parameters:\u001b[0m\n"
     ]
    },
    {
     "data": {
      "text/html": [
       "<div>\n",
       "<style scoped>\n",
       "    .dataframe tbody tr th:only-of-type {\n",
       "        vertical-align: middle;\n",
       "    }\n",
       "\n",
       "    .dataframe tbody tr th {\n",
       "        vertical-align: top;\n",
       "    }\n",
       "\n",
       "    .dataframe thead th {\n",
       "        text-align: right;\n",
       "    }\n",
       "</style>\n",
       "<table border=\"1\" class=\"dataframe\">\n",
       "  <thead>\n",
       "    <tr style=\"text-align: right;\">\n",
       "      <th></th>\n",
       "      <th>error_function</th>\n",
       "      <th>reset_pretrained</th>\n",
       "    </tr>\n",
       "  </thead>\n",
       "  <tbody>\n",
       "    <tr>\n",
       "      <th>0</th>\n",
       "      <td>mse</td>\n",
       "      <td>False</td>\n",
       "    </tr>\n",
       "  </tbody>\n",
       "</table>\n",
       "</div>"
      ],
      "text/plain": [
       "  error_function  reset_pretrained\n",
       "0            mse             False"
      ]
     },
     "metadata": {},
     "output_type": "display_data"
    },
    {
     "name": "stdout",
     "output_type": "stream",
     "text": [
      "\u001b[1mDataConfig Parameters:\u001b[0m\n"
     ]
    },
    {
     "data": {
      "text/html": [
       "<div>\n",
       "<style scoped>\n",
       "    .dataframe tbody tr th:only-of-type {\n",
       "        vertical-align: middle;\n",
       "    }\n",
       "\n",
       "    .dataframe tbody tr th {\n",
       "        vertical-align: top;\n",
       "    }\n",
       "\n",
       "    .dataframe thead th {\n",
       "        text-align: right;\n",
       "    }\n",
       "</style>\n",
       "<table border=\"1\" class=\"dataframe\">\n",
       "  <thead>\n",
       "    <tr style=\"text-align: right;\">\n",
       "      <th></th>\n",
       "      <th>dataset_name</th>\n",
       "      <th>task_type</th>\n",
       "      <th>obs_shape</th>\n",
       "      <th>label_size</th>\n",
       "      <th>explain_size</th>\n",
       "      <th>show_image_indices</th>\n",
       "    </tr>\n",
       "  </thead>\n",
       "  <tbody>\n",
       "    <tr>\n",
       "      <th>0</th>\n",
       "      <td>daily-delhi-climate</td>\n",
       "      <td>regression</td>\n",
       "      <td>[6]</td>\n",
       "      <td>1</td>\n",
       "      <td>2</td>\n",
       "      <td>None</td>\n",
       "    </tr>\n",
       "  </tbody>\n",
       "</table>\n",
       "</div>"
      ],
      "text/plain": [
       "          dataset_name   task_type obs_shape  label_size  explain_size   \n",
       "0  daily-delhi-climate  regression       [6]           1             2  \\\n",
       "\n",
       "  show_image_indices  \n",
       "0               None  "
      ]
     },
     "metadata": {},
     "output_type": "display_data"
    },
    {
     "name": "stdout",
     "output_type": "stream",
     "text": [
      "\n",
      "\n",
      "\n",
      "\n"
     ]
    }
   ],
   "source": [
    "from tools.setting.data_config import DataConfig\n",
    "from tools.setting.ml_params import MLParameters\n",
    "from trainer_hub import TrainerHub\n",
    "\n",
    "num_features = description[\"num_features\"]\n",
    "num_classes = description[\"num_classes\"]\n",
    "\n",
    "data_config = DataConfig(dataset_name = 'daily-delhi-climate', task_type='regression', obs_shape=[num_features + num_classes], label_size=num_classes)\n",
    "\n",
    "#  Set training configuration from the AlgorithmConfig class, returning them as a Namespace object.\n",
    "ml_params = MLParameters(model_name = 'gpt')\n",
    "\n",
    "# Set the device to GPU if available, else CPU\n",
    "device = torch.device(\"cuda\" if torch.cuda.is_available() else \"cpu\") \n",
    "\n",
    "# Initialize the TrainerHub class with the training configuration, data configuration, device, and use_print and use_wandb flags\n",
    "trainer_hub = TrainerHub(ml_params, data_config, device, use_print=True, use_wandb=False) "
   ]
  },
  {
   "cell_type": "code",
   "execution_count": 7,
   "id": "097ad7b1",
   "metadata": {},
   "outputs": [
    {
     "name": "stderr",
     "output_type": "stream",
     "text": [
      "Failed to detect the name of this notebook, you can set it manually with the WANDB_NOTEBOOK_NAME environment variable to enable code saving.\n",
      "\u001b[34m\u001b[1mwandb\u001b[0m: Currently logged in as: \u001b[33mjunhopark\u001b[0m. Use \u001b[1m`wandb login --relogin`\u001b[0m to force relogin\n"
     ]
    },
    {
     "data": {
      "text/html": [
       "wandb version 0.17.2 is available!  To upgrade, please run:\n",
       " $ pip install wandb --upgrade"
      ],
      "text/plain": [
       "<IPython.core.display.HTML object>"
      ]
     },
     "metadata": {},
     "output_type": "display_data"
    },
    {
     "data": {
      "text/html": [
       "Tracking run with wandb version 0.16.6"
      ],
      "text/plain": [
       "<IPython.core.display.HTML object>"
      ]
     },
     "metadata": {},
     "output_type": "display_data"
    },
    {
     "data": {
      "text/html": [
       "Run data is saved locally in <code>c:\\Users\\user\\Projects\\causal-learning\\examples\\time_series\\wandb\\run-20240621_232356-4q7dc6nw</code>"
      ],
      "text/plain": [
       "<IPython.core.display.HTML object>"
      ]
     },
     "metadata": {},
     "output_type": "display_data"
    },
    {
     "data": {
      "text/html": [
       "Syncing run <strong><a href='https://wandb.ai/junhopark/causal-learning/runs/4q7dc6nw' target=\"_blank\">daily-delhi-climate : 24-06-21 23:23:54</a></strong> to <a href='https://wandb.ai/junhopark/causal-learning' target=\"_blank\">Weights & Biases</a> (<a href='https://wandb.me/run' target=\"_blank\">docs</a>)<br/>"
      ],
      "text/plain": [
       "<IPython.core.display.HTML object>"
      ]
     },
     "metadata": {},
     "output_type": "display_data"
    },
    {
     "data": {
      "text/html": [
       " View project at <a href='https://wandb.ai/junhopark/causal-learning' target=\"_blank\">https://wandb.ai/junhopark/causal-learning</a>"
      ],
      "text/plain": [
       "<IPython.core.display.HTML object>"
      ]
     },
     "metadata": {},
     "output_type": "display_data"
    },
    {
     "data": {
      "text/html": [
       " View run at <a href='https://wandb.ai/junhopark/causal-learning/runs/4q7dc6nw' target=\"_blank\">https://wandb.ai/junhopark/causal-learning/runs/4q7dc6nw</a>"
      ],
      "text/plain": [
       "<IPython.core.display.HTML object>"
      ]
     },
     "metadata": {},
     "output_type": "display_data"
    },
    {
     "name": "stderr",
     "output_type": "stream",
     "text": [
      "\u001b[34m\u001b[1mwandb\u001b[0m: Adding directory to artifact (.\\..\\saved\\daily-delhi-climate\\causal-learning)... Done. 0.0s\n"
     ]
    },
    {
     "data": {
      "application/vnd.jupyter.widget-view+json": {
       "model_id": "dc45c3095d4841b9810e9a538ff2d247",
       "version_major": 2,
       "version_minor": 0
      },
      "text/plain": [
       "Epochs:   0%|          | 0/400 [00:00<?, ?it/s]"
      ]
     },
     "metadata": {},
     "output_type": "display_data"
    },
    {
     "data": {
      "application/vnd.jupyter.widget-view+json": {
       "model_id": "2de880285bba4d08aa63e11ee896c3a3",
       "version_major": 2,
       "version_minor": 0
      },
      "text/plain": [
       "Iterations:   0%|          | 0/17 [00:00<?, ?it/s]"
      ]
     },
     "metadata": {},
     "output_type": "display_data"
    },
    {
     "data": {
      "application/vnd.jupyter.widget-view+json": {
       "model_id": "05f6ad6ac423474a89dbc19d458a0a9f",
       "version_major": 2,
       "version_minor": 0
      },
      "text/plain": [
       "Iterations:   0%|          | 0/17 [00:00<?, ?it/s]"
      ]
     },
     "metadata": {},
     "output_type": "display_data"
    },
    {
     "data": {
      "application/vnd.jupyter.widget-view+json": {
       "model_id": "49fe6c82186445619a4abbdca5dc4aac",
       "version_major": 2,
       "version_minor": 0
      },
      "text/plain": [
       "Iterations:   0%|          | 0/17 [00:00<?, ?it/s]"
      ]
     },
     "metadata": {},
     "output_type": "display_data"
    },
    {
     "data": {
      "application/vnd.jupyter.widget-view+json": {
       "model_id": "5c511fe64c714c7c8dd2438bec803511",
       "version_major": 2,
       "version_minor": 0
      },
      "text/plain": [
       "Iterations:   0%|          | 0/17 [00:00<?, ?it/s]"
      ]
     },
     "metadata": {},
     "output_type": "display_data"
    },
    {
     "data": {
      "application/vnd.jupyter.widget-view+json": {
       "model_id": "ac01410dcfdf47c3910d2672c550504f",
       "version_major": 2,
       "version_minor": 0
      },
      "text/plain": [
       "Iterations:   0%|          | 0/17 [00:00<?, ?it/s]"
      ]
     },
     "metadata": {},
     "output_type": "display_data"
    },
    {
     "data": {
      "application/vnd.jupyter.widget-view+json": {
       "model_id": "a258a189f03d40ed94203a392b3668a9",
       "version_major": 2,
       "version_minor": 0
      },
      "text/plain": [
       "Iterations:   0%|          | 0/17 [00:00<?, ?it/s]"
      ]
     },
     "metadata": {},
     "output_type": "display_data"
    },
    {
     "name": "stdout",
     "output_type": "stream",
     "text": [
      "[5/400][15/17][Time 7.54]\n",
      "Unified LR across all optimizers: 0.000996978883189373\n",
      "=====================Train Metrics=======================\n",
      "CCNet:  Three Gpt\n",
      "Inf: 0.0337\tGen: 2.0687\tRec: 2.0768\tE: 0.0079\tR: 0.0085\tP: 20.5786\n",
      "\n",
      "mse: 63.7157\n",
      "mae: 7.1813\n",
      "rmse: 7.9822\n",
      "r2: -0.1358\n",
      "\n",
      "=====================Eval Metrics========================\n",
      "mse: 65.7471\n",
      "mae: 7.0582\n",
      "rmse: 8.1085\n",
      "r2: -0.4254\n",
      "\n"
     ]
    },
    {
     "data": {
      "application/vnd.jupyter.widget-view+json": {
       "model_id": "7bec2f03ad224376bc871814ffefbd03",
       "version_major": 2,
       "version_minor": 0
      },
      "text/plain": [
       "Iterations:   0%|          | 0/17 [00:00<?, ?it/s]"
      ]
     },
     "metadata": {},
     "output_type": "display_data"
    },
    {
     "data": {
      "application/vnd.jupyter.widget-view+json": {
       "model_id": "bcb9980fbf894d2690a7dd3a80ffc7c3",
       "version_major": 2,
       "version_minor": 0
      },
      "text/plain": [
       "Iterations:   0%|          | 0/17 [00:00<?, ?it/s]"
      ]
     },
     "metadata": {},
     "output_type": "display_data"
    },
    {
     "data": {
      "application/vnd.jupyter.widget-view+json": {
       "model_id": "a09d5bec015e4dba84d97d722e86cdf3",
       "version_major": 2,
       "version_minor": 0
      },
      "text/plain": [
       "Iterations:   0%|          | 0/17 [00:00<?, ?it/s]"
      ]
     },
     "metadata": {},
     "output_type": "display_data"
    },
    {
     "data": {
      "application/vnd.jupyter.widget-view+json": {
       "model_id": "a7e9d59a0174428691e22c3b2cd1550b",
       "version_major": 2,
       "version_minor": 0
      },
      "text/plain": [
       "Iterations:   0%|          | 0/17 [00:00<?, ?it/s]"
      ]
     },
     "metadata": {},
     "output_type": "display_data"
    },
    {
     "data": {
      "application/vnd.jupyter.widget-view+json": {
       "model_id": "5e6fd9b8125945bcb0165f3b47bb8029",
       "version_major": 2,
       "version_minor": 0
      },
      "text/plain": [
       "Iterations:   0%|          | 0/17 [00:00<?, ?it/s]"
      ]
     },
     "metadata": {},
     "output_type": "display_data"
    },
    {
     "data": {
      "application/vnd.jupyter.widget-view+json": {
       "model_id": "fd2b2660d55346a197fdada7110302d8",
       "version_major": 2,
       "version_minor": 0
      },
      "text/plain": [
       "Iterations:   0%|          | 0/17 [00:00<?, ?it/s]"
      ]
     },
     "metadata": {},
     "output_type": "display_data"
    },
    {
     "name": "stdout",
     "output_type": "stream",
     "text": [
      "[11/400][13/17][Time 7.26]\n",
      "Unified LR across all optimizers: 0.0009939966705585644\n",
      "=====================Train Metrics=======================\n",
      "CCNet:  Three Gpt\n",
      "Inf: 0.3669\tGen: 1.0359\tRec: 1.1754\tE: 0.1849\tR: 1.2708\tP: 4.5720\n",
      "\n",
      "mse: 5.6623\n",
      "mae: 1.8017\n",
      "rmse: 2.3796\n",
      "r2: 0.9061\n",
      "\n",
      "=====================Eval Metrics========================\n",
      "mse: 20.1957\n",
      "mae: 3.0302\n",
      "rmse: 4.4940\n",
      "r2: 0.5433\n",
      "\n"
     ]
    },
    {
     "data": {
      "application/vnd.jupyter.widget-view+json": {
       "model_id": "ac54a2fc93f341e4a3c42c7cb80e4395",
       "version_major": 2,
       "version_minor": 0
      },
      "text/plain": [
       "Iterations:   0%|          | 0/17 [00:00<?, ?it/s]"
      ]
     },
     "metadata": {},
     "output_type": "display_data"
    },
    {
     "data": {
      "application/vnd.jupyter.widget-view+json": {
       "model_id": "0547e84821ef42478d466a5913e09169",
       "version_major": 2,
       "version_minor": 0
      },
      "text/plain": [
       "Iterations:   0%|          | 0/17 [00:00<?, ?it/s]"
      ]
     },
     "metadata": {},
     "output_type": "display_data"
    },
    {
     "data": {
      "application/vnd.jupyter.widget-view+json": {
       "model_id": "d1b0df0b039f4351a84ebf988a17bec2",
       "version_major": 2,
       "version_minor": 0
      },
      "text/plain": [
       "Iterations:   0%|          | 0/17 [00:00<?, ?it/s]"
      ]
     },
     "metadata": {},
     "output_type": "display_data"
    },
    {
     "data": {
      "application/vnd.jupyter.widget-view+json": {
       "model_id": "101d56ad16ff4264b066d8a953e1fb04",
       "version_major": 2,
       "version_minor": 0
      },
      "text/plain": [
       "Iterations:   0%|          | 0/17 [00:00<?, ?it/s]"
      ]
     },
     "metadata": {},
     "output_type": "display_data"
    },
    {
     "data": {
      "application/vnd.jupyter.widget-view+json": {
       "model_id": "e5a1ceee0152454cb553fc4cfda329bf",
       "version_major": 2,
       "version_minor": 0
      },
      "text/plain": [
       "Iterations:   0%|          | 0/17 [00:00<?, ?it/s]"
      ]
     },
     "metadata": {},
     "output_type": "display_data"
    },
    {
     "data": {
      "application/vnd.jupyter.widget-view+json": {
       "model_id": "e4484b1579804332ad715f4a8271315f",
       "version_major": 2,
       "version_minor": 0
      },
      "text/plain": [
       "Iterations:   0%|          | 0/17 [00:00<?, ?it/s]"
      ]
     },
     "metadata": {},
     "output_type": "display_data"
    },
    {
     "name": "stdout",
     "output_type": "stream",
     "text": [
      "[17/400][11/17][Time 7.37]\n",
      "Unified LR across all optimizers: 0.0009910233784699313\n",
      "=====================Train Metrics=======================\n",
      "CCNet:  Three Gpt\n",
      "Inf: 0.2480\tGen: 0.6975\tRec: 0.6958\tE: 0.1708\tR: 0.1549\tP: 1.6267\n",
      "\n",
      "mse: 4.6091\n",
      "mae: 1.7670\n",
      "rmse: 2.1469\n",
      "r2: 0.9159\n",
      "\n",
      "=====================Eval Metrics========================\n",
      "mse: 9.4194\n",
      "mae: 2.2941\n",
      "rmse: 3.0691\n",
      "r2: 0.8026\n",
      "\n"
     ]
    },
    {
     "data": {
      "application/vnd.jupyter.widget-view+json": {
       "model_id": "f4aa7f562a1349508f93a87bf740b1a6",
       "version_major": 2,
       "version_minor": 0
      },
      "text/plain": [
       "Iterations:   0%|          | 0/17 [00:00<?, ?it/s]"
      ]
     },
     "metadata": {},
     "output_type": "display_data"
    },
    {
     "data": {
      "application/vnd.jupyter.widget-view+json": {
       "model_id": "dfcde70951f047e58a7fed5ba4ea360d",
       "version_major": 2,
       "version_minor": 0
      },
      "text/plain": [
       "Iterations:   0%|          | 0/17 [00:00<?, ?it/s]"
      ]
     },
     "metadata": {},
     "output_type": "display_data"
    },
    {
     "data": {
      "application/vnd.jupyter.widget-view+json": {
       "model_id": "d9fa5c56a3d24c63adf4217c3282a00d",
       "version_major": 2,
       "version_minor": 0
      },
      "text/plain": [
       "Iterations:   0%|          | 0/17 [00:00<?, ?it/s]"
      ]
     },
     "metadata": {},
     "output_type": "display_data"
    },
    {
     "data": {
      "application/vnd.jupyter.widget-view+json": {
       "model_id": "a6eef2d31d6e4d34ae73f3f0c6fd01a1",
       "version_major": 2,
       "version_minor": 0
      },
      "text/plain": [
       "Iterations:   0%|          | 0/17 [00:00<?, ?it/s]"
      ]
     },
     "metadata": {},
     "output_type": "display_data"
    },
    {
     "data": {
      "application/vnd.jupyter.widget-view+json": {
       "model_id": "0e2720fed5824f35a342c03e910dd72c",
       "version_major": 2,
       "version_minor": 0
      },
      "text/plain": [
       "Iterations:   0%|          | 0/17 [00:00<?, ?it/s]"
      ]
     },
     "metadata": {},
     "output_type": "display_data"
    },
    {
     "data": {
      "application/vnd.jupyter.widget-view+json": {
       "model_id": "73a59ced5c334078a100fd21e7bfadf1",
       "version_major": 2,
       "version_minor": 0
      },
      "text/plain": [
       "Iterations:   0%|          | 0/17 [00:00<?, ?it/s]"
      ]
     },
     "metadata": {},
     "output_type": "display_data"
    },
    {
     "name": "stdout",
     "output_type": "stream",
     "text": [
      "[23/400][9/17][Time 7.20]\n",
      "Unified LR across all optimizers: 0.0009880589802399075\n",
      "=====================Train Metrics=======================\n",
      "CCNet:  Three Gpt\n",
      "Inf: 0.2593\tGen: 0.6890\tRec: 0.6425\tE: 0.2235\tR: 0.1100\tP: 1.3888\n",
      "\n",
      "mse: 2.4500\n",
      "mae: 1.2333\n",
      "rmse: 1.5652\n",
      "r2: 0.9583\n",
      "\n",
      "=====================Eval Metrics========================\n",
      "mse: 6.8945\n",
      "mae: 1.9404\n",
      "rmse: 2.6257\n",
      "r2: 0.8515\n",
      "\n"
     ]
    },
    {
     "data": {
      "application/vnd.jupyter.widget-view+json": {
       "model_id": "c007ced2797840fcb727a5f9417f81e5",
       "version_major": 2,
       "version_minor": 0
      },
      "text/plain": [
       "Iterations:   0%|          | 0/17 [00:00<?, ?it/s]"
      ]
     },
     "metadata": {},
     "output_type": "display_data"
    },
    {
     "data": {
      "application/vnd.jupyter.widget-view+json": {
       "model_id": "d46dcffc1006494a848fd0b181a4a43e",
       "version_major": 2,
       "version_minor": 0
      },
      "text/plain": [
       "Iterations:   0%|          | 0/17 [00:00<?, ?it/s]"
      ]
     },
     "metadata": {},
     "output_type": "display_data"
    },
    {
     "data": {
      "application/vnd.jupyter.widget-view+json": {
       "model_id": "e45affcb69554e4a9d58b5bd532c7431",
       "version_major": 2,
       "version_minor": 0
      },
      "text/plain": [
       "Iterations:   0%|          | 0/17 [00:00<?, ?it/s]"
      ]
     },
     "metadata": {},
     "output_type": "display_data"
    },
    {
     "data": {
      "application/vnd.jupyter.widget-view+json": {
       "model_id": "7a4462f807b04d79b6861894ecd88cca",
       "version_major": 2,
       "version_minor": 0
      },
      "text/plain": [
       "Iterations:   0%|          | 0/17 [00:00<?, ?it/s]"
      ]
     },
     "metadata": {},
     "output_type": "display_data"
    },
    {
     "data": {
      "application/vnd.jupyter.widget-view+json": {
       "model_id": "9b43e4019267408186fdc2a4e457dc3c",
       "version_major": 2,
       "version_minor": 0
      },
      "text/plain": [
       "Iterations:   0%|          | 0/17 [00:00<?, ?it/s]"
      ]
     },
     "metadata": {},
     "output_type": "display_data"
    },
    {
     "data": {
      "application/vnd.jupyter.widget-view+json": {
       "model_id": "7bc42b82847d427f95e954237dac98cd",
       "version_major": 2,
       "version_minor": 0
      },
      "text/plain": [
       "Iterations:   0%|          | 0/17 [00:00<?, ?it/s]"
      ]
     },
     "metadata": {},
     "output_type": "display_data"
    },
    {
     "name": "stdout",
     "output_type": "stream",
     "text": [
      "[29/400][7/17][Time 7.21]\n",
      "Unified LR across all optimizers: 0.000985103449264739\n",
      "=====================Train Metrics=======================\n",
      "CCNet:  Three Gpt\n",
      "Inf: 0.2520\tGen: 0.6554\tRec: 0.5794\tE: 0.2482\tR: 0.0772\tP: 1.1676\n",
      "\n",
      "mse: 2.3561\n",
      "mae: 1.2062\n",
      "rmse: 1.5349\n",
      "r2: 0.9509\n",
      "\n",
      "=====================Eval Metrics========================\n",
      "mse: 7.0229\n",
      "mae: 1.6128\n",
      "rmse: 2.6501\n",
      "r2: 0.8590\n",
      "\n"
     ]
    },
    {
     "data": {
      "application/vnd.jupyter.widget-view+json": {
       "model_id": "452c393267a543679c1c3be09e2f939f",
       "version_major": 2,
       "version_minor": 0
      },
      "text/plain": [
       "Iterations:   0%|          | 0/17 [00:00<?, ?it/s]"
      ]
     },
     "metadata": {},
     "output_type": "display_data"
    },
    {
     "data": {
      "application/vnd.jupyter.widget-view+json": {
       "model_id": "8b038f4e4b4d47eeab229c39c18588d1",
       "version_major": 2,
       "version_minor": 0
      },
      "text/plain": [
       "Iterations:   0%|          | 0/17 [00:00<?, ?it/s]"
      ]
     },
     "metadata": {},
     "output_type": "display_data"
    },
    {
     "data": {
      "application/vnd.jupyter.widget-view+json": {
       "model_id": "e04c6f4c13eb47ddb0f9d5ddfa0a9bf0",
       "version_major": 2,
       "version_minor": 0
      },
      "text/plain": [
       "Iterations:   0%|          | 0/17 [00:00<?, ?it/s]"
      ]
     },
     "metadata": {},
     "output_type": "display_data"
    },
    {
     "data": {
      "application/vnd.jupyter.widget-view+json": {
       "model_id": "d777e6318719420aadb8853fffe020b5",
       "version_major": 2,
       "version_minor": 0
      },
      "text/plain": [
       "Iterations:   0%|          | 0/17 [00:00<?, ?it/s]"
      ]
     },
     "metadata": {},
     "output_type": "display_data"
    },
    {
     "data": {
      "application/vnd.jupyter.widget-view+json": {
       "model_id": "3aee2a0d974947fb9e542186d31506a7",
       "version_major": 2,
       "version_minor": 0
      },
      "text/plain": [
       "Iterations:   0%|          | 0/17 [00:00<?, ?it/s]"
      ]
     },
     "metadata": {},
     "output_type": "display_data"
    },
    {
     "data": {
      "application/vnd.jupyter.widget-view+json": {
       "model_id": "c728b3b680274371bb9f17f2082683f9",
       "version_major": 2,
       "version_minor": 0
      },
      "text/plain": [
       "Iterations:   0%|          | 0/17 [00:00<?, ?it/s]"
      ]
     },
     "metadata": {},
     "output_type": "display_data"
    },
    {
     "name": "stdout",
     "output_type": "stream",
     "text": [
      "[35/400][5/17][Time 7.25]\n",
      "Unified LR across all optimizers: 0.0009821567590202554\n",
      "=====================Train Metrics=======================\n",
      "CCNet:  Three Gpt\n",
      "Inf: 0.2590\tGen: 0.6438\tRec: 0.5547\tE: 0.2692\tR: 0.0721\tP: 1.0680\n",
      "\n",
      "mse: 3.1679\n",
      "mae: 1.3530\n",
      "rmse: 1.7799\n",
      "r2: 0.9332\n",
      "\n",
      "=====================Eval Metrics========================\n",
      "mse: 3.1606\n",
      "mae: 1.3925\n",
      "rmse: 1.7778\n",
      "r2: 0.9230\n",
      "\n"
     ]
    },
    {
     "data": {
      "application/vnd.jupyter.widget-view+json": {
       "model_id": "048c3be570364480bda104b96fc40673",
       "version_major": 2,
       "version_minor": 0
      },
      "text/plain": [
       "Iterations:   0%|          | 0/17 [00:00<?, ?it/s]"
      ]
     },
     "metadata": {},
     "output_type": "display_data"
    },
    {
     "data": {
      "application/vnd.jupyter.widget-view+json": {
       "model_id": "45ac134077ca49b7a3192e0dc8c54257",
       "version_major": 2,
       "version_minor": 0
      },
      "text/plain": [
       "Iterations:   0%|          | 0/17 [00:00<?, ?it/s]"
      ]
     },
     "metadata": {},
     "output_type": "display_data"
    },
    {
     "data": {
      "application/vnd.jupyter.widget-view+json": {
       "model_id": "938f229847a24d52ada31dac86279eda",
       "version_major": 2,
       "version_minor": 0
      },
      "text/plain": [
       "Iterations:   0%|          | 0/17 [00:00<?, ?it/s]"
      ]
     },
     "metadata": {},
     "output_type": "display_data"
    },
    {
     "data": {
      "application/vnd.jupyter.widget-view+json": {
       "model_id": "940888b60255422bbd49c704d5e2d377",
       "version_major": 2,
       "version_minor": 0
      },
      "text/plain": [
       "Iterations:   0%|          | 0/17 [00:00<?, ?it/s]"
      ]
     },
     "metadata": {},
     "output_type": "display_data"
    },
    {
     "data": {
      "application/vnd.jupyter.widget-view+json": {
       "model_id": "9ef4187ebec942c69b0db04fcf660ae4",
       "version_major": 2,
       "version_minor": 0
      },
      "text/plain": [
       "Iterations:   0%|          | 0/17 [00:00<?, ?it/s]"
      ]
     },
     "metadata": {},
     "output_type": "display_data"
    },
    {
     "data": {
      "application/vnd.jupyter.widget-view+json": {
       "model_id": "7d316093105b4bd4b07925181b05b800",
       "version_major": 2,
       "version_minor": 0
      },
      "text/plain": [
       "Iterations:   0%|          | 0/17 [00:00<?, ?it/s]"
      ]
     },
     "metadata": {},
     "output_type": "display_data"
    },
    {
     "name": "stdout",
     "output_type": "stream",
     "text": [
      "[41/400][3/17][Time 7.59]\n",
      "Unified LR across all optimizers: 0.000979218883061626\n",
      "=====================Train Metrics=======================\n",
      "CCNet:  Three Gpt\n",
      "Inf: 0.2510\tGen: 0.6229\tRec: 0.5345\tE: 0.2548\tR: 0.0636\tP: 0.9841\n",
      "\n",
      "mse: 2.9456\n",
      "mae: 1.2827\n",
      "rmse: 1.7163\n",
      "r2: 0.9486\n",
      "\n",
      "=====================Eval Metrics========================\n",
      "mse: 2.7749\n",
      "mae: 1.2598\n",
      "rmse: 1.6658\n",
      "r2: 0.9362\n",
      "\n"
     ]
    },
    {
     "data": {
      "application/vnd.jupyter.widget-view+json": {
       "model_id": "9b018381851b452bb5afdb84e59e102a",
       "version_major": 2,
       "version_minor": 0
      },
      "text/plain": [
       "Iterations:   0%|          | 0/17 [00:00<?, ?it/s]"
      ]
     },
     "metadata": {},
     "output_type": "display_data"
    },
    {
     "data": {
      "application/vnd.jupyter.widget-view+json": {
       "model_id": "c882c6f5d77e479fbdfd8464a7de4024",
       "version_major": 2,
       "version_minor": 0
      },
      "text/plain": [
       "Iterations:   0%|          | 0/17 [00:00<?, ?it/s]"
      ]
     },
     "metadata": {},
     "output_type": "display_data"
    },
    {
     "data": {
      "application/vnd.jupyter.widget-view+json": {
       "model_id": "f73ca4bebf8a45b69694fa4d12396e6e",
       "version_major": 2,
       "version_minor": 0
      },
      "text/plain": [
       "Iterations:   0%|          | 0/17 [00:00<?, ?it/s]"
      ]
     },
     "metadata": {},
     "output_type": "display_data"
    },
    {
     "data": {
      "application/vnd.jupyter.widget-view+json": {
       "model_id": "67856195f8dc418e83fe00c0dc59f137",
       "version_major": 2,
       "version_minor": 0
      },
      "text/plain": [
       "Iterations:   0%|          | 0/17 [00:00<?, ?it/s]"
      ]
     },
     "metadata": {},
     "output_type": "display_data"
    },
    {
     "data": {
      "application/vnd.jupyter.widget-view+json": {
       "model_id": "99489a486ebb4956963ec7b5c2e7d864",
       "version_major": 2,
       "version_minor": 0
      },
      "text/plain": [
       "Iterations:   0%|          | 0/17 [00:00<?, ?it/s]"
      ]
     },
     "metadata": {},
     "output_type": "display_data"
    },
    {
     "data": {
      "application/vnd.jupyter.widget-view+json": {
       "model_id": "a774a027f4144ca1b4840257276ce099",
       "version_major": 2,
       "version_minor": 0
      },
      "text/plain": [
       "Iterations:   0%|          | 0/17 [00:00<?, ?it/s]"
      ]
     },
     "metadata": {},
     "output_type": "display_data"
    },
    {
     "name": "stdout",
     "output_type": "stream",
     "text": [
      "[47/400][1/17][Time 7.28]\n",
      "Unified LR across all optimizers: 0.0009762897950231208\n",
      "=====================Train Metrics=======================\n",
      "CCNet:  Three Gpt\n",
      "Inf: 0.2570\tGen: 0.6111\tRec: 0.5102\tE: 0.2897\tR: 0.0553\tP: 0.9046\n",
      "\n",
      "mse: 3.0573\n",
      "mae: 1.3919\n",
      "rmse: 1.7485\n",
      "r2: 0.9408\n",
      "\n",
      "=====================Eval Metrics========================\n",
      "mse: 3.5034\n",
      "mae: 1.4788\n",
      "rmse: 1.8717\n",
      "r2: 0.9296\n",
      "\n"
     ]
    },
    {
     "data": {
      "application/vnd.jupyter.widget-view+json": {
       "model_id": "b9585902293c41d1b7c4024d7e51d4f0",
       "version_major": 2,
       "version_minor": 0
      },
      "text/plain": [
       "Iterations:   0%|          | 0/17 [00:00<?, ?it/s]"
      ]
     },
     "metadata": {},
     "output_type": "display_data"
    },
    {
     "data": {
      "application/vnd.jupyter.widget-view+json": {
       "model_id": "b99c699bcd76415987b0de525f0c9c8c",
       "version_major": 2,
       "version_minor": 0
      },
      "text/plain": [
       "Iterations:   0%|          | 0/17 [00:00<?, ?it/s]"
      ]
     },
     "metadata": {},
     "output_type": "display_data"
    },
    {
     "data": {
      "application/vnd.jupyter.widget-view+json": {
       "model_id": "5eba7549063c4e97adb8bb73f156aa33",
       "version_major": 2,
       "version_minor": 0
      },
      "text/plain": [
       "Iterations:   0%|          | 0/17 [00:00<?, ?it/s]"
      ]
     },
     "metadata": {},
     "output_type": "display_data"
    },
    {
     "data": {
      "application/vnd.jupyter.widget-view+json": {
       "model_id": "cf4efbbfff264671a70a003b2bb1c5f5",
       "version_major": 2,
       "version_minor": 0
      },
      "text/plain": [
       "Iterations:   0%|          | 0/17 [00:00<?, ?it/s]"
      ]
     },
     "metadata": {},
     "output_type": "display_data"
    },
    {
     "data": {
      "application/vnd.jupyter.widget-view+json": {
       "model_id": "363cfa416ef641d1ad118d7dcbcbe18d",
       "version_major": 2,
       "version_minor": 0
      },
      "text/plain": [
       "Iterations:   0%|          | 0/17 [00:00<?, ?it/s]"
      ]
     },
     "metadata": {},
     "output_type": "display_data"
    },
    {
     "name": "stdout",
     "output_type": "stream",
     "text": [
      "[52/400][16/17][Time 7.26]\n",
      "Unified LR across all optimizers: 0.0009733694686178784\n",
      "=====================Train Metrics=======================\n",
      "CCNet:  Three Gpt\n",
      "Inf: 0.2705\tGen: 0.6224\tRec: 0.5110\tE: 0.3202\tR: 0.0563\tP: 0.9032\n",
      "\n",
      "mse: 3.8027\n",
      "mae: 1.5176\n",
      "rmse: 1.9500\n",
      "r2: 0.9241\n",
      "\n",
      "=====================Eval Metrics========================\n",
      "mse: 3.4577\n",
      "mae: 1.4266\n",
      "rmse: 1.8595\n",
      "r2: 0.9274\n",
      "\n"
     ]
    },
    {
     "data": {
      "application/vnd.jupyter.widget-view+json": {
       "model_id": "f600d05d8e234071bb29d025cf5bd51e",
       "version_major": 2,
       "version_minor": 0
      },
      "text/plain": [
       "Iterations:   0%|          | 0/17 [00:00<?, ?it/s]"
      ]
     },
     "metadata": {},
     "output_type": "display_data"
    },
    {
     "data": {
      "application/vnd.jupyter.widget-view+json": {
       "model_id": "016f808c15124e8bad8bfeef7850eb8d",
       "version_major": 2,
       "version_minor": 0
      },
      "text/plain": [
       "Iterations:   0%|          | 0/17 [00:00<?, ?it/s]"
      ]
     },
     "metadata": {},
     "output_type": "display_data"
    },
    {
     "data": {
      "application/vnd.jupyter.widget-view+json": {
       "model_id": "7a1444456cdb4267aa39f7c76a278953",
       "version_major": 2,
       "version_minor": 0
      },
      "text/plain": [
       "Iterations:   0%|          | 0/17 [00:00<?, ?it/s]"
      ]
     },
     "metadata": {},
     "output_type": "display_data"
    },
    {
     "data": {
      "application/vnd.jupyter.widget-view+json": {
       "model_id": "c9a8b15fe0344b8686da1f709bc27a6f",
       "version_major": 2,
       "version_minor": 0
      },
      "text/plain": [
       "Iterations:   0%|          | 0/17 [00:00<?, ?it/s]"
      ]
     },
     "metadata": {},
     "output_type": "display_data"
    },
    {
     "data": {
      "application/vnd.jupyter.widget-view+json": {
       "model_id": "0bda6b134f7e42cdb34185857d1e8126",
       "version_major": 2,
       "version_minor": 0
      },
      "text/plain": [
       "Iterations:   0%|          | 0/17 [00:00<?, ?it/s]"
      ]
     },
     "metadata": {},
     "output_type": "display_data"
    },
    {
     "data": {
      "application/vnd.jupyter.widget-view+json": {
       "model_id": "29480fc8f68c4f0ab8a528e982353039",
       "version_major": 2,
       "version_minor": 0
      },
      "text/plain": [
       "Iterations:   0%|          | 0/17 [00:00<?, ?it/s]"
      ]
     },
     "metadata": {},
     "output_type": "display_data"
    },
    {
     "name": "stdout",
     "output_type": "stream",
     "text": [
      "[58/400][14/17][Time 6.88]\n",
      "Unified LR across all optimizers: 0.0009704578776376673\n",
      "=====================Train Metrics=======================\n",
      "CCNet:  Three Gpt\n",
      "Inf: 0.2717\tGen: 0.6140\tRec: 0.5016\tE: 0.3175\tR: 0.0558\tP: 0.8672\n",
      "\n",
      "mse: 2.8419\n",
      "mae: 1.2508\n",
      "rmse: 1.6858\n",
      "r2: 0.9503\n",
      "\n",
      "=====================Eval Metrics========================\n",
      "mse: 3.3043\n",
      "mae: 1.4053\n",
      "rmse: 1.8178\n",
      "r2: 0.9307\n",
      "\n"
     ]
    },
    {
     "data": {
      "application/vnd.jupyter.widget-view+json": {
       "model_id": "c4feac0cc58445129b7b407fdd4ad031",
       "version_major": 2,
       "version_minor": 0
      },
      "text/plain": [
       "Iterations:   0%|          | 0/17 [00:00<?, ?it/s]"
      ]
     },
     "metadata": {},
     "output_type": "display_data"
    },
    {
     "data": {
      "application/vnd.jupyter.widget-view+json": {
       "model_id": "e851bd9e639046a29ba486d74387d79f",
       "version_major": 2,
       "version_minor": 0
      },
      "text/plain": [
       "Iterations:   0%|          | 0/17 [00:00<?, ?it/s]"
      ]
     },
     "metadata": {},
     "output_type": "display_data"
    },
    {
     "data": {
      "application/vnd.jupyter.widget-view+json": {
       "model_id": "06152396612045b7a8cefbc99a7aed1a",
       "version_major": 2,
       "version_minor": 0
      },
      "text/plain": [
       "Iterations:   0%|          | 0/17 [00:00<?, ?it/s]"
      ]
     },
     "metadata": {},
     "output_type": "display_data"
    },
    {
     "data": {
      "application/vnd.jupyter.widget-view+json": {
       "model_id": "6095be56f3d44f8abb5280021e9ab7ee",
       "version_major": 2,
       "version_minor": 0
      },
      "text/plain": [
       "Iterations:   0%|          | 0/17 [00:00<?, ?it/s]"
      ]
     },
     "metadata": {},
     "output_type": "display_data"
    },
    {
     "data": {
      "application/vnd.jupyter.widget-view+json": {
       "model_id": "51eacf3f7b0b4b27808e41e39f6aa2f0",
       "version_major": 2,
       "version_minor": 0
      },
      "text/plain": [
       "Iterations:   0%|          | 0/17 [00:00<?, ?it/s]"
      ]
     },
     "metadata": {},
     "output_type": "display_data"
    },
    {
     "data": {
      "application/vnd.jupyter.widget-view+json": {
       "model_id": "da343d4bd93b4e0ea08109659e6ca404",
       "version_major": 2,
       "version_minor": 0
      },
      "text/plain": [
       "Iterations:   0%|          | 0/17 [00:00<?, ?it/s]"
      ]
     },
     "metadata": {},
     "output_type": "display_data"
    },
    {
     "name": "stdout",
     "output_type": "stream",
     "text": [
      "[64/400][12/17][Time 6.98]\n",
      "Unified LR across all optimizers: 0.0009675549959526509\n",
      "=====================Train Metrics=======================\n",
      "CCNet:  Three Gpt\n",
      "Inf: 0.2630\tGen: 0.6026\tRec: 0.4935\tE: 0.3084\tR: 0.0517\tP: 0.8411\n",
      "\n",
      "mse: 2.8267\n",
      "mae: 1.2307\n",
      "rmse: 1.6813\n",
      "r2: 0.9484\n",
      "\n",
      "=====================Eval Metrics========================\n",
      "mse: 2.6673\n",
      "mae: 1.2417\n",
      "rmse: 1.6332\n",
      "r2: 0.9389\n",
      "\n"
     ]
    },
    {
     "data": {
      "application/vnd.jupyter.widget-view+json": {
       "model_id": "faddf31735354fb7a418223a39c93821",
       "version_major": 2,
       "version_minor": 0
      },
      "text/plain": [
       "Iterations:   0%|          | 0/17 [00:00<?, ?it/s]"
      ]
     },
     "metadata": {},
     "output_type": "display_data"
    },
    {
     "data": {
      "application/vnd.jupyter.widget-view+json": {
       "model_id": "a898b77789374cd99800d7b1fc012614",
       "version_major": 2,
       "version_minor": 0
      },
      "text/plain": [
       "Iterations:   0%|          | 0/17 [00:00<?, ?it/s]"
      ]
     },
     "metadata": {},
     "output_type": "display_data"
    },
    {
     "data": {
      "application/vnd.jupyter.widget-view+json": {
       "model_id": "6881ddb8016e47c8bc03f7560a69bbb2",
       "version_major": 2,
       "version_minor": 0
      },
      "text/plain": [
       "Iterations:   0%|          | 0/17 [00:00<?, ?it/s]"
      ]
     },
     "metadata": {},
     "output_type": "display_data"
    },
    {
     "data": {
      "application/vnd.jupyter.widget-view+json": {
       "model_id": "239f0a32cc4946e9b4499f69f7de7677",
       "version_major": 2,
       "version_minor": 0
      },
      "text/plain": [
       "Iterations:   0%|          | 0/17 [00:00<?, ?it/s]"
      ]
     },
     "metadata": {},
     "output_type": "display_data"
    },
    {
     "data": {
      "application/vnd.jupyter.widget-view+json": {
       "model_id": "3f8a838782fb442598e64e970a7652d0",
       "version_major": 2,
       "version_minor": 0
      },
      "text/plain": [
       "Iterations:   0%|          | 0/17 [00:00<?, ?it/s]"
      ]
     },
     "metadata": {},
     "output_type": "display_data"
    },
    {
     "data": {
      "application/vnd.jupyter.widget-view+json": {
       "model_id": "46f7c939a189440596bb280912a15f27",
       "version_major": 2,
       "version_minor": 0
      },
      "text/plain": [
       "Iterations:   0%|          | 0/17 [00:00<?, ?it/s]"
      ]
     },
     "metadata": {},
     "output_type": "display_data"
    },
    {
     "name": "stdout",
     "output_type": "stream",
     "text": [
      "[70/400][10/17][Time 6.92]\n",
      "Unified LR across all optimizers: 0.0009646607975111544\n",
      "=====================Train Metrics=======================\n",
      "CCNet:  Three Gpt\n",
      "Inf: 0.2829\tGen: 0.6111\tRec: 0.4826\tE: 0.3559\tR: 0.0505\tP: 0.8003\n",
      "\n",
      "mse: 4.5573\n",
      "mae: 1.6167\n",
      "rmse: 2.1348\n",
      "r2: 0.9086\n",
      "\n",
      "=====================Eval Metrics========================\n",
      "mse: 3.6081\n",
      "mae: 1.4417\n",
      "rmse: 1.8995\n",
      "r2: 0.9261\n",
      "\n"
     ]
    },
    {
     "data": {
      "application/vnd.jupyter.widget-view+json": {
       "model_id": "6f45a56195ea4f7eb096a383ccd0f475",
       "version_major": 2,
       "version_minor": 0
      },
      "text/plain": [
       "Iterations:   0%|          | 0/17 [00:00<?, ?it/s]"
      ]
     },
     "metadata": {},
     "output_type": "display_data"
    },
    {
     "data": {
      "application/vnd.jupyter.widget-view+json": {
       "model_id": "fe8f5e78c6fd433c8faa535790ee1ac6",
       "version_major": 2,
       "version_minor": 0
      },
      "text/plain": [
       "Iterations:   0%|          | 0/17 [00:00<?, ?it/s]"
      ]
     },
     "metadata": {},
     "output_type": "display_data"
    },
    {
     "data": {
      "application/vnd.jupyter.widget-view+json": {
       "model_id": "ceeb5e43fc5041968b18fadb05d9878a",
       "version_major": 2,
       "version_minor": 0
      },
      "text/plain": [
       "Iterations:   0%|          | 0/17 [00:00<?, ?it/s]"
      ]
     },
     "metadata": {},
     "output_type": "display_data"
    },
    {
     "data": {
      "application/vnd.jupyter.widget-view+json": {
       "model_id": "be450318d65646f9a80d68ed3aa566b5",
       "version_major": 2,
       "version_minor": 0
      },
      "text/plain": [
       "Iterations:   0%|          | 0/17 [00:00<?, ?it/s]"
      ]
     },
     "metadata": {},
     "output_type": "display_data"
    },
    {
     "data": {
      "application/vnd.jupyter.widget-view+json": {
       "model_id": "ffb2f7c66fc6425fb536e6c597bf1a79",
       "version_major": 2,
       "version_minor": 0
      },
      "text/plain": [
       "Iterations:   0%|          | 0/17 [00:00<?, ?it/s]"
      ]
     },
     "metadata": {},
     "output_type": "display_data"
    },
    {
     "data": {
      "application/vnd.jupyter.widget-view+json": {
       "model_id": "c14c30a8b0df481181dc22b6f1fd3b6a",
       "version_major": 2,
       "version_minor": 0
      },
      "text/plain": [
       "Iterations:   0%|          | 0/17 [00:00<?, ?it/s]"
      ]
     },
     "metadata": {},
     "output_type": "display_data"
    },
    {
     "name": "stdout",
     "output_type": "stream",
     "text": [
      "[76/400][8/17][Time 7.32]\n",
      "Unified LR across all optimizers: 0.0009617752563394297\n",
      "=====================Train Metrics=======================\n",
      "CCNet:  Three Gpt\n",
      "Inf: 0.2854\tGen: 0.6067\tRec: 0.4788\tE: 0.3652\tR: 0.0535\tP: 0.7793\n",
      "\n",
      "mse: 2.7199\n",
      "mae: 1.2842\n",
      "rmse: 1.6492\n",
      "r2: 0.9497\n",
      "\n",
      "=====================Eval Metrics========================\n",
      "mse: 3.8355\n",
      "mae: 1.4568\n",
      "rmse: 1.9584\n",
      "r2: 0.9134\n",
      "\n"
     ]
    },
    {
     "data": {
      "application/vnd.jupyter.widget-view+json": {
       "model_id": "d2e591ddfb334f54a33e65af156b454d",
       "version_major": 2,
       "version_minor": 0
      },
      "text/plain": [
       "Iterations:   0%|          | 0/17 [00:00<?, ?it/s]"
      ]
     },
     "metadata": {},
     "output_type": "display_data"
    },
    {
     "data": {
      "application/vnd.jupyter.widget-view+json": {
       "model_id": "04ca438430a442b7af9128093bf212d8",
       "version_major": 2,
       "version_minor": 0
      },
      "text/plain": [
       "Iterations:   0%|          | 0/17 [00:00<?, ?it/s]"
      ]
     },
     "metadata": {},
     "output_type": "display_data"
    },
    {
     "data": {
      "application/vnd.jupyter.widget-view+json": {
       "model_id": "fb8d0b18f7314c65bf1405dbc3c37c4a",
       "version_major": 2,
       "version_minor": 0
      },
      "text/plain": [
       "Iterations:   0%|          | 0/17 [00:00<?, ?it/s]"
      ]
     },
     "metadata": {},
     "output_type": "display_data"
    },
    {
     "data": {
      "application/vnd.jupyter.widget-view+json": {
       "model_id": "318f75459bb44704aa9dca73bef6770e",
       "version_major": 2,
       "version_minor": 0
      },
      "text/plain": [
       "Iterations:   0%|          | 0/17 [00:00<?, ?it/s]"
      ]
     },
     "metadata": {},
     "output_type": "display_data"
    },
    {
     "data": {
      "application/vnd.jupyter.widget-view+json": {
       "model_id": "2aac53582d5e4be8b94bd40d995b716b",
       "version_major": 2,
       "version_minor": 0
      },
      "text/plain": [
       "Iterations:   0%|          | 0/17 [00:00<?, ?it/s]"
      ]
     },
     "metadata": {},
     "output_type": "display_data"
    },
    {
     "data": {
      "application/vnd.jupyter.widget-view+json": {
       "model_id": "7172a9d6b96b40529c12a7209f6e786a",
       "version_major": 2,
       "version_minor": 0
      },
      "text/plain": [
       "Iterations:   0%|          | 0/17 [00:00<?, ?it/s]"
      ]
     },
     "metadata": {},
     "output_type": "display_data"
    },
    {
     "name": "stdout",
     "output_type": "stream",
     "text": [
      "[82/400][6/17][Time 7.08]\n",
      "Unified LR across all optimizers: 0.0009588983465414223\n",
      "=====================Train Metrics=======================\n",
      "CCNet:  Three Gpt\n",
      "Inf: 0.2808\tGen: 0.6020\tRec: 0.4654\tE: 0.3643\tR: 0.0425\tP: 0.7653\n",
      "\n",
      "mse: 2.6511\n",
      "mae: 1.1915\n",
      "rmse: 1.6282\n",
      "r2: 0.9506\n",
      "\n",
      "=====================Eval Metrics========================\n",
      "mse: 2.4197\n",
      "mae: 1.1837\n",
      "rmse: 1.5555\n",
      "r2: 0.9449\n",
      "\n"
     ]
    },
    {
     "data": {
      "application/vnd.jupyter.widget-view+json": {
       "model_id": "6841f20a572343d1a068027ac755b5e2",
       "version_major": 2,
       "version_minor": 0
      },
      "text/plain": [
       "Iterations:   0%|          | 0/17 [00:00<?, ?it/s]"
      ]
     },
     "metadata": {},
     "output_type": "display_data"
    },
    {
     "data": {
      "application/vnd.jupyter.widget-view+json": {
       "model_id": "d96c9b70267742ba97b0bb65b2431241",
       "version_major": 2,
       "version_minor": 0
      },
      "text/plain": [
       "Iterations:   0%|          | 0/17 [00:00<?, ?it/s]"
      ]
     },
     "metadata": {},
     "output_type": "display_data"
    }
   ],
   "source": [
    "trainer_hub.train(trainset, testset)"
   ]
  }
 ],
 "metadata": {
  "kernelspec": {
   "display_name": "Python 3",
   "language": "python",
   "name": "python3"
  },
  "language_info": {
   "codemirror_mode": {
    "name": "ipython",
    "version": 3
   },
   "file_extension": ".py",
   "mimetype": "text/x-python",
   "name": "python",
   "nbconvert_exporter": "python",
   "pygments_lexer": "ipython3",
   "version": "3.9.16"
  },
  "papermill": {
   "default_parameters": {},
   "duration": 83.906344,
   "end_time": "2023-06-06T07:49:52.571607",
   "environment_variables": {},
   "exception": null,
   "input_path": "__notebook__.ipynb",
   "output_path": "__notebook__.ipynb",
   "parameters": {},
   "start_time": "2023-06-06T07:48:28.665263",
   "version": "2.4.0"
  }
 },
 "nbformat": 4,
 "nbformat_minor": 5
}
