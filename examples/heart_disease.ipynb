{
 "cells": [
  {
   "cell_type": "markdown",
   "metadata": {},
   "source": [
    "'''\n",
    "Author:\n",
    "        \n",
    "        PARK, JunHo, junho@ccnets.org\n",
    "\n",
    "        \n",
    "        KIM, JoengYoong, jeongyoong@ccnets.org\n",
    "        \n",
    "    COPYRIGHT (c) 2024. CCNets. All Rights reserved.\n",
    "'''"
   ]
  },
  {
   "cell_type": "markdown",
   "metadata": {},
   "source": [
    "# Heart Disease Dataset\n",
    "\n",
    "Data Source: https://www.kaggle.com/datasets/mahdifaour/heart-disease-dataset/data"
   ]
  },
  {
   "cell_type": "markdown",
   "metadata": {},
   "source": [
    "<a id=\"1\"></a>\n",
    "> <h1 style = 'font-family: Times New Roman'><b> <b style = 'color: #42c2f5'>1.</b> Import Necessary Libraries </b></h1>"
   ]
  },
  {
   "cell_type": "code",
   "execution_count": 1,
   "metadata": {},
   "outputs": [],
   "source": [
    "import os\n",
    "import sys\n",
    "import warnings\n",
    "warnings.filterwarnings(\"ignore\")\n",
    "\n",
    "path_append = \"../\"\n",
    "sys.path.append(path_append)  # Go up one directory from where you are."
   ]
  },
  {
   "cell_type": "code",
   "execution_count": 2,
   "metadata": {},
   "outputs": [
    {
     "data": {
      "text/html": [
       "<div>\n",
       "<style scoped>\n",
       "    .dataframe tbody tr th:only-of-type {\n",
       "        vertical-align: middle;\n",
       "    }\n",
       "\n",
       "    .dataframe tbody tr th {\n",
       "        vertical-align: top;\n",
       "    }\n",
       "\n",
       "    .dataframe thead th {\n",
       "        text-align: right;\n",
       "    }\n",
       "</style>\n",
       "<table border=\"1\" class=\"dataframe\">\n",
       "  <thead>\n",
       "    <tr style=\"text-align: right;\">\n",
       "      <th></th>\n",
       "      <th>sex</th>\n",
       "      <th>age</th>\n",
       "      <th>education</th>\n",
       "      <th>smokingStatus</th>\n",
       "      <th>cigsPerDay</th>\n",
       "      <th>BPMeds</th>\n",
       "      <th>prevalentStroke</th>\n",
       "      <th>prevalentHyp</th>\n",
       "      <th>diabetes</th>\n",
       "      <th>totChol</th>\n",
       "      <th>sysBP</th>\n",
       "      <th>diaBP</th>\n",
       "      <th>BMI</th>\n",
       "      <th>heartRate</th>\n",
       "      <th>glucose</th>\n",
       "      <th>CHDRisk</th>\n",
       "    </tr>\n",
       "  </thead>\n",
       "  <tbody>\n",
       "    <tr>\n",
       "      <th>0</th>\n",
       "      <td>male</td>\n",
       "      <td>39</td>\n",
       "      <td>4</td>\n",
       "      <td>no</td>\n",
       "      <td>0</td>\n",
       "      <td>0</td>\n",
       "      <td>0</td>\n",
       "      <td>0</td>\n",
       "      <td>no</td>\n",
       "      <td>195</td>\n",
       "      <td>106.0</td>\n",
       "      <td>70.0</td>\n",
       "      <td>26.97</td>\n",
       "      <td>80</td>\n",
       "      <td>77</td>\n",
       "      <td>no</td>\n",
       "    </tr>\n",
       "    <tr>\n",
       "      <th>1</th>\n",
       "      <td>female</td>\n",
       "      <td>46</td>\n",
       "      <td>2</td>\n",
       "      <td>no</td>\n",
       "      <td>0</td>\n",
       "      <td>0</td>\n",
       "      <td>0</td>\n",
       "      <td>0</td>\n",
       "      <td>no</td>\n",
       "      <td>250</td>\n",
       "      <td>121.0</td>\n",
       "      <td>81.0</td>\n",
       "      <td>28.73</td>\n",
       "      <td>95</td>\n",
       "      <td>76</td>\n",
       "      <td>no</td>\n",
       "    </tr>\n",
       "    <tr>\n",
       "      <th>2</th>\n",
       "      <td>male</td>\n",
       "      <td>48</td>\n",
       "      <td>1</td>\n",
       "      <td>yes</td>\n",
       "      <td>20</td>\n",
       "      <td>0</td>\n",
       "      <td>0</td>\n",
       "      <td>0</td>\n",
       "      <td>no</td>\n",
       "      <td>245</td>\n",
       "      <td>127.5</td>\n",
       "      <td>80.0</td>\n",
       "      <td>25.34</td>\n",
       "      <td>75</td>\n",
       "      <td>70</td>\n",
       "      <td>no</td>\n",
       "    </tr>\n",
       "    <tr>\n",
       "      <th>3</th>\n",
       "      <td>female</td>\n",
       "      <td>61</td>\n",
       "      <td>3</td>\n",
       "      <td>yes</td>\n",
       "      <td>30</td>\n",
       "      <td>0</td>\n",
       "      <td>0</td>\n",
       "      <td>1</td>\n",
       "      <td>no</td>\n",
       "      <td>225</td>\n",
       "      <td>150.0</td>\n",
       "      <td>95.0</td>\n",
       "      <td>28.58</td>\n",
       "      <td>65</td>\n",
       "      <td>103</td>\n",
       "      <td>yes</td>\n",
       "    </tr>\n",
       "    <tr>\n",
       "      <th>4</th>\n",
       "      <td>female</td>\n",
       "      <td>46</td>\n",
       "      <td>3</td>\n",
       "      <td>yes</td>\n",
       "      <td>23</td>\n",
       "      <td>0</td>\n",
       "      <td>0</td>\n",
       "      <td>0</td>\n",
       "      <td>no</td>\n",
       "      <td>285</td>\n",
       "      <td>130.0</td>\n",
       "      <td>84.0</td>\n",
       "      <td>23.10</td>\n",
       "      <td>85</td>\n",
       "      <td>85</td>\n",
       "      <td>no</td>\n",
       "    </tr>\n",
       "  </tbody>\n",
       "</table>\n",
       "</div>"
      ],
      "text/plain": [
       "      sex  age  education smokingStatus  cigsPerDay  BPMeds  prevalentStroke  \\\n",
       "0    male   39          4            no           0       0                0   \n",
       "1  female   46          2            no           0       0                0   \n",
       "2    male   48          1           yes          20       0                0   \n",
       "3  female   61          3           yes          30       0                0   \n",
       "4  female   46          3           yes          23       0                0   \n",
       "\n",
       "   prevalentHyp diabetes  totChol  sysBP  diaBP    BMI  heartRate  glucose  \\\n",
       "0             0       no      195  106.0   70.0  26.97         80       77   \n",
       "1             0       no      250  121.0   81.0  28.73         95       76   \n",
       "2             0       no      245  127.5   80.0  25.34         75       70   \n",
       "3             1       no      225  150.0   95.0  28.58         65      103   \n",
       "4             0       no      285  130.0   84.0  23.10         85       85   \n",
       "\n",
       "  CHDRisk  \n",
       "0      no  \n",
       "1      no  \n",
       "2      no  \n",
       "3     yes  \n",
       "4      no  "
      ]
     },
     "execution_count": 2,
     "metadata": {},
     "output_type": "execute_result"
    }
   ],
   "source": [
    "import pandas  as pd\n",
    "df = pd.read_csv(path_append + '../data/Heart Disease Dataset/Heart_Disease.csv')\n",
    "df.head()"
   ]
  },
  {
   "cell_type": "markdown",
   "metadata": {},
   "source": [
    "<a id=\"2\"></a>\n",
    "> <h1 style = 'font-family: Times New Roman'><b> <b style = 'color: #4290f5'>2.</b> Modeling: Preprocess </b></h1>"
   ]
  },
  {
   "cell_type": "code",
   "execution_count": 3,
   "metadata": {},
   "outputs": [
    {
     "name": "stdout",
     "output_type": "stream",
     "text": [
      "Number of missing values in each column:\n",
      "sex              11\n",
      "smokingStatus    13\n",
      "dtype: int64\n",
      "Number of rows dropped due to missing values: 22\n",
      "\n",
      "Column 'diabetes' has 2 unique values.\n",
      "Column 'education' has 4 unique values.\n",
      "Column 'sex' has 2 unique values.\n",
      "Column 'smokingStatus' has 2 unique values.\n",
      "Column 'CHDRisk' has 2 unique values.\n"
     ]
    },
    {
     "data": {
      "text/html": [
       "<div>\n",
       "<style scoped>\n",
       "    .dataframe tbody tr th:only-of-type {\n",
       "        vertical-align: middle;\n",
       "    }\n",
       "\n",
       "    .dataframe tbody tr th {\n",
       "        vertical-align: top;\n",
       "    }\n",
       "\n",
       "    .dataframe thead th {\n",
       "        text-align: right;\n",
       "    }\n",
       "</style>\n",
       "<table border=\"1\" class=\"dataframe\">\n",
       "  <thead>\n",
       "    <tr style=\"text-align: right;\">\n",
       "      <th></th>\n",
       "      <th>Min</th>\n",
       "      <th>Max</th>\n",
       "      <th>Mean</th>\n",
       "      <th>Std</th>\n",
       "      <th>Null Count</th>\n",
       "      <th>Scaled</th>\n",
       "      <th>Encoded</th>\n",
       "    </tr>\n",
       "  </thead>\n",
       "  <tbody>\n",
       "    <tr>\n",
       "      <th>age</th>\n",
       "      <td>-5.808315</td>\n",
       "      <td>4.592238</td>\n",
       "      <td>-1.000000e+00</td>\n",
       "      <td>2.339339</td>\n",
       "      <td>0</td>\n",
       "      <td>Minmax</td>\n",
       "      <td>None</td>\n",
       "    </tr>\n",
       "    <tr>\n",
       "      <th>cigsPerDay</th>\n",
       "      <td>0.000000</td>\n",
       "      <td>3.500000</td>\n",
       "      <td>4.546687e-01</td>\n",
       "      <td>0.596618</td>\n",
       "      <td>0</td>\n",
       "      <td>Robust</td>\n",
       "      <td>None</td>\n",
       "    </tr>\n",
       "    <tr>\n",
       "      <th>BPMeds</th>\n",
       "      <td>-0.030120</td>\n",
       "      <td>0.969880</td>\n",
       "      <td>4.864066e-19</td>\n",
       "      <td>0.170942</td>\n",
       "      <td>0</td>\n",
       "      <td>None</td>\n",
       "      <td>None</td>\n",
       "    </tr>\n",
       "    <tr>\n",
       "      <th>prevalentStroke</th>\n",
       "      <td>-0.005750</td>\n",
       "      <td>0.994250</td>\n",
       "      <td>1.702423e-18</td>\n",
       "      <td>0.075623</td>\n",
       "      <td>0</td>\n",
       "      <td>None</td>\n",
       "      <td>None</td>\n",
       "    </tr>\n",
       "    <tr>\n",
       "      <th>prevalentHyp</th>\n",
       "      <td>-0.310789</td>\n",
       "      <td>0.689211</td>\n",
       "      <td>1.167376e-17</td>\n",
       "      <td>0.462880</td>\n",
       "      <td>0</td>\n",
       "      <td>None</td>\n",
       "      <td>None</td>\n",
       "    </tr>\n",
       "    <tr>\n",
       "      <th>totChol</th>\n",
       "      <td>-2.122807</td>\n",
       "      <td>6.421053</td>\n",
       "      <td>4.844257e-02</td>\n",
       "      <td>0.773303</td>\n",
       "      <td>0</td>\n",
       "      <td>Robust</td>\n",
       "      <td>None</td>\n",
       "    </tr>\n",
       "    <tr>\n",
       "      <th>sysBP</th>\n",
       "      <td>-1.679245</td>\n",
       "      <td>6.301887</td>\n",
       "      <td>1.652907e-01</td>\n",
       "      <td>0.831567</td>\n",
       "      <td>0</td>\n",
       "      <td>Robust</td>\n",
       "      <td>None</td>\n",
       "    </tr>\n",
       "    <tr>\n",
       "      <th>diaBP</th>\n",
       "      <td>-2.324786</td>\n",
       "      <td>4.136752</td>\n",
       "      <td>6.161710e-02</td>\n",
       "      <td>0.815829</td>\n",
       "      <td>0</td>\n",
       "      <td>Robust</td>\n",
       "      <td>None</td>\n",
       "    </tr>\n",
       "    <tr>\n",
       "      <th>BMI</th>\n",
       "      <td>-1.998987</td>\n",
       "      <td>6.361702</td>\n",
       "      <td>7.715471e-02</td>\n",
       "      <td>0.820912</td>\n",
       "      <td>0</td>\n",
       "      <td>Robust</td>\n",
       "      <td>None</td>\n",
       "    </tr>\n",
       "    <tr>\n",
       "      <th>heartRate</th>\n",
       "      <td>-2.214286</td>\n",
       "      <td>4.857143</td>\n",
       "      <td>5.329761e-02</td>\n",
       "      <td>0.854885</td>\n",
       "      <td>0</td>\n",
       "      <td>Robust</td>\n",
       "      <td>None</td>\n",
       "    </tr>\n",
       "    <tr>\n",
       "      <th>glucose</th>\n",
       "      <td>-2.375000</td>\n",
       "      <td>19.750000</td>\n",
       "      <td>2.332284e-01</td>\n",
       "      <td>1.484278</td>\n",
       "      <td>0</td>\n",
       "      <td>Robust</td>\n",
       "      <td>None</td>\n",
       "    </tr>\n",
       "    <tr>\n",
       "      <th>diabetes</th>\n",
       "      <td>0.000000</td>\n",
       "      <td>1.000000</td>\n",
       "      <td>2.656079e-02</td>\n",
       "      <td>0.160818</td>\n",
       "      <td>0</td>\n",
       "      <td>None</td>\n",
       "      <td>One-hot</td>\n",
       "    </tr>\n",
       "    <tr>\n",
       "      <th>sex</th>\n",
       "      <td>0.000000</td>\n",
       "      <td>1.000000</td>\n",
       "      <td>4.452355e-01</td>\n",
       "      <td>0.497060</td>\n",
       "      <td>0</td>\n",
       "      <td>None</td>\n",
       "      <td>One-hot</td>\n",
       "    </tr>\n",
       "    <tr>\n",
       "      <th>smokingStatus</th>\n",
       "      <td>0.000000</td>\n",
       "      <td>1.000000</td>\n",
       "      <td>4.915115e-01</td>\n",
       "      <td>0.499996</td>\n",
       "      <td>0</td>\n",
       "      <td>None</td>\n",
       "      <td>One-hot</td>\n",
       "    </tr>\n",
       "    <tr>\n",
       "      <th>education_1</th>\n",
       "      <td>0.000000</td>\n",
       "      <td>1.000000</td>\n",
       "      <td>4.159365e-01</td>\n",
       "      <td>0.492950</td>\n",
       "      <td>0</td>\n",
       "      <td>None</td>\n",
       "      <td>One_hot</td>\n",
       "    </tr>\n",
       "    <tr>\n",
       "      <th>education_2</th>\n",
       "      <td>0.000000</td>\n",
       "      <td>1.000000</td>\n",
       "      <td>3.003834e-01</td>\n",
       "      <td>0.458487</td>\n",
       "      <td>0</td>\n",
       "      <td>None</td>\n",
       "      <td>One_hot</td>\n",
       "    </tr>\n",
       "    <tr>\n",
       "      <th>education_3</th>\n",
       "      <td>0.000000</td>\n",
       "      <td>1.000000</td>\n",
       "      <td>1.686747e-01</td>\n",
       "      <td>0.374516</td>\n",
       "      <td>0</td>\n",
       "      <td>None</td>\n",
       "      <td>One_hot</td>\n",
       "    </tr>\n",
       "    <tr>\n",
       "      <th>education_4</th>\n",
       "      <td>0.000000</td>\n",
       "      <td>1.000000</td>\n",
       "      <td>1.150055e-01</td>\n",
       "      <td>0.319072</td>\n",
       "      <td>0</td>\n",
       "      <td>None</td>\n",
       "      <td>One_hot</td>\n",
       "    </tr>\n",
       "    <tr>\n",
       "      <th>CHDRisk</th>\n",
       "      <td>0.000000</td>\n",
       "      <td>1.000000</td>\n",
       "      <td>1.555312e-01</td>\n",
       "      <td>0.362460</td>\n",
       "      <td>0</td>\n",
       "      <td>None</td>\n",
       "      <td>None</td>\n",
       "    </tr>\n",
       "  </tbody>\n",
       "</table>\n",
       "</div>"
      ],
      "text/plain": [
       "                      Min        Max          Mean       Std  Null Count  \\\n",
       "age             -5.808315   4.592238 -1.000000e+00  2.339339           0   \n",
       "cigsPerDay       0.000000   3.500000  4.546687e-01  0.596618           0   \n",
       "BPMeds          -0.030120   0.969880  4.864066e-19  0.170942           0   \n",
       "prevalentStroke -0.005750   0.994250  1.702423e-18  0.075623           0   \n",
       "prevalentHyp    -0.310789   0.689211  1.167376e-17  0.462880           0   \n",
       "totChol         -2.122807   6.421053  4.844257e-02  0.773303           0   \n",
       "sysBP           -1.679245   6.301887  1.652907e-01  0.831567           0   \n",
       "diaBP           -2.324786   4.136752  6.161710e-02  0.815829           0   \n",
       "BMI             -1.998987   6.361702  7.715471e-02  0.820912           0   \n",
       "heartRate       -2.214286   4.857143  5.329761e-02  0.854885           0   \n",
       "glucose         -2.375000  19.750000  2.332284e-01  1.484278           0   \n",
       "diabetes         0.000000   1.000000  2.656079e-02  0.160818           0   \n",
       "sex              0.000000   1.000000  4.452355e-01  0.497060           0   \n",
       "smokingStatus    0.000000   1.000000  4.915115e-01  0.499996           0   \n",
       "education_1      0.000000   1.000000  4.159365e-01  0.492950           0   \n",
       "education_2      0.000000   1.000000  3.003834e-01  0.458487           0   \n",
       "education_3      0.000000   1.000000  1.686747e-01  0.374516           0   \n",
       "education_4      0.000000   1.000000  1.150055e-01  0.319072           0   \n",
       "CHDRisk          0.000000   1.000000  1.555312e-01  0.362460           0   \n",
       "\n",
       "                 Scaled  Encoded  \n",
       "age              Minmax     None  \n",
       "cigsPerDay       Robust     None  \n",
       "BPMeds             None     None  \n",
       "prevalentStroke    None     None  \n",
       "prevalentHyp       None     None  \n",
       "totChol          Robust     None  \n",
       "sysBP            Robust     None  \n",
       "diaBP            Robust     None  \n",
       "BMI              Robust     None  \n",
       "heartRate        Robust     None  \n",
       "glucose          Robust     None  \n",
       "diabetes           None  One-hot  \n",
       "sex                None  One-hot  \n",
       "smokingStatus      None  One-hot  \n",
       "education_1        None  One_hot  \n",
       "education_2        None  One_hot  \n",
       "education_3        None  One_hot  \n",
       "education_4        None  One_hot  \n",
       "CHDRisk            None     None  "
      ]
     },
     "metadata": {},
     "output_type": "display_data"
    }
   ],
   "source": [
    "from tools.preprocessing.data_frame import auto_preprocess_dataframe\n",
    "target_columns = ['CHDRisk']\n",
    "encode_columns = ['education']\n",
    "df, description = auto_preprocess_dataframe(df, target_columns, encode_columns=encode_columns)"
   ]
  },
  {
   "cell_type": "code",
   "execution_count": 4,
   "metadata": {},
   "outputs": [
    {
     "name": "stdout",
     "output_type": "stream",
     "text": [
      "train df shape:  (2921, 19)\n",
      "test df shape:  (731, 19)\n"
     ]
    }
   ],
   "source": [
    "import torch\n",
    "from sklearn.model_selection import train_test_split\n",
    "from tools.preprocessing.template_dataset import TemplateDataset\n",
    "\n",
    "train_df, test_df = train_test_split(df, test_size=0.2, shuffle=True, random_state=42)\n",
    "# predict the next value in the sequence\n",
    "train_df_x = train_df.iloc[:, :-1] # all columns except the last one\n",
    "train_df_y = train_df.iloc[:, -1:] # only the last column\n",
    "\n",
    "test_df_x = test_df.iloc[:, :-1] # all columns except the last one\n",
    "test_df_y = test_df.iloc[:, -1:] # only the last column\n",
    "\n",
    "print('train df shape: ', train_df.shape)\n",
    "print('test df shape: ', test_df.shape)\n",
    "trainset = TemplateDataset(train_df_x, train_df_y)\n",
    "testset = TemplateDataset(test_df_x, test_df_y)"
   ]
  },
  {
   "cell_type": "code",
   "execution_count": 5,
   "metadata": {},
   "outputs": [
    {
     "name": "stdout",
     "output_type": "stream",
     "text": [
      "Trainer Name: causal_trainer\n",
      "\n",
      "\n",
      "\u001b[1mModelParameters Parameters:\u001b[0m\n"
     ]
    },
    {
     "data": {
      "text/html": [
       "<div>\n",
       "<style scoped>\n",
       "    .dataframe tbody tr th:only-of-type {\n",
       "        vertical-align: middle;\n",
       "    }\n",
       "\n",
       "    .dataframe tbody tr th {\n",
       "        vertical-align: top;\n",
       "    }\n",
       "\n",
       "    .dataframe thead th {\n",
       "        text-align: right;\n",
       "    }\n",
       "</style>\n",
       "<table border=\"1\" class=\"dataframe\">\n",
       "  <thead>\n",
       "    <tr style=\"text-align: right;\">\n",
       "      <th></th>\n",
       "      <th>ccnet_config</th>\n",
       "      <th>ccnet_network</th>\n",
       "      <th>encoder_config</th>\n",
       "      <th>encoder_network</th>\n",
       "    </tr>\n",
       "  </thead>\n",
       "  <tbody>\n",
       "    <tr>\n",
       "      <th>0</th>\n",
       "      <td>See details below</td>\n",
       "      <td>tabnet</td>\n",
       "      <td>See details below</td>\n",
       "      <td>tabnet</td>\n",
       "    </tr>\n",
       "  </tbody>\n",
       "</table>\n",
       "</div>"
      ],
      "text/plain": [
       "        ccnet_config ccnet_network     encoder_config encoder_network\n",
       "0  See details below        tabnet  See details below          tabnet"
      ]
     },
     "metadata": {},
     "output_type": "display_data"
    },
    {
     "name": "stdout",
     "output_type": "stream",
     "text": [
      "\u001b[3m\n",
      "Detailed ccnet_config Configuration:\u001b[0m\n"
     ]
    },
    {
     "data": {
      "text/html": [
       "<div>\n",
       "<style scoped>\n",
       "    .dataframe tbody tr th:only-of-type {\n",
       "        vertical-align: middle;\n",
       "    }\n",
       "\n",
       "    .dataframe tbody tr th {\n",
       "        vertical-align: top;\n",
       "    }\n",
       "\n",
       "    .dataframe thead th {\n",
       "        text-align: right;\n",
       "    }\n",
       "</style>\n",
       "<table border=\"1\" class=\"dataframe\">\n",
       "  <thead>\n",
       "    <tr style=\"text-align: right;\">\n",
       "      <th></th>\n",
       "      <th>ccnet_config_model_name</th>\n",
       "      <th>ccnet_config_num_layers</th>\n",
       "      <th>ccnet_config_d_model</th>\n",
       "      <th>ccnet_config_dropout</th>\n",
       "      <th>ccnet_config_obs_shape</th>\n",
       "      <th>ccnet_config_condition_dim</th>\n",
       "      <th>ccnet_config_z_dim</th>\n",
       "    </tr>\n",
       "  </thead>\n",
       "  <tbody>\n",
       "    <tr>\n",
       "      <th>0</th>\n",
       "      <td>tabnet</td>\n",
       "      <td>4</td>\n",
       "      <td>256</td>\n",
       "      <td>0.05</td>\n",
       "      <td>[256]</td>\n",
       "      <td>2</td>\n",
       "      <td>8</td>\n",
       "    </tr>\n",
       "  </tbody>\n",
       "</table>\n",
       "</div>"
      ],
      "text/plain": [
       "  ccnet_config_model_name  ccnet_config_num_layers  ccnet_config_d_model  \\\n",
       "0                  tabnet                        4                   256   \n",
       "\n",
       "   ccnet_config_dropout ccnet_config_obs_shape  ccnet_config_condition_dim  \\\n",
       "0                  0.05                  [256]                           2   \n",
       "\n",
       "   ccnet_config_z_dim  \n",
       "0                   8  "
      ]
     },
     "metadata": {},
     "output_type": "display_data"
    },
    {
     "name": "stdout",
     "output_type": "stream",
     "text": [
      "\u001b[3m\n",
      "Detailed encoder_config Configuration:\u001b[0m\n"
     ]
    },
    {
     "data": {
      "text/html": [
       "<div>\n",
       "<style scoped>\n",
       "    .dataframe tbody tr th:only-of-type {\n",
       "        vertical-align: middle;\n",
       "    }\n",
       "\n",
       "    .dataframe tbody tr th {\n",
       "        vertical-align: top;\n",
       "    }\n",
       "\n",
       "    .dataframe thead th {\n",
       "        text-align: right;\n",
       "    }\n",
       "</style>\n",
       "<table border=\"1\" class=\"dataframe\">\n",
       "  <thead>\n",
       "    <tr style=\"text-align: right;\">\n",
       "      <th></th>\n",
       "      <th>encoder_config_model_name</th>\n",
       "      <th>encoder_config_num_layers</th>\n",
       "      <th>encoder_config_d_model</th>\n",
       "      <th>encoder_config_dropout</th>\n",
       "      <th>encoder_config_obs_shape</th>\n",
       "      <th>encoder_config_condition_dim</th>\n",
       "      <th>encoder_config_z_dim</th>\n",
       "    </tr>\n",
       "  </thead>\n",
       "  <tbody>\n",
       "    <tr>\n",
       "      <th>0</th>\n",
       "      <td>tabnet</td>\n",
       "      <td>4</td>\n",
       "      <td>512</td>\n",
       "      <td>0.05</td>\n",
       "      <td>[18]</td>\n",
       "      <td>256</td>\n",
       "      <td>256</td>\n",
       "    </tr>\n",
       "  </tbody>\n",
       "</table>\n",
       "</div>"
      ],
      "text/plain": [
       "  encoder_config_model_name  encoder_config_num_layers  \\\n",
       "0                    tabnet                          4   \n",
       "\n",
       "   encoder_config_d_model  encoder_config_dropout encoder_config_obs_shape  \\\n",
       "0                     512                    0.05                     [18]   \n",
       "\n",
       "   encoder_config_condition_dim  encoder_config_z_dim  \n",
       "0                           256                   256  "
      ]
     },
     "metadata": {},
     "output_type": "display_data"
    },
    {
     "name": "stdout",
     "output_type": "stream",
     "text": [
      "\u001b[1mTrainingParameters Parameters:\u001b[0m\n"
     ]
    },
    {
     "data": {
      "text/html": [
       "<div>\n",
       "<style scoped>\n",
       "    .dataframe tbody tr th:only-of-type {\n",
       "        vertical-align: middle;\n",
       "    }\n",
       "\n",
       "    .dataframe tbody tr th {\n",
       "        vertical-align: top;\n",
       "    }\n",
       "\n",
       "    .dataframe thead th {\n",
       "        text-align: right;\n",
       "    }\n",
       "</style>\n",
       "<table border=\"1\" class=\"dataframe\">\n",
       "  <thead>\n",
       "    <tr style=\"text-align: right;\">\n",
       "      <th></th>\n",
       "      <th>batch_size</th>\n",
       "      <th>max_iters</th>\n",
       "      <th>max_seq_len</th>\n",
       "      <th>min_seq_len</th>\n",
       "      <th>num_epoch</th>\n",
       "    </tr>\n",
       "  </thead>\n",
       "  <tbody>\n",
       "    <tr>\n",
       "      <th>0</th>\n",
       "      <td>64</td>\n",
       "      <td>100000</td>\n",
       "      <td>None</td>\n",
       "      <td>None</td>\n",
       "      <td>1000</td>\n",
       "    </tr>\n",
       "  </tbody>\n",
       "</table>\n",
       "</div>"
      ],
      "text/plain": [
       "   batch_size  max_iters max_seq_len min_seq_len  num_epoch\n",
       "0          64     100000        None        None       1000"
      ]
     },
     "metadata": {},
     "output_type": "display_data"
    },
    {
     "name": "stdout",
     "output_type": "stream",
     "text": [
      "\u001b[1mOptimizationParameters Parameters:\u001b[0m\n"
     ]
    },
    {
     "data": {
      "text/html": [
       "<div>\n",
       "<style scoped>\n",
       "    .dataframe tbody tr th:only-of-type {\n",
       "        vertical-align: middle;\n",
       "    }\n",
       "\n",
       "    .dataframe tbody tr th {\n",
       "        vertical-align: top;\n",
       "    }\n",
       "\n",
       "    .dataframe thead th {\n",
       "        text-align: right;\n",
       "    }\n",
       "</style>\n",
       "<table border=\"1\" class=\"dataframe\">\n",
       "  <thead>\n",
       "    <tr style=\"text-align: right;\">\n",
       "      <th></th>\n",
       "      <th>clip_grad_range</th>\n",
       "      <th>decay_rate_100k</th>\n",
       "      <th>learning_rate</th>\n",
       "      <th>max_grad_norm</th>\n",
       "      <th>scheduler_type</th>\n",
       "    </tr>\n",
       "  </thead>\n",
       "  <tbody>\n",
       "    <tr>\n",
       "      <th>0</th>\n",
       "      <td>None</td>\n",
       "      <td>0.05</td>\n",
       "      <td>0.0002</td>\n",
       "      <td>1.0</td>\n",
       "      <td>exponential</td>\n",
       "    </tr>\n",
       "  </tbody>\n",
       "</table>\n",
       "</div>"
      ],
      "text/plain": [
       "  clip_grad_range  decay_rate_100k  learning_rate  max_grad_norm  \\\n",
       "0            None             0.05         0.0002            1.0   \n",
       "\n",
       "  scheduler_type  \n",
       "0    exponential  "
      ]
     },
     "metadata": {},
     "output_type": "display_data"
    },
    {
     "name": "stdout",
     "output_type": "stream",
     "text": [
      "\u001b[1mAlgorithmParameters Parameters:\u001b[0m\n"
     ]
    },
    {
     "data": {
      "text/html": [
       "<div>\n",
       "<style scoped>\n",
       "    .dataframe tbody tr th:only-of-type {\n",
       "        vertical-align: middle;\n",
       "    }\n",
       "\n",
       "    .dataframe tbody tr th {\n",
       "        vertical-align: top;\n",
       "    }\n",
       "\n",
       "    .dataframe thead th {\n",
       "        text-align: right;\n",
       "    }\n",
       "</style>\n",
       "<table border=\"1\" class=\"dataframe\">\n",
       "  <thead>\n",
       "    <tr style=\"text-align: right;\">\n",
       "      <th></th>\n",
       "      <th>enable_diffusion</th>\n",
       "      <th>error_function</th>\n",
       "      <th>reset_pretrained</th>\n",
       "    </tr>\n",
       "  </thead>\n",
       "  <tbody>\n",
       "    <tr>\n",
       "      <th>0</th>\n",
       "      <td>False</td>\n",
       "      <td>mse</td>\n",
       "      <td>False</td>\n",
       "    </tr>\n",
       "  </tbody>\n",
       "</table>\n",
       "</div>"
      ],
      "text/plain": [
       "   enable_diffusion error_function  reset_pretrained\n",
       "0             False            mse             False"
      ]
     },
     "metadata": {},
     "output_type": "display_data"
    },
    {
     "name": "stdout",
     "output_type": "stream",
     "text": [
      "\u001b[1mDataConfig Parameters:\u001b[0m\n"
     ]
    },
    {
     "data": {
      "text/html": [
       "<div>\n",
       "<style scoped>\n",
       "    .dataframe tbody tr th:only-of-type {\n",
       "        vertical-align: middle;\n",
       "    }\n",
       "\n",
       "    .dataframe tbody tr th {\n",
       "        vertical-align: top;\n",
       "    }\n",
       "\n",
       "    .dataframe thead th {\n",
       "        text-align: right;\n",
       "    }\n",
       "</style>\n",
       "<table border=\"1\" class=\"dataframe\">\n",
       "  <thead>\n",
       "    <tr style=\"text-align: right;\">\n",
       "      <th></th>\n",
       "      <th>dataset_name</th>\n",
       "      <th>task_type</th>\n",
       "      <th>obs_shape</th>\n",
       "      <th>label_size</th>\n",
       "      <th>explain_size</th>\n",
       "      <th>explain_layer</th>\n",
       "      <th>state_size</th>\n",
       "      <th>show_image_indices</th>\n",
       "    </tr>\n",
       "  </thead>\n",
       "  <tbody>\n",
       "    <tr>\n",
       "      <th>0</th>\n",
       "      <td>heart-disease</td>\n",
       "      <td>binary_classification</td>\n",
       "      <td>[18]</td>\n",
       "      <td>2</td>\n",
       "      <td>8</td>\n",
       "      <td>tanh</td>\n",
       "      <td>256</td>\n",
       "      <td>None</td>\n",
       "    </tr>\n",
       "  </tbody>\n",
       "</table>\n",
       "</div>"
      ],
      "text/plain": [
       "    dataset_name              task_type obs_shape  label_size  explain_size  \\\n",
       "0  heart-disease  binary_classification      [18]           2             8   \n",
       "\n",
       "  explain_layer  state_size show_image_indices  \n",
       "0          tanh         256               None  "
      ]
     },
     "metadata": {},
     "output_type": "display_data"
    },
    {
     "name": "stdout",
     "output_type": "stream",
     "text": [
      "\n",
      "\n",
      "\n",
      "\n"
     ]
    }
   ],
   "source": [
    "from tools.setting.data_config import DataConfig\n",
    "from tools.setting.ml_params import MLParameters\n",
    "from trainer_hub import TrainerHub\n",
    "\n",
    "num_features = description['num_features']\n",
    "num_classes = description['num_classes']\n",
    "data_config = DataConfig(dataset_name = 'heart-disease', task_type='binary_classification', obs_shape=[num_features], label_size=num_classes)\n",
    "\n",
    "#  Set training configuration from the AlgorithmConfig class, returning them as a Namespace object.\n",
    "ml_params = MLParameters(ccnet_network = 'tabnet', encoder_network = 'tabnet')\n",
    "ml_params.training.num_epoch = 1000\n",
    "ml_params.model.ccnet_config.num_layers = 4\n",
    "ml_params.model.encoder_config.num_layers = 4   \n",
    "ml_params.model.encoder_config.d_model = 512   \n",
    "\n",
    "# Set the device to GPU if available, else CPU\n",
    "device = torch.device(\"cuda\" if torch.cuda.is_available() else \"cpu\") \n",
    "\n",
    "# Initialize the TrainerHub class with the training configuration, data configuration, device, and use_print and use_wandb flags\n",
    "trainer_hub = TrainerHub(ml_params, data_config, device, use_print=False, use_wandb=True) "
   ]
  },
  {
   "cell_type": "code",
   "execution_count": 6,
   "metadata": {},
   "outputs": [
    {
     "name": "stderr",
     "output_type": "stream",
     "text": [
      "Failed to detect the name of this notebook, you can set it manually with the WANDB_NOTEBOOK_NAME environment variable to enable code saving.\n",
      "\u001b[34m\u001b[1mwandb\u001b[0m: Currently logged in as: \u001b[33mjunhopark\u001b[0m. Use \u001b[1m`wandb login --relogin`\u001b[0m to force relogin\n"
     ]
    },
    {
     "data": {
      "text/html": [
       "wandb version 0.17.0 is available!  To upgrade, please run:\n",
       " $ pip install wandb --upgrade"
      ],
      "text/plain": [
       "<IPython.core.display.HTML object>"
      ]
     },
     "metadata": {},
     "output_type": "display_data"
    },
    {
     "data": {
      "text/html": [
       "Tracking run with wandb version 0.16.6"
      ],
      "text/plain": [
       "<IPython.core.display.HTML object>"
      ]
     },
     "metadata": {},
     "output_type": "display_data"
    },
    {
     "data": {
      "text/html": [
       "Run data is saved locally in <code>c:\\Users\\junho\\Projects\\causal-learning\\examples\\wandb\\run-20240605_014112-u9ekiwxk</code>"
      ],
      "text/plain": [
       "<IPython.core.display.HTML object>"
      ]
     },
     "metadata": {},
     "output_type": "display_data"
    },
    {
     "data": {
      "text/html": [
       "Syncing run <strong><a href='https://wandb.ai/junhopark/causal-learning/runs/u9ekiwxk' target=\"_blank\">causal-learning-heart-disease : 24-06-05 01:41:02</a></strong> to <a href='https://wandb.ai/junhopark/causal-learning' target=\"_blank\">Weights & Biases</a> (<a href='https://wandb.me/run' target=\"_blank\">docs</a>)<br/>"
      ],
      "text/plain": [
       "<IPython.core.display.HTML object>"
      ]
     },
     "metadata": {},
     "output_type": "display_data"
    },
    {
     "data": {
      "text/html": [
       " View project at <a href='https://wandb.ai/junhopark/causal-learning' target=\"_blank\">https://wandb.ai/junhopark/causal-learning</a>"
      ],
      "text/plain": [
       "<IPython.core.display.HTML object>"
      ]
     },
     "metadata": {},
     "output_type": "display_data"
    },
    {
     "data": {
      "text/html": [
       " View run at <a href='https://wandb.ai/junhopark/causal-learning/runs/u9ekiwxk' target=\"_blank\">https://wandb.ai/junhopark/causal-learning/runs/u9ekiwxk</a>"
      ],
      "text/plain": [
       "<IPython.core.display.HTML object>"
      ]
     },
     "metadata": {},
     "output_type": "display_data"
    },
    {
     "name": "stderr",
     "output_type": "stream",
     "text": [
      "\u001b[34m\u001b[1mwandb\u001b[0m: Adding directory to artifact (.\\..\\saved\\heart-disease\\causal-learning)... Done. 0.0s\n"
     ]
    },
    {
     "data": {
      "application/vnd.jupyter.widget-view+json": {
       "model_id": "beff06dbee1d4ed1afc133ca1dc0bfcb",
       "version_major": 2,
       "version_minor": 0
      },
      "text/plain": [
       "Epochs:   0%|          | 0/1000 [00:00<?, ?it/s]"
      ]
     },
     "metadata": {},
     "output_type": "display_data"
    },
    {
     "data": {
      "application/vnd.jupyter.widget-view+json": {
       "model_id": "36836d1aa07d4c09a60bf696b8f4451d",
       "version_major": 2,
       "version_minor": 0
      },
      "text/plain": [
       "Iterations:   0%|          | 0/45 [00:00<?, ?it/s]"
      ]
     },
     "metadata": {},
     "output_type": "display_data"
    }
   ],
   "source": [
    "trainer_hub.train(trainset, testset)"
   ]
  },
  {
   "cell_type": "code",
   "execution_count": null,
   "metadata": {},
   "outputs": [],
   "source": [
    "trainer_hub.test(testset)"
   ]
  }
 ],
 "metadata": {
  "kernelspec": {
   "display_name": "ccnets",
   "language": "python",
   "name": "python3"
  },
  "language_info": {
   "codemirror_mode": {
    "name": "ipython",
    "version": 3
   },
   "file_extension": ".py",
   "mimetype": "text/x-python",
   "name": "python",
   "nbconvert_exporter": "python",
   "pygments_lexer": "ipython3",
   "version": "3.9.19"
  }
 },
 "nbformat": 4,
 "nbformat_minor": 2
}
