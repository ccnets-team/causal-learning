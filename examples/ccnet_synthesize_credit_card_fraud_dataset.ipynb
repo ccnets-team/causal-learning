{
 "cells": [
  {
   "cell_type": "markdown",
   "metadata": {},
   "source": [
    "Author:\n",
    "        \n",
    "        PARK, JunHo, junho@ccnets.org\n",
    "\n",
    "        \n",
    "        KIM, JeongYoong, jeongyoong@ccnets.org\n",
    "        \n",
    "    COPYRIGHT (c) 2024. CCNets. All Rights reserved."
   ]
  },
  {
   "cell_type": "markdown",
   "metadata": {},
   "source": [
    "# Credit Card Fraud Detection: Handling Imbalanced Dataset with CCNet\n",
    "\n",
    "## Introduction\n",
    "\n",
    "This tutorial explores the use of a Cooperative Encoding Network (CCNet) to address challenges associated with imbalanced datasets in the domain of credit card fraud detection. By leveraging the power of synthetic data generation, we aim to enhance the diversity and volume of training data, thereby improving the robustness and accuracy of models designed to identify fraudulent transactions.\n",
    "\n",
    "## Tutorial Goals\n",
    "\n",
    "The objectives of this tutorial are designed to guide you through the process of enhancing data quality and model performance:\n",
    "\n",
    "### Dataset Recreation with CCNet\n",
    "- **Understand Data Augmentation**: Learn how encoding techniques can be used to generate synthetic data instances that closely mimic the characteristics of real-world fraudulent and non-fraudulent transactions.\n",
    "- **Impact on Model Training**: Assess how augmenting the dataset influences the training process and subsequently, the model's ability to generalize from training to real-world scenarios.\n",
    "\n",
    "### Model Training and Evaluation\n",
    "- **Dual Model Training**: Train two distinct models to directly compare performance metrics:\n",
    "  - A model trained on the **original dataset**.\n",
    "  - A model trained on the **CCNet-augmented dataset**.\n",
    "- **Performance Metrics**: Use the F1 score, a critical measure for models operating on imbalanced datasets, to evaluate and compare the effectiveness of these models.\n",
    "\n",
    "### Testing and Validation\n",
    "- **Independent Model Testing**: Conduct a thorough evaluation of both models using a standalone test set that was not involved in the training phase.\n",
    "- **Objective Analysis**: Critically analyze the outcomes to validate whether data augmentation through CCNet offers a tangible benefit in detecting credit card fraud.\n",
    "\n",
    "## Conclusion\n",
    "\n",
    "By the end of this tutorial, participants will not only grasp the theoretical underpinnings of using synthetic data to combat data imbalance but also gain hands-on experience in applying these concepts through CCNet to potentially enhance model performance in fraud detection tasks.\n"
   ]
  },
  {
   "cell_type": "code",
   "execution_count": null,
   "metadata": {},
   "outputs": [],
   "source": [
    "import sys\n",
    "path_append = \"../\"\n",
    "sys.path.append(path_append)  # Go up one directory from where you are.\n"
   ]
  },
  {
   "cell_type": "code",
   "execution_count": null,
   "metadata": {},
   "outputs": [],
   "source": [
    "# https://fraud-detection-handbook.github.io/fraud-detection-handbook/Chapter_7_DeepLearning/FeedForwardNeuralNetworks.html\n",
    "import pandas as pd \n",
    "\n",
    "dataroot = path_append + \"../data/credit_card_fraud_detection/creditcard.csv\"\n",
    "df = pd.read_csv(dataroot)\n",
    "df"
   ]
  },
  {
   "cell_type": "code",
   "execution_count": null,
   "metadata": {},
   "outputs": [],
   "source": [
    "print('No Frauds', round(df['Class'].value_counts()[0] / len(df) *100,2), '%of the dataset')\n",
    "print('Frauds', round(df['Class'].value_counts()[1] / len(df) *100,2), '%of the dataset')"
   ]
  },
  {
   "cell_type": "code",
   "execution_count": null,
   "metadata": {},
   "outputs": [],
   "source": [
    "import torch\n",
    "from sklearn.preprocessing import StandardScaler\n",
    "from torch.utils.data import Dataset\n",
    "\n",
    "# Standardizing the features (excluding the class column)\n",
    "sc = StandardScaler()\n",
    "df.iloc[:, :-1] = sc.fit_transform(df.iloc[:, :-1])\n",
    "\n",
    "# Total elements including features and class\n",
    "n_elements = df.shape[1]\n",
    "print(f\"Number of features and classes (total columns): {n_elements}\")"
   ]
  },
  {
   "cell_type": "code",
   "execution_count": null,
   "metadata": {},
   "outputs": [],
   "source": [
    "\n",
    "# Defining the labeled and unlabeled dataset classes\n",
    "class LabeledDataset(Dataset):\n",
    "    def __init__(self, x, y):\n",
    "        self.x = x\n",
    "        self.y = y\n",
    "        \n",
    "    def __len__(self):\n",
    "        return len(self.x)\n",
    "\n",
    "    def __getitem__(self, index):\n",
    "        vals = torch.tensor(self.x[index], dtype=torch.float32)\n",
    "        label = torch.tensor(self.y[index], dtype=torch.float32)\n",
    "        return vals, label\n",
    "\n",
    "class UnlabelledDataset(Dataset):\n",
    "    def __init__(self, x):\n",
    "        self.x = x\n",
    "        \n",
    "    def __len__(self):\n",
    "        return len(self.x)\n",
    "\n",
    "    def __getitem__(self, index):\n",
    "        vals = torch.tensor(self.x[index], dtype=torch.float32)\n",
    "        return vals, None"
   ]
  },
  {
   "cell_type": "markdown",
   "metadata": {},
   "source": [
    "#### Initial Setup and Model Configuration\n",
    "\n",
    "This section initializes the environment by setting a fixed random seed to ensure reproducibility of results. It imports necessary configurations and initializes model parameters with specific configurations. The model specified here is set to have no core model but uses a 'tabnet' encoder model for data processing, which is particularly tailored for structured or tabular data like credit card transactions.\n"
   ]
  },
  {
   "cell_type": "code",
   "execution_count": null,
   "metadata": {},
   "outputs": [],
   "source": [
    "from sklearn.model_selection import train_test_split\n",
    "\n",
    "# Splitting the dataset into training and test sets for model evaluation\n",
    "df_train, df_test = train_test_split(df, test_size=0.5, shuffle=False)\n",
    "X_train, y_train = df_train.iloc[:, :-1].values, df_train.iloc[:, -1:].values\n",
    "X_test, y_test = df_test.iloc[:, :-1].values, df_test.iloc[:, -1:].values\n",
    "\n",
    "# Preparing the datasets for use in training and testing\n",
    "df_train_values = df_train.iloc[:, :].values  # Full training data for unsupervised tasks\n",
    "unlabelled_dataset = UnlabelledDataset(df_train_values)  # Renamed to reflect it includes the full train data\n",
    "\n",
    "# Labeled datasets for supervised learning tasks\n",
    "supervised_trainset = LabeledDataset(X_train, y_train)  # Corrected to include training data\n",
    "supervised_testset = LabeledDataset(X_test, y_test)     # Test set with proper labels\n",
    "\n",
    "# Printing the shapes of the datasets for verification\n",
    "print(f\"Unlabelled Dataset Shape: {len(unlabelled_dataset)}, {unlabelled_dataset.x.shape[1]}\")\n",
    "print(f\"Labeled Trainset Shape: {len(supervised_trainset)}, {supervised_trainset.x.shape[1]}\")\n",
    "print(f\"Labeled Testset Shape: {len(supervised_testset)}, {supervised_testset.x.shape[1]}\")"
   ]
  },
  {
   "cell_type": "code",
   "execution_count": null,
   "metadata": {},
   "outputs": [],
   "source": [
    "# Set a fixed random seed for reproducibility of experiments\n",
    "from nn.utils.init import set_random_seed\n",
    "set_random_seed(0)\n",
    "\n",
    "# Importing configuration setups for ML parameters and data\n",
    "import torch\n",
    "from tools.setting.ml_params import MLParameters\n",
    "from tools.setting.data_config import DataConfig\n",
    "from trainer_hub import TrainerHub\n",
    "\n",
    "# Configuration for the data handling, defining dataset specifics and the task type\n",
    "data_config = DataConfig(dataset_name='CreditCardFraudDetection', task_type='augmentation', obs_shape=[n_elements], label_size=None)\n",
    "\n",
    "# Initializing ML parameters without a core model and setting the encoder model to 'tabnet' with specific configurations\n",
    "ml_params = MLParameters(core_model='none', encoder_model='tabnet')\n",
    "ml_params.model.encoder_config.num_layers = 4\n",
    "ml_params.model.encoder_config.dropout = 0.0\n",
    "\n",
    "# Setting training parameters and device configuration\n",
    "ml_params.training.num_epoch = 4\n",
    "device = torch.device(\"cuda\" if torch.cuda.is_available() else \"cpu\") \n",
    "\n",
    "# Create a TrainerHub instance to manage training and data processing\n",
    "trainer_hub = TrainerHub(ml_params, data_config, device, use_print=True, use_wandb=False)\n"
   ]
  },
  {
   "cell_type": "markdown",
   "metadata": {},
   "source": [
    "#### Dataset Splitting for Training and Testing\n",
    "\n",
    "The original dataset is split into training and testing parts to evaluate the model's performance accurately. This step is crucial for validating the effectiveness of the training on unseen data.\n"
   ]
  },
  {
   "cell_type": "code",
   "execution_count": null,
   "metadata": {},
   "outputs": [],
   "source": [
    "trainer_hub.train(unlabelled_dataset)"
   ]
  },
  {
   "cell_type": "markdown",
   "metadata": {},
   "source": [
    "#### Data Loading and Synthetic Data Generation\n",
    "\n",
    "This section deals with loading the unlabelled dataset, processing it through the trained model to create synthetic data. This data augmentation step is crucial for models that benefit from larger datasets, such as in fraud detection scenarios.\n"
   ]
  },
  {
   "cell_type": "code",
   "execution_count": null,
   "metadata": {},
   "outputs": [],
   "source": [
    "import torch\n",
    "from tools.loader import collate_fn\n",
    "\n",
    "batch_size = 64\n",
    "len_unlabelled_trainset = len(unlabelled_dataset)\n",
    "unlabelled_train_loader = torch.utils.data.DataLoader(dataset=unlabelled_dataset, batch_size=batch_size, collate_fn=collate_fn, shuffle=False)\n",
    "\n",
    "# Initialize the recreated dataset container\n",
    "recreated_dataset = None\n",
    "\n",
    "# Generate synthetic data through the model to augment the training dataset\n",
    "with torch.no_grad():\n",
    "    for data, _ in unlabelled_train_loader:\n",
    "        data = data.to(device)\n",
    "        # Generate a large amount of synthetic data\n",
    "        batch_recreated_data = trainer_hub.encoder_ccnet.synthesize(data)\n",
    "\n",
    "        # Filter out entries where the last feature is not in the range (0, 1)\n",
    "        valid_entries = (batch_recreated_data[:, -1] >= 0) & (batch_recreated_data[:, -1] <= 1)\n",
    "        batch_recreated_data = batch_recreated_data[valid_entries]\n",
    "\n",
    "        # Check if any valid data remains after filtering; if none, skip this batch\n",
    "        if batch_recreated_data.shape[0] == 0:\n",
    "            continue\n",
    "        \n",
    "        # Sort the filtered data by the last feature (class label)\n",
    "        sorted_batch = batch_recreated_data[torch.argsort(batch_recreated_data[:, -1])]\n",
    "\n",
    "        # Select front half and rear half from the sorted batch\n",
    "        # Since you want exactly batch_size items, take the first and last quarter\n",
    "        select_size = batch_size // 2  # Selecting half of the batch size for each tail\n",
    "        balanced_batch = torch.cat([sorted_batch[:select_size], sorted_batch[-select_size:]], dim=0)\n",
    "\n",
    "        # Shuffle the selected batch\n",
    "        indices = torch.randperm(len(balanced_batch))\n",
    "        balanced_batch = balanced_batch[indices]\n",
    "\n",
    "        # Concatenate the processed batch to the main dataset\n",
    "        if recreated_dataset is None:\n",
    "            recreated_dataset = balanced_batch\n",
    "        else:\n",
    "            recreated_dataset = torch.cat([recreated_dataset, balanced_batch], dim=0)\n",
    "        \n",
    "        # Ensure we do not exceed the original unlabelled dataset's size\n",
    "        if len(recreated_dataset) >= len_unlabelled_trainset:\n",
    "            recreated_dataset = recreated_dataset[:len_unlabelled_trainset]\n",
    "            break\n",
    "\n",
    "print(f\"Recreated Dataset Shape: {recreated_dataset.shape}\")"
   ]
  },
  {
   "cell_type": "markdown",
   "metadata": {},
   "source": [
    "#### Data Preparation for Model Training\n",
    "\n",
    "After synthetic data generation, this section separates the data and labels for training purposes, preparing them for use in machine learning models to ensure proper supervision and evaluation.\n"
   ]
  },
  {
   "cell_type": "code",
   "execution_count": null,
   "metadata": {},
   "outputs": [],
   "source": [
    "import torch\n",
    "\n",
    "# Assuming recreated_dataset is a PyTorch tensor already available in your context\n",
    "\n",
    "# Separate the recreated data into features and labels for training\n",
    "recreated_training_data = recreated_dataset[:, :-1].clone().detach().cpu().numpy()  # Features from recreated data\n",
    "recreated_labels = recreated_dataset[:, -1:].clone().detach().cpu().numpy()  # Labels from recreated data\n",
    "ccnet_recreated_dataset = LabeledDataset(recreated_training_data, recreated_labels)\n",
    "\n",
    "# Print the shapes of the datasets for verification\n",
    "print(f\"Labeled Original Trainset Shape: {len(supervised_trainset)}, {supervised_trainset.x.shape[1]}\")\n",
    "print(f\"CCNet Recreated Dataset Shape: {len(ccnet_recreated_dataset)}, {ccnet_recreated_dataset.x.shape[1]}\")\n",
    "\n",
    "print(f\"Labeled Original Testset Shape: {len(supervised_testset)}, {supervised_testset.x.shape[1]}\")\n",
    "\n",
    "# Retrieve number of features and classes from the recreated dataset\n",
    "num_features = recreated_training_data.shape[1]\n",
    "num_classes = recreated_labels.shape[1]\n",
    "\n",
    "print(f\"Number of Features: {num_features}\")\n",
    "print(f\"Number of Classes: {num_classes}\")"
   ]
  },
  {
   "cell_type": "code",
   "execution_count": null,
   "metadata": {},
   "outputs": [],
   "source": [
    "class DNN(torch.nn.Module):\n",
    "    def __init__(self, input_size, output_size, num_layers=4, hidden_size=256):\n",
    "        super(DNN, self).__init__()\n",
    "        self.input_size = input_size\n",
    "        self.output_size = output_size\n",
    "        self.hidden_size = hidden_size\n",
    "        \n",
    "        # Create a list to hold all layers\n",
    "        layers = []\n",
    "        \n",
    "        # Input layer\n",
    "        layers.append(torch.nn.Linear(input_size, hidden_size))\n",
    "        layers.append(torch.nn.ReLU())\n",
    "        \n",
    "        # Hidden layers\n",
    "        for _ in range(num_layers - 2):\n",
    "            layers.append(torch.nn.Linear(hidden_size, hidden_size))\n",
    "            layers.append(torch.nn.ReLU())\n",
    "        \n",
    "        # Output layer\n",
    "        layers.append(torch.nn.Linear(hidden_size, output_size))\n",
    "        \n",
    "        # Register all layers\n",
    "        self.layers = torch.nn.Sequential(*layers)\n",
    "\n",
    "    def forward(self, x):\n",
    "        x = self.layers(x)\n",
    "        return torch.sigmoid(x)"
   ]
  },
  {
   "cell_type": "markdown",
   "metadata": {},
   "source": [
    "#### Training Supervised Models\n",
    "\n",
    "This section outlines the process of training supervised learning models using both original and synthetic datasets. The `train_supervised_model` function is designed to iterate through the dataset, perform forward passes, compute loss, and update model weights using backpropagation.\n"
   ]
  },
  {
   "cell_type": "code",
   "execution_count": null,
   "metadata": {},
   "outputs": [],
   "source": [
    "def train_supervised_model(model, dataset):\n",
    "    # Initialize the optimizer\n",
    "    optimizer = torch.optim.Adam(model.parameters(), lr=0.0002)\n",
    "    # Ensure reproducibility by resetting the random seed\n",
    "    set_random_seed(0)\n",
    "    # Create DataLoader for batch processing\n",
    "    trainloader = torch.utils.data.DataLoader(dataset, batch_size=batch_size, shuffle=True)\n",
    "    \n",
    "    # Training loop\n",
    "    for epoch in range(4):  # Train for 2 epochs as an example\n",
    "        for i, (data, label) in enumerate(trainloader):\n",
    "            data = data.to(device)\n",
    "            label = label.to(device)\n",
    "            # Perform forward pass\n",
    "            output = model(data)\n",
    "            # Compute loss\n",
    "            loss = torch.nn.functional.binary_cross_entropy(output, label)\n",
    "            # Backward pass to compute gradients\n",
    "            loss.backward()\n",
    "            # Update weights\n",
    "            optimizer.step()\n",
    "            # Reset gradients\n",
    "            optimizer.zero_grad()\n"
   ]
  },
  {
   "cell_type": "markdown",
   "metadata": {},
   "source": [
    "#### Model Training Using Recreated and Original Datasets\n",
    "\n",
    "Models are trained using both datasets generated through the Data Augmentation process and the original dataset. This comparison helps to determine the effectiveness of the synthetic data in improving model performance.\n"
   ]
  },
  {
   "cell_type": "code",
   "execution_count": null,
   "metadata": {},
   "outputs": [],
   "source": [
    "# Initialize and train a model on the recreated dataset\n",
    "model_trained_on_recreated = DNN(input_size=num_features, output_size=num_classes).to(device)\n",
    "train_supervised_model(model_trained_on_recreated, ccnet_recreated_dataset)\n",
    "\n",
    "# Initialize and train a model on the original dataset\n",
    "model_trained_on_original = DNN(input_size=num_features, output_size=num_classes).to(device)\n",
    "train_supervised_model(model_trained_on_original, supervised_trainset)"
   ]
  },
  {
   "cell_type": "markdown",
   "metadata": {},
   "source": [
    "#### Evaluating Model Performance\n",
    "\n",
    "After training, the models are evaluated using the F1 score, a harmonic mean of precision and recall, which is particularly useful in the context of imbalanced datasets like fraud detection. This step is critical for assessing the quality of the models trained on different types of data.\n"
   ]
  },
  {
   "cell_type": "code",
   "execution_count": null,
   "metadata": {},
   "outputs": [],
   "source": [
    "from sklearn.metrics import f1_score\n",
    "\n",
    "def get_f1_score(model, testset, batch_size=batch_size):\n",
    "    model.eval()  # Set the model to evaluation mode\n",
    "    y_true = []\n",
    "    y_pred = []\n",
    "    # DataLoader for testing\n",
    "    test_loader = torch.utils.data.DataLoader(testset, batch_size=batch_size, shuffle=False)\n",
    "\n",
    "    # No gradient computation needed during inference\n",
    "    with torch.no_grad():\n",
    "        for data, label in test_loader:\n",
    "            data = data.to(device)\n",
    "            label = label.to(device)\n",
    "            output = model(data)\n",
    "            # Process output for binary classification\n",
    "            predicted = (output.squeeze() > 0.5).long()\n",
    "            y_true.extend(label.squeeze().long().cpu().numpy())\n",
    "            y_pred.extend(predicted.cpu().numpy())\n",
    "\n",
    "    # Compute and return the F1 score\n",
    "    score = f1_score(y_true, y_pred, average='binary')\n",
    "    return score\n",
    "\n",
    "# Calculate F1 scores for both models\n",
    "f1_score_original = get_f1_score(model_trained_on_original, supervised_testset)\n",
    "f1_score_recreated = get_f1_score(model_trained_on_recreated, supervised_testset)\n",
    "\n",
    "# Output the results\n",
    "print(\"F1 score of the supervised learning model trained on the original data: \", f1_score_original)\n",
    "print(\"F1 score of the supervised learning model trained on the recreated data: \", f1_score_recreated)\n"
   ]
  }
 ],
 "metadata": {
  "kernelspec": {
   "display_name": "ccnets",
   "language": "python",
   "name": "python3"
  },
  "language_info": {
   "codemirror_mode": {
    "name": "ipython",
    "version": 3
   },
   "file_extension": ".py",
   "mimetype": "text/x-python",
   "name": "python",
   "nbconvert_exporter": "python",
   "pygments_lexer": "ipython3",
   "version": "3.9.16"
  }
 },
 "nbformat": 4,
 "nbformat_minor": 2
}
