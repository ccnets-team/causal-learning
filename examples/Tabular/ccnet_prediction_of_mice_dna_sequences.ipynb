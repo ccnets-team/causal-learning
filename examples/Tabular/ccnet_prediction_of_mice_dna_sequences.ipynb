{
  "cells": [
    {
      "cell_type": "markdown",
      "metadata": {},
      "source": [
        "Authors : Jinsu Kim, JunHo Park\n",
        "\n",
        "ⓒ 2022 CCNets, Inc. All Rights Reserved."
      ]
    },
    {
      "cell_type": "markdown",
      "metadata": {},
      "source": [
        "https://ccnets.org"
      ]
    },
    {
      "cell_type": "code",
      "execution_count": 1,
      "metadata": {
        "collapsed": false
      },
      "outputs": [],
      "source": [
        "import sys\n",
        "path_append = \"../../\"\n",
        "sys.path.append(path_append)  # Go up one directory from where you are."
      ]
    },
    {
      "cell_type": "code",
      "execution_count": 2,
      "metadata": {},
      "outputs": [
        {
          "name": "stdout",
          "output_type": "stream",
          "text": [
            "Failed to load data. File not found at: ../../../data/Mice Protein Expression/Data_Cortex_Nuclear.csv\n"
          ]
        }
      ],
      "source": [
        "# https://www.kaggle.com/datasets/ruslankl/mice-protein-expression\n",
        "\n",
        "import os\n",
        "import pandas as pd\n",
        "\n",
        "# Define the base directory and CSV file name\n",
        "base_dir = path_append + \"../data/Mice Protein Expression/\"  # Update this to the directory where your data folder is located\n",
        "csv_file = \"Data_Cortex_Nuclear.csv\"  # Update this to your CSV file name if different\n",
        "\n",
        "# Full path to the CSV file\n",
        "full_path = os.path.join(base_dir, csv_file)\n",
        "\n",
        "# Load the dataset\n",
        "try:\n",
        "    df = pd.read_csv(full_path)\n",
        "    print(\"Data loaded successfully!\")\n",
        "except FileNotFoundError:\n",
        "    print(\"Failed to load data. File not found at:\", full_path)"
      ]
    },
    {
      "cell_type": "code",
      "execution_count": 3,
      "metadata": {},
      "outputs": [
        {
          "ename": "NameError",
          "evalue": "name 'df' is not defined",
          "output_type": "error",
          "traceback": [
            "\u001b[1;31m---------------------------------------------------------------------------\u001b[0m",
            "\u001b[1;31mNameError\u001b[0m                                 Traceback (most recent call last)",
            "Cell \u001b[1;32mIn[3], line 1\u001b[0m\n\u001b[1;32m----> 1\u001b[0m \u001b[43mdf\u001b[49m\u001b[38;5;241m.\u001b[39mhead()\n",
            "\u001b[1;31mNameError\u001b[0m: name 'df' is not defined"
          ]
        }
      ],
      "source": [
        "df.head()"
      ]
    },
    {
      "cell_type": "markdown",
      "metadata": {},
      "source": [
        "TrainLoader / DataLoader"
      ]
    },
    {
      "cell_type": "code",
      "execution_count": null,
      "metadata": {},
      "outputs": [],
      "source": [
        "from tools.preprocessing.data_frame import process_dataframe\n",
        "df, description = process_dataframe(df, target_columns = [\"class\"], drop_columns = [\"MouseID\"])\n",
        "\n",
        "num_features = description['num_features']\n",
        "num_classes = description['num_classes']\n",
        "\n",
        "print(\"Number of features:\", num_features)\n",
        "print(\"Number of classes:\", num_classes)\n",
        "\n",
        "description"
      ]
    },
    {
      "cell_type": "code",
      "execution_count": null,
      "metadata": {},
      "outputs": [],
      "source": [
        "from sklearn.model_selection import train_test_split\n",
        "from tools.preprocessing.template_dataset import BaseDataset\n",
        "\n",
        "train_df, test_df = train_test_split(df, test_size=0.3, random_state=42)\n",
        "# Split the dataset into features and target\n",
        "train_df_x = train_df.iloc[:, :-1] # all columns except the last \n",
        "train_df_y = train_df.iloc[:, -1:] # the last column\n",
        "\n",
        "test_df_x = test_df.iloc[:, :-1] # all columns except the last\n",
        "test_df_y = test_df.iloc[:, -1:] # the last column\n",
        "\n",
        "print('train df shape: ', train_df.shape)\n",
        "print('test df shape: ', test_df.shape)\n",
        "trainset = BaseDataset(train_df_x, train_df_y)\n",
        "testset = BaseDataset(test_df_x, test_df_y)"
      ]
    },
    {
      "cell_type": "code",
      "execution_count": null,
      "metadata": {},
      "outputs": [],
      "source": [
        "from tools.setting.ml_params import MLParameters\n",
        "from tools.setting.data_config import DataConfig\n",
        "from trainer_hub import TrainerHub\n",
        "import torch\n",
        "\n",
        "data_config = DataConfig(dataset_name = 'mice_protein_expression', task_type='multi_class_classification', obs_shape=[num_features], label_size=num_classes)\n",
        "#  Set training configuration from the AlgorithmConfig class, returning them as a Namespace object.\n",
        "ml_params = MLParameters(ccnet_network = 'tabnet')\n",
        "\n",
        "# Set the device to GPU if available, else CPU\n",
        "device = torch.device(\"cuda\" if torch.cuda.is_available() else \"cpu\") \n",
        "\n",
        "# Initialize the TrainerHub class with the training configuration, data configuration, device, and use_print and use_wandb flags\n",
        "trainer_hub = TrainerHub(ml_params, data_config, device, use_print=False, use_wandb=False)"
      ]
    },
    {
      "cell_type": "code",
      "execution_count": null,
      "metadata": {},
      "outputs": [],
      "source": [
        "trainer_hub.train(trainset, testset)"
      ]
    }
  ],
  "metadata": {
    "kernelspec": {
      "display_name": "Python 3.9.13 ('base')",
      "language": "python",
      "name": "python3"
    },
    "language_info": {
      "codemirror_mode": {
        "name": "ipython",
        "version": 3
      },
      "file_extension": ".py",
      "mimetype": "text/x-python",
      "name": "python",
      "nbconvert_exporter": "python",
      "pygments_lexer": "ipython3",
      "version": "3.9.16"
    },
    "metadata": {
      "interpreter": {
        "hash": "a7e81af88087f1f4bdc1f0426df14b24fa2673362c5daa7f7f9146748f40b3b1"
      }
    },
    "vscode": {
      "interpreter": {
        "hash": "aa62b0cd3048c1f98ba81d64726d0b99961f9a4c88743680dc76385f8ef59940"
      }
    }
  },
  "nbformat": 4,
  "nbformat_minor": 2
}
