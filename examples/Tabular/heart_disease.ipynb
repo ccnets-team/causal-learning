{
 "cells": [
  {
   "cell_type": "markdown",
   "metadata": {},
   "source": [
    "Author:\n",
    "        \n",
    "        KIM, JeongYoong, jeongyoong@ccnets.org\n",
    "        \n",
    "    COPYRIGHT (c) 2024. CCNets. All Rights reserved."
   ]
  },
  {
   "cell_type": "markdown",
   "metadata": {},
   "source": [
    "# Heart Disease Dataset\n",
    "\n",
    "Data Source: https://www.kaggle.com/datasets/mahdifaour/heart-disease-dataset/data"
   ]
  },
  {
   "cell_type": "markdown",
   "metadata": {},
   "source": [
    "<a id=\"1\"></a>\n",
    "> <h1 style = 'font-family: Times New Roman'><b> <b style = 'color: #42c2f5'>1.</b> Import Necessary Libraries </b></h1>"
   ]
  },
  {
   "cell_type": "code",
   "execution_count": 1,
   "metadata": {},
   "outputs": [],
   "source": [
    "import os\n",
    "import sys\n",
    "import warnings\n",
    "warnings.filterwarnings(\"ignore\")\n",
    "\n",
    "path_append = \"../../\"\n",
    "sys.path.append(path_append)  # Go up one directory from where you are."
   ]
  },
  {
   "cell_type": "code",
   "execution_count": 2,
   "metadata": {},
   "outputs": [
    {
     "data": {
      "text/html": [
       "<div>\n",
       "<style scoped>\n",
       "    .dataframe tbody tr th:only-of-type {\n",
       "        vertical-align: middle;\n",
       "    }\n",
       "\n",
       "    .dataframe tbody tr th {\n",
       "        vertical-align: top;\n",
       "    }\n",
       "\n",
       "    .dataframe thead th {\n",
       "        text-align: right;\n",
       "    }\n",
       "</style>\n",
       "<table border=\"1\" class=\"dataframe\">\n",
       "  <thead>\n",
       "    <tr style=\"text-align: right;\">\n",
       "      <th></th>\n",
       "      <th>sex</th>\n",
       "      <th>age</th>\n",
       "      <th>education</th>\n",
       "      <th>smokingStatus</th>\n",
       "      <th>cigsPerDay</th>\n",
       "      <th>BPMeds</th>\n",
       "      <th>prevalentStroke</th>\n",
       "      <th>prevalentHyp</th>\n",
       "      <th>diabetes</th>\n",
       "      <th>totChol</th>\n",
       "      <th>sysBP</th>\n",
       "      <th>diaBP</th>\n",
       "      <th>BMI</th>\n",
       "      <th>heartRate</th>\n",
       "      <th>glucose</th>\n",
       "      <th>CHDRisk</th>\n",
       "    </tr>\n",
       "  </thead>\n",
       "  <tbody>\n",
       "    <tr>\n",
       "      <th>0</th>\n",
       "      <td>male</td>\n",
       "      <td>39</td>\n",
       "      <td>4</td>\n",
       "      <td>no</td>\n",
       "      <td>0</td>\n",
       "      <td>0</td>\n",
       "      <td>0</td>\n",
       "      <td>0</td>\n",
       "      <td>no</td>\n",
       "      <td>195</td>\n",
       "      <td>106.0</td>\n",
       "      <td>70.0</td>\n",
       "      <td>26.97</td>\n",
       "      <td>80</td>\n",
       "      <td>77</td>\n",
       "      <td>no</td>\n",
       "    </tr>\n",
       "    <tr>\n",
       "      <th>1</th>\n",
       "      <td>female</td>\n",
       "      <td>46</td>\n",
       "      <td>2</td>\n",
       "      <td>no</td>\n",
       "      <td>0</td>\n",
       "      <td>0</td>\n",
       "      <td>0</td>\n",
       "      <td>0</td>\n",
       "      <td>no</td>\n",
       "      <td>250</td>\n",
       "      <td>121.0</td>\n",
       "      <td>81.0</td>\n",
       "      <td>28.73</td>\n",
       "      <td>95</td>\n",
       "      <td>76</td>\n",
       "      <td>no</td>\n",
       "    </tr>\n",
       "    <tr>\n",
       "      <th>2</th>\n",
       "      <td>male</td>\n",
       "      <td>48</td>\n",
       "      <td>1</td>\n",
       "      <td>yes</td>\n",
       "      <td>20</td>\n",
       "      <td>0</td>\n",
       "      <td>0</td>\n",
       "      <td>0</td>\n",
       "      <td>no</td>\n",
       "      <td>245</td>\n",
       "      <td>127.5</td>\n",
       "      <td>80.0</td>\n",
       "      <td>25.34</td>\n",
       "      <td>75</td>\n",
       "      <td>70</td>\n",
       "      <td>no</td>\n",
       "    </tr>\n",
       "    <tr>\n",
       "      <th>3</th>\n",
       "      <td>female</td>\n",
       "      <td>61</td>\n",
       "      <td>3</td>\n",
       "      <td>yes</td>\n",
       "      <td>30</td>\n",
       "      <td>0</td>\n",
       "      <td>0</td>\n",
       "      <td>1</td>\n",
       "      <td>no</td>\n",
       "      <td>225</td>\n",
       "      <td>150.0</td>\n",
       "      <td>95.0</td>\n",
       "      <td>28.58</td>\n",
       "      <td>65</td>\n",
       "      <td>103</td>\n",
       "      <td>yes</td>\n",
       "    </tr>\n",
       "    <tr>\n",
       "      <th>4</th>\n",
       "      <td>female</td>\n",
       "      <td>46</td>\n",
       "      <td>3</td>\n",
       "      <td>yes</td>\n",
       "      <td>23</td>\n",
       "      <td>0</td>\n",
       "      <td>0</td>\n",
       "      <td>0</td>\n",
       "      <td>no</td>\n",
       "      <td>285</td>\n",
       "      <td>130.0</td>\n",
       "      <td>84.0</td>\n",
       "      <td>23.10</td>\n",
       "      <td>85</td>\n",
       "      <td>85</td>\n",
       "      <td>no</td>\n",
       "    </tr>\n",
       "  </tbody>\n",
       "</table>\n",
       "</div>"
      ],
      "text/plain": [
       "      sex  age  education smokingStatus  cigsPerDay  BPMeds  prevalentStroke  \\\n",
       "0    male   39          4            no           0       0                0   \n",
       "1  female   46          2            no           0       0                0   \n",
       "2    male   48          1           yes          20       0                0   \n",
       "3  female   61          3           yes          30       0                0   \n",
       "4  female   46          3           yes          23       0                0   \n",
       "\n",
       "   prevalentHyp diabetes  totChol  sysBP  diaBP    BMI  heartRate  glucose  \\\n",
       "0             0       no      195  106.0   70.0  26.97         80       77   \n",
       "1             0       no      250  121.0   81.0  28.73         95       76   \n",
       "2             0       no      245  127.5   80.0  25.34         75       70   \n",
       "3             1       no      225  150.0   95.0  28.58         65      103   \n",
       "4             0       no      285  130.0   84.0  23.10         85       85   \n",
       "\n",
       "  CHDRisk  \n",
       "0      no  \n",
       "1      no  \n",
       "2      no  \n",
       "3     yes  \n",
       "4      no  "
      ]
     },
     "execution_count": 2,
     "metadata": {},
     "output_type": "execute_result"
    }
   ],
   "source": [
    "import pandas  as pd\n",
    "df = pd.read_csv(path_append + '../data/Heart Disease Dataset/Heart_Disease.csv')\n",
    "df.head()"
   ]
  },
  {
   "cell_type": "markdown",
   "metadata": {},
   "source": [
    "<a id=\"2\"></a>\n",
    "> <h1 style = 'font-family: Times New Roman'><b> <b style = 'color: #4290f5'>2.</b> Modeling: Preprocess </b></h1>"
   ]
  },
  {
   "cell_type": "code",
   "execution_count": 3,
   "metadata": {},
   "outputs": [
    {
     "name": "stdout",
     "output_type": "stream",
     "text": [
      "Column 'diabetes' has 2 unique values.\n",
      "Column 'sex' has 2 unique values.\n",
      "Column 'smokingStatus' has 2 unique values.\n",
      "Column 'CHDRisk' has 2 unique values.\n"
     ]
    },
    {
     "data": {
      "text/html": [
       "<div>\n",
       "<style scoped>\n",
       "    .dataframe tbody tr th:only-of-type {\n",
       "        vertical-align: middle;\n",
       "    }\n",
       "\n",
       "    .dataframe tbody tr th {\n",
       "        vertical-align: top;\n",
       "    }\n",
       "\n",
       "    .dataframe thead th {\n",
       "        text-align: right;\n",
       "    }\n",
       "</style>\n",
       "<table border=\"1\" class=\"dataframe\">\n",
       "  <thead>\n",
       "    <tr style=\"text-align: right;\">\n",
       "      <th></th>\n",
       "      <th>Min</th>\n",
       "      <th>Max</th>\n",
       "      <th>Mean</th>\n",
       "      <th>Std</th>\n",
       "      <th>Null Count</th>\n",
       "      <th>Scaled</th>\n",
       "      <th>Encoded</th>\n",
       "    </tr>\n",
       "  </thead>\n",
       "  <tbody>\n",
       "    <tr>\n",
       "      <th>age</th>\n",
       "      <td>-5.808315</td>\n",
       "      <td>4.592238</td>\n",
       "      <td>-1.000000e+00</td>\n",
       "      <td>2.339339</td>\n",
       "      <td>0</td>\n",
       "      <td>Minmax</td>\n",
       "      <td>None</td>\n",
       "    </tr>\n",
       "    <tr>\n",
       "      <th>education</th>\n",
       "      <td>-0.982749</td>\n",
       "      <td>2.017251</td>\n",
       "      <td>1.138191e-16</td>\n",
       "      <td>1.022067</td>\n",
       "      <td>0</td>\n",
       "      <td>None</td>\n",
       "      <td>None</td>\n",
       "    </tr>\n",
       "    <tr>\n",
       "      <th>cigsPerDay</th>\n",
       "      <td>0.000000</td>\n",
       "      <td>3.500000</td>\n",
       "      <td>4.546687e-01</td>\n",
       "      <td>0.596618</td>\n",
       "      <td>0</td>\n",
       "      <td>Robust</td>\n",
       "      <td>None</td>\n",
       "    </tr>\n",
       "    <tr>\n",
       "      <th>BPMeds</th>\n",
       "      <td>-0.030120</td>\n",
       "      <td>0.969880</td>\n",
       "      <td>4.864066e-19</td>\n",
       "      <td>0.170942</td>\n",
       "      <td>0</td>\n",
       "      <td>None</td>\n",
       "      <td>None</td>\n",
       "    </tr>\n",
       "    <tr>\n",
       "      <th>prevalentStroke</th>\n",
       "      <td>-0.005750</td>\n",
       "      <td>0.994250</td>\n",
       "      <td>1.702423e-18</td>\n",
       "      <td>0.075623</td>\n",
       "      <td>0</td>\n",
       "      <td>None</td>\n",
       "      <td>None</td>\n",
       "    </tr>\n",
       "    <tr>\n",
       "      <th>prevalentHyp</th>\n",
       "      <td>-0.310789</td>\n",
       "      <td>0.689211</td>\n",
       "      <td>1.167376e-17</td>\n",
       "      <td>0.462880</td>\n",
       "      <td>0</td>\n",
       "      <td>None</td>\n",
       "      <td>None</td>\n",
       "    </tr>\n",
       "    <tr>\n",
       "      <th>totChol</th>\n",
       "      <td>-2.122807</td>\n",
       "      <td>6.421053</td>\n",
       "      <td>4.844257e-02</td>\n",
       "      <td>0.773303</td>\n",
       "      <td>0</td>\n",
       "      <td>Robust</td>\n",
       "      <td>None</td>\n",
       "    </tr>\n",
       "    <tr>\n",
       "      <th>sysBP</th>\n",
       "      <td>-1.679245</td>\n",
       "      <td>6.301887</td>\n",
       "      <td>1.652907e-01</td>\n",
       "      <td>0.831567</td>\n",
       "      <td>0</td>\n",
       "      <td>Robust</td>\n",
       "      <td>None</td>\n",
       "    </tr>\n",
       "    <tr>\n",
       "      <th>diaBP</th>\n",
       "      <td>-2.324786</td>\n",
       "      <td>4.136752</td>\n",
       "      <td>6.161710e-02</td>\n",
       "      <td>0.815829</td>\n",
       "      <td>0</td>\n",
       "      <td>Robust</td>\n",
       "      <td>None</td>\n",
       "    </tr>\n",
       "    <tr>\n",
       "      <th>BMI</th>\n",
       "      <td>-1.998987</td>\n",
       "      <td>6.361702</td>\n",
       "      <td>7.715471e-02</td>\n",
       "      <td>0.820912</td>\n",
       "      <td>0</td>\n",
       "      <td>Robust</td>\n",
       "      <td>None</td>\n",
       "    </tr>\n",
       "    <tr>\n",
       "      <th>heartRate</th>\n",
       "      <td>-2.214286</td>\n",
       "      <td>4.857143</td>\n",
       "      <td>5.329761e-02</td>\n",
       "      <td>0.854885</td>\n",
       "      <td>0</td>\n",
       "      <td>Robust</td>\n",
       "      <td>None</td>\n",
       "    </tr>\n",
       "    <tr>\n",
       "      <th>glucose</th>\n",
       "      <td>-2.375000</td>\n",
       "      <td>19.750000</td>\n",
       "      <td>2.332284e-01</td>\n",
       "      <td>1.484278</td>\n",
       "      <td>0</td>\n",
       "      <td>Robust</td>\n",
       "      <td>None</td>\n",
       "    </tr>\n",
       "    <tr>\n",
       "      <th>diabetes</th>\n",
       "      <td>0.000000</td>\n",
       "      <td>1.000000</td>\n",
       "      <td>2.656079e-02</td>\n",
       "      <td>0.160818</td>\n",
       "      <td>0</td>\n",
       "      <td>None</td>\n",
       "      <td>One-hot</td>\n",
       "    </tr>\n",
       "    <tr>\n",
       "      <th>sex</th>\n",
       "      <td>0.000000</td>\n",
       "      <td>1.000000</td>\n",
       "      <td>4.452355e-01</td>\n",
       "      <td>0.497060</td>\n",
       "      <td>0</td>\n",
       "      <td>None</td>\n",
       "      <td>One-hot</td>\n",
       "    </tr>\n",
       "    <tr>\n",
       "      <th>smokingStatus</th>\n",
       "      <td>0.000000</td>\n",
       "      <td>1.000000</td>\n",
       "      <td>4.915115e-01</td>\n",
       "      <td>0.499996</td>\n",
       "      <td>0</td>\n",
       "      <td>None</td>\n",
       "      <td>One-hot</td>\n",
       "    </tr>\n",
       "    <tr>\n",
       "      <th>CHDRisk</th>\n",
       "      <td>0.000000</td>\n",
       "      <td>1.000000</td>\n",
       "      <td>1.555312e-01</td>\n",
       "      <td>0.362460</td>\n",
       "      <td>0</td>\n",
       "      <td>None</td>\n",
       "      <td>None</td>\n",
       "    </tr>\n",
       "  </tbody>\n",
       "</table>\n",
       "</div>"
      ],
      "text/plain": [
       "                      Min        Max          Mean       Std  Null Count  \\\n",
       "age             -5.808315   4.592238 -1.000000e+00  2.339339           0   \n",
       "education       -0.982749   2.017251  1.138191e-16  1.022067           0   \n",
       "cigsPerDay       0.000000   3.500000  4.546687e-01  0.596618           0   \n",
       "BPMeds          -0.030120   0.969880  4.864066e-19  0.170942           0   \n",
       "prevalentStroke -0.005750   0.994250  1.702423e-18  0.075623           0   \n",
       "prevalentHyp    -0.310789   0.689211  1.167376e-17  0.462880           0   \n",
       "totChol         -2.122807   6.421053  4.844257e-02  0.773303           0   \n",
       "sysBP           -1.679245   6.301887  1.652907e-01  0.831567           0   \n",
       "diaBP           -2.324786   4.136752  6.161710e-02  0.815829           0   \n",
       "BMI             -1.998987   6.361702  7.715471e-02  0.820912           0   \n",
       "heartRate       -2.214286   4.857143  5.329761e-02  0.854885           0   \n",
       "glucose         -2.375000  19.750000  2.332284e-01  1.484278           0   \n",
       "diabetes         0.000000   1.000000  2.656079e-02  0.160818           0   \n",
       "sex              0.000000   1.000000  4.452355e-01  0.497060           0   \n",
       "smokingStatus    0.000000   1.000000  4.915115e-01  0.499996           0   \n",
       "CHDRisk          0.000000   1.000000  1.555312e-01  0.362460           0   \n",
       "\n",
       "                 Scaled  Encoded  \n",
       "age              Minmax     None  \n",
       "education          None     None  \n",
       "cigsPerDay       Robust     None  \n",
       "BPMeds             None     None  \n",
       "prevalentStroke    None     None  \n",
       "prevalentHyp       None     None  \n",
       "totChol          Robust     None  \n",
       "sysBP            Robust     None  \n",
       "diaBP            Robust     None  \n",
       "BMI              Robust     None  \n",
       "heartRate        Robust     None  \n",
       "glucose          Robust     None  \n",
       "diabetes           None  One-hot  \n",
       "sex                None  One-hot  \n",
       "smokingStatus      None  One-hot  \n",
       "CHDRisk            None     None  "
      ]
     },
     "metadata": {},
     "output_type": "display_data"
    }
   ],
   "source": [
    "from tools.preprocessing.data_frame import auto_preprocess_dataframe\n",
    "target_columns = ['CHDRisk']\n",
    "df, description = auto_preprocess_dataframe(df, target_columns) "
   ]
  },
  {
   "cell_type": "code",
   "execution_count": 4,
   "metadata": {},
   "outputs": [
    {
     "name": "stdout",
     "output_type": "stream",
     "text": [
      "train df shape:  (2921, 16)\n",
      "test df shape:  (731, 16)\n"
     ]
    }
   ],
   "source": [
    "import torch\n",
    "from sklearn.model_selection import train_test_split\n",
    "from tools.preprocessing.template_dataset import TemplateDataset\n",
    "\n",
    "train_df, test_df = train_test_split(df, test_size=0.2, shuffle=False)\n",
    "# predict the next value in the sequence\n",
    "train_df_x = train_df.iloc[:, :-1] # all columns except the last one\n",
    "train_df_y = train_df.iloc[:, -1:] # only the last column\n",
    "\n",
    "test_df_x = test_df.iloc[:, :-1] # all columns except the last one\n",
    "test_df_y = test_df.iloc[:, -1:] # only the last column\n",
    "\n",
    "print('train df shape: ', train_df.shape)\n",
    "print('test df shape: ', test_df.shape)\n",
    "trainset = TemplateDataset(train_df_x, train_df_y)\n",
    "testset = TemplateDataset(test_df_x, test_df_y)"
   ]
  },
  {
   "cell_type": "code",
   "execution_count": 5,
   "metadata": {},
   "outputs": [
    {
     "name": "stdout",
     "output_type": "stream",
     "text": [
      "Trainer Name: causal_trainer\n",
      "\n",
      "\n",
      "\u001b[1mModelParameters Parameters:\u001b[0m\n"
     ]
    },
    {
     "data": {
      "text/html": [
       "<div>\n",
       "<style scoped>\n",
       "    .dataframe tbody tr th:only-of-type {\n",
       "        vertical-align: middle;\n",
       "    }\n",
       "\n",
       "    .dataframe tbody tr th {\n",
       "        vertical-align: top;\n",
       "    }\n",
       "\n",
       "    .dataframe thead th {\n",
       "        text-align: right;\n",
       "    }\n",
       "</style>\n",
       "<table border=\"1\" class=\"dataframe\">\n",
       "  <thead>\n",
       "    <tr style=\"text-align: right;\">\n",
       "      <th></th>\n",
       "      <th>ccnet_config</th>\n",
       "      <th>ccnet_network</th>\n",
       "      <th>encoder_config</th>\n",
       "      <th>encoder_network</th>\n",
       "    </tr>\n",
       "  </thead>\n",
       "  <tbody>\n",
       "    <tr>\n",
       "      <th>0</th>\n",
       "      <td>See details below</td>\n",
       "      <td>gpt</td>\n",
       "      <td>None</td>\n",
       "      <td>none</td>\n",
       "    </tr>\n",
       "  </tbody>\n",
       "</table>\n",
       "</div>"
      ],
      "text/plain": [
       "        ccnet_config ccnet_network encoder_config encoder_network\n",
       "0  See details below           gpt           None            none"
      ]
     },
     "metadata": {},
     "output_type": "display_data"
    },
    {
     "name": "stdout",
     "output_type": "stream",
     "text": [
      "\u001b[3m\n",
      "Detailed ccnet_config Configuration:\u001b[0m\n"
     ]
    },
    {
     "data": {
      "text/html": [
       "<div>\n",
       "<style scoped>\n",
       "    .dataframe tbody tr th:only-of-type {\n",
       "        vertical-align: middle;\n",
       "    }\n",
       "\n",
       "    .dataframe tbody tr th {\n",
       "        vertical-align: top;\n",
       "    }\n",
       "\n",
       "    .dataframe thead th {\n",
       "        text-align: right;\n",
       "    }\n",
       "</style>\n",
       "<table border=\"1\" class=\"dataframe\">\n",
       "  <thead>\n",
       "    <tr style=\"text-align: right;\">\n",
       "      <th></th>\n",
       "      <th>ccnet_config_model_name</th>\n",
       "      <th>ccnet_config_num_layers</th>\n",
       "      <th>ccnet_config_d_model</th>\n",
       "      <th>ccnet_config_dropout</th>\n",
       "      <th>ccnet_config_obs_shape</th>\n",
       "      <th>ccnet_config_condition_dim</th>\n",
       "      <th>ccnet_config_z_dim</th>\n",
       "    </tr>\n",
       "  </thead>\n",
       "  <tbody>\n",
       "    <tr>\n",
       "      <th>0</th>\n",
       "      <td>gpt</td>\n",
       "      <td>5</td>\n",
       "      <td>256</td>\n",
       "      <td>0.05</td>\n",
       "      <td>[15]</td>\n",
       "      <td>2</td>\n",
       "      <td>6</td>\n",
       "    </tr>\n",
       "  </tbody>\n",
       "</table>\n",
       "</div>"
      ],
      "text/plain": [
       "  ccnet_config_model_name  ccnet_config_num_layers  ccnet_config_d_model  \\\n",
       "0                     gpt                        5                   256   \n",
       "\n",
       "   ccnet_config_dropout ccnet_config_obs_shape  ccnet_config_condition_dim  \\\n",
       "0                  0.05                   [15]                           2   \n",
       "\n",
       "   ccnet_config_z_dim  \n",
       "0                   6  "
      ]
     },
     "metadata": {},
     "output_type": "display_data"
    },
    {
     "name": "stdout",
     "output_type": "stream",
     "text": [
      "\u001b[1mTrainingParameters Parameters:\u001b[0m\n"
     ]
    },
    {
     "data": {
      "text/html": [
       "<div>\n",
       "<style scoped>\n",
       "    .dataframe tbody tr th:only-of-type {\n",
       "        vertical-align: middle;\n",
       "    }\n",
       "\n",
       "    .dataframe tbody tr th {\n",
       "        vertical-align: top;\n",
       "    }\n",
       "\n",
       "    .dataframe thead th {\n",
       "        text-align: right;\n",
       "    }\n",
       "</style>\n",
       "<table border=\"1\" class=\"dataframe\">\n",
       "  <thead>\n",
       "    <tr style=\"text-align: right;\">\n",
       "      <th></th>\n",
       "      <th>batch_size</th>\n",
       "      <th>max_iters</th>\n",
       "      <th>max_seq_len</th>\n",
       "      <th>min_seq_len</th>\n",
       "      <th>num_epoch</th>\n",
       "    </tr>\n",
       "  </thead>\n",
       "  <tbody>\n",
       "    <tr>\n",
       "      <th>0</th>\n",
       "      <td>64</td>\n",
       "      <td>100000</td>\n",
       "      <td>None</td>\n",
       "      <td>None</td>\n",
       "      <td>100</td>\n",
       "    </tr>\n",
       "  </tbody>\n",
       "</table>\n",
       "</div>"
      ],
      "text/plain": [
       "   batch_size  max_iters max_seq_len min_seq_len  num_epoch\n",
       "0          64     100000        None        None        100"
      ]
     },
     "metadata": {},
     "output_type": "display_data"
    },
    {
     "name": "stdout",
     "output_type": "stream",
     "text": [
      "\u001b[1mOptimizationParameters Parameters:\u001b[0m\n"
     ]
    },
    {
     "data": {
      "text/html": [
       "<div>\n",
       "<style scoped>\n",
       "    .dataframe tbody tr th:only-of-type {\n",
       "        vertical-align: middle;\n",
       "    }\n",
       "\n",
       "    .dataframe tbody tr th {\n",
       "        vertical-align: top;\n",
       "    }\n",
       "\n",
       "    .dataframe thead th {\n",
       "        text-align: right;\n",
       "    }\n",
       "</style>\n",
       "<table border=\"1\" class=\"dataframe\">\n",
       "  <thead>\n",
       "    <tr style=\"text-align: right;\">\n",
       "      <th></th>\n",
       "      <th>clip_grad_range</th>\n",
       "      <th>decay_rate_100k</th>\n",
       "      <th>learning_rate</th>\n",
       "      <th>max_grad_norm</th>\n",
       "      <th>scheduler_type</th>\n",
       "    </tr>\n",
       "  </thead>\n",
       "  <tbody>\n",
       "    <tr>\n",
       "      <th>0</th>\n",
       "      <td>None</td>\n",
       "      <td>0.05</td>\n",
       "      <td>0.0002</td>\n",
       "      <td>1.0</td>\n",
       "      <td>exponential</td>\n",
       "    </tr>\n",
       "  </tbody>\n",
       "</table>\n",
       "</div>"
      ],
      "text/plain": [
       "  clip_grad_range  decay_rate_100k  learning_rate  max_grad_norm  \\\n",
       "0            None             0.05         0.0002            1.0   \n",
       "\n",
       "  scheduler_type  \n",
       "0    exponential  "
      ]
     },
     "metadata": {},
     "output_type": "display_data"
    },
    {
     "name": "stdout",
     "output_type": "stream",
     "text": [
      "\u001b[1mAlgorithmParameters Parameters:\u001b[0m\n"
     ]
    },
    {
     "data": {
      "text/html": [
       "<div>\n",
       "<style scoped>\n",
       "    .dataframe tbody tr th:only-of-type {\n",
       "        vertical-align: middle;\n",
       "    }\n",
       "\n",
       "    .dataframe tbody tr th {\n",
       "        vertical-align: top;\n",
       "    }\n",
       "\n",
       "    .dataframe thead th {\n",
       "        text-align: right;\n",
       "    }\n",
       "</style>\n",
       "<table border=\"1\" class=\"dataframe\">\n",
       "  <thead>\n",
       "    <tr style=\"text-align: right;\">\n",
       "      <th></th>\n",
       "      <th>enable_diffusion</th>\n",
       "      <th>error_function</th>\n",
       "      <th>reset_pretrained</th>\n",
       "    </tr>\n",
       "  </thead>\n",
       "  <tbody>\n",
       "    <tr>\n",
       "      <th>0</th>\n",
       "      <td>False</td>\n",
       "      <td>mae</td>\n",
       "      <td>False</td>\n",
       "    </tr>\n",
       "  </tbody>\n",
       "</table>\n",
       "</div>"
      ],
      "text/plain": [
       "   enable_diffusion error_function  reset_pretrained\n",
       "0             False            mae             False"
      ]
     },
     "metadata": {},
     "output_type": "display_data"
    },
    {
     "name": "stdout",
     "output_type": "stream",
     "text": [
      "\u001b[1mDataConfig Parameters:\u001b[0m\n"
     ]
    },
    {
     "data": {
      "text/html": [
       "<div>\n",
       "<style scoped>\n",
       "    .dataframe tbody tr th:only-of-type {\n",
       "        vertical-align: middle;\n",
       "    }\n",
       "\n",
       "    .dataframe tbody tr th {\n",
       "        vertical-align: top;\n",
       "    }\n",
       "\n",
       "    .dataframe thead th {\n",
       "        text-align: right;\n",
       "    }\n",
       "</style>\n",
       "<table border=\"1\" class=\"dataframe\">\n",
       "  <thead>\n",
       "    <tr style=\"text-align: right;\">\n",
       "      <th></th>\n",
       "      <th>dataset_name</th>\n",
       "      <th>task_type</th>\n",
       "      <th>obs_shape</th>\n",
       "      <th>label_size</th>\n",
       "      <th>explain_size</th>\n",
       "      <th>explain_layer</th>\n",
       "      <th>state_size</th>\n",
       "      <th>show_image_indices</th>\n",
       "    </tr>\n",
       "  </thead>\n",
       "  <tbody>\n",
       "    <tr>\n",
       "      <th>0</th>\n",
       "      <td>heart-disease</td>\n",
       "      <td>binary_classification</td>\n",
       "      <td>[15]</td>\n",
       "      <td>2</td>\n",
       "      <td>6</td>\n",
       "      <td>tanh</td>\n",
       "      <td>None</td>\n",
       "      <td>None</td>\n",
       "    </tr>\n",
       "  </tbody>\n",
       "</table>\n",
       "</div>"
      ],
      "text/plain": [
       "    dataset_name              task_type obs_shape  label_size  explain_size  \\\n",
       "0  heart-disease  binary_classification      [15]           2             6   \n",
       "\n",
       "  explain_layer state_size show_image_indices  \n",
       "0          tanh       None               None  "
      ]
     },
     "metadata": {},
     "output_type": "display_data"
    },
    {
     "name": "stdout",
     "output_type": "stream",
     "text": [
      "\n",
      "\n",
      "\n",
      "\n"
     ]
    }
   ],
   "source": [
    "from tools.setting.data_config import DataConfig\n",
    "from tools.setting.ml_params import MLParameters\n",
    "from trainer_hub import TrainerHub\n",
    "\n",
    "num_features = description['num_features']\n",
    "num_classes = description['num_classes']\n",
    "data_config = DataConfig(dataset_name = 'heart-disease', task_type='binary_classification', obs_shape=[num_features], label_size=num_classes)\n",
    "\n",
    "#  Set training configuration from the AlgorithmConfig class, returning them as a Namespace object.\n",
    "ml_params = MLParameters(ccnet_network = 'gpt', encoder_network = 'none')\n",
    "ml_params.algorithm.error_function = 'mae'\n",
    "\n",
    "# Set the device to GPU if available, else CPU\n",
    "device = torch.device(\"cuda\" if torch.cuda.is_available() else \"cpu\") \n",
    "\n",
    "# Initialize the TrainerHub class with the training configuration, data configuration, device, and use_print and use_wandb flags\n",
    "trainer_hub = TrainerHub(ml_params, data_config, device, use_print=True, use_wandb=False) "
   ]
  },
  {
   "cell_type": "code",
   "execution_count": 6,
   "metadata": {},
   "outputs": [
    {
     "data": {
      "application/vnd.jupyter.widget-view+json": {
       "model_id": "f197ee8b9438495abe720834ab03a0c7",
       "version_major": 2,
       "version_minor": 0
      },
      "text/plain": [
       "Epochs:   0%|          | 0/100 [00:00<?, ?it/s]"
      ]
     },
     "metadata": {},
     "output_type": "display_data"
    },
    {
     "data": {
      "application/vnd.jupyter.widget-view+json": {
       "model_id": "143e1f83fe7f40af80bd465a1278c239",
       "version_major": 2,
       "version_minor": 0
      },
      "text/plain": [
       "Iterations:   0%|          | 0/45 [00:00<?, ?it/s]"
      ]
     },
     "metadata": {},
     "output_type": "display_data"
    },
    {
     "data": {
      "application/vnd.jupyter.widget-view+json": {
       "model_id": "51a89b83086d45fc9720cf7b3f37f8b8",
       "version_major": 2,
       "version_minor": 0
      },
      "text/plain": [
       "Iterations:   0%|          | 0/45 [00:00<?, ?it/s]"
      ]
     },
     "metadata": {},
     "output_type": "display_data"
    },
    {
     "data": {
      "application/vnd.jupyter.widget-view+json": {
       "model_id": "8af70912e8c14d718cc05e8fdef4e529",
       "version_major": 2,
       "version_minor": 0
      },
      "text/plain": [
       "Iterations:   0%|          | 0/45 [00:00<?, ?it/s]"
      ]
     },
     "metadata": {},
     "output_type": "display_data"
    },
    {
     "name": "stdout",
     "output_type": "stream",
     "text": [
      "[2/100][10/45][Time 10.68]\n",
      "Unified LR across all optimizers: 0.0001993957766378747\n",
      "--------------------Training Metrics--------------------\n",
      "CCNet:  Three Gpt\n",
      "Inf: 0.0542\tGen: 0.4495\tRec: 0.4435\tE: 0.0602\tR: 0.0483\tP: 0.8388\n",
      "--------------------Test Metrics------------------------\n",
      "accuracy: 0.8125\n",
      "precision: 0.4062\n",
      "recall: 0.5000\n",
      "f1_score: 0.4483\n",
      "\n"
     ]
    },
    {
     "data": {
      "application/vnd.jupyter.widget-view+json": {
       "model_id": "90528fb59bb44f4199dfd465aacf0a34",
       "version_major": 2,
       "version_minor": 0
      },
      "text/plain": [
       "Iterations:   0%|          | 0/45 [00:00<?, ?it/s]"
      ]
     },
     "metadata": {},
     "output_type": "display_data"
    },
    {
     "data": {
      "application/vnd.jupyter.widget-view+json": {
       "model_id": "aa6c9f06dbe44e14ba3e0e5749fe1aca",
       "version_major": 2,
       "version_minor": 0
      },
      "text/plain": [
       "Iterations:   0%|          | 0/45 [00:00<?, ?it/s]"
      ]
     },
     "metadata": {},
     "output_type": "display_data"
    },
    {
     "name": "stdout",
     "output_type": "stream",
     "text": [
      "[4/100][20/45][Time 10.47]\n",
      "Unified LR across all optimizers: 0.00019879933411171295\n",
      "--------------------Training Metrics--------------------\n",
      "CCNet:  Three Gpt\n",
      "Inf: 0.0317\tGen: 0.3429\tRec: 0.3393\tE: 0.0353\tR: 0.0281\tP: 0.6504\n",
      "--------------------Test Metrics------------------------\n",
      "accuracy: 0.8203\n",
      "precision: 0.4102\n",
      "recall: 0.5000\n",
      "f1_score: 0.4506\n",
      "\n"
     ]
    },
    {
     "data": {
      "application/vnd.jupyter.widget-view+json": {
       "model_id": "f274426ead984ad8828b33688b66111c",
       "version_major": 2,
       "version_minor": 0
      },
      "text/plain": [
       "Iterations:   0%|          | 0/45 [00:00<?, ?it/s]"
      ]
     },
     "metadata": {},
     "output_type": "display_data"
    },
    {
     "data": {
      "application/vnd.jupyter.widget-view+json": {
       "model_id": "81acce2c1cef4327b81ef7eebb6f273e",
       "version_major": 2,
       "version_minor": 0
      },
      "text/plain": [
       "Iterations:   0%|          | 0/45 [00:00<?, ?it/s]"
      ]
     },
     "metadata": {},
     "output_type": "display_data"
    },
    {
     "name": "stdout",
     "output_type": "stream",
     "text": [
      "[6/100][30/45][Time 10.27]\n",
      "Unified LR across all optimizers: 0.00019820467569398644\n",
      "--------------------Training Metrics--------------------\n",
      "CCNet:  Three Gpt\n",
      "Inf: 0.0241\tGen: 0.3061\tRec: 0.3036\tE: 0.0267\tR: 0.0216\tP: 0.5855\n",
      "--------------------Test Metrics------------------------\n",
      "accuracy: 0.8281\n",
      "precision: 0.4141\n",
      "recall: 0.5000\n",
      "f1_score: 0.4530\n",
      "\n"
     ]
    },
    {
     "data": {
      "application/vnd.jupyter.widget-view+json": {
       "model_id": "ec428b306c114b3984d4936aed07b86a",
       "version_major": 2,
       "version_minor": 0
      },
      "text/plain": [
       "Iterations:   0%|          | 0/45 [00:00<?, ?it/s]"
      ]
     },
     "metadata": {},
     "output_type": "display_data"
    },
    {
     "data": {
      "application/vnd.jupyter.widget-view+json": {
       "model_id": "6695892f7b504346956859e2ad9cc9ad",
       "version_major": 2,
       "version_minor": 0
      },
      "text/plain": [
       "Iterations:   0%|          | 0/45 [00:00<?, ?it/s]"
      ]
     },
     "metadata": {},
     "output_type": "display_data"
    },
    {
     "name": "stdout",
     "output_type": "stream",
     "text": [
      "[8/100][40/45][Time 10.20]\n",
      "Unified LR across all optimizers: 0.00019761179604798148\n",
      "--------------------Training Metrics--------------------\n",
      "CCNet:  Three Gpt\n",
      "Inf: 0.0215\tGen: 0.2846\tRec: 0.2831\tE: 0.0230\tR: 0.0199\tP: 0.5463\n",
      "--------------------Test Metrics------------------------\n",
      "accuracy: 0.8516\n",
      "precision: 0.4258\n",
      "recall: 0.5000\n",
      "f1_score: 0.4599\n",
      "\n"
     ]
    },
    {
     "data": {
      "application/vnd.jupyter.widget-view+json": {
       "model_id": "a3fccf86bbaf4ddaa5593a0add85fd57",
       "version_major": 2,
       "version_minor": 0
      },
      "text/plain": [
       "Iterations:   0%|          | 0/45 [00:00<?, ?it/s]"
      ]
     },
     "metadata": {},
     "output_type": "display_data"
    },
    {
     "data": {
      "application/vnd.jupyter.widget-view+json": {
       "model_id": "3d21b20b95c54efcba7d5c1d316688cd",
       "version_major": 2,
       "version_minor": 0
      },
      "text/plain": [
       "Iterations:   0%|          | 0/45 [00:00<?, ?it/s]"
      ]
     },
     "metadata": {},
     "output_type": "display_data"
    },
    {
     "data": {
      "application/vnd.jupyter.widget-view+json": {
       "model_id": "2183abd3336a41c4bcb0fc4cd08d313d",
       "version_major": 2,
       "version_minor": 0
      },
      "text/plain": [
       "Iterations:   0%|          | 0/45 [00:00<?, ?it/s]"
      ]
     },
     "metadata": {},
     "output_type": "display_data"
    },
    {
     "name": "stdout",
     "output_type": "stream",
     "text": [
      "[11/100][5/45][Time 10.22]\n",
      "Unified LR across all optimizers: 0.0001970206898529479\n",
      "--------------------Training Metrics--------------------\n",
      "CCNet:  Three Gpt\n",
      "Inf: 0.0188\tGen: 0.2761\tRec: 0.2750\tE: 0.0199\tR: 0.0176\tP: 0.5323\n",
      "--------------------Test Metrics------------------------\n",
      "accuracy: 0.8125\n",
      "precision: 0.4062\n",
      "recall: 0.5000\n",
      "f1_score: 0.4483\n",
      "\n"
     ]
    },
    {
     "data": {
      "application/vnd.jupyter.widget-view+json": {
       "model_id": "cfc1c658df5b4ea092b2e409579f365d",
       "version_major": 2,
       "version_minor": 0
      },
      "text/plain": [
       "Iterations:   0%|          | 0/45 [00:00<?, ?it/s]"
      ]
     },
     "metadata": {},
     "output_type": "display_data"
    },
    {
     "data": {
      "application/vnd.jupyter.widget-view+json": {
       "model_id": "9a10285caa2741c588fa9360aae78926",
       "version_major": 2,
       "version_minor": 0
      },
      "text/plain": [
       "Iterations:   0%|          | 0/45 [00:00<?, ?it/s]"
      ]
     },
     "metadata": {},
     "output_type": "display_data"
    },
    {
     "name": "stdout",
     "output_type": "stream",
     "text": [
      "[13/100][15/45][Time 9.54]\n",
      "Unified LR across all optimizers: 0.00019643135180405117\n",
      "--------------------Training Metrics--------------------\n",
      "CCNet:  Three Gpt\n",
      "Inf: 0.0171\tGen: 0.2583\tRec: 0.2568\tE: 0.0187\tR: 0.0155\tP: 0.4980\n",
      "--------------------Test Metrics------------------------\n",
      "accuracy: 0.8477\n",
      "precision: 0.4238\n",
      "recall: 0.5000\n",
      "f1_score: 0.4588\n",
      "\n"
     ]
    },
    {
     "data": {
      "application/vnd.jupyter.widget-view+json": {
       "model_id": "bf1f00c9cd6846be96928e7c96bd970a",
       "version_major": 2,
       "version_minor": 0
      },
      "text/plain": [
       "Iterations:   0%|          | 0/45 [00:00<?, ?it/s]"
      ]
     },
     "metadata": {},
     "output_type": "display_data"
    },
    {
     "data": {
      "application/vnd.jupyter.widget-view+json": {
       "model_id": "8a68b9e648e74caa8edb4a12e49bc78e",
       "version_major": 2,
       "version_minor": 0
      },
      "text/plain": [
       "Iterations:   0%|          | 0/45 [00:00<?, ?it/s]"
      ]
     },
     "metadata": {},
     "output_type": "display_data"
    },
    {
     "name": "stdout",
     "output_type": "stream",
     "text": [
      "[15/100][25/45][Time 10.39]\n",
      "Unified LR across all optimizers: 0.00019584377661232514\n",
      "--------------------Training Metrics--------------------\n",
      "CCNet:  Three Gpt\n",
      "Inf: 0.0142\tGen: 0.2496\tRec: 0.2491\tE: 0.0147\tR: 0.0136\tP: 0.4846\n",
      "--------------------Test Metrics------------------------\n",
      "accuracy: 0.8281\n",
      "precision: 0.4141\n",
      "recall: 0.5000\n",
      "f1_score: 0.4530\n",
      "\n"
     ]
    },
    {
     "data": {
      "application/vnd.jupyter.widget-view+json": {
       "model_id": "f97fecf2f83a4561906987dca5ff3936",
       "version_major": 2,
       "version_minor": 0
      },
      "text/plain": [
       "Iterations:   0%|          | 0/45 [00:00<?, ?it/s]"
      ]
     },
     "metadata": {},
     "output_type": "display_data"
    },
    {
     "data": {
      "application/vnd.jupyter.widget-view+json": {
       "model_id": "4f603dd25e3b444fb4e3404e163be4ca",
       "version_major": 2,
       "version_minor": 0
      },
      "text/plain": [
       "Iterations:   0%|          | 0/45 [00:00<?, ?it/s]"
      ]
     },
     "metadata": {},
     "output_type": "display_data"
    },
    {
     "name": "stdout",
     "output_type": "stream",
     "text": [
      "[17/100][35/45][Time 10.24]\n",
      "Unified LR across all optimizers: 0.00019525795900462422\n",
      "--------------------Training Metrics--------------------\n",
      "CCNet:  Three Gpt\n",
      "Inf: 0.0139\tGen: 0.2415\tRec: 0.2411\tE: 0.0143\tR: 0.0135\tP: 0.4687\n",
      "--------------------Test Metrics------------------------\n",
      "accuracy: 0.8203\n",
      "precision: 0.4102\n",
      "recall: 0.5000\n",
      "f1_score: 0.4506\n",
      "\n"
     ]
    },
    {
     "data": {
      "application/vnd.jupyter.widget-view+json": {
       "model_id": "7a5d6cf29a794336a9b02ab9dba90a53",
       "version_major": 2,
       "version_minor": 0
      },
      "text/plain": [
       "Iterations:   0%|          | 0/45 [00:00<?, ?it/s]"
      ]
     },
     "metadata": {},
     "output_type": "display_data"
    },
    {
     "data": {
      "application/vnd.jupyter.widget-view+json": {
       "model_id": "3fd1a08893044a9cbca823a6f3ec16f4",
       "version_major": 2,
       "version_minor": 0
      },
      "text/plain": [
       "Iterations:   0%|          | 0/45 [00:00<?, ?it/s]"
      ]
     },
     "metadata": {},
     "output_type": "display_data"
    },
    {
     "data": {
      "application/vnd.jupyter.widget-view+json": {
       "model_id": "658a587b1a8d460198b7ed8576e83768",
       "version_major": 2,
       "version_minor": 0
      },
      "text/plain": [
       "Iterations:   0%|          | 0/45 [00:00<?, ?it/s]"
      ]
     },
     "metadata": {},
     "output_type": "display_data"
    },
    {
     "name": "stdout",
     "output_type": "stream",
     "text": [
      "[20/100][0/45][Time 17.34]\n",
      "Unified LR across all optimizers: 0.00019467389372357586\n",
      "--------------------Training Metrics--------------------\n",
      "CCNet:  Three Gpt\n",
      "Inf: 0.0143\tGen: 0.2365\tRec: 0.2361\tE: 0.0148\tR: 0.0138\tP: 0.4583\n",
      "--------------------Test Metrics------------------------\n",
      "accuracy: 0.8320\n",
      "precision: 0.4160\n",
      "recall: 0.5000\n",
      "f1_score: 0.4542\n",
      "\n"
     ]
    },
    {
     "data": {
      "application/vnd.jupyter.widget-view+json": {
       "model_id": "1572f5fcc461429386390ee1af650b83",
       "version_major": 2,
       "version_minor": 0
      },
      "text/plain": [
       "Iterations:   0%|          | 0/45 [00:00<?, ?it/s]"
      ]
     },
     "metadata": {},
     "output_type": "display_data"
    },
    {
     "data": {
      "application/vnd.jupyter.widget-view+json": {
       "model_id": "bd7b637f6f1043579a0cc4850ce879cd",
       "version_major": 2,
       "version_minor": 0
      },
      "text/plain": [
       "Iterations:   0%|          | 0/45 [00:00<?, ?it/s]"
      ]
     },
     "metadata": {},
     "output_type": "display_data"
    },
    {
     "name": "stdout",
     "output_type": "stream",
     "text": [
      "[22/100][10/45][Time 20.05]\n",
      "Unified LR across all optimizers: 0.00019409157552753375\n",
      "--------------------Training Metrics--------------------\n",
      "CCNet:  Three Gpt\n",
      "Inf: 0.0129\tGen: 0.2297\tRec: 0.2297\tE: 0.0130\tR: 0.0129\tP: 0.4465\n",
      "--------------------Test Metrics------------------------\n",
      "accuracy: 0.8086\n",
      "precision: 0.4043\n",
      "recall: 0.5000\n",
      "f1_score: 0.4471\n",
      "\n"
     ]
    },
    {
     "data": {
      "application/vnd.jupyter.widget-view+json": {
       "model_id": "82adab3cb1e444019357e83093365e5c",
       "version_major": 2,
       "version_minor": 0
      },
      "text/plain": [
       "Iterations:   0%|          | 0/45 [00:00<?, ?it/s]"
      ]
     },
     "metadata": {},
     "output_type": "display_data"
    },
    {
     "data": {
      "application/vnd.jupyter.widget-view+json": {
       "model_id": "cf36d28ae71b40b8a5b26f9752e49fb7",
       "version_major": 2,
       "version_minor": 0
      },
      "text/plain": [
       "Iterations:   0%|          | 0/45 [00:00<?, ?it/s]"
      ]
     },
     "metadata": {},
     "output_type": "display_data"
    },
    {
     "name": "stdout",
     "output_type": "stream",
     "text": [
      "[24/100][20/45][Time 19.38]\n",
      "Unified LR across all optimizers: 0.00019351099919053054\n",
      "--------------------Training Metrics--------------------\n",
      "CCNet:  Three Gpt\n",
      "Inf: 0.0131\tGen: 0.2254\tRec: 0.2251\tE: 0.0134\tR: 0.0129\tP: 0.4374\n",
      "--------------------Test Metrics------------------------\n",
      "accuracy: 0.8125\n",
      "precision: 0.4062\n",
      "recall: 0.5000\n",
      "f1_score: 0.4483\n",
      "\n"
     ]
    },
    {
     "data": {
      "application/vnd.jupyter.widget-view+json": {
       "model_id": "31e97576c4e44a6c8534c07cb4d36d80",
       "version_major": 2,
       "version_minor": 0
      },
      "text/plain": [
       "Iterations:   0%|          | 0/45 [00:00<?, ?it/s]"
      ]
     },
     "metadata": {},
     "output_type": "display_data"
    },
    {
     "data": {
      "application/vnd.jupyter.widget-view+json": {
       "model_id": "accb28ede6ed4f759cf83fcabf837593",
       "version_major": 2,
       "version_minor": 0
      },
      "text/plain": [
       "Iterations:   0%|          | 0/45 [00:00<?, ?it/s]"
      ]
     },
     "metadata": {},
     "output_type": "display_data"
    },
    {
     "name": "stdout",
     "output_type": "stream",
     "text": [
      "[26/100][30/45][Time 22.62]\n",
      "Unified LR across all optimizers: 0.00019293215950223126\n",
      "--------------------Training Metrics--------------------\n",
      "CCNet:  Three Gpt\n",
      "Inf: 0.0125\tGen: 0.2196\tRec: 0.2195\tE: 0.0127\tR: 0.0124\tP: 0.4266\n",
      "--------------------Test Metrics------------------------\n",
      "accuracy: 0.7773\n",
      "precision: 0.3887\n",
      "recall: 0.5000\n",
      "f1_score: 0.4374\n",
      "\n"
     ]
    },
    {
     "data": {
      "application/vnd.jupyter.widget-view+json": {
       "model_id": "bfe32bc5cc1b4127bbc68b1025b3b920",
       "version_major": 2,
       "version_minor": 0
      },
      "text/plain": [
       "Iterations:   0%|          | 0/45 [00:00<?, ?it/s]"
      ]
     },
     "metadata": {},
     "output_type": "display_data"
    },
    {
     "data": {
      "application/vnd.jupyter.widget-view+json": {
       "model_id": "8a66181ba0b049ad88da23761c06a9be",
       "version_major": 2,
       "version_minor": 0
      },
      "text/plain": [
       "Iterations:   0%|          | 0/45 [00:00<?, ?it/s]"
      ]
     },
     "metadata": {},
     "output_type": "display_data"
    },
    {
     "name": "stdout",
     "output_type": "stream",
     "text": [
      "[28/100][40/45][Time 19.97]\n",
      "Unified LR across all optimizers: 0.00019235505126788632\n",
      "--------------------Training Metrics--------------------\n",
      "CCNet:  Three Gpt\n",
      "Inf: 0.0108\tGen: 0.2140\tRec: 0.2136\tE: 0.0112\tR: 0.0104\tP: 0.4168\n",
      "--------------------Test Metrics------------------------\n",
      "accuracy: 0.8359\n",
      "precision: 0.4180\n",
      "recall: 0.5000\n",
      "f1_score: 0.4553\n",
      "\n"
     ]
    },
    {
     "data": {
      "application/vnd.jupyter.widget-view+json": {
       "model_id": "b6092414a89c45cb9050454d3718849f",
       "version_major": 2,
       "version_minor": 0
      },
      "text/plain": [
       "Iterations:   0%|          | 0/45 [00:00<?, ?it/s]"
      ]
     },
     "metadata": {},
     "output_type": "display_data"
    },
    {
     "data": {
      "application/vnd.jupyter.widget-view+json": {
       "model_id": "d9ed0eb189fb42aa879bc768d29295ed",
       "version_major": 2,
       "version_minor": 0
      },
      "text/plain": [
       "Iterations:   0%|          | 0/45 [00:00<?, ?it/s]"
      ]
     },
     "metadata": {},
     "output_type": "display_data"
    },
    {
     "data": {
      "application/vnd.jupyter.widget-view+json": {
       "model_id": "18722c133a784c67a04b119f504180ae",
       "version_major": 2,
       "version_minor": 0
      },
      "text/plain": [
       "Iterations:   0%|          | 0/45 [00:00<?, ?it/s]"
      ]
     },
     "metadata": {},
     "output_type": "display_data"
    },
    {
     "name": "stdout",
     "output_type": "stream",
     "text": [
      "[31/100][5/45][Time 18.23]\n",
      "Unified LR across all optimizers: 0.0001917796693082847\n",
      "--------------------Training Metrics--------------------\n",
      "CCNet:  Three Gpt\n",
      "Inf: 0.0102\tGen: 0.2088\tRec: 0.2087\tE: 0.0104\tR: 0.0101\tP: 0.4073\n",
      "--------------------Test Metrics------------------------\n",
      "accuracy: 0.8516\n",
      "precision: 0.4258\n",
      "recall: 0.5000\n",
      "f1_score: 0.4599\n",
      "\n"
     ]
    },
    {
     "data": {
      "application/vnd.jupyter.widget-view+json": {
       "model_id": "2cc67921e4a9437db52a707a3b8f837f",
       "version_major": 2,
       "version_minor": 0
      },
      "text/plain": [
       "Iterations:   0%|          | 0/45 [00:00<?, ?it/s]"
      ]
     },
     "metadata": {},
     "output_type": "display_data"
    },
    {
     "data": {
      "application/vnd.jupyter.widget-view+json": {
       "model_id": "d791d849964a4832ab92cbcd55a07eae",
       "version_major": 2,
       "version_minor": 0
      },
      "text/plain": [
       "Iterations:   0%|          | 0/45 [00:00<?, ?it/s]"
      ]
     },
     "metadata": {},
     "output_type": "display_data"
    },
    {
     "name": "stdout",
     "output_type": "stream",
     "text": [
      "[33/100][15/45][Time 10.11]\n",
      "Unified LR across all optimizers: 0.00019120600845970806\n",
      "--------------------Training Metrics--------------------\n",
      "CCNet:  Three Gpt\n",
      "Inf: 0.0110\tGen: 0.2067\tRec: 0.2067\tE: 0.0110\tR: 0.0111\tP: 0.4023\n",
      "--------------------Test Metrics------------------------\n",
      "accuracy: 0.8164\n",
      "precision: 0.4082\n",
      "recall: 0.5000\n",
      "f1_score: 0.4495\n",
      "\n"
     ]
    },
    {
     "data": {
      "application/vnd.jupyter.widget-view+json": {
       "model_id": "e37d2111278247f19986ef03595e8998",
       "version_major": 2,
       "version_minor": 0
      },
      "text/plain": [
       "Iterations:   0%|          | 0/45 [00:00<?, ?it/s]"
      ]
     },
     "metadata": {},
     "output_type": "display_data"
    },
    {
     "data": {
      "application/vnd.jupyter.widget-view+json": {
       "model_id": "685a924af6d7461c917b9191709fffce",
       "version_major": 2,
       "version_minor": 0
      },
      "text/plain": [
       "Iterations:   0%|          | 0/45 [00:00<?, ?it/s]"
      ]
     },
     "metadata": {},
     "output_type": "display_data"
    },
    {
     "name": "stdout",
     "output_type": "stream",
     "text": [
      "[35/100][25/45][Time 10.26]\n",
      "Unified LR across all optimizers: 0.0001906340635738838\n",
      "--------------------Training Metrics--------------------\n",
      "CCNet:  Three Gpt\n",
      "Inf: 0.0104\tGen: 0.2040\tRec: 0.2040\tE: 0.0103\tR: 0.0104\tP: 0.3976\n",
      "--------------------Test Metrics------------------------\n",
      "accuracy: 0.8242\n",
      "precision: 0.4121\n",
      "recall: 0.5000\n",
      "f1_score: 0.4518\n",
      "\n"
     ]
    },
    {
     "data": {
      "application/vnd.jupyter.widget-view+json": {
       "model_id": "fb14cb6c260c43ac9c79c22deb9c5dd8",
       "version_major": 2,
       "version_minor": 0
      },
      "text/plain": [
       "Iterations:   0%|          | 0/45 [00:00<?, ?it/s]"
      ]
     },
     "metadata": {},
     "output_type": "display_data"
    },
    {
     "data": {
      "application/vnd.jupyter.widget-view+json": {
       "model_id": "60c198e752d34906b11a82c14ab3f9f1",
       "version_major": 2,
       "version_minor": 0
      },
      "text/plain": [
       "Iterations:   0%|          | 0/45 [00:00<?, ?it/s]"
      ]
     },
     "metadata": {},
     "output_type": "display_data"
    },
    {
     "name": "stdout",
     "output_type": "stream",
     "text": [
      "[37/100][35/45][Time 10.21]\n",
      "Unified LR across all optimizers: 0.000190063829517939\n",
      "--------------------Training Metrics--------------------\n",
      "CCNet:  Three Gpt\n",
      "Inf: 0.0100\tGen: 0.1984\tRec: 0.1985\tE: 0.0100\tR: 0.0100\tP: 0.3869\n",
      "--------------------Test Metrics------------------------\n",
      "accuracy: 0.8359\n",
      "precision: 0.4180\n",
      "recall: 0.5000\n",
      "f1_score: 0.4553\n",
      "\n"
     ]
    },
    {
     "data": {
      "application/vnd.jupyter.widget-view+json": {
       "model_id": "03c1eef9eacc4e7c9d42d43fe9bc1e72",
       "version_major": 2,
       "version_minor": 0
      },
      "text/plain": [
       "Iterations:   0%|          | 0/45 [00:00<?, ?it/s]"
      ]
     },
     "metadata": {},
     "output_type": "display_data"
    },
    {
     "data": {
      "application/vnd.jupyter.widget-view+json": {
       "model_id": "2b952c4ebb784e398f595b67110724a4",
       "version_major": 2,
       "version_minor": 0
      },
      "text/plain": [
       "Iterations:   0%|          | 0/45 [00:00<?, ?it/s]"
      ]
     },
     "metadata": {},
     "output_type": "display_data"
    },
    {
     "data": {
      "application/vnd.jupyter.widget-view+json": {
       "model_id": "a4571f159ede470ea3c3699b6edf9c56",
       "version_major": 2,
       "version_minor": 0
      },
      "text/plain": [
       "Iterations:   0%|          | 0/45 [00:00<?, ?it/s]"
      ]
     },
     "metadata": {},
     "output_type": "display_data"
    },
    {
     "name": "stdout",
     "output_type": "stream",
     "text": [
      "[40/100][0/45][Time 10.25]\n",
      "Unified LR across all optimizers: 0.00018949530117435472\n",
      "--------------------Training Metrics--------------------\n",
      "CCNet:  Three Gpt\n",
      "Inf: 0.0100\tGen: 0.1981\tRec: 0.1981\tE: 0.0100\tR: 0.0100\tP: 0.3862\n",
      "--------------------Test Metrics------------------------\n",
      "accuracy: 0.8477\n",
      "precision: 0.4238\n",
      "recall: 0.5000\n",
      "f1_score: 0.4588\n",
      "\n"
     ]
    },
    {
     "data": {
      "application/vnd.jupyter.widget-view+json": {
       "model_id": "3f91fb1fe5234613a7724e2bc7df8229",
       "version_major": 2,
       "version_minor": 0
      },
      "text/plain": [
       "Iterations:   0%|          | 0/45 [00:00<?, ?it/s]"
      ]
     },
     "metadata": {},
     "output_type": "display_data"
    },
    {
     "data": {
      "application/vnd.jupyter.widget-view+json": {
       "model_id": "d13e00a1228949d78d0c1e4a2f49700e",
       "version_major": 2,
       "version_minor": 0
      },
      "text/plain": [
       "Iterations:   0%|          | 0/45 [00:00<?, ?it/s]"
      ]
     },
     "metadata": {},
     "output_type": "display_data"
    },
    {
     "name": "stdout",
     "output_type": "stream",
     "text": [
      "[42/100][10/45][Time 9.89]\n",
      "Unified LR across all optimizers: 0.00018892847344091938\n",
      "--------------------Training Metrics--------------------\n",
      "CCNet:  Three Gpt\n",
      "Inf: 0.0106\tGen: 0.1955\tRec: 0.1955\tE: 0.0106\tR: 0.0105\tP: 0.3804\n",
      "--------------------Test Metrics------------------------\n",
      "accuracy: 0.8281\n",
      "precision: 0.4141\n",
      "recall: 0.5000\n",
      "f1_score: 0.4530\n",
      "\n"
     ]
    },
    {
     "data": {
      "application/vnd.jupyter.widget-view+json": {
       "model_id": "d4f6194e376042f28ebd7b37d0defbbd",
       "version_major": 2,
       "version_minor": 0
      },
      "text/plain": [
       "Iterations:   0%|          | 0/45 [00:00<?, ?it/s]"
      ]
     },
     "metadata": {},
     "output_type": "display_data"
    },
    {
     "data": {
      "application/vnd.jupyter.widget-view+json": {
       "model_id": "1cc5ac027204471083013a1da2e09acf",
       "version_major": 2,
       "version_minor": 0
      },
      "text/plain": [
       "Iterations:   0%|          | 0/45 [00:00<?, ?it/s]"
      ]
     },
     "metadata": {},
     "output_type": "display_data"
    },
    {
     "name": "stdout",
     "output_type": "stream",
     "text": [
      "[44/100][20/45][Time 10.05]\n",
      "Unified LR across all optimizers: 0.00018836334123068405\n",
      "--------------------Training Metrics--------------------\n",
      "CCNet:  Three Gpt\n",
      "Inf: 0.0098\tGen: 0.1928\tRec: 0.1929\tE: 0.0098\tR: 0.0099\tP: 0.3758\n",
      "--------------------Test Metrics------------------------\n",
      "accuracy: 0.8164\n",
      "precision: 0.4082\n",
      "recall: 0.5000\n",
      "f1_score: 0.4495\n",
      "\n"
     ]
    },
    {
     "data": {
      "application/vnd.jupyter.widget-view+json": {
       "model_id": "170812282a744723aa92dca3b62146e1",
       "version_major": 2,
       "version_minor": 0
      },
      "text/plain": [
       "Iterations:   0%|          | 0/45 [00:00<?, ?it/s]"
      ]
     },
     "metadata": {},
     "output_type": "display_data"
    },
    {
     "data": {
      "application/vnd.jupyter.widget-view+json": {
       "model_id": "1b113a4b14a14af7a9eeefd9f695d6b6",
       "version_major": 2,
       "version_minor": 0
      },
      "text/plain": [
       "Iterations:   0%|          | 0/45 [00:00<?, ?it/s]"
      ]
     },
     "metadata": {},
     "output_type": "display_data"
    },
    {
     "name": "stdout",
     "output_type": "stream",
     "text": [
      "[46/100][30/45][Time 9.85]\n",
      "Unified LR across all optimizers: 0.0001877998994719154\n",
      "--------------------Training Metrics--------------------\n",
      "CCNet:  Three Gpt\n",
      "Inf: 0.0089\tGen: 0.1900\tRec: 0.1901\tE: 0.0089\tR: 0.0090\tP: 0.3712\n",
      "--------------------Test Metrics------------------------\n",
      "accuracy: 0.8477\n",
      "precision: 0.4238\n",
      "recall: 0.5000\n",
      "f1_score: 0.4588\n",
      "\n"
     ]
    },
    {
     "data": {
      "application/vnd.jupyter.widget-view+json": {
       "model_id": "a3649019e52a4ca8841d6828de1632a7",
       "version_major": 2,
       "version_minor": 0
      },
      "text/plain": [
       "Iterations:   0%|          | 0/45 [00:00<?, ?it/s]"
      ]
     },
     "metadata": {},
     "output_type": "display_data"
    },
    {
     "data": {
      "application/vnd.jupyter.widget-view+json": {
       "model_id": "3e22ff3d13594c09a7105c9490228cdf",
       "version_major": 2,
       "version_minor": 0
      },
      "text/plain": [
       "Iterations:   0%|          | 0/45 [00:00<?, ?it/s]"
      ]
     },
     "metadata": {},
     "output_type": "display_data"
    },
    {
     "name": "stdout",
     "output_type": "stream",
     "text": [
      "[48/100][40/45][Time 9.91]\n",
      "Unified LR across all optimizers: 0.00018723814310805145\n",
      "--------------------Training Metrics--------------------\n",
      "CCNet:  Three Gpt\n",
      "Inf: 0.0090\tGen: 0.1860\tRec: 0.1862\tE: 0.0088\tR: 0.0093\tP: 0.3632\n",
      "--------------------Test Metrics------------------------\n",
      "accuracy: 0.8242\n",
      "precision: 0.4121\n",
      "recall: 0.5000\n",
      "f1_score: 0.4518\n",
      "\n"
     ]
    },
    {
     "data": {
      "application/vnd.jupyter.widget-view+json": {
       "model_id": "123d5bb629ee418eb257d4db6f6409fd",
       "version_major": 2,
       "version_minor": 0
      },
      "text/plain": [
       "Iterations:   0%|          | 0/45 [00:00<?, ?it/s]"
      ]
     },
     "metadata": {},
     "output_type": "display_data"
    },
    {
     "data": {
      "application/vnd.jupyter.widget-view+json": {
       "model_id": "d6761b63242441f5be540e7e4f56b3f9",
       "version_major": 2,
       "version_minor": 0
      },
      "text/plain": [
       "Iterations:   0%|          | 0/45 [00:00<?, ?it/s]"
      ]
     },
     "metadata": {},
     "output_type": "display_data"
    },
    {
     "data": {
      "application/vnd.jupyter.widget-view+json": {
       "model_id": "e0754d7a93634ca68790071883463ca3",
       "version_major": 2,
       "version_minor": 0
      },
      "text/plain": [
       "Iterations:   0%|          | 0/45 [00:00<?, ?it/s]"
      ]
     },
     "metadata": {},
     "output_type": "display_data"
    },
    {
     "name": "stdout",
     "output_type": "stream",
     "text": [
      "[51/100][5/45][Time 10.22]\n",
      "Unified LR across all optimizers: 0.00018667806709765522\n",
      "--------------------Training Metrics--------------------\n",
      "CCNet:  Three Gpt\n",
      "Inf: 0.0099\tGen: 0.1897\tRec: 0.1897\tE: 0.0099\tR: 0.0099\tP: 0.3694\n",
      "--------------------Test Metrics------------------------\n",
      "accuracy: 0.8008\n",
      "precision: 0.4004\n",
      "recall: 0.5000\n",
      "f1_score: 0.4447\n",
      "\n"
     ]
    },
    {
     "data": {
      "application/vnd.jupyter.widget-view+json": {
       "model_id": "2ecfade8ac25445788b746793d90cb8d",
       "version_major": 2,
       "version_minor": 0
      },
      "text/plain": [
       "Iterations:   0%|          | 0/45 [00:00<?, ?it/s]"
      ]
     },
     "metadata": {},
     "output_type": "display_data"
    },
    {
     "data": {
      "application/vnd.jupyter.widget-view+json": {
       "model_id": "eaebdede01de498f8af9dd4b9ed86d33",
       "version_major": 2,
       "version_minor": 0
      },
      "text/plain": [
       "Iterations:   0%|          | 0/45 [00:00<?, ?it/s]"
      ]
     },
     "metadata": {},
     "output_type": "display_data"
    },
    {
     "name": "stdout",
     "output_type": "stream",
     "text": [
      "[53/100][15/45][Time 10.31]\n",
      "Unified LR across all optimizers: 0.00018611966641437044\n",
      "--------------------Training Metrics--------------------\n",
      "CCNet:  Three Gpt\n",
      "Inf: 0.0090\tGen: 0.1845\tRec: 0.1845\tE: 0.0090\tR: 0.0089\tP: 0.3600\n",
      "--------------------Test Metrics------------------------\n",
      "accuracy: 0.8164\n",
      "precision: 0.4082\n",
      "recall: 0.5000\n",
      "f1_score: 0.4495\n",
      "\n"
     ]
    },
    {
     "data": {
      "application/vnd.jupyter.widget-view+json": {
       "model_id": "603dd6e3585b4c8e9e7aca97b613e25d",
       "version_major": 2,
       "version_minor": 0
      },
      "text/plain": [
       "Iterations:   0%|          | 0/45 [00:00<?, ?it/s]"
      ]
     },
     "metadata": {},
     "output_type": "display_data"
    },
    {
     "data": {
      "application/vnd.jupyter.widget-view+json": {
       "model_id": "ebc636a96ad34165bae33af6ecc85ee3",
       "version_major": 2,
       "version_minor": 0
      },
      "text/plain": [
       "Iterations:   0%|          | 0/45 [00:00<?, ?it/s]"
      ]
     },
     "metadata": {},
     "output_type": "display_data"
    },
    {
     "name": "stdout",
     "output_type": "stream",
     "text": [
      "[55/100][25/45][Time 10.17]\n",
      "Unified LR across all optimizers: 0.00018556293604687557\n",
      "--------------------Training Metrics--------------------\n",
      "CCNet:  Three Gpt\n",
      "Inf: 0.0089\tGen: 0.1843\tRec: 0.1844\tE: 0.0089\tR: 0.0089\tP: 0.3598\n",
      "--------------------Test Metrics------------------------\n",
      "accuracy: 0.8203\n",
      "precision: 0.4102\n",
      "recall: 0.5000\n",
      "f1_score: 0.4506\n",
      "\n"
     ]
    },
    {
     "data": {
      "application/vnd.jupyter.widget-view+json": {
       "model_id": "76b4d63e87314e80b9eee0903e3a82ce",
       "version_major": 2,
       "version_minor": 0
      },
      "text/plain": [
       "Iterations:   0%|          | 0/45 [00:00<?, ?it/s]"
      ]
     },
     "metadata": {},
     "output_type": "display_data"
    },
    {
     "data": {
      "application/vnd.jupyter.widget-view+json": {
       "model_id": "a51c6e3be23f4b7883e04520e4acf894",
       "version_major": 2,
       "version_minor": 0
      },
      "text/plain": [
       "Iterations:   0%|          | 0/45 [00:00<?, ?it/s]"
      ]
     },
     "metadata": {},
     "output_type": "display_data"
    },
    {
     "name": "stdout",
     "output_type": "stream",
     "text": [
      "[57/100][35/45][Time 9.93]\n",
      "Unified LR across all optimizers: 0.00018500787099883916\n",
      "--------------------Training Metrics--------------------\n",
      "CCNet:  Three Gpt\n",
      "Inf: 0.0088\tGen: 0.1834\tRec: 0.1836\tE: 0.0086\tR: 0.0091\tP: 0.3581\n",
      "--------------------Test Metrics------------------------\n",
      "accuracy: 0.8086\n",
      "precision: 0.4043\n",
      "recall: 0.5000\n",
      "f1_score: 0.4471\n",
      "\n"
     ]
    },
    {
     "data": {
      "application/vnd.jupyter.widget-view+json": {
       "model_id": "829b0789fcea4d1cba66944086eab958",
       "version_major": 2,
       "version_minor": 0
      },
      "text/plain": [
       "Iterations:   0%|          | 0/45 [00:00<?, ?it/s]"
      ]
     },
     "metadata": {},
     "output_type": "display_data"
    },
    {
     "data": {
      "application/vnd.jupyter.widget-view+json": {
       "model_id": "f5c73abaf196479e892f971941f11e00",
       "version_major": 2,
       "version_minor": 0
      },
      "text/plain": [
       "Iterations:   0%|          | 0/45 [00:00<?, ?it/s]"
      ]
     },
     "metadata": {},
     "output_type": "display_data"
    },
    {
     "data": {
      "application/vnd.jupyter.widget-view+json": {
       "model_id": "114253cf64664a1b8f8f36bac4734a93",
       "version_major": 2,
       "version_minor": 0
      },
      "text/plain": [
       "Iterations:   0%|          | 0/45 [00:00<?, ?it/s]"
      ]
     },
     "metadata": {},
     "output_type": "display_data"
    },
    {
     "name": "stdout",
     "output_type": "stream",
     "text": [
      "[60/100][0/45][Time 10.23]\n",
      "Unified LR across all optimizers: 0.00018445446628887513\n",
      "--------------------Training Metrics--------------------\n",
      "CCNet:  Three Gpt\n",
      "Inf: 0.0086\tGen: 0.1777\tRec: 0.1780\tE: 0.0083\tR: 0.0089\tP: 0.3471\n",
      "--------------------Test Metrics------------------------\n",
      "accuracy: 0.8242\n",
      "precision: 0.4121\n",
      "recall: 0.5000\n",
      "f1_score: 0.4518\n",
      "\n"
     ]
    },
    {
     "data": {
      "application/vnd.jupyter.widget-view+json": {
       "model_id": "68e6b352bee04a68a573860d29370db4",
       "version_major": 2,
       "version_minor": 0
      },
      "text/plain": [
       "Iterations:   0%|          | 0/45 [00:00<?, ?it/s]"
      ]
     },
     "metadata": {},
     "output_type": "display_data"
    },
    {
     "data": {
      "application/vnd.jupyter.widget-view+json": {
       "model_id": "73f41a1ca5bf4d83be874dd9bff09857",
       "version_major": 2,
       "version_minor": 0
      },
      "text/plain": [
       "Iterations:   0%|          | 0/45 [00:00<?, ?it/s]"
      ]
     },
     "metadata": {},
     "output_type": "display_data"
    },
    {
     "name": "stdout",
     "output_type": "stream",
     "text": [
      "[62/100][10/45][Time 10.14]\n",
      "Unified LR across all optimizers: 0.00018390271695049802\n",
      "--------------------Training Metrics--------------------\n",
      "CCNet:  Three Gpt\n",
      "Inf: 0.0080\tGen: 0.1774\tRec: 0.1778\tE: 0.0076\tR: 0.0084\tP: 0.3472\n",
      "--------------------Test Metrics------------------------\n",
      "accuracy: 0.8438\n",
      "precision: 0.4219\n",
      "recall: 0.5000\n",
      "f1_score: 0.4576\n",
      "\n"
     ]
    },
    {
     "data": {
      "application/vnd.jupyter.widget-view+json": {
       "model_id": "252770708cb54875b9a7ee539bf559ae",
       "version_major": 2,
       "version_minor": 0
      },
      "text/plain": [
       "Iterations:   0%|          | 0/45 [00:00<?, ?it/s]"
      ]
     },
     "metadata": {},
     "output_type": "display_data"
    },
    {
     "data": {
      "application/vnd.jupyter.widget-view+json": {
       "model_id": "f436e385e7a947559996bdeea80136f2",
       "version_major": 2,
       "version_minor": 0
      },
      "text/plain": [
       "Iterations:   0%|          | 0/45 [00:00<?, ?it/s]"
      ]
     },
     "metadata": {},
     "output_type": "display_data"
    },
    {
     "name": "stdout",
     "output_type": "stream",
     "text": [
      "[64/100][20/45][Time 10.05]\n",
      "Unified LR across all optimizers: 0.00018335261803207844\n",
      "--------------------Training Metrics--------------------\n",
      "CCNet:  Three Gpt\n",
      "Inf: 0.0080\tGen: 0.1753\tRec: 0.1754\tE: 0.0079\tR: 0.0082\tP: 0.3427\n",
      "--------------------Test Metrics------------------------\n",
      "accuracy: 0.8281\n",
      "precision: 0.4141\n",
      "recall: 0.5000\n",
      "f1_score: 0.4530\n",
      "\n"
     ]
    },
    {
     "data": {
      "application/vnd.jupyter.widget-view+json": {
       "model_id": "d406f0bfeb5048a89c05889d5e79a086",
       "version_major": 2,
       "version_minor": 0
      },
      "text/plain": [
       "Iterations:   0%|          | 0/45 [00:00<?, ?it/s]"
      ]
     },
     "metadata": {},
     "output_type": "display_data"
    },
    {
     "data": {
      "application/vnd.jupyter.widget-view+json": {
       "model_id": "bb28b8180dae46ca9cc5dd527aff205a",
       "version_major": 2,
       "version_minor": 0
      },
      "text/plain": [
       "Iterations:   0%|          | 0/45 [00:00<?, ?it/s]"
      ]
     },
     "metadata": {},
     "output_type": "display_data"
    },
    {
     "name": "stdout",
     "output_type": "stream",
     "text": [
      "[66/100][30/45][Time 10.24]\n",
      "Unified LR across all optimizers: 0.00018280416459679836\n",
      "--------------------Training Metrics--------------------\n",
      "CCNet:  Three Gpt\n",
      "Inf: 0.0081\tGen: 0.1788\tRec: 0.1791\tE: 0.0079\tR: 0.0084\tP: 0.3498\n",
      "--------------------Test Metrics------------------------\n",
      "accuracy: 0.8359\n",
      "precision: 0.4180\n",
      "recall: 0.5000\n",
      "f1_score: 0.4553\n",
      "\n"
     ]
    },
    {
     "data": {
      "application/vnd.jupyter.widget-view+json": {
       "model_id": "f26da9c2c7b649bbace1bf8482abe283",
       "version_major": 2,
       "version_minor": 0
      },
      "text/plain": [
       "Iterations:   0%|          | 0/45 [00:00<?, ?it/s]"
      ]
     },
     "metadata": {},
     "output_type": "display_data"
    },
    {
     "data": {
      "application/vnd.jupyter.widget-view+json": {
       "model_id": "ed24dbabe92e4ce78b8413128443b96e",
       "version_major": 2,
       "version_minor": 0
      },
      "text/plain": [
       "Iterations:   0%|          | 0/45 [00:00<?, ?it/s]"
      ]
     },
     "metadata": {},
     "output_type": "display_data"
    },
    {
     "name": "stdout",
     "output_type": "stream",
     "text": [
      "[68/100][40/45][Time 10.26]\n",
      "Unified LR across all optimizers: 0.000182257351722607\n",
      "--------------------Training Metrics--------------------\n",
      "CCNet:  Three Gpt\n",
      "Inf: 0.0086\tGen: 0.1722\tRec: 0.1723\tE: 0.0084\tR: 0.0087\tP: 0.3359\n",
      "--------------------Test Metrics------------------------\n",
      "accuracy: 0.7812\n",
      "precision: 0.3906\n",
      "recall: 0.5000\n",
      "f1_score: 0.4386\n",
      "\n"
     ]
    },
    {
     "data": {
      "application/vnd.jupyter.widget-view+json": {
       "model_id": "a8f2e4ed85924346bd2928df90db0293",
       "version_major": 2,
       "version_minor": 0
      },
      "text/plain": [
       "Iterations:   0%|          | 0/45 [00:00<?, ?it/s]"
      ]
     },
     "metadata": {},
     "output_type": "display_data"
    },
    {
     "data": {
      "application/vnd.jupyter.widget-view+json": {
       "model_id": "eb596afa95c8415585dd872f175b590e",
       "version_major": 2,
       "version_minor": 0
      },
      "text/plain": [
       "Iterations:   0%|          | 0/45 [00:00<?, ?it/s]"
      ]
     },
     "metadata": {},
     "output_type": "display_data"
    },
    {
     "data": {
      "application/vnd.jupyter.widget-view+json": {
       "model_id": "1b18222090cc416fb47a6901036277ad",
       "version_major": 2,
       "version_minor": 0
      },
      "text/plain": [
       "Iterations:   0%|          | 0/45 [00:00<?, ?it/s]"
      ]
     },
     "metadata": {},
     "output_type": "display_data"
    },
    {
     "name": "stdout",
     "output_type": "stream",
     "text": [
      "[71/100][5/45][Time 10.20]\n",
      "Unified LR across all optimizers: 0.00018171217450217676\n",
      "--------------------Training Metrics--------------------\n",
      "CCNet:  Three Gpt\n",
      "Inf: 0.0077\tGen: 0.1747\tRec: 0.1749\tE: 0.0075\tR: 0.0080\tP: 0.3418\n",
      "--------------------Test Metrics------------------------\n",
      "accuracy: 0.8125\n",
      "precision: 0.4062\n",
      "recall: 0.5000\n",
      "f1_score: 0.4483\n",
      "\n"
     ]
    },
    {
     "data": {
      "application/vnd.jupyter.widget-view+json": {
       "model_id": "a41e1978ad884774a4f51c20073b3336",
       "version_major": 2,
       "version_minor": 0
      },
      "text/plain": [
       "Iterations:   0%|          | 0/45 [00:00<?, ?it/s]"
      ]
     },
     "metadata": {},
     "output_type": "display_data"
    },
    {
     "data": {
      "application/vnd.jupyter.widget-view+json": {
       "model_id": "1ad71815eebb4b0c8e4c01cf6db04381",
       "version_major": 2,
       "version_minor": 0
      },
      "text/plain": [
       "Iterations:   0%|          | 0/45 [00:00<?, ?it/s]"
      ]
     },
     "metadata": {},
     "output_type": "display_data"
    },
    {
     "name": "stdout",
     "output_type": "stream",
     "text": [
      "[73/100][15/45][Time 9.79]\n",
      "Unified LR across all optimizers: 0.00018116862804285912\n",
      "--------------------Training Metrics--------------------\n",
      "CCNet:  Three Gpt\n",
      "Inf: 0.0080\tGen: 0.1714\tRec: 0.1718\tE: 0.0076\tR: 0.0084\tP: 0.3351\n",
      "--------------------Test Metrics------------------------\n",
      "accuracy: 0.8438\n",
      "precision: 0.4219\n",
      "recall: 0.5000\n",
      "f1_score: 0.4576\n",
      "\n"
     ]
    },
    {
     "data": {
      "application/vnd.jupyter.widget-view+json": {
       "model_id": "2fb633ebe7154fe3b9ff1ae17928d412",
       "version_major": 2,
       "version_minor": 0
      },
      "text/plain": [
       "Iterations:   0%|          | 0/45 [00:00<?, ?it/s]"
      ]
     },
     "metadata": {},
     "output_type": "display_data"
    },
    {
     "data": {
      "application/vnd.jupyter.widget-view+json": {
       "model_id": "43f937fbf8d944dba459882de60fe06d",
       "version_major": 2,
       "version_minor": 0
      },
      "text/plain": [
       "Iterations:   0%|          | 0/45 [00:00<?, ?it/s]"
      ]
     },
     "metadata": {},
     "output_type": "display_data"
    },
    {
     "name": "stdout",
     "output_type": "stream",
     "text": [
      "[75/100][25/45][Time 10.28]\n",
      "Unified LR across all optimizers: 0.0001806267074666406\n",
      "--------------------Training Metrics--------------------\n",
      "CCNet:  Three Gpt\n",
      "Inf: 0.0083\tGen: 0.1695\tRec: 0.1699\tE: 0.0079\tR: 0.0087\tP: 0.3311\n",
      "--------------------Test Metrics------------------------\n",
      "accuracy: 0.8477\n",
      "precision: 0.4238\n",
      "recall: 0.5000\n",
      "f1_score: 0.4588\n",
      "\n"
     ]
    },
    {
     "data": {
      "application/vnd.jupyter.widget-view+json": {
       "model_id": "f0f0feefc19646f58a965579662bac1e",
       "version_major": 2,
       "version_minor": 0
      },
      "text/plain": [
       "Iterations:   0%|          | 0/45 [00:00<?, ?it/s]"
      ]
     },
     "metadata": {},
     "output_type": "display_data"
    },
    {
     "data": {
      "application/vnd.jupyter.widget-view+json": {
       "model_id": "ea5f5ae8f57c42f8b3f203d7d015453c",
       "version_major": 2,
       "version_minor": 0
      },
      "text/plain": [
       "Iterations:   0%|          | 0/45 [00:00<?, ?it/s]"
      ]
     },
     "metadata": {},
     "output_type": "display_data"
    },
    {
     "name": "stdout",
     "output_type": "stream",
     "text": [
      "[77/100][35/45][Time 9.63]\n",
      "Unified LR across all optimizers: 0.00018008640791009926\n",
      "--------------------Training Metrics--------------------\n",
      "CCNet:  Three Gpt\n",
      "Inf: 0.0079\tGen: 0.1685\tRec: 0.1687\tE: 0.0077\tR: 0.0081\tP: 0.3294\n",
      "--------------------Test Metrics------------------------\n",
      "accuracy: 0.8047\n",
      "precision: 0.4023\n",
      "recall: 0.5000\n",
      "f1_score: 0.4459\n",
      "\n"
     ]
    },
    {
     "data": {
      "application/vnd.jupyter.widget-view+json": {
       "model_id": "29886c5c89454eada48a8abf4cd1f211",
       "version_major": 2,
       "version_minor": 0
      },
      "text/plain": [
       "Iterations:   0%|          | 0/45 [00:00<?, ?it/s]"
      ]
     },
     "metadata": {},
     "output_type": "display_data"
    },
    {
     "data": {
      "application/vnd.jupyter.widget-view+json": {
       "model_id": "b00f5ee5beef469281e503ab24819e61",
       "version_major": 2,
       "version_minor": 0
      },
      "text/plain": [
       "Iterations:   0%|          | 0/45 [00:00<?, ?it/s]"
      ]
     },
     "metadata": {},
     "output_type": "display_data"
    },
    {
     "data": {
      "application/vnd.jupyter.widget-view+json": {
       "model_id": "9fbd77c8b20c480b85375b902a86d759",
       "version_major": 2,
       "version_minor": 0
      },
      "text/plain": [
       "Iterations:   0%|          | 0/45 [00:00<?, ?it/s]"
      ]
     },
     "metadata": {},
     "output_type": "display_data"
    },
    {
     "name": "stdout",
     "output_type": "stream",
     "text": [
      "[80/100][0/45][Time 9.07]\n",
      "Unified LR across all optimizers: 0.0001795477245243606\n",
      "--------------------Training Metrics--------------------\n",
      "CCNet:  Three Gpt\n",
      "Inf: 0.0075\tGen: 0.1685\tRec: 0.1687\tE: 0.0074\tR: 0.0077\tP: 0.3296\n",
      "--------------------Test Metrics------------------------\n",
      "accuracy: 0.8242\n",
      "precision: 0.4121\n",
      "recall: 0.5000\n",
      "f1_score: 0.4518\n",
      "\n"
     ]
    },
    {
     "data": {
      "application/vnd.jupyter.widget-view+json": {
       "model_id": "de8a63743be041ff8038baa969889a10",
       "version_major": 2,
       "version_minor": 0
      },
      "text/plain": [
       "Iterations:   0%|          | 0/45 [00:00<?, ?it/s]"
      ]
     },
     "metadata": {},
     "output_type": "display_data"
    },
    {
     "data": {
      "application/vnd.jupyter.widget-view+json": {
       "model_id": "fabf17c3980a477bb901eb7ab0abcecc",
       "version_major": 2,
       "version_minor": 0
      },
      "text/plain": [
       "Iterations:   0%|          | 0/45 [00:00<?, ?it/s]"
      ]
     },
     "metadata": {},
     "output_type": "display_data"
    },
    {
     "name": "stdout",
     "output_type": "stream",
     "text": [
      "[82/100][10/45][Time 9.08]\n",
      "Unified LR across all optimizers: 0.00017901065247505463\n",
      "--------------------Training Metrics--------------------\n",
      "CCNet:  Three Gpt\n",
      "Inf: 0.0084\tGen: 0.1698\tRec: 0.1704\tE: 0.0078\tR: 0.0090\tP: 0.3318\n",
      "--------------------Test Metrics------------------------\n",
      "accuracy: 0.8320\n",
      "precision: 0.4160\n",
      "recall: 0.5000\n",
      "f1_score: 0.4542\n",
      "\n"
     ]
    },
    {
     "data": {
      "application/vnd.jupyter.widget-view+json": {
       "model_id": "4b6c3d5f125d4cf58b2f94b4c5fee07e",
       "version_major": 2,
       "version_minor": 0
      },
      "text/plain": [
       "Iterations:   0%|          | 0/45 [00:00<?, ?it/s]"
      ]
     },
     "metadata": {},
     "output_type": "display_data"
    },
    {
     "data": {
      "application/vnd.jupyter.widget-view+json": {
       "model_id": "d90b8d1a15e14c31a2db73ac4e22f87f",
       "version_major": 2,
       "version_minor": 0
      },
      "text/plain": [
       "Iterations:   0%|          | 0/45 [00:00<?, ?it/s]"
      ]
     },
     "metadata": {},
     "output_type": "display_data"
    },
    {
     "name": "stdout",
     "output_type": "stream",
     "text": [
      "[84/100][20/45][Time 9.35]\n",
      "Unified LR across all optimizers: 0.0001784751869422717\n",
      "--------------------Training Metrics--------------------\n",
      "CCNet:  Three Gpt\n",
      "Inf: 0.0081\tGen: 0.1665\tRec: 0.1670\tE: 0.0076\tR: 0.0086\tP: 0.3254\n",
      "--------------------Test Metrics------------------------\n",
      "accuracy: 0.8516\n",
      "precision: 0.4258\n",
      "recall: 0.5000\n",
      "f1_score: 0.4599\n",
      "\n"
     ]
    },
    {
     "data": {
      "application/vnd.jupyter.widget-view+json": {
       "model_id": "d28c2dbf2eae48798197e80e5032c6af",
       "version_major": 2,
       "version_minor": 0
      },
      "text/plain": [
       "Iterations:   0%|          | 0/45 [00:00<?, ?it/s]"
      ]
     },
     "metadata": {},
     "output_type": "display_data"
    },
    {
     "data": {
      "application/vnd.jupyter.widget-view+json": {
       "model_id": "2f93fbb85b6a4b59b787f446a99648c1",
       "version_major": 2,
       "version_minor": 0
      },
      "text/plain": [
       "Iterations:   0%|          | 0/45 [00:00<?, ?it/s]"
      ]
     },
     "metadata": {},
     "output_type": "display_data"
    },
    {
     "name": "stdout",
     "output_type": "stream",
     "text": [
      "[86/100][30/45][Time 9.37]\n",
      "Unified LR across all optimizers: 0.0001779413231205201\n",
      "--------------------Training Metrics--------------------\n",
      "CCNet:  Three Gpt\n",
      "Inf: 0.0074\tGen: 0.1672\tRec: 0.1676\tE: 0.0070\tR: 0.0079\tP: 0.3273\n",
      "--------------------Test Metrics------------------------\n",
      "accuracy: 0.8516\n",
      "precision: 0.4258\n",
      "recall: 0.5000\n",
      "f1_score: 0.4599\n",
      "\n"
     ]
    },
    {
     "data": {
      "application/vnd.jupyter.widget-view+json": {
       "model_id": "f764acc2c2734b95a82a91f8b69acf26",
       "version_major": 2,
       "version_minor": 0
      },
      "text/plain": [
       "Iterations:   0%|          | 0/45 [00:00<?, ?it/s]"
      ]
     },
     "metadata": {},
     "output_type": "display_data"
    },
    {
     "data": {
      "application/vnd.jupyter.widget-view+json": {
       "model_id": "a5774847e8274822991d46dcb8b2c100",
       "version_major": 2,
       "version_minor": 0
      },
      "text/plain": [
       "Iterations:   0%|          | 0/45 [00:00<?, ?it/s]"
      ]
     },
     "metadata": {},
     "output_type": "display_data"
    },
    {
     "name": "stdout",
     "output_type": "stream",
     "text": [
      "[88/100][40/45][Time 10.31]\n",
      "Unified LR across all optimizers: 0.00017740905621868258\n",
      "--------------------Training Metrics--------------------\n",
      "CCNet:  Three Gpt\n",
      "Inf: 0.0076\tGen: 0.1665\tRec: 0.1670\tE: 0.0071\tR: 0.0081\tP: 0.3259\n",
      "--------------------Test Metrics------------------------\n",
      "accuracy: 0.7852\n",
      "precision: 0.3926\n",
      "recall: 0.5000\n",
      "f1_score: 0.4398\n",
      "\n"
     ]
    },
    {
     "data": {
      "application/vnd.jupyter.widget-view+json": {
       "model_id": "11ee9320d27c4bfb87ec665e633508ad",
       "version_major": 2,
       "version_minor": 0
      },
      "text/plain": [
       "Iterations:   0%|          | 0/45 [00:00<?, ?it/s]"
      ]
     },
     "metadata": {},
     "output_type": "display_data"
    },
    {
     "data": {
      "application/vnd.jupyter.widget-view+json": {
       "model_id": "d236bba6181f488cae6cc3694e0183b0",
       "version_major": 2,
       "version_minor": 0
      },
      "text/plain": [
       "Iterations:   0%|          | 0/45 [00:00<?, ?it/s]"
      ]
     },
     "metadata": {},
     "output_type": "display_data"
    },
    {
     "data": {
      "application/vnd.jupyter.widget-view+json": {
       "model_id": "4d8eebc571c047eca96009ca16623024",
       "version_major": 2,
       "version_minor": 0
      },
      "text/plain": [
       "Iterations:   0%|          | 0/45 [00:00<?, ?it/s]"
      ]
     },
     "metadata": {},
     "output_type": "display_data"
    },
    {
     "name": "stdout",
     "output_type": "stream",
     "text": [
      "[91/100][5/45][Time 19.92]\n",
      "Unified LR across all optimizers: 0.00017687838145997293\n",
      "--------------------Training Metrics--------------------\n",
      "CCNet:  Three Gpt\n",
      "Inf: 0.0076\tGen: 0.1660\tRec: 0.1665\tE: 0.0071\tR: 0.0081\tP: 0.3250\n",
      "--------------------Test Metrics------------------------\n",
      "accuracy: 0.7852\n",
      "precision: 0.3926\n",
      "recall: 0.5000\n",
      "f1_score: 0.4398\n",
      "\n"
     ]
    },
    {
     "data": {
      "application/vnd.jupyter.widget-view+json": {
       "model_id": "b47749d8adc74398b7b6a3970ccbd451",
       "version_major": 2,
       "version_minor": 0
      },
      "text/plain": [
       "Iterations:   0%|          | 0/45 [00:00<?, ?it/s]"
      ]
     },
     "metadata": {},
     "output_type": "display_data"
    }
   ],
   "source": [
    "trainer_hub.train(trainset, testset)"
   ]
  },
  {
   "cell_type": "code",
   "execution_count": null,
   "metadata": {},
   "outputs": [],
   "source": []
  }
 ],
 "metadata": {
  "kernelspec": {
   "display_name": "ccnets",
   "language": "python",
   "name": "python3"
  },
  "language_info": {
   "codemirror_mode": {
    "name": "ipython",
    "version": 3
   },
   "file_extension": ".py",
   "mimetype": "text/x-python",
   "name": "python",
   "nbconvert_exporter": "python",
   "pygments_lexer": "ipython3",
   "version": "3.9.18"
  }
 },
 "nbformat": 4,
 "nbformat_minor": 2
}
