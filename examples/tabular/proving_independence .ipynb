{
 "cells": [
  {
   "cell_type": "markdown",
   "metadata": {},
   "source": [
    "Author:\n",
    "        \n",
    "        KIM, JeongYoong, jeongyoong@ccnets.org\n",
    "        \n",
    "    COPYRIGHT (c) 2024. CCNets. All Rights reserved."
   ]
  },
  {
   "cell_type": "markdown",
   "metadata": {},
   "source": [
    "## Train CCNet with titanic\n",
    "https://www.kaggle.com/competitions/titanic/data"
   ]
  },
  {
   "cell_type": "markdown",
   "metadata": {},
   "source": [
    "<a id=\"1\"></a>\n",
    "> <h1 style = 'font-family: Times New Roman'><b> <b style = 'color: #42c2f5'>1.</b> Import Necessary Libraries </b></h1>"
   ]
  },
  {
   "cell_type": "code",
   "execution_count": null,
   "metadata": {},
   "outputs": [],
   "source": [
    "import os\n",
    "import sys\n",
    "import warnings\n",
    "warnings.filterwarnings(\"ignore\")\n",
    "\n",
    "path_append = \"../../\"\n",
    "sys.path.append(path_append)  # Go up one directory from where you are."
   ]
  },
  {
   "cell_type": "code",
   "execution_count": null,
   "metadata": {},
   "outputs": [],
   "source": [
    "import pandas  as pd\n",
    "dataset_name = \"California House Price\"\n",
    "df = pd.read_csv(path_append + f'../data/titanic/train.csv')\n",
    "df.head()"
   ]
  },
  {
   "cell_type": "markdown",
   "metadata": {},
   "source": [
    "<a id=\"2\"></a>\n",
    "> <h1 style = 'font-family: Times New Roman'><b> <b style = 'color: #4290f5'>2.</b> Modeling: Preprocess </b></h1>"
   ]
  },
  {
   "cell_type": "code",
   "execution_count": null,
   "metadata": {},
   "outputs": [],
   "source": [
    "from tools.preprocessing.data_frame import auto_preprocess_dataframe\n",
    "target_columns = ['Survived']\n",
    "drop_columns = ['PassengerId', 'Name', 'Cabin', 'Ticket']\n",
    "encode_columns = ['Sex', 'Embarked', 'Pclass']\n",
    "df, description = auto_preprocess_dataframe(df, target_columns, drop_columns, encode_columns)"
   ]
  },
  {
   "cell_type": "code",
   "execution_count": null,
   "metadata": {},
   "outputs": [],
   "source": [
    "import torch\n",
    "from sklearn.model_selection import train_test_split\n",
    "from tools.preprocessing.template_dataset import TemplateDataset\n",
    "\n",
    "train_df, test_df = train_test_split(df, test_size=0.2, shuffle=True, random_state=42)\n",
    "train_df, val_df = train_test_split(train_df, test_size=0.2, shuffle=True, random_state=42)\n",
    "# predict the next value in the sequence\n",
    "train_df_x = train_df.iloc[:, :-1] # all columns except the last one\n",
    "train_df_y = train_df.iloc[:, -1:] # only the last column\n",
    "\n",
    "val_df_x = val_df.iloc[:, :-1] # all columns except the last one\n",
    "val_df_y = val_df.iloc[:, -1:] # only the last column\n",
    "\n",
    "test_df_x = test_df.iloc[:, :-1] # all columns except the last one\n",
    "test_df_y = test_df.iloc[:, -1:] # only the last column\n",
    "\n",
    "print('train df shape: ', train_df.shape)\n",
    "print('val df shape: ', val_df.shape)\n",
    "print('test df shape: ', test_df.shape)\n",
    "trainset = TemplateDataset(train_df_x, train_df_y)\n",
    "valset = TemplateDataset(val_df_x, val_df_y)\n",
    "testset = TemplateDataset(test_df_x, test_df_y)"
   ]
  },
  {
   "cell_type": "code",
   "execution_count": null,
   "metadata": {},
   "outputs": [],
   "source": [
    "from tools.setting.data_config import DataConfig\n",
    "from tools.setting.ml_params import MLParameters\n",
    "from trainer_hub import TrainerHub\n",
    "\n",
    "num_features = description['num_features']\n",
    "num_classes = description['num_classes']\n",
    "data_config = DataConfig(dataset_name = dataset_name, task_type='binary_classification', obs_shape=[num_features], label_size=num_classes)\n",
    "\n",
    "#  Set training configuration from the AlgorithmConfig class, returning them as a Namespace object.\n",
    "ml_params = MLParameters(ccnet_network = 'tabnet', encoder_network = 'none')\n",
    "ml_params.training.num_epoch = 100\n",
    "ml_params.training.batch_size = 32\n",
    "ml_params.model.ccnet_config.num_layers = 3\n",
    "\n",
    "# Set the device to GPU if available, else CPU\n",
    "device = torch.device(\"cuda\" if torch.cuda.is_available() else \"cpu\") \n",
    "\n",
    "# Initialize the TrainerHub class with the training configuration, data configuration, device, and use_print and use_wandb flags\n",
    "trainer_hub = TrainerHub(ml_params, data_config, device, use_print=True, use_wandb=False, print_interval=20) "
   ]
  },
  {
   "cell_type": "code",
   "execution_count": null,
   "metadata": {},
   "outputs": [],
   "source": [
    "trainer_hub.train(trainset, valset)"
   ]
  },
  {
   "cell_type": "markdown",
   "metadata": {},
   "source": [
    "## Proving independence of X and E"
   ]
  },
  {
   "cell_type": "code",
   "execution_count": null,
   "metadata": {},
   "outputs": [],
   "source": [
    "import numpy as np\n",
    "test_loader = torch.utils.data.DataLoader(dataset=testset, batch_size=64, shuffle=False, drop_last=False)\n",
    "\n",
    "all_labels = []\n",
    "\n",
    "for _, labels in test_loader:\n",
    "    labels = labels.numpy().flatten()  \n",
    "    all_labels.extend(labels)\n",
    "\n",
    "all_labels = np.array(all_labels)\n",
    "\n",
    "unique_labels, counts = np.unique(all_labels, return_counts=True)\n",
    "\n",
    "label_ratios = counts / counts.sum()\n",
    "\n",
    "for label, ratio in zip(unique_labels, label_ratios):\n",
    "    print(f'Label: {label}, Ratio: {ratio:.4f}')"
   ]
  },
  {
   "cell_type": "code",
   "execution_count": null,
   "metadata": {},
   "outputs": [],
   "source": [
    "import torch\n",
    "import torch.nn as nn\n",
    "import torch.optim as optim\n",
    "from sklearn.metrics import accuracy_score, f1_score\n",
    "from torch.utils.data import DataLoader\n",
    "from sklearn.model_selection import train_test_split\n",
    "\n",
    "class SimpleNN(nn.Module):\n",
    "    def __init__(self, input_size):\n",
    "        super(SimpleNN, self).__init__()\n",
    "        self.layer1 = nn.Linear(input_size, 50)\n",
    "        self.relu = nn.ReLU()\n",
    "        self.layer2 = nn.Linear(50, 2)  \n",
    "        self.sigmoid = nn.Sigmoid()\n",
    "\n",
    "    def forward(self, x):\n",
    "        x = self.layer1(x)\n",
    "        x = self.relu(x)\n",
    "        x = self.layer2(x)\n",
    "        return self.sigmoid(x)"
   ]
  },
  {
   "cell_type": "code",
   "execution_count": null,
   "metadata": {},
   "outputs": [],
   "source": [
    "import tqdm\n",
    "\n",
    "def train_model(model, train_loader, num_epochs=30):\n",
    "    device = torch.device(\"cuda\" if torch.cuda.is_available() else \"cpu\")\n",
    "    model.to(device)\n",
    "    optimizer = optim.Adam(model.parameters(), lr=0.001)\n",
    "    criterion = nn.BCELoss()\n",
    "\n",
    "    metrics = {\n",
    "        'loss': [],\n",
    "        'accuracy': [], \n",
    "        'f1_score': []\n",
    "    }\n",
    "\n",
    "    for epoch in range(num_epochs):\n",
    "        model.train()\n",
    "        epoch_loss = []\n",
    "        for data, target in tqdm.tqdm(train_loader):\n",
    "            data, target = data.float().to(device), target.float().to(device)\n",
    "            optimizer.zero_grad()\n",
    "            output = model(data)\n",
    "            target_one_hot = torch.nn.functional.one_hot(target.to(torch.int64), num_classes=2).float()  # 원-핫 인코딩\n",
    "            target_one_hot = target_one_hot.squeeze(1)\n",
    "            loss = criterion(output, target_one_hot)\n",
    "            loss.backward()\n",
    "            optimizer.step()\n",
    "            epoch_loss.append(loss.item())\n",
    "\n",
    "        avg_loss = sum(epoch_loss) / len(epoch_loss)\n",
    "        print(f'Epoch {epoch+1}/{num_epochs}, Loss: {avg_loss:.4f}')\n",
    "        metrics['loss'].append(avg_loss)\n",
    "\n",
    "    return metrics\n"
   ]
  },
  {
   "cell_type": "code",
   "execution_count": null,
   "metadata": {},
   "outputs": [],
   "source": [
    "def test_model(model, val_loader):\n",
    "    device = torch.device(\"cuda\" if torch.cuda.is_available() else \"cpu\")\n",
    "    model.to(device)\n",
    "    model.eval()\n",
    "    y_true, y_pred = [], []\n",
    "\n",
    "    with torch.no_grad():\n",
    "        for data, target in val_loader:\n",
    "            data, target = data.float().to(device), target.float().to(device)\n",
    "            output = model(data)\n",
    "            predicted = (output > 0.5).float()\n",
    "            y_pred.extend(predicted.view(-1).tolist())\n",
    "            y_true.extend(target.view(-1).tolist())\n",
    "\n",
    "    acc = accuracy_score(y_true, y_pred)\n",
    "    f1 = f1_score(y_true, y_pred)\n",
    "\n",
    "    return acc, f1"
   ]
  },
  {
   "cell_type": "markdown",
   "metadata": {},
   "source": [
    "### Before experimenting with the model, train SimpleNN model with raw data"
   ]
  },
  {
   "cell_type": "code",
   "execution_count": null,
   "metadata": {},
   "outputs": [],
   "source": [
    "model = SimpleNN(num_features)\n",
    "\n",
    "train_loader = torch.utils.data.DataLoader(dataset=trainset, batch_size=32, shuffle=False, drop_last=False)\n",
    "\n",
    "train_metrics = train_model(model, train_loader)"
   ]
  },
  {
   "cell_type": "markdown",
   "metadata": {},
   "source": [
    "### load test data and ccnet from trainer_hub"
   ]
  },
  {
   "cell_type": "code",
   "execution_count": null,
   "metadata": {},
   "outputs": [],
   "source": [
    "test_loader = torch.utils.data.DataLoader(dataset=testset, batch_size=32, shuffle=False, drop_last=False)\n",
    "ccnet = trainer_hub.ccnet"
   ]
  },
  {
   "cell_type": "markdown",
   "metadata": {},
   "source": [
    "### 1-1 Infer Y from X created using original Explanation"
   ]
  },
  {
   "cell_type": "code",
   "execution_count": null,
   "metadata": {},
   "outputs": [],
   "source": [
    "original_e_data = None\n",
    "\n",
    "for data, labels in test_loader:\n",
    "    data = data.float().to(device)\n",
    "    labels = labels.float().to(device)\n",
    "    labels = torch.nn.functional.one_hot(labels.to(torch.int64), num_classes=2).float()\n",
    "    labels = labels.squeeze(1)\n",
    "    \n",
    "    explanation = ccnet.explain(data)\n",
    "    synthetic_data = ccnet.produce(labels, explanation)\n",
    "    \n",
    "    synthetic_data = synthetic_data.detach().cpu()\n",
    "    labels = labels.detach().cpu()\n",
    "    \n",
    "    if original_e_data is None:\n",
    "        original_e_data = synthetic_data\n",
    "        original_labels = labels\n",
    "    else:\n",
    "        original_e_data = torch.cat([original_e_data, synthetic_data], dim=0)\n",
    "        original_labels = torch.cat([original_labels, labels], dim=0)\n",
    "        \n",
    "print(f\"Original Explanation Data Shape: {original_e_data.shape}\")\n",
    "original_testset = TemplateDataset(original_e_data.numpy(), original_labels.numpy())\n"
   ]
  },
  {
   "cell_type": "markdown",
   "metadata": {},
   "source": [
    "### 1-2 Infer Y from X' created using E'' = E[1:]+E[:1]"
   ]
  },
  {
   "cell_type": "code",
   "execution_count": null,
   "metadata": {},
   "outputs": [],
   "source": [
    "shifted_e1_data = None\n",
    "\n",
    "for data, labels in test_loader:\n",
    "    data = data.float().to(device)\n",
    "    labels = labels.float().to(device)\n",
    "    labels = torch.nn.functional.one_hot(labels.to(torch.int64), num_classes=2).float()\n",
    "    labels = labels.squeeze(1)\n",
    "    \n",
    "    explanation = ccnet.explain(data)\n",
    "    explanation = torch.cat((explanation[1:], explanation[:1]), dim=0)\n",
    "    synthetic_data = ccnet.produce(labels, explanation)\n",
    "    \n",
    "    synthetic_data = synthetic_data.detach().cpu()\n",
    "    labels = labels.detach().cpu()\n",
    "    \n",
    "    if shifted_e1_data is None:\n",
    "        shifted_e1_data = synthetic_data\n",
    "        original_labels = labels\n",
    "    else:\n",
    "        shifted_e1_data = torch.cat([shifted_e1_data, synthetic_data], dim=0)\n",
    "        original_labels = torch.cat([original_labels, labels], dim=0)\n",
    "    \n",
    "print(f\"Manipulated Data Shape: {shifted_e1_data.shape}\")\n",
    "shifted_explanation_testset = TemplateDataset(shifted_e1_data.numpy(), original_labels.numpy())\n"
   ]
  },
  {
   "cell_type": "markdown",
   "metadata": {
    "vscode": {
     "languageId": "plaintext"
    }
   },
   "source": [
    "### 1-3 Infer Y from X'' created using E'' = E[5:]+E[:5]"
   ]
  },
  {
   "cell_type": "code",
   "execution_count": null,
   "metadata": {},
   "outputs": [],
   "source": [
    "shifted_e5_data = None\n",
    "\n",
    "for data, labels in test_loader:\n",
    "    data = data.float().to(device)\n",
    "    labels = labels.float().to(device)\n",
    "    labels = torch.nn.functional.one_hot(labels.to(torch.int64), num_classes=2).float()\n",
    "    labels = labels.squeeze(1)\n",
    "    \n",
    "    explanation = ccnet.explain(data)\n",
    "    explanation = torch.cat((explanation[5:], explanation[:5]), dim=0)\n",
    "    synthetic_data = ccnet.produce(labels, explanation)\n",
    "    \n",
    "    synthetic_data = synthetic_data.detach().cpu()\n",
    "    labels = labels.detach().cpu()\n",
    "    \n",
    "    if shifted_e5_data is None:\n",
    "        shifted_e5_data = synthetic_data\n",
    "        original_labels = labels\n",
    "    else:\n",
    "        shifted_e5_data = torch.cat([shifted_e5_data, synthetic_data], dim=0)\n",
    "        original_labels = torch.cat([original_labels, labels], dim=0)\n",
    "\n",
    "print(f\"Shifted Explanation2 Shape: {shifted_e5_data.shape}\")\n",
    "shifted_explanation5_testset = TemplateDataset(shifted_e5_data.numpy(), original_labels.numpy())\n"
   ]
  },
  {
   "cell_type": "code",
   "execution_count": null,
   "metadata": {},
   "outputs": [],
   "source": [
    "train_loader1 = DataLoader(original_testset, batch_size=10, shuffle=True)\n",
    "train_loader2 = DataLoader(shifted_explanation_testset, batch_size=10, shuffle=True)\n",
    "train_loader3 = DataLoader(shifted_explanation5_testset, batch_size=10, shuffle=True)"
   ]
  },
  {
   "cell_type": "code",
   "execution_count": null,
   "metadata": {},
   "outputs": [],
   "source": [
    "test_accuracy1, test_f11 = test_model(model, train_loader1)\n",
    "test_accuracy2, test_f12 = test_model(model, train_loader2)\n",
    "test_accuracy3, test_f13 = test_model(model, train_loader3)\n",
    "\n",
    "print(f\"Original: Test Accuracy: {test_accuracy1:.4f}, Test F1 Score: {test_f11:.4f}\")\n",
    "print(f\"Shifted E1: Test Accuracy: {test_accuracy2:.4f}, Test F1 Score: {test_f12:.4f}\")\n",
    "print(f\"Shifted E5: Test Accuracy: {test_accuracy3:.4f}, Test F1 Score: {test_f13:.4f}\")"
   ]
  },
  {
   "cell_type": "markdown",
   "metadata": {},
   "source": [
    "### Plotting the results"
   ]
  }
 ],
 "metadata": {
  "kernelspec": {
   "display_name": "ccnets",
   "language": "python",
   "name": "python3"
  },
  "language_info": {
   "codemirror_mode": {
    "name": "ipython",
    "version": 3
   },
   "file_extension": ".py",
   "mimetype": "text/x-python",
   "name": "python",
   "nbconvert_exporter": "python",
   "pygments_lexer": "ipython3",
   "version": "3.9.18"
  }
 },
 "nbformat": 4,
 "nbformat_minor": 2
}
