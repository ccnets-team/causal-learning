{
 "cells": [
  {
   "cell_type": "markdown",
   "metadata": {},
   "source": [
    "Author:\n",
    "        \n",
    "        KIM, JeongYoong, jeongyoong@ccnets.org\n",
    "        \n",
    "    COPYRIGHT (c) 2024. CCNets. All Rights reserved."
   ]
  },
  {
   "cell_type": "markdown",
   "metadata": {},
   "source": [
    "<a id=\"1\"></a>\n",
    "> <h1 style = 'font-family: Times New Roman'><b> <b style = 'color: #42c2f5'></b> Train CCNet with Titanic dataset</b></h1>\n",
    "\n",
    "- Data Source: https://www.kaggle.com/competitions/titanic/data\n"
   ]
  },
  {
   "cell_type": "markdown",
   "metadata": {},
   "source": [
    "<a id=\"1\"></a>\n",
    "> <h2 style = 'font-family: Times New Roman'><b> <b style = 'color: #42c2f5'>1.</b> Import Necessary Libraries </b></h2>"
   ]
  },
  {
   "cell_type": "code",
   "execution_count": 1,
   "metadata": {},
   "outputs": [],
   "source": [
    "import os\n",
    "import sys\n",
    "import warnings\n",
    "warnings.filterwarnings(\"ignore\") # Ignore warnings\n",
    "\n",
    "path_append = \"../../\"\n",
    "sys.path.append(path_append)  # Go up one directory from where you are.\n",
    "\n",
    "# Set random seed for reproducibility\n",
    "from nn.utils.init import set_random_seed\n",
    "set_random_seed(0) "
   ]
  },
  {
   "cell_type": "markdown",
   "metadata": {},
   "source": [
    "<a id=\"1\"></a>\n",
    "> <h3 style = 'font-family: Times New Roman'><b> <b style = 'color: #42c2f5'>1-1.</b>Load the dataset </b></h3>"
   ]
  },
  {
   "cell_type": "code",
   "execution_count": 2,
   "metadata": {},
   "outputs": [
    {
     "data": {
      "text/html": [
       "<div>\n",
       "<style scoped>\n",
       "    .dataframe tbody tr th:only-of-type {\n",
       "        vertical-align: middle;\n",
       "    }\n",
       "\n",
       "    .dataframe tbody tr th {\n",
       "        vertical-align: top;\n",
       "    }\n",
       "\n",
       "    .dataframe thead th {\n",
       "        text-align: right;\n",
       "    }\n",
       "</style>\n",
       "<table border=\"1\" class=\"dataframe\">\n",
       "  <thead>\n",
       "    <tr style=\"text-align: right;\">\n",
       "      <th></th>\n",
       "      <th>PassengerId</th>\n",
       "      <th>Survived</th>\n",
       "      <th>Pclass</th>\n",
       "      <th>Name</th>\n",
       "      <th>Sex</th>\n",
       "      <th>Age</th>\n",
       "      <th>SibSp</th>\n",
       "      <th>Parch</th>\n",
       "      <th>Ticket</th>\n",
       "      <th>Fare</th>\n",
       "      <th>Cabin</th>\n",
       "      <th>Embarked</th>\n",
       "    </tr>\n",
       "  </thead>\n",
       "  <tbody>\n",
       "    <tr>\n",
       "      <th>0</th>\n",
       "      <td>1</td>\n",
       "      <td>0</td>\n",
       "      <td>3</td>\n",
       "      <td>Braund, Mr. Owen Harris</td>\n",
       "      <td>male</td>\n",
       "      <td>22.0</td>\n",
       "      <td>1</td>\n",
       "      <td>0</td>\n",
       "      <td>A/5 21171</td>\n",
       "      <td>7.2500</td>\n",
       "      <td>NaN</td>\n",
       "      <td>S</td>\n",
       "    </tr>\n",
       "    <tr>\n",
       "      <th>1</th>\n",
       "      <td>2</td>\n",
       "      <td>1</td>\n",
       "      <td>1</td>\n",
       "      <td>Cumings, Mrs. John Bradley (Florence Briggs Th...</td>\n",
       "      <td>female</td>\n",
       "      <td>38.0</td>\n",
       "      <td>1</td>\n",
       "      <td>0</td>\n",
       "      <td>PC 17599</td>\n",
       "      <td>71.2833</td>\n",
       "      <td>C85</td>\n",
       "      <td>C</td>\n",
       "    </tr>\n",
       "    <tr>\n",
       "      <th>2</th>\n",
       "      <td>3</td>\n",
       "      <td>1</td>\n",
       "      <td>3</td>\n",
       "      <td>Heikkinen, Miss. Laina</td>\n",
       "      <td>female</td>\n",
       "      <td>26.0</td>\n",
       "      <td>0</td>\n",
       "      <td>0</td>\n",
       "      <td>STON/O2. 3101282</td>\n",
       "      <td>7.9250</td>\n",
       "      <td>NaN</td>\n",
       "      <td>S</td>\n",
       "    </tr>\n",
       "    <tr>\n",
       "      <th>3</th>\n",
       "      <td>4</td>\n",
       "      <td>1</td>\n",
       "      <td>1</td>\n",
       "      <td>Futrelle, Mrs. Jacques Heath (Lily May Peel)</td>\n",
       "      <td>female</td>\n",
       "      <td>35.0</td>\n",
       "      <td>1</td>\n",
       "      <td>0</td>\n",
       "      <td>113803</td>\n",
       "      <td>53.1000</td>\n",
       "      <td>C123</td>\n",
       "      <td>S</td>\n",
       "    </tr>\n",
       "    <tr>\n",
       "      <th>4</th>\n",
       "      <td>5</td>\n",
       "      <td>0</td>\n",
       "      <td>3</td>\n",
       "      <td>Allen, Mr. William Henry</td>\n",
       "      <td>male</td>\n",
       "      <td>35.0</td>\n",
       "      <td>0</td>\n",
       "      <td>0</td>\n",
       "      <td>373450</td>\n",
       "      <td>8.0500</td>\n",
       "      <td>NaN</td>\n",
       "      <td>S</td>\n",
       "    </tr>\n",
       "  </tbody>\n",
       "</table>\n",
       "</div>"
      ],
      "text/plain": [
       "   PassengerId  Survived  Pclass  \\\n",
       "0            1         0       3   \n",
       "1            2         1       1   \n",
       "2            3         1       3   \n",
       "3            4         1       1   \n",
       "4            5         0       3   \n",
       "\n",
       "                                                Name     Sex   Age  SibSp  \\\n",
       "0                            Braund, Mr. Owen Harris    male  22.0      1   \n",
       "1  Cumings, Mrs. John Bradley (Florence Briggs Th...  female  38.0      1   \n",
       "2                             Heikkinen, Miss. Laina  female  26.0      0   \n",
       "3       Futrelle, Mrs. Jacques Heath (Lily May Peel)  female  35.0      1   \n",
       "4                           Allen, Mr. William Henry    male  35.0      0   \n",
       "\n",
       "   Parch            Ticket     Fare Cabin Embarked  \n",
       "0      0         A/5 21171   7.2500   NaN        S  \n",
       "1      0          PC 17599  71.2833   C85        C  \n",
       "2      0  STON/O2. 3101282   7.9250   NaN        S  \n",
       "3      0            113803  53.1000  C123        S  \n",
       "4      0            373450   8.0500   NaN        S  "
      ]
     },
     "execution_count": 2,
     "metadata": {},
     "output_type": "execute_result"
    }
   ],
   "source": [
    "import pandas  as pd\n",
    "dataset_name = \"titanic\"\n",
    "df = pd.read_csv(path_append + f'../data/titanic/train.csv') # place the dataset in the 'data' folder\n",
    "df.head()"
   ]
  },
  {
   "cell_type": "markdown",
   "metadata": {},
   "source": [
    "<a id=\"2\"></a>\n",
    "> <h2 style = 'font-family: Times New Roman'><b> <b style = 'color: #4290f5'>2.</b> Data Preprocess </b></h2>"
   ]
  },
  {
   "cell_type": "markdown",
   "metadata": {},
   "source": [
    "Use CCNet’s `auto_preflow_dataframe` function to conveniently preprocess the dataframe."
   ]
  },
  {
   "cell_type": "code",
   "execution_count": 3,
   "metadata": {},
   "outputs": [
    {
     "name": "stdout",
     "output_type": "stream",
     "text": [
      "Dropped columns: PassengerId, Name, Cabin, Ticket\n",
      "Number of missing values in each column:\n",
      "Age         177\n",
      "Embarked      2\n",
      "dtype: int64\n",
      "Number of rows dropped due to missing values: 179\n",
      "\n",
      "Column 'Embarked' has 3 unique values.\n",
      "Column 'Pclass' has 3 unique values.\n",
      "Column 'Sex' has 2 unique values.\n"
     ]
    },
    {
     "data": {
      "text/html": [
       "<div>\n",
       "<style scoped>\n",
       "    .dataframe tbody tr th:only-of-type {\n",
       "        vertical-align: middle;\n",
       "    }\n",
       "\n",
       "    .dataframe tbody tr th {\n",
       "        vertical-align: top;\n",
       "    }\n",
       "\n",
       "    .dataframe thead th {\n",
       "        text-align: right;\n",
       "    }\n",
       "</style>\n",
       "<table border=\"1\" class=\"dataframe\">\n",
       "  <thead>\n",
       "    <tr style=\"text-align: right;\">\n",
       "      <th></th>\n",
       "      <th>Min</th>\n",
       "      <th>Max</th>\n",
       "      <th>Mean</th>\n",
       "      <th>Std</th>\n",
       "      <th>Null Count</th>\n",
       "      <th>Scaled</th>\n",
       "      <th>Encoded</th>\n",
       "    </tr>\n",
       "  </thead>\n",
       "  <tbody>\n",
       "    <tr>\n",
       "      <th>Age</th>\n",
       "      <td>-2.587574</td>\n",
       "      <td>4.459119</td>\n",
       "      <td>3.742325e-16</td>\n",
       "      <td>1.283328</td>\n",
       "      <td>0</td>\n",
       "      <td>Minmax</td>\n",
       "      <td>None</td>\n",
       "    </tr>\n",
       "    <tr>\n",
       "      <th>SibSp</th>\n",
       "      <td>-0.514045</td>\n",
       "      <td>4.485955</td>\n",
       "      <td>-9.979533e-18</td>\n",
       "      <td>0.930692</td>\n",
       "      <td>0</td>\n",
       "      <td>None</td>\n",
       "      <td>None</td>\n",
       "    </tr>\n",
       "    <tr>\n",
       "      <th>Parch</th>\n",
       "      <td>-0.432584</td>\n",
       "      <td>5.567416</td>\n",
       "      <td>-9.979533e-18</td>\n",
       "      <td>0.854181</td>\n",
       "      <td>0</td>\n",
       "      <td>None</td>\n",
       "      <td>None</td>\n",
       "    </tr>\n",
       "    <tr>\n",
       "      <th>Fare</th>\n",
       "      <td>-0.627088</td>\n",
       "      <td>19.907148</td>\n",
       "      <td>7.583728e-01</td>\n",
       "      <td>2.121790</td>\n",
       "      <td>0</td>\n",
       "      <td>Robust</td>\n",
       "      <td>None</td>\n",
       "    </tr>\n",
       "    <tr>\n",
       "      <th>Sex</th>\n",
       "      <td>0.000000</td>\n",
       "      <td>1.000000</td>\n",
       "      <td>6.362360e-01</td>\n",
       "      <td>0.481420</td>\n",
       "      <td>0</td>\n",
       "      <td>None</td>\n",
       "      <td>One-hot</td>\n",
       "    </tr>\n",
       "    <tr>\n",
       "      <th>Embarked_C</th>\n",
       "      <td>0.000000</td>\n",
       "      <td>1.000000</td>\n",
       "      <td>1.825843e-01</td>\n",
       "      <td>0.386597</td>\n",
       "      <td>0</td>\n",
       "      <td>None</td>\n",
       "      <td>None</td>\n",
       "    </tr>\n",
       "    <tr>\n",
       "      <th>Embarked_Q</th>\n",
       "      <td>0.000000</td>\n",
       "      <td>1.000000</td>\n",
       "      <td>3.932584e-02</td>\n",
       "      <td>0.194506</td>\n",
       "      <td>0</td>\n",
       "      <td>None</td>\n",
       "      <td>None</td>\n",
       "    </tr>\n",
       "    <tr>\n",
       "      <th>Embarked_S</th>\n",
       "      <td>0.000000</td>\n",
       "      <td>1.000000</td>\n",
       "      <td>7.780899e-01</td>\n",
       "      <td>0.415823</td>\n",
       "      <td>0</td>\n",
       "      <td>None</td>\n",
       "      <td>None</td>\n",
       "    </tr>\n",
       "    <tr>\n",
       "      <th>Pclass_1</th>\n",
       "      <td>0.000000</td>\n",
       "      <td>1.000000</td>\n",
       "      <td>2.584270e-01</td>\n",
       "      <td>0.438078</td>\n",
       "      <td>0</td>\n",
       "      <td>None</td>\n",
       "      <td>One_hot</td>\n",
       "    </tr>\n",
       "    <tr>\n",
       "      <th>Pclass_2</th>\n",
       "      <td>0.000000</td>\n",
       "      <td>1.000000</td>\n",
       "      <td>2.429775e-01</td>\n",
       "      <td>0.429183</td>\n",
       "      <td>0</td>\n",
       "      <td>None</td>\n",
       "      <td>One_hot</td>\n",
       "    </tr>\n",
       "    <tr>\n",
       "      <th>Pclass_3</th>\n",
       "      <td>0.000000</td>\n",
       "      <td>1.000000</td>\n",
       "      <td>4.985955e-01</td>\n",
       "      <td>0.500350</td>\n",
       "      <td>0</td>\n",
       "      <td>None</td>\n",
       "      <td>One_hot</td>\n",
       "    </tr>\n",
       "    <tr>\n",
       "      <th>Survived</th>\n",
       "      <td>0.000000</td>\n",
       "      <td>1.000000</td>\n",
       "      <td>4.044944e-01</td>\n",
       "      <td>0.491139</td>\n",
       "      <td>0</td>\n",
       "      <td>None</td>\n",
       "      <td>None</td>\n",
       "    </tr>\n",
       "  </tbody>\n",
       "</table>\n",
       "</div>"
      ],
      "text/plain": [
       "                 Min        Max          Mean       Std  Null Count  Scaled  \\\n",
       "Age        -2.587574   4.459119  3.742325e-16  1.283328           0  Minmax   \n",
       "SibSp      -0.514045   4.485955 -9.979533e-18  0.930692           0    None   \n",
       "Parch      -0.432584   5.567416 -9.979533e-18  0.854181           0    None   \n",
       "Fare       -0.627088  19.907148  7.583728e-01  2.121790           0  Robust   \n",
       "Sex         0.000000   1.000000  6.362360e-01  0.481420           0    None   \n",
       "Embarked_C  0.000000   1.000000  1.825843e-01  0.386597           0    None   \n",
       "Embarked_Q  0.000000   1.000000  3.932584e-02  0.194506           0    None   \n",
       "Embarked_S  0.000000   1.000000  7.780899e-01  0.415823           0    None   \n",
       "Pclass_1    0.000000   1.000000  2.584270e-01  0.438078           0    None   \n",
       "Pclass_2    0.000000   1.000000  2.429775e-01  0.429183           0    None   \n",
       "Pclass_3    0.000000   1.000000  4.985955e-01  0.500350           0    None   \n",
       "Survived    0.000000   1.000000  4.044944e-01  0.491139           0    None   \n",
       "\n",
       "            Encoded  \n",
       "Age            None  \n",
       "SibSp          None  \n",
       "Parch          None  \n",
       "Fare           None  \n",
       "Sex         One-hot  \n",
       "Embarked_C     None  \n",
       "Embarked_Q     None  \n",
       "Embarked_S     None  \n",
       "Pclass_1    One_hot  \n",
       "Pclass_2    One_hot  \n",
       "Pclass_3    One_hot  \n",
       "Survived       None  "
      ]
     },
     "metadata": {},
     "output_type": "display_data"
    }
   ],
   "source": [
    "from tools.preprocessing.data_frame import auto_preprocess_dataframe\n",
    "\n",
    "target_columns = ['Survived']\n",
    "drop_columns = ['PassengerId', 'Name', 'Cabin', 'Ticket']\n",
    "encode_columns = ['Sex', 'Embarked', 'Pclass']\n",
    "df, description = auto_preprocess_dataframe(df, target_columns, drop_columns, encode_columns)"
   ]
  },
  {
   "cell_type": "code",
   "execution_count": 4,
   "metadata": {},
   "outputs": [
    {
     "name": "stdout",
     "output_type": "stream",
     "text": [
      "train df shape:  (498, 12)\n",
      "test df shape:  (214, 12)\n"
     ]
    }
   ],
   "source": [
    "import torch\n",
    "from sklearn.model_selection import train_test_split\n",
    "from tools.preprocessing.template_dataset import TemplateDataset\n",
    "\n",
    "# Split the data into train and test\n",
    "train_df, test_df = train_test_split(df, test_size=0.3, shuffle=True, random_state=42)\n",
    "# predict the next value in the sequence\n",
    "train_df_x = train_df.iloc[:, :-1] # all columns except the last one\n",
    "train_df_y = train_df.iloc[:, -1:] # only the last column\n",
    "\n",
    "test_df_x = test_df.iloc[:, :-1] # all columns except the last one\n",
    "test_df_y = test_df.iloc[:, -1:] # only the last column\n",
    "\n",
    "print('train df shape: ', train_df.shape)\n",
    "print('test df shape: ', test_df.shape)\n",
    "\n",
    "# Create the datasets with TemplateDataset class\n",
    "trainset = TemplateDataset(train_df_x, train_df_y)\n",
    "testset = TemplateDataset(test_df_x, test_df_y)"
   ]
  },
  {
   "cell_type": "markdown",
   "metadata": {},
   "source": [
    "<a id=\"2\"></a>\n",
    "> <h2 style = 'font-family: Times New Roman'><b> <b style = 'color: #4290f5'>3.</b> Modeling: CCNet </b></h2>"
   ]
  },
  {
   "cell_type": "code",
   "execution_count": 5,
   "metadata": {},
   "outputs": [
    {
     "name": "stdout",
     "output_type": "stream",
     "text": [
      "Trainer Name: causal_trainer\n",
      "\n",
      "\n",
      "\u001b[1mModelParameters Parameters:\u001b[0m\n"
     ]
    },
    {
     "data": {
      "text/html": [
       "<div>\n",
       "<style scoped>\n",
       "    .dataframe tbody tr th:only-of-type {\n",
       "        vertical-align: middle;\n",
       "    }\n",
       "\n",
       "    .dataframe tbody tr th {\n",
       "        vertical-align: top;\n",
       "    }\n",
       "\n",
       "    .dataframe thead th {\n",
       "        text-align: right;\n",
       "    }\n",
       "</style>\n",
       "<table border=\"1\" class=\"dataframe\">\n",
       "  <thead>\n",
       "    <tr style=\"text-align: right;\">\n",
       "      <th></th>\n",
       "      <th>ccnet_config</th>\n",
       "      <th>ccnet_network</th>\n",
       "      <th>encoder_config</th>\n",
       "      <th>encoder_network</th>\n",
       "    </tr>\n",
       "  </thead>\n",
       "  <tbody>\n",
       "    <tr>\n",
       "      <th>0</th>\n",
       "      <td>See details below</td>\n",
       "      <td>tabnet</td>\n",
       "      <td>None</td>\n",
       "      <td>none</td>\n",
       "    </tr>\n",
       "  </tbody>\n",
       "</table>\n",
       "</div>"
      ],
      "text/plain": [
       "        ccnet_config ccnet_network encoder_config encoder_network\n",
       "0  See details below        tabnet           None            none"
      ]
     },
     "metadata": {},
     "output_type": "display_data"
    },
    {
     "name": "stdout",
     "output_type": "stream",
     "text": [
      "\u001b[3m\n",
      "Detailed ccnet_config Configuration:\u001b[0m\n"
     ]
    },
    {
     "data": {
      "text/html": [
       "<div>\n",
       "<style scoped>\n",
       "    .dataframe tbody tr th:only-of-type {\n",
       "        vertical-align: middle;\n",
       "    }\n",
       "\n",
       "    .dataframe tbody tr th {\n",
       "        vertical-align: top;\n",
       "    }\n",
       "\n",
       "    .dataframe thead th {\n",
       "        text-align: right;\n",
       "    }\n",
       "</style>\n",
       "<table border=\"1\" class=\"dataframe\">\n",
       "  <thead>\n",
       "    <tr style=\"text-align: right;\">\n",
       "      <th></th>\n",
       "      <th>ccnet_config_model_name</th>\n",
       "      <th>ccnet_config_num_layers</th>\n",
       "      <th>ccnet_config_d_model</th>\n",
       "      <th>ccnet_config_dropout</th>\n",
       "      <th>ccnet_config_obs_shape</th>\n",
       "    </tr>\n",
       "  </thead>\n",
       "  <tbody>\n",
       "    <tr>\n",
       "      <th>0</th>\n",
       "      <td>tabnet</td>\n",
       "      <td>4</td>\n",
       "      <td>256</td>\n",
       "      <td>0.05</td>\n",
       "      <td>[11]</td>\n",
       "    </tr>\n",
       "  </tbody>\n",
       "</table>\n",
       "</div>"
      ],
      "text/plain": [
       "  ccnet_config_model_name  ccnet_config_num_layers  ccnet_config_d_model  \\\n",
       "0                  tabnet                        4                   256   \n",
       "\n",
       "   ccnet_config_dropout ccnet_config_obs_shape  \n",
       "0                  0.05                   [11]  "
      ]
     },
     "metadata": {},
     "output_type": "display_data"
    },
    {
     "name": "stdout",
     "output_type": "stream",
     "text": [
      "\u001b[1mTrainingParameters Parameters:\u001b[0m\n"
     ]
    },
    {
     "data": {
      "text/html": [
       "<div>\n",
       "<style scoped>\n",
       "    .dataframe tbody tr th:only-of-type {\n",
       "        vertical-align: middle;\n",
       "    }\n",
       "\n",
       "    .dataframe tbody tr th {\n",
       "        vertical-align: top;\n",
       "    }\n",
       "\n",
       "    .dataframe thead th {\n",
       "        text-align: right;\n",
       "    }\n",
       "</style>\n",
       "<table border=\"1\" class=\"dataframe\">\n",
       "  <thead>\n",
       "    <tr style=\"text-align: right;\">\n",
       "      <th></th>\n",
       "      <th>batch_size</th>\n",
       "      <th>max_iters</th>\n",
       "      <th>max_seq_len</th>\n",
       "      <th>min_seq_len</th>\n",
       "      <th>num_epoch</th>\n",
       "    </tr>\n",
       "  </thead>\n",
       "  <tbody>\n",
       "    <tr>\n",
       "      <th>0</th>\n",
       "      <td>32</td>\n",
       "      <td>100000</td>\n",
       "      <td>None</td>\n",
       "      <td>None</td>\n",
       "      <td>1</td>\n",
       "    </tr>\n",
       "  </tbody>\n",
       "</table>\n",
       "</div>"
      ],
      "text/plain": [
       "   batch_size  max_iters max_seq_len min_seq_len  num_epoch\n",
       "0          32     100000        None        None          1"
      ]
     },
     "metadata": {},
     "output_type": "display_data"
    },
    {
     "name": "stdout",
     "output_type": "stream",
     "text": [
      "\u001b[1mOptimizationParameters Parameters:\u001b[0m\n"
     ]
    },
    {
     "data": {
      "text/html": [
       "<div>\n",
       "<style scoped>\n",
       "    .dataframe tbody tr th:only-of-type {\n",
       "        vertical-align: middle;\n",
       "    }\n",
       "\n",
       "    .dataframe tbody tr th {\n",
       "        vertical-align: top;\n",
       "    }\n",
       "\n",
       "    .dataframe thead th {\n",
       "        text-align: right;\n",
       "    }\n",
       "</style>\n",
       "<table border=\"1\" class=\"dataframe\">\n",
       "  <thead>\n",
       "    <tr style=\"text-align: right;\">\n",
       "      <th></th>\n",
       "      <th>clip_grad_range</th>\n",
       "      <th>decay_rate_100k</th>\n",
       "      <th>learning_rate</th>\n",
       "      <th>max_grad_norm</th>\n",
       "      <th>scheduler_type</th>\n",
       "    </tr>\n",
       "  </thead>\n",
       "  <tbody>\n",
       "    <tr>\n",
       "      <th>0</th>\n",
       "      <td>None</td>\n",
       "      <td>0.05</td>\n",
       "      <td>0.0002</td>\n",
       "      <td>1.0</td>\n",
       "      <td>exponential</td>\n",
       "    </tr>\n",
       "  </tbody>\n",
       "</table>\n",
       "</div>"
      ],
      "text/plain": [
       "  clip_grad_range  decay_rate_100k  learning_rate  max_grad_norm  \\\n",
       "0            None             0.05         0.0002            1.0   \n",
       "\n",
       "  scheduler_type  \n",
       "0    exponential  "
      ]
     },
     "metadata": {},
     "output_type": "display_data"
    },
    {
     "name": "stdout",
     "output_type": "stream",
     "text": [
      "\u001b[1mAlgorithmParameters Parameters:\u001b[0m\n"
     ]
    },
    {
     "data": {
      "text/html": [
       "<div>\n",
       "<style scoped>\n",
       "    .dataframe tbody tr th:only-of-type {\n",
       "        vertical-align: middle;\n",
       "    }\n",
       "\n",
       "    .dataframe tbody tr th {\n",
       "        vertical-align: top;\n",
       "    }\n",
       "\n",
       "    .dataframe thead th {\n",
       "        text-align: right;\n",
       "    }\n",
       "</style>\n",
       "<table border=\"1\" class=\"dataframe\">\n",
       "  <thead>\n",
       "    <tr style=\"text-align: right;\">\n",
       "      <th></th>\n",
       "      <th>enable_diffusion</th>\n",
       "      <th>error_function</th>\n",
       "      <th>reset_pretrained</th>\n",
       "    </tr>\n",
       "  </thead>\n",
       "  <tbody>\n",
       "    <tr>\n",
       "      <th>0</th>\n",
       "      <td>False</td>\n",
       "      <td>mse</td>\n",
       "      <td>False</td>\n",
       "    </tr>\n",
       "  </tbody>\n",
       "</table>\n",
       "</div>"
      ],
      "text/plain": [
       "   enable_diffusion error_function  reset_pretrained\n",
       "0             False            mse             False"
      ]
     },
     "metadata": {},
     "output_type": "display_data"
    },
    {
     "name": "stdout",
     "output_type": "stream",
     "text": [
      "\u001b[1mDataConfig Parameters:\u001b[0m\n"
     ]
    },
    {
     "data": {
      "text/html": [
       "<div>\n",
       "<style scoped>\n",
       "    .dataframe tbody tr th:only-of-type {\n",
       "        vertical-align: middle;\n",
       "    }\n",
       "\n",
       "    .dataframe tbody tr th {\n",
       "        vertical-align: top;\n",
       "    }\n",
       "\n",
       "    .dataframe thead th {\n",
       "        text-align: right;\n",
       "    }\n",
       "</style>\n",
       "<table border=\"1\" class=\"dataframe\">\n",
       "  <thead>\n",
       "    <tr style=\"text-align: right;\">\n",
       "      <th></th>\n",
       "      <th>dataset_name</th>\n",
       "      <th>task_type</th>\n",
       "      <th>obs_shape</th>\n",
       "      <th>label_size</th>\n",
       "      <th>explain_size</th>\n",
       "      <th>explain_layer</th>\n",
       "      <th>state_size</th>\n",
       "      <th>show_image_indices</th>\n",
       "    </tr>\n",
       "  </thead>\n",
       "  <tbody>\n",
       "    <tr>\n",
       "      <th>0</th>\n",
       "      <td>titanic</td>\n",
       "      <td>binary_classification</td>\n",
       "      <td>[11]</td>\n",
       "      <td>1</td>\n",
       "      <td>7</td>\n",
       "      <td>tanh</td>\n",
       "      <td>None</td>\n",
       "      <td>None</td>\n",
       "    </tr>\n",
       "  </tbody>\n",
       "</table>\n",
       "</div>"
      ],
      "text/plain": [
       "  dataset_name              task_type obs_shape  label_size  explain_size  \\\n",
       "0      titanic  binary_classification      [11]           1             7   \n",
       "\n",
       "  explain_layer state_size show_image_indices  \n",
       "0          tanh       None               None  "
      ]
     },
     "metadata": {},
     "output_type": "display_data"
    },
    {
     "name": "stdout",
     "output_type": "stream",
     "text": [
      "\n",
      "\n",
      "\n",
      "\n"
     ]
    }
   ],
   "source": [
    "from tools.setting.data_config import DataConfig\n",
    "from tools.setting.ml_params import MLParameters\n",
    "from trainer_hub import TrainerHub\n",
    "\n",
    "# Set data configuration from the DataConfig class\n",
    "num_features = description['num_features']\n",
    "num_classes = description['num_classes']\n",
    "data_config = DataConfig(dataset_name = dataset_name, task_type='binary_classification', obs_shape=[num_features], label_size=num_classes, explain_size=7)\n",
    "\n",
    "#  Set training configuration from the AlgorithmConfig class, returning them as a Namespace object.\n",
    "ml_params = MLParameters(ccnet_network = 'tabnet', encoder_network = 'none')\n",
    "ml_params.training.num_epoch = 1\n",
    "ml_params.training.batch_size = 32\n",
    "ml_params.model.ccnet_config.num_layers = 4\n",
    "\n",
    "# Set the device to GPU if available, else CPU\n",
    "device = torch.device(\"cuda\" if torch.cuda.is_available() else \"cpu\") \n",
    "\n",
    "# Initialize the TrainerHub class with the training configuration, data configuration, device, and use_print and use_wandb flags\n",
    "trainer_hub = TrainerHub(ml_params, data_config, device, use_print=False, use_wandb=False) "
   ]
  },
  {
   "cell_type": "markdown",
   "metadata": {},
   "source": [
    "<a id=\"2\"></a>\n",
    "> <h2 style = 'font-family: Times New Roman'><b> <b style = 'color: #4290f5'>4.</b> Experiment: </b></h2>\n",
    "> <h4 style = 'font-family: Times New Roman'><b> <b style = 'color: #4290f5'></b> \"Are E and Y truly independent within the CCNet framework?\" </b></h4>"
   ]
  },
  {
   "cell_type": "markdown",
   "metadata": {},
   "source": [
    "<p align=\"center\">\n",
    "  <img src=\"https://github.com/ccnets-team/causal-learning/assets/95277008/24d53e3b-bee5-4d14-9a7c-d71eccb49ddf\" width=\"400\">\n",
    "</p>"
   ]
  },
  {
   "cell_type": "code",
   "execution_count": 6,
   "metadata": {},
   "outputs": [],
   "source": [
    "import tqdm\n",
    "import torch\n",
    "import numpy as np\n",
    "import torch.nn as nn\n",
    "import torch.optim as optim\n",
    "from sklearn.metrics import accuracy_score, f1_score\n",
    "from torch.utils.data import DataLoader"
   ]
  },
  {
   "cell_type": "code",
   "execution_count": 7,
   "metadata": {},
   "outputs": [
    {
     "name": "stdout",
     "output_type": "stream",
     "text": [
      "Label: 0.0, Ratio: 0.5701\n",
      "Label: 1.0, Ratio: 0.4299\n"
     ]
    }
   ],
   "source": [
    "# Check the ratio of labels\n",
    "\n",
    "test_loader = torch.utils.data.DataLoader(dataset=testset, batch_size=64, shuffle=False, drop_last=False)\n",
    "\n",
    "all_labels = []\n",
    "\n",
    "for _, labels in test_loader:\n",
    "    labels = labels.numpy().flatten()  \n",
    "    all_labels.extend(labels)\n",
    "\n",
    "all_labels = np.array(all_labels)\n",
    "\n",
    "unique_labels, counts = np.unique(all_labels, return_counts=True)\n",
    "\n",
    "label_ratios = counts / counts.sum()\n",
    "\n",
    "for label, ratio in zip(unique_labels, label_ratios):\n",
    "    print(f'Label: {label}, Ratio: {ratio:.4f}')"
   ]
  },
  {
   "cell_type": "markdown",
   "metadata": {},
   "source": [
    "<a id=\"2\"></a>\n",
    "> <h3 style = 'font-family: Times New Roman'><b> <b style = 'color: #4290f5'> 4-1. </b> Create a simple neural network classification model </b></h3>"
   ]
  },
  {
   "cell_type": "code",
   "execution_count": 8,
   "metadata": {},
   "outputs": [],
   "source": [
    "class SimpleNN(nn.Module):\n",
    "    def __init__(self, input_size):\n",
    "        super(SimpleNN, self).__init__()\n",
    "        self.layer1 = nn.Linear(input_size, 256)\n",
    "        self.layer2 = nn.Linear(256, 256)\n",
    "        self.layer3 = nn.Linear(256, 1)  \n",
    "        self.relu = nn.ReLU()\n",
    "        self.sigmoid = nn.Sigmoid()\n",
    "    def forward(self, x):\n",
    "        x = self.layer1(x)\n",
    "        x = self.relu(x)\n",
    "        x = self.layer2(x)\n",
    "        x = self.relu(x)\n",
    "        x = self.layer3(x)\n",
    "        return self.sigmoid(x)"
   ]
  },
  {
   "cell_type": "markdown",
   "metadata": {},
   "source": [
    "<a id=\"2\"></a>\n",
    "> <h3 style = 'font-family: Times New Roman'><b> <b style = 'color: #4290f5'> 4-2. </b> Create a function to train and evaluate the neural network model (SimpleNN) above. </b></h3>"
   ]
  },
  {
   "cell_type": "code",
   "execution_count": 9,
   "metadata": {},
   "outputs": [],
   "source": [
    "def train_classifier(model, dataset, num_epoch=10):\n",
    "    device = torch.device(\"cuda\" if torch.cuda.is_available() else \"cpu\") \n",
    "    # Initialize the optimizer\n",
    "    optimizer = torch.optim.Adam(model.parameters(), lr=0.001)\n",
    "    # Create DataLoader for batch processing\n",
    "    trainloader = torch.utils.data.DataLoader(dataset, batch_size=64, shuffle=True)\n",
    "\n",
    "    metrics = {\n",
    "        'loss': [],\n",
    "        'accuracy': [], \n",
    "        'f1_score': []\n",
    "    }\n",
    "    \n",
    "    # Training loop\n",
    "    for epoch in range(num_epoch):  # Train for 2 epochs as an example\n",
    "        epoch_loss = []\n",
    "        for i, (data, label) in enumerate(trainloader):\n",
    "            data = torch.tensor(data).to(device).float()\n",
    "            label = torch.tensor(label).to(device).float()\n",
    "            # Perform forward pass\n",
    "            output = model(data)\n",
    "            # Compute loss\n",
    "            loss = torch.nn.functional.binary_cross_entropy(output, label)\n",
    "            # Backward pass to compute gradients\n",
    "            loss.backward()\n",
    "            # Update weights\n",
    "            optimizer.step()\n",
    "            # Reset gradients\n",
    "            optimizer.zero_grad()\n",
    "            epoch_loss.append(loss.item())\n",
    "            \n",
    "        avg_loss = sum(epoch_loss) / len(epoch_loss)\n",
    "        print(f'Epoch {epoch+1}/{num_epoch}, Loss: {avg_loss:.4f}')\n",
    "        metrics['loss'].append(avg_loss)\n",
    "    return metrics"
   ]
  },
  {
   "cell_type": "code",
   "execution_count": 10,
   "metadata": {},
   "outputs": [],
   "source": [
    "def test_model(model, _testset):\n",
    "    val_loader = DataLoader(_testset, batch_size=32, shuffle=True)\n",
    "    device = torch.device(\"cuda\" if torch.cuda.is_available() else \"cpu\")\n",
    "    model.eval()\n",
    "    y_true, y_pred = [], []\n",
    "\n",
    "    with torch.no_grad():\n",
    "        for data, target in val_loader:\n",
    "            data, target = data.float().to(device), target.float().to(device)\n",
    "            output = model(data)\n",
    "            predicted = (output > 0.5).float()\n",
    "            y_pred.extend(predicted.view(-1).tolist())\n",
    "            y_true.extend(target.view(-1).tolist())\n",
    "\n",
    "    acc = accuracy_score(y_true, y_pred)\n",
    "    f1 = f1_score(y_true, y_pred)\n",
    "\n",
    "    return acc, f1"
   ]
  },
  {
   "cell_type": "markdown",
   "metadata": {},
   "source": [
    "<a id=\"2\"></a>\n",
    "> <h3 style = 'font-family: Times New Roman'><b> <b style = 'color: #4290f5'> 4-3. </b> Train SimpleNN model with original dataset. </b></h3>\n"
   ]
  },
  {
   "cell_type": "code",
   "execution_count": 11,
   "metadata": {},
   "outputs": [
    {
     "name": "stdout",
     "output_type": "stream",
     "text": [
      "Epoch 1/10, Loss: 0.6222\n",
      "Epoch 2/10, Loss: 0.5489\n",
      "Epoch 3/10, Loss: 0.5156\n",
      "Epoch 4/10, Loss: 0.4630\n",
      "Epoch 5/10, Loss: 0.4648\n",
      "Epoch 6/10, Loss: 0.3935\n",
      "Epoch 7/10, Loss: 0.4203\n",
      "Epoch 8/10, Loss: 0.3874\n",
      "Epoch 9/10, Loss: 0.3685\n",
      "Epoch 10/10, Loss: 0.3886\n"
     ]
    }
   ],
   "source": [
    "model = SimpleNN(num_features).to(device)\n",
    "train_metrics = train_classifier(model, trainset)"
   ]
  },
  {
   "cell_type": "markdown",
   "metadata": {},
   "source": [
    "<a id=\"2\"></a>\n",
    "> <h4 style = 'font-family: Times New Roman'><b> <b style = 'color: #4290f5'> </b> Visualization Function </b></h4>\n"
   ]
  },
  {
   "cell_type": "code",
   "execution_count": 12,
   "metadata": {},
   "outputs": [],
   "source": [
    "import matplotlib.pyplot as plt\n",
    "from IPython.display import clear_output\n",
    "\n",
    "def update_graph(accuracies, f1_scores, i):\n",
    "    fig, (ax1, ax2) = plt.subplots(1, 2, figsize=(12, 6))\n",
    "\n",
    "    datasets = ['Original', 'No Shift', 'Half Shifted', 'Scrambled']\n",
    "    colors = ['blue', 'green', 'red', 'purple']\n",
    "    \n",
    "    # Accuracy Graph\n",
    "    ax1.set_title('Accuracy Comparison')\n",
    "    ax1.set_xlabel('Iteration')\n",
    "    ax1.set_ylabel('Accuracy')\n",
    "    for j, label in enumerate(datasets):\n",
    "        ax1.plot(range(1, i+2), [acc[j] for acc in accuracies], label=label, color=colors[j])\n",
    "    ax1.legend()\n",
    "\n",
    "    # F1 Score Graph\n",
    "    ax2.set_title('F1 Score Comparison')\n",
    "    ax2.set_xlabel('Iteration')\n",
    "    ax2.set_ylabel('F1 Score')\n",
    "    for j, label in enumerate(datasets):\n",
    "        ax2.plot(range(1, i+2), [f1[j] for f1 in f1_scores], label=label, color=colors[j])\n",
    "    ax2.legend()\n",
    "\n",
    "    plt.tight_layout()\n",
    "    clear_output(wait=True)\n",
    "    plt.show()\n"
   ]
  },
  {
   "cell_type": "markdown",
   "metadata": {},
   "source": [
    "<a id=\"2\"></a>\n",
    "> <h3 style = 'font-family: Times New Roman'><b> <b style = 'color: #4290f5'> 4-4. </b> Experimental Design </b></h3>\n",
    "\n",
    "#### **Experiment Objective**:\n",
    "\n",
    "The purpose of this experiment is to assess the independence of `E` (Explanation) and `y` (label). If E and y are not independent, the data generated in experimental groups 2 and 3 might not result in effective model training due to E being uncorrelated with the label. If E and y are completely independent, the training results for experimental groups 2, 3, and 4 should be similar to those of the control group. This will allow us to observe how the model responds to changes in the data and to identify the optimal model structure.\n",
    "\n",
    "From the experimental results graph, you can observe the outcomes for the original dataset in the control group and three experimental groups.\n",
    "\n",
    "- **Control Group**:\n",
    "\n",
    "    1. The `original dataset` that has only undergone preprocessing.\n",
    "\n",
    "- **Three Experimental Groups**:\n",
    "\n",
    "    2. Data created using CCNet's `Explanation` and the original label, `y_true`.\n",
    "\n",
    "    3. Data created using a shuffled `Explanation`, where the size of the `Explanation` is halved and then mixed, used together with `y_true`.\n",
    "\n",
    "    4. Data created by CCNet’s `Explanation` in half, and combining it with half of the randomly shuffled Explanation from group 3, used with `y_true`."
   ]
  },
  {
   "cell_type": "code",
   "execution_count": 13,
   "metadata": {},
   "outputs": [
    {
     "data": {
      "image/png": "[encoded data removed]",
      "text/plain": [
       "<Figure size 1200x600 with 2 Axes>"
      ]
     },
     "metadata": {},
     "output_type": "display_data"
    }
   ],
   "source": [
    "all_accuracies = []\n",
    "all_f1_scores = []\n",
    "\n",
    "for i in range(100):\n",
    "\n",
    "    if i > 0:\n",
    "        trainer_hub.train(trainset)\n",
    "\n",
    "    causal_model = trainer_hub.ccnet\n",
    "    test_data = torch.tensor(testset.X).float().to(device)\n",
    "    test_label = torch.tensor(testset.y).float().to(device)\n",
    "    one_hot_labels = torch.nn.functional.one_hot(test_label.to(torch.long), num_classes=2).float().squeeze(-2)\n",
    "\n",
    "    # Get the explanation\n",
    "    explanation = causal_model.explain(test_data)\n",
    "    \n",
    "    # Shift size to scramble the explanation\n",
    "    shift_size = len(explanation)//2\n",
    "    \n",
    "    # Create synthetic datasets\n",
    "    synthetic_data = [\n",
    "        causal_model.produce(one_hot_labels, explanation),\n",
    "        causal_model.produce(one_hot_labels, torch.cat((explanation[shift_size:], explanation[:shift_size]), dim=0)),\n",
    "        causal_model.produce(one_hot_labels, (explanation / 2 + torch.cat((explanation[shift_size:], explanation[:shift_size]), dim=0) / 2))\n",
    "\n",
    "    ]\n",
    "    # Create the datasets with TemplateDataset class\n",
    "    datasets = [TemplateDataset(test_data.cpu(), test_label.cpu())] + [\n",
    "        TemplateDataset(data.cpu(), test_label.cpu()) for data in synthetic_data\n",
    "    ]\n",
    "\n",
    "    accuracies = []\n",
    "    f1_scores = []\n",
    "    # Test the model on the original and synthetic datasets\n",
    "    for dataset in datasets:\n",
    "        test_accuracy, test_f1 = test_model(model, dataset)\n",
    "        accuracies.append(test_accuracy)\n",
    "        f1_scores.append(test_f1)\n",
    "    \n",
    "    all_accuracies.append(accuracies)\n",
    "    all_f1_scores.append(f1_scores)\n",
    "\n",
    "    # Update the graph\n",
    "    update_graph(all_accuracies, all_f1_scores, i)"
   ]
  }
 ],
 "metadata": {
  "kernelspec": {
   "display_name": "ccnets",
   "language": "python",
   "name": "python3"
  },
  "language_info": {
   "codemirror_mode": {
    "name": "ipython",
    "version": 3
   },
   "file_extension": ".py",
   "mimetype": "text/x-python",
   "name": "python",
   "nbconvert_exporter": "python",
   "pygments_lexer": "ipython3",
   "version": "3.9.18"
  }
 },
 "nbformat": 4,
 "nbformat_minor": 2
}
