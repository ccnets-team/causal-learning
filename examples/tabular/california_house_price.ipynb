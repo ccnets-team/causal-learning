{
 "cells": [
  {
   "cell_type": "markdown",
   "metadata": {},
   "source": [
    "'''\n",
    "Author:\n",
    "        \n",
    "        PARK, JunHo, junho@ccnets.org\n",
    "\n",
    "    COPYRIGHT (c) 2024. CCNets. All Rights reserved.\n",
    "'''"
   ]
  },
  {
   "cell_type": "markdown",
   "metadata": {},
   "source": [
    "# California House Price\n",
    "\n",
    "Data Source: https://www.kaggle.com/datasets/shibumohapatra/house-price"
   ]
  },
  {
   "cell_type": "markdown",
   "metadata": {},
   "source": [
    "<a id=\"1\"></a>\n",
    "> <h1 style = 'font-family: Times New Roman'><b> <b style = 'color: #42c2f5'>1.</b> Import Necessary Libraries </b></h1>"
   ]
  },
  {
   "cell_type": "code",
   "execution_count": 1,
   "metadata": {},
   "outputs": [],
   "source": [
    "import os\n",
    "import sys\n",
    "import warnings\n",
    "warnings.filterwarnings(\"ignore\")\n",
    "\n",
    "path_append = \"../../\"\n",
    "sys.path.append(path_append)  # Go up one directory from where you are."
   ]
  },
  {
   "cell_type": "code",
   "execution_count": 2,
   "metadata": {},
   "outputs": [
    {
     "data": {
      "text/html": [
       "<div>\n",
       "<style scoped>\n",
       "    .dataframe tbody tr th:only-of-type {\n",
       "        vertical-align: middle;\n",
       "    }\n",
       "\n",
       "    .dataframe tbody tr th {\n",
       "        vertical-align: top;\n",
       "    }\n",
       "\n",
       "    .dataframe thead th {\n",
       "        text-align: right;\n",
       "    }\n",
       "</style>\n",
       "<table border=\"1\" class=\"dataframe\">\n",
       "  <thead>\n",
       "    <tr style=\"text-align: right;\">\n",
       "      <th></th>\n",
       "      <th>longitude</th>\n",
       "      <th>latitude</th>\n",
       "      <th>housing_median_age</th>\n",
       "      <th>total_rooms</th>\n",
       "      <th>total_bedrooms</th>\n",
       "      <th>population</th>\n",
       "      <th>households</th>\n",
       "      <th>median_income</th>\n",
       "      <th>ocean_proximity</th>\n",
       "      <th>median_house_value</th>\n",
       "    </tr>\n",
       "  </thead>\n",
       "  <tbody>\n",
       "    <tr>\n",
       "      <th>0</th>\n",
       "      <td>-122.23</td>\n",
       "      <td>37.88</td>\n",
       "      <td>41</td>\n",
       "      <td>880</td>\n",
       "      <td>129.0</td>\n",
       "      <td>322</td>\n",
       "      <td>126</td>\n",
       "      <td>8.3252</td>\n",
       "      <td>NEAR BAY</td>\n",
       "      <td>452600</td>\n",
       "    </tr>\n",
       "    <tr>\n",
       "      <th>1</th>\n",
       "      <td>-122.22</td>\n",
       "      <td>37.86</td>\n",
       "      <td>21</td>\n",
       "      <td>7099</td>\n",
       "      <td>1106.0</td>\n",
       "      <td>2401</td>\n",
       "      <td>1138</td>\n",
       "      <td>8.3014</td>\n",
       "      <td>NEAR BAY</td>\n",
       "      <td>358500</td>\n",
       "    </tr>\n",
       "    <tr>\n",
       "      <th>2</th>\n",
       "      <td>-122.24</td>\n",
       "      <td>37.85</td>\n",
       "      <td>52</td>\n",
       "      <td>1467</td>\n",
       "      <td>190.0</td>\n",
       "      <td>496</td>\n",
       "      <td>177</td>\n",
       "      <td>7.2574</td>\n",
       "      <td>NEAR BAY</td>\n",
       "      <td>352100</td>\n",
       "    </tr>\n",
       "    <tr>\n",
       "      <th>3</th>\n",
       "      <td>-122.25</td>\n",
       "      <td>37.85</td>\n",
       "      <td>52</td>\n",
       "      <td>1274</td>\n",
       "      <td>235.0</td>\n",
       "      <td>558</td>\n",
       "      <td>219</td>\n",
       "      <td>5.6431</td>\n",
       "      <td>NEAR BAY</td>\n",
       "      <td>341300</td>\n",
       "    </tr>\n",
       "    <tr>\n",
       "      <th>4</th>\n",
       "      <td>-122.25</td>\n",
       "      <td>37.85</td>\n",
       "      <td>52</td>\n",
       "      <td>1627</td>\n",
       "      <td>280.0</td>\n",
       "      <td>565</td>\n",
       "      <td>259</td>\n",
       "      <td>3.8462</td>\n",
       "      <td>NEAR BAY</td>\n",
       "      <td>342200</td>\n",
       "    </tr>\n",
       "  </tbody>\n",
       "</table>\n",
       "</div>"
      ],
      "text/plain": [
       "   longitude  latitude  housing_median_age  total_rooms  total_bedrooms  \\\n",
       "0    -122.23     37.88                  41          880           129.0   \n",
       "1    -122.22     37.86                  21         7099          1106.0   \n",
       "2    -122.24     37.85                  52         1467           190.0   \n",
       "3    -122.25     37.85                  52         1274           235.0   \n",
       "4    -122.25     37.85                  52         1627           280.0   \n",
       "\n",
       "   population  households  median_income ocean_proximity  median_house_value  \n",
       "0         322         126         8.3252        NEAR BAY              452600  \n",
       "1        2401        1138         8.3014        NEAR BAY              358500  \n",
       "2         496         177         7.2574        NEAR BAY              352100  \n",
       "3         558         219         5.6431        NEAR BAY              341300  \n",
       "4         565         259         3.8462        NEAR BAY              342200  "
      ]
     },
     "execution_count": 2,
     "metadata": {},
     "output_type": "execute_result"
    }
   ],
   "source": [
    "import pandas  as pd\n",
    "dataset_name = \"California House Price\"\n",
    "df = pd.read_csv(path_append + f'../data/{dataset_name}/1553768847-housing.csv')\n",
    "df.head()"
   ]
  },
  {
   "cell_type": "markdown",
   "metadata": {},
   "source": [
    "<a id=\"2\"></a>\n",
    "> <h1 style = 'font-family: Times New Roman'><b> <b style = 'color: #4290f5'>2.</b> Modeling: Preprocess </b></h1>"
   ]
  },
  {
   "cell_type": "code",
   "execution_count": 3,
   "metadata": {},
   "outputs": [
    {
     "name": "stdout",
     "output_type": "stream",
     "text": [
      "Number of missing values in each column:\n",
      "total_bedrooms    207\n",
      "dtype: int64\n",
      "Number of rows dropped due to missing values: 207\n",
      "\n",
      "Column 'ocean_proximity' has 5 unique values.\n"
     ]
    },
    {
     "data": {
      "text/html": [
       "<div>\n",
       "<style scoped>\n",
       "    .dataframe tbody tr th:only-of-type {\n",
       "        vertical-align: middle;\n",
       "    }\n",
       "\n",
       "    .dataframe tbody tr th {\n",
       "        vertical-align: top;\n",
       "    }\n",
       "\n",
       "    .dataframe thead th {\n",
       "        text-align: right;\n",
       "    }\n",
       "</style>\n",
       "<table border=\"1\" class=\"dataframe\">\n",
       "  <thead>\n",
       "    <tr style=\"text-align: right;\">\n",
       "      <th></th>\n",
       "      <th>Min</th>\n",
       "      <th>Max</th>\n",
       "      <th>Mean</th>\n",
       "      <th>Std</th>\n",
       "      <th>Null Count</th>\n",
       "      <th>Scaled</th>\n",
       "      <th>Encoded</th>\n",
       "    </tr>\n",
       "  </thead>\n",
       "  <tbody>\n",
       "    <tr>\n",
       "      <th>longitude</th>\n",
       "      <td>-4.779311</td>\n",
       "      <td>5.260689</td>\n",
       "      <td>-1.780443e-15</td>\n",
       "      <td>2.003578</td>\n",
       "      <td>0</td>\n",
       "      <td>None</td>\n",
       "      <td>None</td>\n",
       "    </tr>\n",
       "    <tr>\n",
       "      <th>latitude</th>\n",
       "      <td>-3.093221</td>\n",
       "      <td>6.316779</td>\n",
       "      <td>3.204797e-15</td>\n",
       "      <td>2.136348</td>\n",
       "      <td>0</td>\n",
       "      <td>None</td>\n",
       "      <td>None</td>\n",
       "    </tr>\n",
       "    <tr>\n",
       "      <th>housing_median_age</th>\n",
       "      <td>-2.617301</td>\n",
       "      <td>2.213224</td>\n",
       "      <td>1.112777e-17</td>\n",
       "      <td>1.192648</td>\n",
       "      <td>0</td>\n",
       "      <td>Minmax</td>\n",
       "      <td>None</td>\n",
       "    </tr>\n",
       "    <tr>\n",
       "      <th>total_rooms</th>\n",
       "      <td>-1.255168</td>\n",
       "      <td>21.968695</td>\n",
       "      <td>3.009476e-01</td>\n",
       "      <td>1.290768</td>\n",
       "      <td>0</td>\n",
       "      <td>Robust</td>\n",
       "      <td>None</td>\n",
       "    </tr>\n",
       "    <tr>\n",
       "      <th>total_bedrooms</th>\n",
       "      <td>-1.236467</td>\n",
       "      <td>17.122507</td>\n",
       "      <td>2.930785e-01</td>\n",
       "      <td>1.200527</td>\n",
       "      <td>0</td>\n",
       "      <td>Robust</td>\n",
       "      <td>None</td>\n",
       "    </tr>\n",
       "    <tr>\n",
       "      <th>population</th>\n",
       "      <td>-1.243850</td>\n",
       "      <td>36.915508</td>\n",
       "      <td>2.769486e-01</td>\n",
       "      <td>1.211988</td>\n",
       "      <td>0</td>\n",
       "      <td>Robust</td>\n",
       "      <td>None</td>\n",
       "    </tr>\n",
       "    <tr>\n",
       "      <th>households</th>\n",
       "      <td>-1.259259</td>\n",
       "      <td>17.509259</td>\n",
       "      <td>2.791156e-01</td>\n",
       "      <td>1.179936</td>\n",
       "      <td>0</td>\n",
       "      <td>Robust</td>\n",
       "      <td>None</td>\n",
       "    </tr>\n",
       "    <tr>\n",
       "      <th>median_income</th>\n",
       "      <td>-3.371262</td>\n",
       "      <td>11.128938</td>\n",
       "      <td>6.008995e-16</td>\n",
       "      <td>1.899291</td>\n",
       "      <td>0</td>\n",
       "      <td>None</td>\n",
       "      <td>None</td>\n",
       "    </tr>\n",
       "    <tr>\n",
       "      <th>ocean_proximity_&lt;1H OCEAN</th>\n",
       "      <td>0.000000</td>\n",
       "      <td>1.000000</td>\n",
       "      <td>4.421279e-01</td>\n",
       "      <td>0.496652</td>\n",
       "      <td>0</td>\n",
       "      <td>None</td>\n",
       "      <td>None</td>\n",
       "    </tr>\n",
       "    <tr>\n",
       "      <th>ocean_proximity_INLAND</th>\n",
       "      <td>0.000000</td>\n",
       "      <td>1.000000</td>\n",
       "      <td>3.179171e-01</td>\n",
       "      <td>0.465678</td>\n",
       "      <td>0</td>\n",
       "      <td>None</td>\n",
       "      <td>None</td>\n",
       "    </tr>\n",
       "    <tr>\n",
       "      <th>ocean_proximity_ISLAND</th>\n",
       "      <td>0.000000</td>\n",
       "      <td>1.000000</td>\n",
       "      <td>2.447022e-04</td>\n",
       "      <td>0.015641</td>\n",
       "      <td>0</td>\n",
       "      <td>None</td>\n",
       "      <td>None</td>\n",
       "    </tr>\n",
       "    <tr>\n",
       "      <th>ocean_proximity_NEAR BAY</th>\n",
       "      <td>0.000000</td>\n",
       "      <td>1.000000</td>\n",
       "      <td>1.110948e-01</td>\n",
       "      <td>0.314257</td>\n",
       "      <td>0</td>\n",
       "      <td>None</td>\n",
       "      <td>None</td>\n",
       "    </tr>\n",
       "    <tr>\n",
       "      <th>ocean_proximity_NEAR OCEAN</th>\n",
       "      <td>0.000000</td>\n",
       "      <td>1.000000</td>\n",
       "      <td>1.286155e-01</td>\n",
       "      <td>0.334782</td>\n",
       "      <td>0</td>\n",
       "      <td>None</td>\n",
       "      <td>None</td>\n",
       "    </tr>\n",
       "    <tr>\n",
       "      <th>median_house_value</th>\n",
       "      <td>14999.000000</td>\n",
       "      <td>500001.000000</td>\n",
       "      <td>2.068644e+05</td>\n",
       "      <td>115435.667099</td>\n",
       "      <td>0</td>\n",
       "      <td>None</td>\n",
       "      <td>None</td>\n",
       "    </tr>\n",
       "  </tbody>\n",
       "</table>\n",
       "</div>"
      ],
      "text/plain": [
       "                                     Min            Max          Mean  \\\n",
       "longitude                      -4.779311       5.260689 -1.780443e-15   \n",
       "latitude                       -3.093221       6.316779  3.204797e-15   \n",
       "housing_median_age             -2.617301       2.213224  1.112777e-17   \n",
       "total_rooms                    -1.255168      21.968695  3.009476e-01   \n",
       "total_bedrooms                 -1.236467      17.122507  2.930785e-01   \n",
       "population                     -1.243850      36.915508  2.769486e-01   \n",
       "households                     -1.259259      17.509259  2.791156e-01   \n",
       "median_income                  -3.371262      11.128938  6.008995e-16   \n",
       "ocean_proximity_<1H OCEAN       0.000000       1.000000  4.421279e-01   \n",
       "ocean_proximity_INLAND          0.000000       1.000000  3.179171e-01   \n",
       "ocean_proximity_ISLAND          0.000000       1.000000  2.447022e-04   \n",
       "ocean_proximity_NEAR BAY        0.000000       1.000000  1.110948e-01   \n",
       "ocean_proximity_NEAR OCEAN      0.000000       1.000000  1.286155e-01   \n",
       "median_house_value          14999.000000  500001.000000  2.068644e+05   \n",
       "\n",
       "                                      Std  Null Count  Scaled Encoded  \n",
       "longitude                        2.003578           0    None    None  \n",
       "latitude                         2.136348           0    None    None  \n",
       "housing_median_age               1.192648           0  Minmax    None  \n",
       "total_rooms                      1.290768           0  Robust    None  \n",
       "total_bedrooms                   1.200527           0  Robust    None  \n",
       "population                       1.211988           0  Robust    None  \n",
       "households                       1.179936           0  Robust    None  \n",
       "median_income                    1.899291           0    None    None  \n",
       "ocean_proximity_<1H OCEAN        0.496652           0    None    None  \n",
       "ocean_proximity_INLAND           0.465678           0    None    None  \n",
       "ocean_proximity_ISLAND           0.015641           0    None    None  \n",
       "ocean_proximity_NEAR BAY         0.314257           0    None    None  \n",
       "ocean_proximity_NEAR OCEAN       0.334782           0    None    None  \n",
       "median_house_value          115435.667099           0    None    None  "
      ]
     },
     "metadata": {},
     "output_type": "display_data"
    }
   ],
   "source": [
    "from tools.preprocessing.data_frame import auto_preprocess_dataframe\n",
    "target_columns = ['median_house_value']\n",
    "df, description = auto_preprocess_dataframe(df, target_columns)"
   ]
  },
  {
   "cell_type": "code",
   "execution_count": 4,
   "metadata": {},
   "outputs": [
    {
     "data": {
      "text/html": [
       "<div>\n",
       "<style scoped>\n",
       "    .dataframe tbody tr th:only-of-type {\n",
       "        vertical-align: middle;\n",
       "    }\n",
       "\n",
       "    .dataframe tbody tr th {\n",
       "        vertical-align: top;\n",
       "    }\n",
       "\n",
       "    .dataframe thead th {\n",
       "        text-align: right;\n",
       "    }\n",
       "</style>\n",
       "<table border=\"1\" class=\"dataframe\">\n",
       "  <thead>\n",
       "    <tr style=\"text-align: right;\">\n",
       "      <th></th>\n",
       "      <th>longitude</th>\n",
       "      <th>latitude</th>\n",
       "      <th>housing_median_age</th>\n",
       "      <th>total_rooms</th>\n",
       "      <th>total_bedrooms</th>\n",
       "      <th>population</th>\n",
       "      <th>households</th>\n",
       "      <th>median_income</th>\n",
       "      <th>ocean_proximity_&lt;1H OCEAN</th>\n",
       "      <th>ocean_proximity_INLAND</th>\n",
       "      <th>ocean_proximity_ISLAND</th>\n",
       "      <th>ocean_proximity_NEAR BAY</th>\n",
       "      <th>ocean_proximity_NEAR OCEAN</th>\n",
       "      <th>median_house_value</th>\n",
       "    </tr>\n",
       "  </thead>\n",
       "  <tbody>\n",
       "    <tr>\n",
       "      <th>0</th>\n",
       "      <td>-2.659311</td>\n",
       "      <td>2.246779</td>\n",
       "      <td>1.171346</td>\n",
       "      <td>-0.736562</td>\n",
       "      <td>-0.871795</td>\n",
       "      <td>-0.902674</td>\n",
       "      <td>-0.873457</td>\n",
       "      <td>4.454038</td>\n",
       "      <td>0.0</td>\n",
       "      <td>0.0</td>\n",
       "      <td>0.0</td>\n",
       "      <td>1.0</td>\n",
       "      <td>0.0</td>\n",
       "      <td>21.879065</td>\n",
       "    </tr>\n",
       "    <tr>\n",
       "      <th>1</th>\n",
       "      <td>-2.649311</td>\n",
       "      <td>2.226779</td>\n",
       "      <td>-0.722977</td>\n",
       "      <td>2.936799</td>\n",
       "      <td>1.911681</td>\n",
       "      <td>1.320856</td>\n",
       "      <td>2.250000</td>\n",
       "      <td>4.430238</td>\n",
       "      <td>0.0</td>\n",
       "      <td>0.0</td>\n",
       "      <td>0.0</td>\n",
       "      <td>1.0</td>\n",
       "      <td>0.0</td>\n",
       "      <td>17.330192</td>\n",
       "    </tr>\n",
       "    <tr>\n",
       "      <th>2</th>\n",
       "      <td>-2.669311</td>\n",
       "      <td>2.216779</td>\n",
       "      <td>2.213224</td>\n",
       "      <td>-0.389841</td>\n",
       "      <td>-0.698006</td>\n",
       "      <td>-0.716578</td>\n",
       "      <td>-0.716049</td>\n",
       "      <td>3.386238</td>\n",
       "      <td>0.0</td>\n",
       "      <td>0.0</td>\n",
       "      <td>0.0</td>\n",
       "      <td>1.0</td>\n",
       "      <td>0.0</td>\n",
       "      <td>17.020811</td>\n",
       "    </tr>\n",
       "    <tr>\n",
       "      <th>3</th>\n",
       "      <td>-2.679311</td>\n",
       "      <td>2.216779</td>\n",
       "      <td>2.213224</td>\n",
       "      <td>-0.503839</td>\n",
       "      <td>-0.569801</td>\n",
       "      <td>-0.650267</td>\n",
       "      <td>-0.586420</td>\n",
       "      <td>1.771938</td>\n",
       "      <td>0.0</td>\n",
       "      <td>0.0</td>\n",
       "      <td>0.0</td>\n",
       "      <td>1.0</td>\n",
       "      <td>0.0</td>\n",
       "      <td>16.498730</td>\n",
       "    </tr>\n",
       "    <tr>\n",
       "      <th>4</th>\n",
       "      <td>-2.679311</td>\n",
       "      <td>2.216779</td>\n",
       "      <td>2.213224</td>\n",
       "      <td>-0.295334</td>\n",
       "      <td>-0.441595</td>\n",
       "      <td>-0.642781</td>\n",
       "      <td>-0.462963</td>\n",
       "      <td>-0.024962</td>\n",
       "      <td>0.0</td>\n",
       "      <td>0.0</td>\n",
       "      <td>0.0</td>\n",
       "      <td>1.0</td>\n",
       "      <td>0.0</td>\n",
       "      <td>16.542236</td>\n",
       "    </tr>\n",
       "    <tr>\n",
       "      <th>...</th>\n",
       "      <td>...</td>\n",
       "      <td>...</td>\n",
       "      <td>...</td>\n",
       "      <td>...</td>\n",
       "      <td>...</td>\n",
       "      <td>...</td>\n",
       "      <td>...</td>\n",
       "      <td>...</td>\n",
       "      <td>...</td>\n",
       "      <td>...</td>\n",
       "      <td>...</td>\n",
       "      <td>...</td>\n",
       "      <td>...</td>\n",
       "      <td>...</td>\n",
       "    </tr>\n",
       "    <tr>\n",
       "      <th>20428</th>\n",
       "      <td>-1.519311</td>\n",
       "      <td>3.846779</td>\n",
       "      <td>-0.344113</td>\n",
       "      <td>-0.272888</td>\n",
       "      <td>-0.173789</td>\n",
       "      <td>-0.343316</td>\n",
       "      <td>-0.243827</td>\n",
       "      <td>-2.310862</td>\n",
       "      <td>0.0</td>\n",
       "      <td>1.0</td>\n",
       "      <td>0.0</td>\n",
       "      <td>0.0</td>\n",
       "      <td>0.0</td>\n",
       "      <td>3.775420</td>\n",
       "    </tr>\n",
       "    <tr>\n",
       "      <th>20429</th>\n",
       "      <td>-1.639311</td>\n",
       "      <td>3.856779</td>\n",
       "      <td>-1.007126</td>\n",
       "      <td>-0.844654</td>\n",
       "      <td>-0.811966</td>\n",
       "      <td>-0.866310</td>\n",
       "      <td>-0.910494</td>\n",
       "      <td>-1.314362</td>\n",
       "      <td>0.0</td>\n",
       "      <td>1.0</td>\n",
       "      <td>0.0</td>\n",
       "      <td>0.0</td>\n",
       "      <td>0.0</td>\n",
       "      <td>3.727079</td>\n",
       "    </tr>\n",
       "    <tr>\n",
       "      <th>20430</th>\n",
       "      <td>-1.649311</td>\n",
       "      <td>3.796779</td>\n",
       "      <td>-1.101842</td>\n",
       "      <td>0.075015</td>\n",
       "      <td>0.142450</td>\n",
       "      <td>-0.170053</td>\n",
       "      <td>0.074074</td>\n",
       "      <td>-2.171162</td>\n",
       "      <td>0.0</td>\n",
       "      <td>1.0</td>\n",
       "      <td>0.0</td>\n",
       "      <td>0.0</td>\n",
       "      <td>0.0</td>\n",
       "      <td>4.461860</td>\n",
       "    </tr>\n",
       "    <tr>\n",
       "      <th>20431</th>\n",
       "      <td>-1.749311</td>\n",
       "      <td>3.796779</td>\n",
       "      <td>-1.007126</td>\n",
       "      <td>-0.157708</td>\n",
       "      <td>-0.074074</td>\n",
       "      <td>-0.454545</td>\n",
       "      <td>-0.185185</td>\n",
       "      <td>-2.003962</td>\n",
       "      <td>0.0</td>\n",
       "      <td>1.0</td>\n",
       "      <td>0.0</td>\n",
       "      <td>0.0</td>\n",
       "      <td>0.0</td>\n",
       "      <td>4.094469</td>\n",
       "    </tr>\n",
       "    <tr>\n",
       "      <th>20432</th>\n",
       "      <td>-1.669311</td>\n",
       "      <td>3.736779</td>\n",
       "      <td>-1.196558</td>\n",
       "      <td>0.388659</td>\n",
       "      <td>0.515670</td>\n",
       "      <td>0.236364</td>\n",
       "      <td>0.373457</td>\n",
       "      <td>-1.482562</td>\n",
       "      <td>0.0</td>\n",
       "      <td>1.0</td>\n",
       "      <td>0.0</td>\n",
       "      <td>0.0</td>\n",
       "      <td>0.0</td>\n",
       "      <td>4.321671</td>\n",
       "    </tr>\n",
       "  </tbody>\n",
       "</table>\n",
       "<p>20433 rows × 14 columns</p>\n",
       "</div>"
      ],
      "text/plain": [
       "       longitude  latitude  housing_median_age  total_rooms  total_bedrooms  \\\n",
       "0      -2.659311  2.246779            1.171346    -0.736562       -0.871795   \n",
       "1      -2.649311  2.226779           -0.722977     2.936799        1.911681   \n",
       "2      -2.669311  2.216779            2.213224    -0.389841       -0.698006   \n",
       "3      -2.679311  2.216779            2.213224    -0.503839       -0.569801   \n",
       "4      -2.679311  2.216779            2.213224    -0.295334       -0.441595   \n",
       "...          ...       ...                 ...          ...             ...   \n",
       "20428  -1.519311  3.846779           -0.344113    -0.272888       -0.173789   \n",
       "20429  -1.639311  3.856779           -1.007126    -0.844654       -0.811966   \n",
       "20430  -1.649311  3.796779           -1.101842     0.075015        0.142450   \n",
       "20431  -1.749311  3.796779           -1.007126    -0.157708       -0.074074   \n",
       "20432  -1.669311  3.736779           -1.196558     0.388659        0.515670   \n",
       "\n",
       "       population  households  median_income  ocean_proximity_<1H OCEAN  \\\n",
       "0       -0.902674   -0.873457       4.454038                        0.0   \n",
       "1        1.320856    2.250000       4.430238                        0.0   \n",
       "2       -0.716578   -0.716049       3.386238                        0.0   \n",
       "3       -0.650267   -0.586420       1.771938                        0.0   \n",
       "4       -0.642781   -0.462963      -0.024962                        0.0   \n",
       "...           ...         ...            ...                        ...   \n",
       "20428   -0.343316   -0.243827      -2.310862                        0.0   \n",
       "20429   -0.866310   -0.910494      -1.314362                        0.0   \n",
       "20430   -0.170053    0.074074      -2.171162                        0.0   \n",
       "20431   -0.454545   -0.185185      -2.003962                        0.0   \n",
       "20432    0.236364    0.373457      -1.482562                        0.0   \n",
       "\n",
       "       ocean_proximity_INLAND  ocean_proximity_ISLAND  \\\n",
       "0                         0.0                     0.0   \n",
       "1                         0.0                     0.0   \n",
       "2                         0.0                     0.0   \n",
       "3                         0.0                     0.0   \n",
       "4                         0.0                     0.0   \n",
       "...                       ...                     ...   \n",
       "20428                     1.0                     0.0   \n",
       "20429                     1.0                     0.0   \n",
       "20430                     1.0                     0.0   \n",
       "20431                     1.0                     0.0   \n",
       "20432                     1.0                     0.0   \n",
       "\n",
       "       ocean_proximity_NEAR BAY  ocean_proximity_NEAR OCEAN  \\\n",
       "0                           1.0                         0.0   \n",
       "1                           1.0                         0.0   \n",
       "2                           1.0                         0.0   \n",
       "3                           1.0                         0.0   \n",
       "4                           1.0                         0.0   \n",
       "...                         ...                         ...   \n",
       "20428                       0.0                         0.0   \n",
       "20429                       0.0                         0.0   \n",
       "20430                       0.0                         0.0   \n",
       "20431                       0.0                         0.0   \n",
       "20432                       0.0                         0.0   \n",
       "\n",
       "       median_house_value  \n",
       "0               21.879065  \n",
       "1               17.330192  \n",
       "2               17.020811  \n",
       "3               16.498730  \n",
       "4               16.542236  \n",
       "...                   ...  \n",
       "20428            3.775420  \n",
       "20429            3.727079  \n",
       "20430            4.461860  \n",
       "20431            4.094469  \n",
       "20432            4.321671  \n",
       "\n",
       "[20433 rows x 14 columns]"
      ]
     },
     "execution_count": 4,
     "metadata": {},
     "output_type": "execute_result"
    }
   ],
   "source": [
    "from tools.preprocessing.scaler import scale_dataframe\n",
    "df, target_scale = scale_dataframe(df, transform_columns=target_columns)\n",
    "df"
   ]
  },
  {
   "cell_type": "code",
   "execution_count": 5,
   "metadata": {},
   "outputs": [
    {
     "name": "stdout",
     "output_type": "stream",
     "text": [
      "train df shape:  (16346, 14)\n",
      "test df shape:  (4087, 14)\n"
     ]
    }
   ],
   "source": [
    "import torch\n",
    "from sklearn.model_selection import train_test_split\n",
    "from tools.preprocessing.template_dataset import TemplateDataset\n",
    "\n",
    "train_df, test_df = train_test_split(df, test_size=0.2, shuffle=True, random_state=42)\n",
    "# predict the next value in the sequence\n",
    "train_df_x = train_df.iloc[:, :-1] # all columns except the last one\n",
    "train_df_y = train_df.iloc[:, -1:] # only the last column\n",
    "\n",
    "test_df_x = test_df.iloc[:, :-1] # all columns except the last one\n",
    "test_df_y = test_df.iloc[:, -1:] # only the last column\n",
    "\n",
    "print('train df shape: ', train_df.shape)\n",
    "print('test df shape: ', test_df.shape)\n",
    "trainset = TemplateDataset(train_df_x, train_df_y)\n",
    "testset = TemplateDataset(test_df_x, test_df_y)"
   ]
  },
  {
   "cell_type": "code",
   "execution_count": 6,
   "metadata": {},
   "outputs": [
    {
     "name": "stdout",
     "output_type": "stream",
     "text": [
      "Trainer Name: causal_trainer\n",
      "\n",
      "\n",
      "\u001b[1mModelParameters Parameters:\u001b[0m\n"
     ]
    },
    {
     "data": {
      "text/html": [
       "<div>\n",
       "<style scoped>\n",
       "    .dataframe tbody tr th:only-of-type {\n",
       "        vertical-align: middle;\n",
       "    }\n",
       "\n",
       "    .dataframe tbody tr th {\n",
       "        vertical-align: top;\n",
       "    }\n",
       "\n",
       "    .dataframe thead th {\n",
       "        text-align: right;\n",
       "    }\n",
       "</style>\n",
       "<table border=\"1\" class=\"dataframe\">\n",
       "  <thead>\n",
       "    <tr style=\"text-align: right;\">\n",
       "      <th></th>\n",
       "      <th>ccnet_config</th>\n",
       "      <th>ccnet_network</th>\n",
       "      <th>encoder_config</th>\n",
       "      <th>encoder_network</th>\n",
       "    </tr>\n",
       "  </thead>\n",
       "  <tbody>\n",
       "    <tr>\n",
       "      <th>0</th>\n",
       "      <td>See details below</td>\n",
       "      <td>tabnet</td>\n",
       "      <td>None</td>\n",
       "      <td>none</td>\n",
       "    </tr>\n",
       "  </tbody>\n",
       "</table>\n",
       "</div>"
      ],
      "text/plain": [
       "        ccnet_config ccnet_network encoder_config encoder_network\n",
       "0  See details below        tabnet           None            none"
      ]
     },
     "metadata": {},
     "output_type": "display_data"
    },
    {
     "name": "stdout",
     "output_type": "stream",
     "text": [
      "\u001b[3m\n",
      "Detailed ccnet_config Configuration:\u001b[0m\n"
     ]
    },
    {
     "data": {
      "text/html": [
       "<div>\n",
       "<style scoped>\n",
       "    .dataframe tbody tr th:only-of-type {\n",
       "        vertical-align: middle;\n",
       "    }\n",
       "\n",
       "    .dataframe tbody tr th {\n",
       "        vertical-align: top;\n",
       "    }\n",
       "\n",
       "    .dataframe thead th {\n",
       "        text-align: right;\n",
       "    }\n",
       "</style>\n",
       "<table border=\"1\" class=\"dataframe\">\n",
       "  <thead>\n",
       "    <tr style=\"text-align: right;\">\n",
       "      <th></th>\n",
       "      <th>ccnet_config_model_name</th>\n",
       "      <th>ccnet_config_num_layers</th>\n",
       "      <th>ccnet_config_d_model</th>\n",
       "      <th>ccnet_config_dropout</th>\n",
       "      <th>ccnet_config_obs_shape</th>\n",
       "      <th>ccnet_config_condition_dim</th>\n",
       "      <th>ccnet_config_z_dim</th>\n",
       "    </tr>\n",
       "  </thead>\n",
       "  <tbody>\n",
       "    <tr>\n",
       "      <th>0</th>\n",
       "      <td>tabnet</td>\n",
       "      <td>3</td>\n",
       "      <td>256</td>\n",
       "      <td>0.05</td>\n",
       "      <td>[13]</td>\n",
       "      <td>1</td>\n",
       "      <td>6</td>\n",
       "    </tr>\n",
       "  </tbody>\n",
       "</table>\n",
       "</div>"
      ],
      "text/plain": [
       "  ccnet_config_model_name  ccnet_config_num_layers  ccnet_config_d_model  \\\n",
       "0                  tabnet                        3                   256   \n",
       "\n",
       "   ccnet_config_dropout ccnet_config_obs_shape  ccnet_config_condition_dim  \\\n",
       "0                  0.05                   [13]                           1   \n",
       "\n",
       "   ccnet_config_z_dim  \n",
       "0                   6  "
      ]
     },
     "metadata": {},
     "output_type": "display_data"
    },
    {
     "name": "stdout",
     "output_type": "stream",
     "text": [
      "\u001b[1mTrainingParameters Parameters:\u001b[0m\n"
     ]
    },
    {
     "data": {
      "text/html": [
       "<div>\n",
       "<style scoped>\n",
       "    .dataframe tbody tr th:only-of-type {\n",
       "        vertical-align: middle;\n",
       "    }\n",
       "\n",
       "    .dataframe tbody tr th {\n",
       "        vertical-align: top;\n",
       "    }\n",
       "\n",
       "    .dataframe thead th {\n",
       "        text-align: right;\n",
       "    }\n",
       "</style>\n",
       "<table border=\"1\" class=\"dataframe\">\n",
       "  <thead>\n",
       "    <tr style=\"text-align: right;\">\n",
       "      <th></th>\n",
       "      <th>batch_size</th>\n",
       "      <th>max_iters</th>\n",
       "      <th>max_seq_len</th>\n",
       "      <th>min_seq_len</th>\n",
       "      <th>num_epoch</th>\n",
       "    </tr>\n",
       "  </thead>\n",
       "  <tbody>\n",
       "    <tr>\n",
       "      <th>0</th>\n",
       "      <td>64</td>\n",
       "      <td>100000</td>\n",
       "      <td>None</td>\n",
       "      <td>None</td>\n",
       "      <td>100</td>\n",
       "    </tr>\n",
       "  </tbody>\n",
       "</table>\n",
       "</div>"
      ],
      "text/plain": [
       "   batch_size  max_iters max_seq_len min_seq_len  num_epoch\n",
       "0          64     100000        None        None        100"
      ]
     },
     "metadata": {},
     "output_type": "display_data"
    },
    {
     "name": "stdout",
     "output_type": "stream",
     "text": [
      "\u001b[1mOptimizationParameters Parameters:\u001b[0m\n"
     ]
    },
    {
     "data": {
      "text/html": [
       "<div>\n",
       "<style scoped>\n",
       "    .dataframe tbody tr th:only-of-type {\n",
       "        vertical-align: middle;\n",
       "    }\n",
       "\n",
       "    .dataframe tbody tr th {\n",
       "        vertical-align: top;\n",
       "    }\n",
       "\n",
       "    .dataframe thead th {\n",
       "        text-align: right;\n",
       "    }\n",
       "</style>\n",
       "<table border=\"1\" class=\"dataframe\">\n",
       "  <thead>\n",
       "    <tr style=\"text-align: right;\">\n",
       "      <th></th>\n",
       "      <th>clip_grad_range</th>\n",
       "      <th>decay_rate_100k</th>\n",
       "      <th>learning_rate</th>\n",
       "      <th>max_grad_norm</th>\n",
       "      <th>scheduler_type</th>\n",
       "    </tr>\n",
       "  </thead>\n",
       "  <tbody>\n",
       "    <tr>\n",
       "      <th>0</th>\n",
       "      <td>None</td>\n",
       "      <td>0.05</td>\n",
       "      <td>0.0002</td>\n",
       "      <td>1.0</td>\n",
       "      <td>exponential</td>\n",
       "    </tr>\n",
       "  </tbody>\n",
       "</table>\n",
       "</div>"
      ],
      "text/plain": [
       "  clip_grad_range  decay_rate_100k  learning_rate  max_grad_norm  \\\n",
       "0            None             0.05         0.0002            1.0   \n",
       "\n",
       "  scheduler_type  \n",
       "0    exponential  "
      ]
     },
     "metadata": {},
     "output_type": "display_data"
    },
    {
     "name": "stdout",
     "output_type": "stream",
     "text": [
      "\u001b[1mAlgorithmParameters Parameters:\u001b[0m\n"
     ]
    },
    {
     "data": {
      "text/html": [
       "<div>\n",
       "<style scoped>\n",
       "    .dataframe tbody tr th:only-of-type {\n",
       "        vertical-align: middle;\n",
       "    }\n",
       "\n",
       "    .dataframe tbody tr th {\n",
       "        vertical-align: top;\n",
       "    }\n",
       "\n",
       "    .dataframe thead th {\n",
       "        text-align: right;\n",
       "    }\n",
       "</style>\n",
       "<table border=\"1\" class=\"dataframe\">\n",
       "  <thead>\n",
       "    <tr style=\"text-align: right;\">\n",
       "      <th></th>\n",
       "      <th>enable_diffusion</th>\n",
       "      <th>error_function</th>\n",
       "      <th>reset_pretrained</th>\n",
       "    </tr>\n",
       "  </thead>\n",
       "  <tbody>\n",
       "    <tr>\n",
       "      <th>0</th>\n",
       "      <td>False</td>\n",
       "      <td>mse</td>\n",
       "      <td>False</td>\n",
       "    </tr>\n",
       "  </tbody>\n",
       "</table>\n",
       "</div>"
      ],
      "text/plain": [
       "   enable_diffusion error_function  reset_pretrained\n",
       "0             False            mse             False"
      ]
     },
     "metadata": {},
     "output_type": "display_data"
    },
    {
     "name": "stdout",
     "output_type": "stream",
     "text": [
      "\u001b[1mDataConfig Parameters:\u001b[0m\n"
     ]
    },
    {
     "data": {
      "text/html": [
       "<div>\n",
       "<style scoped>\n",
       "    .dataframe tbody tr th:only-of-type {\n",
       "        vertical-align: middle;\n",
       "    }\n",
       "\n",
       "    .dataframe tbody tr th {\n",
       "        vertical-align: top;\n",
       "    }\n",
       "\n",
       "    .dataframe thead th {\n",
       "        text-align: right;\n",
       "    }\n",
       "</style>\n",
       "<table border=\"1\" class=\"dataframe\">\n",
       "  <thead>\n",
       "    <tr style=\"text-align: right;\">\n",
       "      <th></th>\n",
       "      <th>dataset_name</th>\n",
       "      <th>task_type</th>\n",
       "      <th>obs_shape</th>\n",
       "      <th>label_size</th>\n",
       "      <th>explain_size</th>\n",
       "      <th>explain_layer</th>\n",
       "      <th>state_size</th>\n",
       "      <th>show_image_indices</th>\n",
       "    </tr>\n",
       "  </thead>\n",
       "  <tbody>\n",
       "    <tr>\n",
       "      <th>0</th>\n",
       "      <td>california-house-price</td>\n",
       "      <td>regression</td>\n",
       "      <td>[13]</td>\n",
       "      <td>1</td>\n",
       "      <td>6</td>\n",
       "      <td>tanh</td>\n",
       "      <td>None</td>\n",
       "      <td>None</td>\n",
       "    </tr>\n",
       "  </tbody>\n",
       "</table>\n",
       "</div>"
      ],
      "text/plain": [
       "             dataset_name   task_type obs_shape  label_size  explain_size  \\\n",
       "0  california-house-price  regression      [13]           1             6   \n",
       "\n",
       "  explain_layer state_size show_image_indices  \n",
       "0          tanh       None               None  "
      ]
     },
     "metadata": {},
     "output_type": "display_data"
    },
    {
     "name": "stdout",
     "output_type": "stream",
     "text": [
      "\n",
      "\n",
      "\n",
      "\n"
     ]
    }
   ],
   "source": [
    "from tools.setting.data_config import DataConfig\n",
    "from tools.setting.ml_params import MLParameters\n",
    "from trainer_hub import TrainerHub\n",
    "\n",
    "num_features = description['num_features']\n",
    "num_classes = description['num_classes']\n",
    "data_config = DataConfig(dataset_name = dataset_name, task_type='regression', obs_shape=[num_features], label_size=num_classes, label_scale=target_scale)\n",
    "\n",
    "#  Set training configuration from the AlgorithmConfig class, returning them as a Namespace object.\n",
    "ml_params = MLParameters(ccnet_network = 'tabnet')\n",
    "ml_params.training.num_epoch = 100\n",
    "ml_params.model.ccnet_config.num_layers = 3\n",
    "\n",
    "# Set the device to GPU if available, else CPU\n",
    "device = torch.device(\"cuda\" if torch.cuda.is_available() else \"cpu\") \n",
    "\n",
    "# Initialize the TrainerHub class with the training configuration, data configuration, device, and use_print and use_wandb flags\n",
    "trainer_hub = TrainerHub(ml_params, data_config, device, use_print=True, use_wandb=True) "
   ]
  },
  {
   "cell_type": "code",
   "execution_count": 7,
   "metadata": {},
   "outputs": [
    {
     "name": "stderr",
     "output_type": "stream",
     "text": [
      "Failed to detect the name of this notebook, you can set it manually with the WANDB_NOTEBOOK_NAME environment variable to enable code saving.\n",
      "\u001b[34m\u001b[1mwandb\u001b[0m: Currently logged in as: \u001b[33mjunhopark\u001b[0m. Use \u001b[1m`wandb login --relogin`\u001b[0m to force relogin\n"
     ]
    },
    {
     "data": {
      "application/vnd.jupyter.widget-view+json": {
       "model_id": "63fa3f0ce0224df981164c441b5a7049",
       "version_major": 2,
       "version_minor": 0
      },
      "text/plain": [
       "VBox(children=(Label(value='Waiting for wandb.init()...\\r'), FloatProgress(value=0.01128888888957186, max=1.0)…"
      ]
     },
     "metadata": {},
     "output_type": "display_data"
    },
    {
     "data": {
      "text/html": [
       "Tracking run with wandb version 0.17.0"
      ],
      "text/plain": [
       "<IPython.core.display.HTML object>"
      ]
     },
     "metadata": {},
     "output_type": "display_data"
    },
    {
     "data": {
      "text/html": [
       "Run data is saved locally in <code>c:\\Users\\junho\\Projects\\causal-learning\\examples\\wandb\\run-20240605_134737-2jjq23v3</code>"
      ],
      "text/plain": [
       "<IPython.core.display.HTML object>"
      ]
     },
     "metadata": {},
     "output_type": "display_data"
    },
    {
     "data": {
      "text/html": [
       "Syncing run <strong><a href='https://wandb.ai/junhopark/causal-learning/runs/2jjq23v3' target=\"_blank\">causal-learning-california-house-price : 24-06-05 13:47:33</a></strong> to <a href='https://wandb.ai/junhopark/causal-learning' target=\"_blank\">Weights & Biases</a> (<a href='https://wandb.me/run' target=\"_blank\">docs</a>)<br/>"
      ],
      "text/plain": [
       "<IPython.core.display.HTML object>"
      ]
     },
     "metadata": {},
     "output_type": "display_data"
    },
    {
     "data": {
      "text/html": [
       " View project at <a href='https://wandb.ai/junhopark/causal-learning' target=\"_blank\">https://wandb.ai/junhopark/causal-learning</a>"
      ],
      "text/plain": [
       "<IPython.core.display.HTML object>"
      ]
     },
     "metadata": {},
     "output_type": "display_data"
    },
    {
     "data": {
      "text/html": [
       " View run at <a href='https://wandb.ai/junhopark/causal-learning/runs/2jjq23v3' target=\"_blank\">https://wandb.ai/junhopark/causal-learning/runs/2jjq23v3</a>"
      ],
      "text/plain": [
       "<IPython.core.display.HTML object>"
      ]
     },
     "metadata": {},
     "output_type": "display_data"
    },
    {
     "name": "stderr",
     "output_type": "stream",
     "text": [
      "\u001b[34m\u001b[1mwandb\u001b[0m: Adding directory to artifact (.\\..\\saved\\california-house-price\\causal-learning)... Done. 0.0s\n"
     ]
    },
    {
     "data": {
      "application/vnd.jupyter.widget-view+json": {
       "model_id": "2b6f9f6c884f41878a71ed4ccac9e63a",
       "version_major": 2,
       "version_minor": 0
      },
      "text/plain": [
       "Epochs:   0%|          | 0/100 [00:00<?, ?it/s]"
      ]
     },
     "metadata": {},
     "output_type": "display_data"
    },
    {
     "data": {
      "application/vnd.jupyter.widget-view+json": {
       "model_id": "c978f6b0839441169a28b54d540ec685",
       "version_major": 2,
       "version_minor": 0
      },
      "text/plain": [
       "Iterations:   0%|          | 0/255 [00:00<?, ?it/s]"
      ]
     },
     "metadata": {},
     "output_type": "display_data"
    },
    {
     "name": "stdout",
     "output_type": "stream",
     "text": [
      "[0/100][100/255][Time 14.49]\n",
      "Unified LR across all optimizers: 0.0001993957766378747\n",
      "--------------------Training Metrics--------------------\n",
      "CCNet:  Three Tabnet\n",
      "Inf: 0.2514\tGen: 0.5750\tRec: 0.5737\tE: 0.1542\tR: 0.2022\tP: 1.0705\n",
      "--------------------Test Metrics------------------------\n",
      "mse: 25800218755.0691\n",
      "mae: 126874.9369\n",
      "r2: -1.0772\n",
      "\n",
      "[0/100][200/255][Time 13.46]\n",
      "Unified LR across all optimizers: 0.00019879933411171295\n",
      "--------------------Training Metrics--------------------\n",
      "CCNet:  Three Tabnet\n",
      "Inf: 0.0915\tGen: 0.4628\tRec: 0.4570\tE: 0.0190\tR: 0.0204\tP: 0.9078\n",
      "--------------------Test Metrics------------------------\n",
      "mse: 9816244985.2337\n",
      "mae: 70841.5113\n",
      "r2: 0.3039\n",
      "\n"
     ]
    },
    {
     "data": {
      "application/vnd.jupyter.widget-view+json": {
       "model_id": "ef8185c5255b45bea2807e77e50220cd",
       "version_major": 2,
       "version_minor": 0
      },
      "text/plain": [
       "Iterations:   0%|          | 0/255 [00:00<?, ?it/s]"
      ]
     },
     "metadata": {},
     "output_type": "display_data"
    },
    {
     "name": "stdout",
     "output_type": "stream",
     "text": [
      "[1/100][45/255][Time 13.15]\n",
      "Unified LR across all optimizers: 0.00019820467569398644\n",
      "--------------------Training Metrics--------------------\n",
      "CCNet:  Three Tabnet\n",
      "Inf: 0.0788\tGen: 0.4174\tRec: 0.4085\tE: 0.0162\tR: 0.0096\tP: 0.7804\n",
      "--------------------Test Metrics------------------------\n",
      "mse: 6561958622.4373\n",
      "mae: 54860.2016\n",
      "r2: 0.5053\n",
      "\n",
      "[1/100][145/255][Time 13.33]\n",
      "Unified LR across all optimizers: 0.00019761179604798148\n",
      "--------------------Training Metrics--------------------\n",
      "CCNet:  Three Tabnet\n",
      "Inf: 0.0731\tGen: 0.3772\tRec: 0.3692\tE: 0.0143\tR: 0.0079\tP: 0.5996\n",
      "--------------------Test Metrics------------------------\n",
      "mse: 6505554604.5221\n",
      "mae: 53561.1610\n",
      "r2: 0.4790\n",
      "\n",
      "[1/100][245/255][Time 21.08]\n",
      "Unified LR across all optimizers: 0.0001970206898529479\n",
      "--------------------Training Metrics--------------------\n",
      "CCNet:  Three Tabnet\n",
      "Inf: 0.0729\tGen: 0.3668\tRec: 0.3592\tE: 0.0135\tR: 0.0084\tP: 0.5823\n",
      "--------------------Test Metrics------------------------\n",
      "mse: 5936912633.6418\n",
      "mae: 52267.9055\n",
      "r2: 0.5743\n",
      "\n"
     ]
    },
    {
     "data": {
      "application/vnd.jupyter.widget-view+json": {
       "model_id": "d2d40b38dda34581bd7b78c9261255da",
       "version_major": 2,
       "version_minor": 0
      },
      "text/plain": [
       "Iterations:   0%|          | 0/255 [00:00<?, ?it/s]"
      ]
     },
     "metadata": {},
     "output_type": "display_data"
    },
    {
     "name": "stdout",
     "output_type": "stream",
     "text": [
      "[2/100][90/255][Time 33.19]\n",
      "Unified LR across all optimizers: 0.00019643135180405117\n",
      "--------------------Training Metrics--------------------\n",
      "CCNet:  Three Tabnet\n",
      "Inf: 0.0689\tGen: 0.3722\tRec: 0.3661\tE: 0.0126\tR: 0.0085\tP: 0.6198\n",
      "--------------------Test Metrics------------------------\n",
      "mse: 8504834000.6500\n",
      "mae: 54571.3655\n",
      "r2: 0.3830\n",
      "\n",
      "[2/100][190/255][Time 14.24]\n",
      "Unified LR across all optimizers: 0.00019584377661232514\n",
      "--------------------Training Metrics--------------------\n",
      "CCNet:  Three Tabnet\n",
      "Inf: 0.0631\tGen: 0.3442\tRec: 0.3380\tE: 0.0100\tR: 0.0064\tP: 0.5483\n",
      "--------------------Test Metrics------------------------\n",
      "mse: 4749567363.2055\n",
      "mae: 48093.3372\n",
      "r2: 0.6414\n",
      "\n"
     ]
    },
    {
     "data": {
      "application/vnd.jupyter.widget-view+json": {
       "model_id": "1ecc13fd697a46e286e0df560170b4b3",
       "version_major": 2,
       "version_minor": 0
      },
      "text/plain": [
       "Iterations:   0%|          | 0/255 [00:00<?, ?it/s]"
      ]
     },
     "metadata": {},
     "output_type": "display_data"
    },
    {
     "name": "stdout",
     "output_type": "stream",
     "text": [
      "[3/100][35/255][Time 34.19]\n",
      "Unified LR across all optimizers: 0.00019525795900462422\n",
      "--------------------Training Metrics--------------------\n",
      "CCNet:  Three Tabnet\n",
      "Inf: 0.0602\tGen: 0.3232\tRec: 0.3173\tE: 0.0097\tR: 0.0063\tP: 0.4490\n",
      "--------------------Test Metrics------------------------\n",
      "mse: 6473904198.2534\n",
      "mae: 51649.4778\n",
      "r2: 0.5661\n",
      "\n",
      "[3/100][135/255][Time 20.90]\n",
      "Unified LR across all optimizers: 0.00019467389372357586\n",
      "--------------------Training Metrics--------------------\n",
      "CCNet:  Three Tabnet\n",
      "Inf: 0.0608\tGen: 0.3097\tRec: 0.3039\tE: 0.0104\tR: 0.0074\tP: 0.4331\n",
      "--------------------Test Metrics------------------------\n",
      "mse: 5412152737.2594\n",
      "mae: 49233.6110\n",
      "r2: 0.6003\n",
      "\n",
      "[3/100][235/255][Time 14.42]\n",
      "Unified LR across all optimizers: 0.00019409157552753375\n",
      "--------------------Training Metrics--------------------\n",
      "CCNet:  Three Tabnet\n",
      "Inf: 0.0616\tGen: 0.3084\tRec: 0.3025\tE: 0.0101\tR: 0.0063\tP: 0.4738\n",
      "--------------------Test Metrics------------------------\n",
      "mse: 4265100967.6233\n",
      "mae: 45615.0358\n",
      "r2: 0.6838\n",
      "\n"
     ]
    },
    {
     "data": {
      "application/vnd.jupyter.widget-view+json": {
       "model_id": "d5b783ee6741436191cda5c548ba1c4f",
       "version_major": 2,
       "version_minor": 0
      },
      "text/plain": [
       "Iterations:   0%|          | 0/255 [00:00<?, ?it/s]"
      ]
     },
     "metadata": {},
     "output_type": "display_data"
    },
    {
     "name": "stdout",
     "output_type": "stream",
     "text": [
      "[4/100][80/255][Time 13.74]\n",
      "Unified LR across all optimizers: 0.00019351099919053054\n",
      "--------------------Training Metrics--------------------\n",
      "CCNet:  Three Tabnet\n",
      "Inf: 0.0610\tGen: 0.2972\tRec: 0.2904\tE: 0.0108\tR: 0.0064\tP: 0.4348\n",
      "--------------------Test Metrics------------------------\n",
      "mse: 6145576877.5897\n",
      "mae: 48176.7705\n",
      "r2: 0.5348\n",
      "\n",
      "[4/100][180/255][Time 13.07]\n",
      "Unified LR across all optimizers: 0.00019293215950223126\n",
      "--------------------Training Metrics--------------------\n",
      "CCNet:  Three Tabnet\n",
      "Inf: 0.0595\tGen: 0.2930\tRec: 0.2860\tE: 0.0120\tR: 0.0067\tP: 0.4101\n",
      "--------------------Test Metrics------------------------\n",
      "mse: 4354639193.0055\n",
      "mae: 46304.5245\n",
      "r2: 0.6242\n",
      "\n"
     ]
    },
    {
     "data": {
      "application/vnd.jupyter.widget-view+json": {
       "model_id": "756d3550671e494f98e38b486801db95",
       "version_major": 2,
       "version_minor": 0
      },
      "text/plain": [
       "Iterations:   0%|          | 0/255 [00:00<?, ?it/s]"
      ]
     },
     "metadata": {},
     "output_type": "display_data"
    },
    {
     "name": "stdout",
     "output_type": "stream",
     "text": [
      "[5/100][25/255][Time 12.20]\n",
      "Unified LR across all optimizers: 0.00019235505126788632\n",
      "--------------------Training Metrics--------------------\n",
      "CCNet:  Three Tabnet\n",
      "Inf: 0.0572\tGen: 0.3013\tRec: 0.2941\tE: 0.0107\tR: 0.0053\tP: 0.4660\n",
      "--------------------Test Metrics------------------------\n",
      "mse: 5426626965.3573\n",
      "mae: 51190.7908\n",
      "r2: 0.5859\n",
      "\n",
      "[5/100][125/255][Time 12.21]\n",
      "Unified LR across all optimizers: 0.0001917796693082847\n",
      "--------------------Training Metrics--------------------\n",
      "CCNet:  Three Tabnet\n",
      "Inf: 0.0553\tGen: 0.3056\tRec: 0.2997\tE: 0.0075\tR: 0.0048\tP: 0.4445\n",
      "--------------------Test Metrics------------------------\n",
      "mse: 3569297993.8188\n",
      "mae: 42501.4960\n",
      "r2: 0.7565\n",
      "\n",
      "[5/100][225/255][Time 13.13]\n",
      "Unified LR across all optimizers: 0.00019120600845970806\n",
      "--------------------Training Metrics--------------------\n",
      "CCNet:  Three Tabnet\n",
      "Inf: 0.0560\tGen: 0.2767\tRec: 0.2692\tE: 0.0093\tR: 0.0042\tP: 0.3432\n",
      "--------------------Test Metrics------------------------\n",
      "mse: 3841179821.2944\n",
      "mae: 43397.9055\n",
      "r2: 0.7753\n",
      "\n"
     ]
    },
    {
     "data": {
      "application/vnd.jupyter.widget-view+json": {
       "model_id": "78f49b3658a2412685f6c97bdf20aa20",
       "version_major": 2,
       "version_minor": 0
      },
      "text/plain": [
       "Iterations:   0%|          | 0/255 [00:00<?, ?it/s]"
      ]
     },
     "metadata": {},
     "output_type": "display_data"
    },
    {
     "name": "stdout",
     "output_type": "stream",
     "text": [
      "[6/100][70/255][Time 13.15]\n",
      "Unified LR across all optimizers: 0.0001906340635738838\n",
      "--------------------Training Metrics--------------------\n",
      "CCNet:  Three Tabnet\n",
      "Inf: 0.0581\tGen: 0.2632\tRec: 0.2570\tE: 0.0082\tR: 0.0053\tP: 0.3271\n",
      "--------------------Test Metrics------------------------\n",
      "mse: 3521781519.3253\n",
      "mae: 43351.9431\n",
      "r2: 0.7286\n",
      "\n",
      "[6/100][170/255][Time 12.84]\n",
      "Unified LR across all optimizers: 0.000190063829517939\n",
      "--------------------Training Metrics--------------------\n",
      "CCNet:  Three Tabnet\n",
      "Inf: 0.0590\tGen: 0.2512\tRec: 0.2451\tE: 0.0091\tR: 0.0061\tP: 0.2913\n",
      "--------------------Test Metrics------------------------\n",
      "mse: 5568116983.0174\n",
      "mae: 50284.9215\n",
      "r2: 0.6458\n",
      "\n"
     ]
    },
    {
     "data": {
      "application/vnd.jupyter.widget-view+json": {
       "model_id": "b769a706f52640179c0893e04e72078c",
       "version_major": 2,
       "version_minor": 0
      },
      "text/plain": [
       "Iterations:   0%|          | 0/255 [00:00<?, ?it/s]"
      ]
     },
     "metadata": {},
     "output_type": "display_data"
    },
    {
     "name": "stdout",
     "output_type": "stream",
     "text": [
      "[7/100][15/255][Time 13.15]\n",
      "Unified LR across all optimizers: 0.00018949530117435472\n",
      "--------------------Training Metrics--------------------\n",
      "CCNet:  Three Tabnet\n",
      "Inf: 0.0517\tGen: 0.2455\tRec: 0.2384\tE: 0.0090\tR: 0.0044\tP: 0.2903\n",
      "--------------------Test Metrics------------------------\n",
      "mse: 4713645057.6265\n",
      "mae: 46569.6008\n",
      "r2: 0.6320\n",
      "\n",
      "[7/100][115/255][Time 13.13]\n",
      "Unified LR across all optimizers: 0.00018892847344091938\n",
      "--------------------Training Metrics--------------------\n",
      "CCNet:  Three Tabnet\n",
      "Inf: 0.0520\tGen: 0.2391\tRec: 0.2334\tE: 0.0077\tR: 0.0060\tP: 0.2801\n",
      "--------------------Test Metrics------------------------\n",
      "mse: 4156855835.4799\n",
      "mae: 44744.0592\n",
      "r2: 0.7047\n",
      "\n",
      "[7/100][215/255][Time 13.11]\n",
      "Unified LR across all optimizers: 0.00018836334123068405\n",
      "--------------------Training Metrics--------------------\n",
      "CCNet:  Three Tabnet\n",
      "Inf: 0.0532\tGen: 0.2363\tRec: 0.2311\tE: 0.0075\tR: 0.0054\tP: 0.2405\n",
      "--------------------Test Metrics------------------------\n",
      "mse: 5150247096.0290\n",
      "mae: 51529.3856\n",
      "r2: 0.5983\n",
      "\n"
     ]
    },
    {
     "data": {
      "application/vnd.jupyter.widget-view+json": {
       "model_id": "ba4acb25e89146ccb957b8bdc305436c",
       "version_major": 2,
       "version_minor": 0
      },
      "text/plain": [
       "Iterations:   0%|          | 0/255 [00:00<?, ?it/s]"
      ]
     },
     "metadata": {},
     "output_type": "display_data"
    },
    {
     "name": "stdout",
     "output_type": "stream",
     "text": [
      "[8/100][60/255][Time 13.16]\n",
      "Unified LR across all optimizers: 0.0001877998994719154\n",
      "--------------------Training Metrics--------------------\n",
      "CCNet:  Three Tabnet\n",
      "Inf: 0.0522\tGen: 0.2335\tRec: 0.2273\tE: 0.0077\tR: 0.0042\tP: 0.2617\n",
      "--------------------Test Metrics------------------------\n",
      "mse: 3525606296.6769\n",
      "mae: 42398.2548\n",
      "r2: 0.7314\n",
      "\n",
      "[8/100][160/255][Time 12.97]\n",
      "Unified LR across all optimizers: 0.00018723814310805145\n",
      "--------------------Training Metrics--------------------\n",
      "CCNet:  Three Tabnet\n",
      "Inf: 0.0488\tGen: 0.2184\tRec: 0.2120\tE: 0.0064\tR: 0.0034\tP: 0.2116\n",
      "--------------------Test Metrics------------------------\n",
      "mse: 4238660092.5234\n",
      "mae: 42600.3886\n",
      "r2: 0.7097\n",
      "\n"
     ]
    },
    {
     "data": {
      "application/vnd.jupyter.widget-view+json": {
       "model_id": "72a2d3e3364e4fd1a6a1b29c937adc9d",
       "version_major": 2,
       "version_minor": 0
      },
      "text/plain": [
       "Iterations:   0%|          | 0/255 [00:00<?, ?it/s]"
      ]
     },
     "metadata": {},
     "output_type": "display_data"
    },
    {
     "name": "stdout",
     "output_type": "stream",
     "text": [
      "[9/100][5/255][Time 13.26]\n",
      "Unified LR across all optimizers: 0.00018667806709765522\n",
      "--------------------Training Metrics--------------------\n",
      "CCNet:  Three Tabnet\n",
      "Inf: 0.0556\tGen: 0.2212\tRec: 0.2137\tE: 0.0133\tR: 0.0061\tP: 0.2032\n",
      "--------------------Test Metrics------------------------\n",
      "mse: 5254040756.5694\n",
      "mae: 53226.7249\n",
      "r2: 0.6127\n",
      "\n",
      "[9/100][105/255][Time 12.82]\n",
      "Unified LR across all optimizers: 0.00018611966641437044\n",
      "--------------------Training Metrics--------------------\n",
      "CCNet:  Three Tabnet\n",
      "Inf: 0.0553\tGen: 0.2221\tRec: 0.2148\tE: 0.0090\tR: 0.0050\tP: 0.2219\n",
      "--------------------Test Metrics------------------------\n",
      "mse: 7831664330.7954\n",
      "mae: 63048.2114\n",
      "r2: 0.5284\n",
      "\n",
      "[9/100][205/255][Time 13.09]\n",
      "Unified LR across all optimizers: 0.00018556293604687557\n",
      "--------------------Training Metrics--------------------\n",
      "CCNet:  Three Tabnet\n",
      "Inf: 0.0533\tGen: 0.2150\tRec: 0.2082\tE: 0.0083\tR: 0.0052\tP: 0.2137\n",
      "--------------------Test Metrics------------------------\n",
      "mse: 3859088720.8347\n",
      "mae: 45548.4751\n",
      "r2: 0.6913\n",
      "\n"
     ]
    },
    {
     "data": {
      "application/vnd.jupyter.widget-view+json": {
       "model_id": "eea1da5fc04a49cf9d76c7da3f3b9383",
       "version_major": 2,
       "version_minor": 0
      },
      "text/plain": [
       "Iterations:   0%|          | 0/255 [00:00<?, ?it/s]"
      ]
     },
     "metadata": {},
     "output_type": "display_data"
    },
    {
     "name": "stdout",
     "output_type": "stream",
     "text": [
      "[10/100][50/255][Time 12.95]\n",
      "Unified LR across all optimizers: 0.00018500787099883916\n",
      "--------------------Training Metrics--------------------\n",
      "CCNet:  Three Tabnet\n",
      "Inf: 0.0523\tGen: 0.2190\tRec: 0.2138\tE: 0.0084\tR: 0.0050\tP: 0.2003\n",
      "--------------------Test Metrics------------------------\n",
      "mse: 3624639533.5827\n",
      "mae: 41307.2505\n",
      "r2: 0.7216\n",
      "\n",
      "[10/100][150/255][Time 12.93]\n",
      "Unified LR across all optimizers: 0.00018445446628887513\n",
      "--------------------Training Metrics--------------------\n",
      "CCNet:  Three Tabnet\n",
      "Inf: 0.0573\tGen: 0.2317\tRec: 0.2236\tE: 0.0106\tR: 0.0064\tP: 0.2185\n",
      "--------------------Test Metrics------------------------\n",
      "mse: 5534274874.5797\n",
      "mae: 51570.6759\n",
      "r2: 0.5920\n",
      "\n",
      "[10/100][250/255][Time 13.07]\n",
      "Unified LR across all optimizers: 0.00018390271695049802\n",
      "--------------------Training Metrics--------------------\n",
      "CCNet:  Three Tabnet\n",
      "Inf: 0.0556\tGen: 0.2243\tRec: 0.2170\tE: 0.0107\tR: 0.0053\tP: 0.2534\n",
      "--------------------Test Metrics------------------------\n",
      "mse: 3968123480.0215\n",
      "mae: 48518.1991\n",
      "r2: 0.6988\n",
      "\n"
     ]
    },
    {
     "data": {
      "application/vnd.jupyter.widget-view+json": {
       "model_id": "aa9c5156e219421b89076b87eca6c32e",
       "version_major": 2,
       "version_minor": 0
      },
      "text/plain": [
       "Iterations:   0%|          | 0/255 [00:00<?, ?it/s]"
      ]
     },
     "metadata": {},
     "output_type": "display_data"
    },
    {
     "name": "stdout",
     "output_type": "stream",
     "text": [
      "[11/100][95/255][Time 12.90]\n",
      "Unified LR across all optimizers: 0.00018335261803207844\n",
      "--------------------Training Metrics--------------------\n",
      "CCNet:  Three Tabnet\n",
      "Inf: 0.0538\tGen: 0.2065\tRec: 0.1984\tE: 0.0096\tR: 0.0041\tP: 0.1884\n",
      "--------------------Test Metrics------------------------\n",
      "mse: 5075019783.7128\n",
      "mae: 49710.7648\n",
      "r2: 0.6645\n",
      "\n",
      "[11/100][195/255][Time 13.87]\n",
      "Unified LR across all optimizers: 0.00018280416459679836\n",
      "--------------------Training Metrics--------------------\n",
      "CCNet:  Three Tabnet\n",
      "Inf: 0.0519\tGen: 0.1928\tRec: 0.1844\tE: 0.0077\tR: 0.0035\tP: 0.1483\n",
      "--------------------Test Metrics------------------------\n",
      "mse: 3240978680.0544\n",
      "mae: 40324.1106\n",
      "r2: 0.7190\n",
      "\n"
     ]
    },
    {
     "data": {
      "application/vnd.jupyter.widget-view+json": {
       "model_id": "d3d0f002eeb3456582cf88fafbbdd9ee",
       "version_major": 2,
       "version_minor": 0
      },
      "text/plain": [
       "Iterations:   0%|          | 0/255 [00:00<?, ?it/s]"
      ]
     },
     "metadata": {},
     "output_type": "display_data"
    },
    {
     "name": "stdout",
     "output_type": "stream",
     "text": [
      "[12/100][40/255][Time 12.85]\n",
      "Unified LR across all optimizers: 0.000182257351722607\n",
      "--------------------Training Metrics--------------------\n",
      "CCNet:  Three Tabnet\n",
      "Inf: 0.0533\tGen: 0.1983\tRec: 0.1902\tE: 0.0087\tR: 0.0043\tP: 0.1556\n",
      "--------------------Test Metrics------------------------\n",
      "mse: 4011915580.2292\n",
      "mae: 43100.9200\n",
      "r2: 0.6888\n",
      "\n",
      "[12/100][140/255][Time 12.71]\n",
      "Unified LR across all optimizers: 0.00018171217450217676\n",
      "--------------------Training Metrics--------------------\n",
      "CCNet:  Three Tabnet\n",
      "Inf: 0.0518\tGen: 0.1989\tRec: 0.1905\tE: 0.0100\tR: 0.0039\tP: 0.1509\n",
      "--------------------Test Metrics------------------------\n",
      "mse: 4702510922.0093\n",
      "mae: 49755.3899\n",
      "r2: 0.6390\n",
      "\n",
      "[12/100][240/255][Time 12.92]\n",
      "Unified LR across all optimizers: 0.00018116862804285912\n",
      "--------------------Training Metrics--------------------\n",
      "CCNet:  Three Tabnet\n",
      "Inf: 0.0489\tGen: 0.1934\tRec: 0.1865\tE: 0.0066\tR: 0.0033\tP: 0.1552\n",
      "--------------------Test Metrics------------------------\n",
      "mse: 3537618238.4994\n",
      "mae: 40412.8553\n",
      "r2: 0.7524\n",
      "\n"
     ]
    },
    {
     "data": {
      "application/vnd.jupyter.widget-view+json": {
       "model_id": "92772ab9790548f5a56771139201d138",
       "version_major": 2,
       "version_minor": 0
      },
      "text/plain": [
       "Iterations:   0%|          | 0/255 [00:00<?, ?it/s]"
      ]
     },
     "metadata": {},
     "output_type": "display_data"
    },
    {
     "name": "stdout",
     "output_type": "stream",
     "text": [
      "[13/100][85/255][Time 13.16]\n",
      "Unified LR across all optimizers: 0.0001806267074666406\n",
      "--------------------Training Metrics--------------------\n",
      "CCNet:  Three Tabnet\n",
      "Inf: 0.0482\tGen: 0.1863\tRec: 0.1783\tE: 0.0069\tR: 0.0028\tP: 0.1416\n",
      "--------------------Test Metrics------------------------\n",
      "mse: 3682609760.6860\n",
      "mae: 40782.3599\n",
      "r2: 0.7599\n",
      "\n",
      "[13/100][185/255][Time 12.41]\n",
      "Unified LR across all optimizers: 0.00018008640791009926\n",
      "--------------------Training Metrics--------------------\n",
      "CCNet:  Three Tabnet\n",
      "Inf: 0.0498\tGen: 0.1851\tRec: 0.1766\tE: 0.0081\tR: 0.0037\tP: 0.1317\n",
      "--------------------Test Metrics------------------------\n",
      "mse: 4665734670.7258\n",
      "mae: 44271.3777\n",
      "r2: 0.6510\n",
      "\n"
     ]
    },
    {
     "data": {
      "application/vnd.jupyter.widget-view+json": {
       "model_id": "bb2da6d9f13d48ae8d66946ef7013a0a",
       "version_major": 2,
       "version_minor": 0
      },
      "text/plain": [
       "Iterations:   0%|          | 0/255 [00:00<?, ?it/s]"
      ]
     },
     "metadata": {},
     "output_type": "display_data"
    },
    {
     "name": "stdout",
     "output_type": "stream",
     "text": [
      "[14/100][30/255][Time 14.06]\n",
      "Unified LR across all optimizers: 0.0001795477245243606\n",
      "--------------------Training Metrics--------------------\n",
      "CCNet:  Three Tabnet\n",
      "Inf: 0.0506\tGen: 0.1837\tRec: 0.1745\tE: 0.0096\tR: 0.0035\tP: 0.1312\n",
      "--------------------Test Metrics------------------------\n",
      "mse: 3879844639.3882\n",
      "mae: 41197.5850\n",
      "r2: 0.7539\n",
      "\n",
      "[14/100][130/255][Time 13.14]\n",
      "Unified LR across all optimizers: 0.00017901065247505463\n",
      "--------------------Training Metrics--------------------\n",
      "CCNet:  Three Tabnet\n",
      "Inf: 0.0504\tGen: 0.1783\tRec: 0.1716\tE: 0.0073\tR: 0.0040\tP: 0.1231\n",
      "--------------------Test Metrics------------------------\n",
      "mse: 4710333109.6070\n",
      "mae: 46884.6484\n",
      "r2: 0.6297\n",
      "\n",
      "[14/100][230/255][Time 13.50]\n",
      "Unified LR across all optimizers: 0.0001784751869422717\n",
      "--------------------Training Metrics--------------------\n",
      "CCNet:  Three Tabnet\n",
      "Inf: 0.0477\tGen: 0.1742\tRec: 0.1666\tE: 0.0070\tR: 0.0032\tP: 0.1108\n",
      "--------------------Test Metrics------------------------\n",
      "mse: 3892160804.6420\n",
      "mae: 44040.9694\n",
      "r2: 0.7264\n",
      "\n"
     ]
    },
    {
     "data": {
      "application/vnd.jupyter.widget-view+json": {
       "model_id": "d6b37ce888ff452481b00152b855b0f7",
       "version_major": 2,
       "version_minor": 0
      },
      "text/plain": [
       "Iterations:   0%|          | 0/255 [00:00<?, ?it/s]"
      ]
     },
     "metadata": {},
     "output_type": "display_data"
    },
    {
     "name": "stdout",
     "output_type": "stream",
     "text": [
      "[15/100][75/255][Time 13.01]\n",
      "Unified LR across all optimizers: 0.0001779413231205201\n",
      "--------------------Training Metrics--------------------\n",
      "CCNet:  Three Tabnet\n",
      "Inf: 0.0507\tGen: 0.1824\tRec: 0.1743\tE: 0.0108\tR: 0.0036\tP: 0.1364\n",
      "--------------------Test Metrics------------------------\n",
      "mse: 3203189573.6116\n",
      "mae: 40258.9800\n",
      "r2: 0.7531\n",
      "\n",
      "[15/100][175/255][Time 13.36]\n",
      "Unified LR across all optimizers: 0.00017740905621868258\n",
      "--------------------Training Metrics--------------------\n",
      "CCNet:  Three Tabnet\n",
      "Inf: 0.0482\tGen: 0.1885\tRec: 0.1806\tE: 0.0072\tR: 0.0031\tP: 0.1454\n",
      "--------------------Test Metrics------------------------\n",
      "mse: 3242531472.4671\n",
      "mae: 39781.7030\n",
      "r2: 0.7372\n",
      "\n"
     ]
    },
    {
     "data": {
      "application/vnd.jupyter.widget-view+json": {
       "model_id": "08ec113851ec4f1fa718d92fec87582f",
       "version_major": 2,
       "version_minor": 0
      },
      "text/plain": [
       "Iterations:   0%|          | 0/255 [00:00<?, ?it/s]"
      ]
     },
     "metadata": {},
     "output_type": "display_data"
    },
    {
     "name": "stdout",
     "output_type": "stream",
     "text": [
      "[16/100][20/255][Time 13.06]\n",
      "Unified LR across all optimizers: 0.00017687838145997293\n",
      "--------------------Training Metrics--------------------\n",
      "CCNet:  Three Tabnet\n",
      "Inf: 0.0498\tGen: 0.1821\tRec: 0.1738\tE: 0.0072\tR: 0.0036\tP: 0.1270\n",
      "--------------------Test Metrics------------------------\n",
      "mse: 3556919481.0045\n",
      "mae: 42801.8641\n",
      "r2: 0.6937\n",
      "\n",
      "[16/100][120/255][Time 13.55]\n",
      "Unified LR across all optimizers: 0.00017634929408189386\n",
      "--------------------Training Metrics--------------------\n",
      "CCNet:  Three Tabnet\n",
      "Inf: 0.0474\tGen: 0.1731\tRec: 0.1660\tE: 0.0094\tR: 0.0036\tP: 0.1402\n",
      "--------------------Test Metrics------------------------\n",
      "mse: 3694769019.8292\n",
      "mae: 43681.3282\n",
      "r2: 0.6752\n",
      "\n",
      "[16/100][220/255][Time 13.33]\n",
      "Unified LR across all optimizers: 0.0001758217893361938\n",
      "--------------------Training Metrics--------------------\n",
      "CCNet:  Three Tabnet\n",
      "Inf: 0.0463\tGen: 0.1722\tRec: 0.1632\tE: 0.0072\tR: 0.0025\tP: 0.1087\n",
      "--------------------Test Metrics------------------------\n",
      "mse: 3618899574.2584\n",
      "mae: 42277.5520\n",
      "r2: 0.6730\n",
      "\n"
     ]
    },
    {
     "data": {
      "application/vnd.jupyter.widget-view+json": {
       "model_id": "2557065d8dea47dcb88798faf647cda2",
       "version_major": 2,
       "version_minor": 0
      },
      "text/plain": [
       "Iterations:   0%|          | 0/255 [00:00<?, ?it/s]"
      ]
     },
     "metadata": {},
     "output_type": "display_data"
    },
    {
     "name": "stdout",
     "output_type": "stream",
     "text": [
      "[17/100][65/255][Time 13.46]\n",
      "Unified LR across all optimizers: 0.0001752958624888243\n",
      "--------------------Training Metrics--------------------\n",
      "CCNet:  Three Tabnet\n",
      "Inf: 0.0473\tGen: 0.1762\tRec: 0.1686\tE: 0.0064\tR: 0.0031\tP: 0.1204\n",
      "--------------------Test Metrics------------------------\n",
      "mse: 3892536235.5883\n",
      "mae: 41856.6985\n",
      "r2: 0.7434\n",
      "\n",
      "[17/100][165/255][Time 13.29]\n",
      "Unified LR across all optimizers: 0.000174771508819898\n",
      "--------------------Training Metrics--------------------\n",
      "CCNet:  Three Tabnet\n",
      "Inf: 0.0465\tGen: 0.1771\tRec: 0.1697\tE: 0.0063\tR: 0.0027\tP: 0.1185\n",
      "--------------------Test Metrics------------------------\n",
      "mse: 3050588118.1061\n",
      "mae: 38574.0460\n",
      "r2: 0.7956\n",
      "\n"
     ]
    },
    {
     "data": {
      "application/vnd.jupyter.widget-view+json": {
       "model_id": "19dc49e4a42f450f84f07131fb8ac192",
       "version_major": 2,
       "version_minor": 0
      },
      "text/plain": [
       "Iterations:   0%|          | 0/255 [00:00<?, ?it/s]"
      ]
     },
     "metadata": {},
     "output_type": "display_data"
    },
    {
     "name": "stdout",
     "output_type": "stream",
     "text": [
      "[18/100][10/255][Time 13.30]\n",
      "Unified LR across all optimizers: 0.00017424872362364514\n",
      "--------------------Training Metrics--------------------\n",
      "CCNet:  Three Tabnet\n",
      "Inf: 0.0470\tGen: 0.1786\tRec: 0.1707\tE: 0.0081\tR: 0.0028\tP: 0.1573\n",
      "--------------------Test Metrics------------------------\n",
      "mse: 3960495703.2404\n",
      "mae: 40209.2429\n",
      "r2: 0.6797\n",
      "\n",
      "[18/100][110/255][Time 13.01]\n",
      "Unified LR across all optimizers: 0.0001737275022083727\n",
      "--------------------Training Metrics--------------------\n",
      "CCNet:  Three Tabnet\n",
      "Inf: 0.0475\tGen: 0.1726\tRec: 0.1639\tE: 0.0105\tR: 0.0030\tP: 0.1131\n",
      "--------------------Test Metrics------------------------\n",
      "mse: 4647421230.7058\n",
      "mae: 49117.5917\n",
      "r2: 0.6834\n",
      "\n",
      "[18/100][210/255][Time 13.02]\n",
      "Unified LR across all optimizers: 0.0001732078398964217\n",
      "--------------------Training Metrics--------------------\n",
      "CCNet:  Three Tabnet\n",
      "Inf: 0.0468\tGen: 0.1654\tRec: 0.1575\tE: 0.0071\tR: 0.0028\tP: 0.1008\n",
      "--------------------Test Metrics------------------------\n",
      "mse: 4444749732.4669\n",
      "mae: 44415.1878\n",
      "r2: 0.7223\n",
      "\n"
     ]
    },
    {
     "data": {
      "application/vnd.jupyter.widget-view+json": {
       "model_id": "21833ea3d87946a7a28674d0bbd88f66",
       "version_major": 2,
       "version_minor": 0
      },
      "text/plain": [
       "Iterations:   0%|          | 0/255 [00:00<?, ?it/s]"
      ]
     },
     "metadata": {},
     "output_type": "display_data"
    },
    {
     "name": "stdout",
     "output_type": "stream",
     "text": [
      "[19/100][55/255][Time 13.13]\n",
      "Unified LR across all optimizers: 0.00017268973202412484\n",
      "--------------------Training Metrics--------------------\n",
      "CCNet:  Three Tabnet\n",
      "Inf: 0.0438\tGen: 0.1733\tRec: 0.1665\tE: 0.0064\tR: 0.0030\tP: 0.1327\n",
      "--------------------Test Metrics------------------------\n",
      "mse: 2328027970.6949\n",
      "mae: 35953.4594\n",
      "r2: 0.7836\n",
      "\n",
      "[19/100][155/255][Time 13.43]\n",
      "Unified LR across all optimizers: 0.00017217317394176534\n",
      "--------------------Training Metrics--------------------\n",
      "CCNet:  Three Tabnet\n",
      "Inf: 0.0470\tGen: 0.1647\tRec: 0.1570\tE: 0.0073\tR: 0.0031\tP: 0.0999\n",
      "--------------------Test Metrics------------------------\n",
      "mse: 5123240811.9676\n",
      "mae: 48701.0149\n",
      "r2: 0.6365\n",
      "\n"
     ]
    },
    {
     "data": {
      "application/vnd.jupyter.widget-view+json": {
       "model_id": "606a70ac94e14ce78b8f14f8b353d19d",
       "version_major": 2,
       "version_minor": 0
      },
      "text/plain": [
       "Iterations:   0%|          | 0/255 [00:00<?, ?it/s]"
      ]
     },
     "metadata": {},
     "output_type": "display_data"
    },
    {
     "name": "stdout",
     "output_type": "stream",
     "text": [
      "[20/100][0/255][Time 13.19]\n",
      "Unified LR across all optimizers: 0.00017165816101353477\n",
      "--------------------Training Metrics--------------------\n",
      "CCNet:  Three Tabnet\n",
      "Inf: 0.0462\tGen: 0.1651\tRec: 0.1585\tE: 0.0061\tR: 0.0034\tP: 0.1034\n",
      "--------------------Test Metrics------------------------\n",
      "mse: 2992681285.4891\n",
      "mae: 37635.1866\n",
      "r2: 0.7778\n",
      "\n",
      "[20/100][100/255][Time 13.28]\n",
      "Unified LR across all optimizers: 0.00017114468861749145\n",
      "--------------------Training Metrics--------------------\n",
      "CCNet:  Three Tabnet\n",
      "Inf: 0.0474\tGen: 0.1712\tRec: 0.1632\tE: 0.0070\tR: 0.0028\tP: 0.1064\n",
      "--------------------Test Metrics------------------------\n",
      "mse: 3145850647.2931\n",
      "mae: 39630.7715\n",
      "r2: 0.7798\n",
      "\n",
      "[20/100][200/255][Time 13.01]\n",
      "Unified LR across all optimizers: 0.00017063275214551914\n",
      "--------------------Training Metrics--------------------\n",
      "CCNet:  Three Tabnet\n",
      "Inf: 0.0459\tGen: 0.1706\tRec: 0.1634\tE: 0.0067\tR: 0.0029\tP: 0.1138\n",
      "--------------------Test Metrics------------------------\n",
      "mse: 5024438145.8953\n",
      "mae: 47831.9614\n",
      "r2: 0.6302\n",
      "\n"
     ]
    },
    {
     "data": {
      "application/vnd.jupyter.widget-view+json": {
       "model_id": "b80f7a2e06cd437ab25f4ec800aabf4c",
       "version_major": 2,
       "version_minor": 0
      },
      "text/plain": [
       "Iterations:   0%|          | 0/255 [00:00<?, ?it/s]"
      ]
     },
     "metadata": {},
     "output_type": "display_data"
    },
    {
     "name": "stdout",
     "output_type": "stream",
     "text": [
      "[21/100][45/255][Time 13.10]\n",
      "Unified LR across all optimizers: 0.0001701223470032859\n",
      "--------------------Training Metrics--------------------\n",
      "CCNet:  Three Tabnet\n",
      "Inf: 0.0436\tGen: 0.1596\tRec: 0.1526\tE: 0.0053\tR: 0.0024\tP: 0.0934\n",
      "--------------------Test Metrics------------------------\n",
      "mse: 3803728282.5266\n",
      "mae: 40827.0162\n",
      "r2: 0.7429\n",
      "\n",
      "[21/100][145/255][Time 13.26]\n",
      "Unified LR across all optimizers: 0.00016961346861020217\n",
      "--------------------Training Metrics--------------------\n",
      "CCNet:  Three Tabnet\n",
      "Inf: 0.0450\tGen: 0.1579\tRec: 0.1502\tE: 0.0092\tR: 0.0026\tP: 0.0910\n",
      "--------------------Test Metrics------------------------\n",
      "mse: 3287116142.4768\n",
      "mae: 38747.2028\n",
      "r2: 0.7684\n",
      "\n",
      "[21/100][245/255][Time 13.20]\n",
      "Unified LR across all optimizers: 0.0001691061123993802\n",
      "--------------------Training Metrics--------------------\n",
      "CCNet:  Three Tabnet\n",
      "Inf: 0.0464\tGen: 0.1596\tRec: 0.1512\tE: 0.0070\tR: 0.0026\tP: 0.0932\n",
      "--------------------Test Metrics------------------------\n",
      "mse: 3376252726.6678\n",
      "mae: 37569.6805\n",
      "r2: 0.7568\n",
      "\n"
     ]
    },
    {
     "data": {
      "application/vnd.jupyter.widget-view+json": {
       "model_id": "f12fa0c101e041d094b8e88c96da5b42",
       "version_major": 2,
       "version_minor": 0
      },
      "text/plain": [
       "Iterations:   0%|          | 0/255 [00:00<?, ?it/s]"
      ]
     },
     "metadata": {},
     "output_type": "display_data"
    },
    {
     "name": "stdout",
     "output_type": "stream",
     "text": [
      "[22/100][90/255][Time 13.16]\n",
      "Unified LR across all optimizers: 0.000168600273817593\n",
      "--------------------Training Metrics--------------------\n",
      "CCNet:  Three Tabnet\n",
      "Inf: 0.0450\tGen: 0.1656\tRec: 0.1579\tE: 0.0060\tR: 0.0025\tP: 0.1221\n",
      "--------------------Test Metrics------------------------\n",
      "mse: 4501080452.4822\n",
      "mae: 43601.5475\n",
      "r2: 0.6660\n",
      "\n",
      "[22/100][190/255][Time 13.23]\n",
      "Unified LR across all optimizers: 0.00016809594832523344\n",
      "--------------------Training Metrics--------------------\n",
      "CCNet:  Three Tabnet\n",
      "Inf: 0.0439\tGen: 0.1670\tRec: 0.1607\tE: 0.0064\tR: 0.0029\tP: 0.1027\n",
      "--------------------Test Metrics------------------------\n",
      "mse: 3079687768.0442\n",
      "mae: 36810.3870\n",
      "r2: 0.7304\n",
      "\n"
     ]
    },
    {
     "data": {
      "application/vnd.jupyter.widget-view+json": {
       "model_id": "da40c9d6e9ea43c6bf48729d9089faa7",
       "version_major": 2,
       "version_minor": 0
      },
      "text/plain": [
       "Iterations:   0%|          | 0/255 [00:00<?, ?it/s]"
      ]
     },
     "metadata": {},
     "output_type": "display_data"
    },
    {
     "name": "stdout",
     "output_type": "stream",
     "text": [
      "[23/100][35/255][Time 13.70]\n",
      "Unified LR across all optimizers: 0.00016759313139627356\n",
      "--------------------Training Metrics--------------------\n",
      "CCNet:  Three Tabnet\n",
      "Inf: 0.0467\tGen: 0.1662\tRec: 0.1580\tE: 0.0075\tR: 0.0029\tP: 0.1172\n",
      "--------------------Test Metrics------------------------\n",
      "mse: 3566619488.9785\n",
      "mae: 38545.6580\n",
      "r2: 0.7164\n",
      "\n",
      "[23/100][135/255][Time 13.53]\n",
      "Unified LR across all optimizers: 0.0001670918185182238\n",
      "--------------------Training Metrics--------------------\n",
      "CCNet:  Three Tabnet\n",
      "Inf: 0.0450\tGen: 0.1524\tRec: 0.1446\tE: 0.0081\tR: 0.0037\tP: 0.0923\n",
      "--------------------Test Metrics------------------------\n",
      "mse: 5824575944.2871\n",
      "mae: 51912.7062\n",
      "r2: 0.6161\n",
      "\n",
      "[23/100][235/255][Time 13.40]\n",
      "Unified LR across all optimizers: 0.0001665920051920924\n",
      "--------------------Training Metrics--------------------\n",
      "CCNet:  Three Tabnet\n",
      "Inf: 0.0429\tGen: 0.1524\tRec: 0.1452\tE: 0.0055\tR: 0.0022\tP: 0.0826\n",
      "--------------------Test Metrics------------------------\n",
      "mse: 3587525016.1435\n",
      "mae: 40864.7096\n",
      "r2: 0.7404\n",
      "\n"
     ]
    },
    {
     "data": {
      "application/vnd.jupyter.widget-view+json": {
       "model_id": "b27da09cca2743ffb5fa44850a23b7df",
       "version_major": 2,
       "version_minor": 0
      },
      "text/plain": [
       "Iterations:   0%|          | 0/255 [00:00<?, ?it/s]"
      ]
     },
     "metadata": {},
     "output_type": "display_data"
    },
    {
     "name": "stdout",
     "output_type": "stream",
     "text": [
      "[24/100][80/255][Time 24.37]\n",
      "Unified LR across all optimizers: 0.0001660936869323454\n",
      "--------------------Training Metrics--------------------\n",
      "CCNet:  Three Tabnet\n",
      "Inf: 0.0448\tGen: 0.1549\tRec: 0.1468\tE: 0.0071\tR: 0.0024\tP: 0.0840\n",
      "--------------------Test Metrics------------------------\n",
      "mse: 2923886320.5461\n",
      "mae: 35471.9841\n",
      "r2: 0.8095\n",
      "\n",
      "[24/100][180/255][Time 20.17]\n",
      "Unified LR across all optimizers: 0.00016559685926686616\n",
      "--------------------Training Metrics--------------------\n",
      "CCNet:  Three Tabnet\n",
      "Inf: 0.0433\tGen: 0.1623\tRec: 0.1542\tE: 0.0080\tR: 0.0024\tP: 0.1083\n",
      "--------------------Test Metrics------------------------\n",
      "mse: 3294580601.5789\n",
      "mae: 38735.8560\n",
      "r2: 0.7257\n",
      "\n"
     ]
    },
    {
     "data": {
      "application/vnd.jupyter.widget-view+json": {
       "model_id": "7a9062970a6148fc8b731307ea9b2d80",
       "version_major": 2,
       "version_minor": 0
      },
      "text/plain": [
       "Iterations:   0%|          | 0/255 [00:00<?, ?it/s]"
      ]
     },
     "metadata": {},
     "output_type": "display_data"
    },
    {
     "name": "stdout",
     "output_type": "stream",
     "text": [
      "[25/100][25/255][Time 17.96]\n",
      "Unified LR across all optimizers: 0.00016510151773691523\n",
      "--------------------Training Metrics--------------------\n",
      "CCNet:  Three Tabnet\n",
      "Inf: 0.0417\tGen: 0.1577\tRec: 0.1508\tE: 0.0054\tR: 0.0024\tP: 0.0998\n",
      "--------------------Test Metrics------------------------\n",
      "mse: 4089264155.9983\n",
      "mae: 44582.1343\n",
      "r2: 0.7127\n",
      "\n"
     ]
    }
   ],
   "source": [
    "trainer_hub.train(trainset, testset)"
   ]
  },
  {
   "cell_type": "code",
   "execution_count": null,
   "metadata": {},
   "outputs": [],
   "source": [
    "trainer_hub.test(testset)"
   ]
  }
 ],
 "metadata": {
  "kernelspec": {
   "display_name": "ccnets",
   "language": "python",
   "name": "python3"
  },
  "language_info": {
   "codemirror_mode": {
    "name": "ipython",
    "version": 3
   },
   "file_extension": ".py",
   "mimetype": "text/x-python",
   "name": "python",
   "nbconvert_exporter": "python",
   "pygments_lexer": "ipython3",
   "version": "3.9.16"
  }
 },
 "nbformat": 4,
 "nbformat_minor": 2
}
