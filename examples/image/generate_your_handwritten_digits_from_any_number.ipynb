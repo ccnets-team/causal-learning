{
 "cells": [
  {
   "cell_type": "markdown",
   "metadata": {},
   "source": [
    "# ***Causal Learning Tutorial - Mnist Generate your Numbers***\n",
    "\n",
    "Author:\n",
    "        \n",
    "        PARK, JunHo, junho@ccnets.org\n",
    "\n",
    "        \n",
    "        KIM, JeongYoong, jeongyoong@ccnets.org\n",
    "        \n",
    "    COPYRIGHT (c) 2024. CCNets. All Rights reserved.\n"
   ]
  },
  {
   "cell_type": "markdown",
   "metadata": {},
   "source": [
    "<p align=\"center\">\n",
    "  <img src=\"https://github.com/ccnets-team/causal-learning/assets/95277008/c7b3d821-9e68-428c-8959-fb821a85d43d\" alt=\"IMG\">\n",
    "</p>"
   ]
  },
  {
   "cell_type": "markdown",
   "metadata": {},
   "source": [
    "### **1. Import the Libraries**\n",
    "\n",
    "<blockquote>\n",
    "\n",
    "Import libraries and modules\n",
    "\n",
    "Set random seed for reproducibility\n",
    "\n",
    "</blockquote>"
   ]
  },
  {
   "cell_type": "code",
   "execution_count": 1,
   "metadata": {},
   "outputs": [],
   "source": [
    "import sys\n",
    "\n",
    "path_append = \"../../\" # Go up one directory from where you are.\n",
    "sys.path.append(path_append) \n",
    "\n",
    "import torch\n",
    "from tools.config.ml_config import MLConfig\n",
    "from tools.config.data_config import DataConfig\n",
    "from nn.utils.init_layer import set_random_seed\n",
    "set_random_seed(0)"
   ]
  },
  {
   "cell_type": "markdown",
   "metadata": {},
   "source": [
    "### **2. Data Preprocessing and Dataset Loading**\n",
    "\n",
    "<blockquote>\n",
    "\n",
    "Loads the **MNIST dataset** and defines a transformation pipeline for image preprocessing. \n",
    "\n",
    "The trainset and testset variables contain the training and test data, respectively.\n",
    "\n",
    "</blockquote>"
   ]
  },
  {
   "cell_type": "code",
   "execution_count": 2,
   "metadata": {},
   "outputs": [],
   "source": [
    "from torchvision import datasets, transforms\n",
    "\n",
    "n_img_sz = 28  \n",
    "\n",
    "transform_mnist = transforms.Compose([\n",
    "    transforms.Resize(n_img_sz),  \n",
    "    transforms.ToTensor(),  \n",
    "    transforms.Normalize((0.5,), (0.5,)),  \n",
    "])\n",
    "\n",
    "trainset = datasets.MNIST(root='../data/mnist', train=True, transform=transform_mnist, download=True)\n",
    "testset = datasets.MNIST(root='../data/mnist', train=False, transform=transform_mnist, download=True)\n",
    "num_classes = len(trainset.classes)\n"
   ]
  },
  {
   "cell_type": "markdown",
   "metadata": {},
   "source": [
    "### **3. Set Configuration and Display Data Shapes**\n",
    "\n",
    "<blockquote>\n",
    "\n",
    "Initializes the machine learning configuration for the model. \n",
    "\n",
    "It sets up the model architecture, including the *number of layers* and the *dimension of the model*. \n",
    "\n",
    "It also specifies the *learning rate* and the *error function* to be used during training.\n",
    "\n",
    "<br>\n",
    "\n",
    "Displays the shape of the input data and the number of classes in the dataset. \n",
    "\n",
    "It also prints the total number of samples in the training set and prepares a configuration for data visualization, including indices of samples from each class.\n",
    "\n",
    "</blockquote>"
   ]
  },
  {
   "cell_type": "code",
   "execution_count": 3,
   "metadata": {},
   "outputs": [
    {
     "name": "stdout",
     "output_type": "stream",
     "text": [
      "Input shape: torch.Size([1, 28, 28])\n",
      "Label shape: 10\n",
      "Total number of samples in trainset: 60000\n"
     ]
    }
   ],
   "source": [
    "ml_config = MLConfig(model_name = 'resnet18')\n",
    "ml_config.model.num_layers = 4\n",
    "ml_config.model.d_model = 128\n",
    "ml_config.optimization.learning_rate = 2e-4\n",
    "ml_config.training.error_function = 'mae'\n",
    "\n",
    "obs_shape = trainset[0][0].shape\n",
    "\n",
    "print(f\"Input shape: {obs_shape}\")\n",
    "print(f\"Label shape: {num_classes}\")\n",
    "print(f\"Total number of samples in trainset: {len(trainset)}\")\n",
    "\n",
    "indices = []\n",
    "for i in range(num_classes):\n",
    "    indices.append(torch.where(trainset.targets == i)[0][0].item())\n",
    "    \n",
    "data_config = DataConfig(dataset_name = 'mnist', task_type='multi_class_classification', obs_shape=obs_shape, label_size= num_classes, explain_size = 32,\n",
    "                         show_image_indices=indices)"
   ]
  },
  {
   "cell_type": "markdown",
   "metadata": {},
   "source": [
    "### **4. Custom Dataset Class for MNIST**\n",
    "\n",
    "<blockquote>\n",
    "\n",
    "Defines a custom dataset class for the **MNIST dataset**, which inherits from `torch.utils.data.Dataset`. \n",
    "\n",
    "The class ensures that the labels are properly formatted as tensors and returns the image and label for a given index. \n",
    "\n",
    "It then reassigns the `trainset` and `testset` variables to instances of this custom class.\n",
    "\n",
    "</blockquote>"
   ]
  },
  {
   "cell_type": "code",
   "execution_count": 4,
   "metadata": {},
   "outputs": [],
   "source": [
    "# Custom dataset class for CelebA dataset\n",
    "class Mnist(torch.utils.data.Dataset):\n",
    "    def __init__(self, dataset):\n",
    "        self.dataset = dataset\n",
    "        \n",
    "    def __getitem__(self, index):\n",
    "        X, y = self.dataset[index]  # Get the image and label at the specified index\n",
    "\n",
    "        # Ensure y is an integer and within the expected range\n",
    "        y = torch.tensor(y, dtype=torch.long).unsqueeze(0)\n",
    "        return X, y  # Return the image and the one-hot encoded label\n",
    "    \n",
    "    def __len__(self):\n",
    "        return len(self.dataset) # Return the size of the dataset\n",
    "        \n",
    "trainset = Mnist(trainset)\n",
    "testset = Mnist(testset)"
   ]
  },
  {
   "cell_type": "markdown",
   "metadata": {},
   "source": [
    "### **5. Initialize Causal Learning Class**\n",
    "\n",
    "<blockquote>\n",
    "\n",
    "Imports the `CausalLearning` class from the causal_learning module. \n",
    "\n",
    "It then sets the computation device to GPU if available, otherwise to CPU. \n",
    "\n",
    "Finally, it initializes an instance of the `CausalLearning` class with the machine learning configuration (`ml_config`), data configuration (`data_config`), the specified device, and \n",
    "\n",
    "additional options (`use_print` and `use_wandb`) for enabling print statements and logging with *Weights & Biases*.\n",
    "</blockquote>"
   ]
  },
  {
   "cell_type": "code",
   "execution_count": 5,
   "metadata": {},
   "outputs": [
    {
     "name": "stderr",
     "output_type": "stream",
     "text": [
      "c:\\Users\\CCNets-team\\anaconda3\\envs\\torch\\lib\\site-packages\\torchvision\\models\\_utils.py:208: UserWarning: The parameter 'pretrained' is deprecated since 0.13 and may be removed in the future, please use 'weights' instead.\n",
      "  warnings.warn(\n",
      "c:\\Users\\CCNets-team\\anaconda3\\envs\\torch\\lib\\site-packages\\torchvision\\models\\_utils.py:223: UserWarning: Arguments other than a weight enum or `None` for 'weights' are deprecated since 0.13 and may be removed in the future. The current behavior is equivalent to passing `weights=ResNet18_Weights.IMAGENET1K_V1`. You can also use `weights=ResNet18_Weights.DEFAULT` to get the most up-to-date weights.\n",
      "  warnings.warn(msg)\n"
     ]
    },
    {
     "name": "stdout",
     "output_type": "stream",
     "text": [
      "Trainer Name: causal_trainer\n",
      "\n",
      "\n",
      "\u001b[1mModelConfig Parameters:\u001b[0m\n"
     ]
    },
    {
     "data": {
      "text/html": [
       "<div>\n",
       "<style scoped>\n",
       "    .dataframe tbody tr th:only-of-type {\n",
       "        vertical-align: middle;\n",
       "    }\n",
       "\n",
       "    .dataframe tbody tr th {\n",
       "        vertical-align: top;\n",
       "    }\n",
       "\n",
       "    .dataframe thead th {\n",
       "        text-align: right;\n",
       "    }\n",
       "</style>\n",
       "<table border=\"1\" class=\"dataframe\">\n",
       "  <thead>\n",
       "    <tr style=\"text-align: right;\">\n",
       "      <th></th>\n",
       "      <th>d_model</th>\n",
       "      <th>dropout</th>\n",
       "      <th>model_name</th>\n",
       "      <th>num_layers</th>\n",
       "      <th>use_seq_input</th>\n",
       "    </tr>\n",
       "  </thead>\n",
       "  <tbody>\n",
       "    <tr>\n",
       "      <th>0</th>\n",
       "      <td>128</td>\n",
       "      <td>0.05</td>\n",
       "      <td>resnet18</td>\n",
       "      <td>4</td>\n",
       "      <td>False</td>\n",
       "    </tr>\n",
       "  </tbody>\n",
       "</table>\n",
       "</div>"
      ],
      "text/plain": [
       "   d_model  dropout model_name  num_layers  use_seq_input\n",
       "0      128     0.05   resnet18           4          False"
      ]
     },
     "metadata": {},
     "output_type": "display_data"
    },
    {
     "name": "stdout",
     "output_type": "stream",
     "text": [
      "\u001b[1mTrainConfig Parameters:\u001b[0m\n"
     ]
    },
    {
     "data": {
      "text/html": [
       "<div>\n",
       "<style scoped>\n",
       "    .dataframe tbody tr th:only-of-type {\n",
       "        vertical-align: middle;\n",
       "    }\n",
       "\n",
       "    .dataframe tbody tr th {\n",
       "        vertical-align: top;\n",
       "    }\n",
       "\n",
       "    .dataframe thead th {\n",
       "        text-align: right;\n",
       "    }\n",
       "</style>\n",
       "<table border=\"1\" class=\"dataframe\">\n",
       "  <thead>\n",
       "    <tr style=\"text-align: right;\">\n",
       "      <th></th>\n",
       "      <th>batch_size</th>\n",
       "      <th>error_function</th>\n",
       "      <th>max_seq_len</th>\n",
       "      <th>min_seq_len</th>\n",
       "      <th>num_epoch</th>\n",
       "    </tr>\n",
       "  </thead>\n",
       "  <tbody>\n",
       "    <tr>\n",
       "      <th>0</th>\n",
       "      <td>64</td>\n",
       "      <td>mae</td>\n",
       "      <td>None</td>\n",
       "      <td>None</td>\n",
       "      <td>100</td>\n",
       "    </tr>\n",
       "  </tbody>\n",
       "</table>\n",
       "</div>"
      ],
      "text/plain": [
       "   batch_size error_function max_seq_len min_seq_len  num_epoch\n",
       "0          64            mae        None        None        100"
      ]
     },
     "metadata": {},
     "output_type": "display_data"
    },
    {
     "name": "stdout",
     "output_type": "stream",
     "text": [
      "\u001b[1mOptimConfig Parameters:\u001b[0m\n"
     ]
    },
    {
     "data": {
      "text/html": [
       "<div>\n",
       "<style scoped>\n",
       "    .dataframe tbody tr th:only-of-type {\n",
       "        vertical-align: middle;\n",
       "    }\n",
       "\n",
       "    .dataframe tbody tr th {\n",
       "        vertical-align: top;\n",
       "    }\n",
       "\n",
       "    .dataframe thead th {\n",
       "        text-align: right;\n",
       "    }\n",
       "</style>\n",
       "<table border=\"1\" class=\"dataframe\">\n",
       "  <thead>\n",
       "    <tr style=\"text-align: right;\">\n",
       "      <th></th>\n",
       "      <th>clip_grad_range</th>\n",
       "      <th>decay_rate_100k</th>\n",
       "      <th>learning_rate</th>\n",
       "      <th>max_grad_norm</th>\n",
       "      <th>scheduler_type</th>\n",
       "    </tr>\n",
       "  </thead>\n",
       "  <tbody>\n",
       "    <tr>\n",
       "      <th>0</th>\n",
       "      <td>None</td>\n",
       "      <td>0.05</td>\n",
       "      <td>0.0002</td>\n",
       "      <td>1.0</td>\n",
       "      <td>exponential</td>\n",
       "    </tr>\n",
       "  </tbody>\n",
       "</table>\n",
       "</div>"
      ],
      "text/plain": [
       "  clip_grad_range  decay_rate_100k  learning_rate  max_grad_norm  \\\n",
       "0            None             0.05         0.0002            1.0   \n",
       "\n",
       "  scheduler_type  \n",
       "0    exponential  "
      ]
     },
     "metadata": {},
     "output_type": "display_data"
    },
    {
     "name": "stdout",
     "output_type": "stream",
     "text": [
      "\u001b[1mDataConfig Parameters:\u001b[0m\n"
     ]
    },
    {
     "data": {
      "text/html": [
       "<div>\n",
       "<style scoped>\n",
       "    .dataframe tbody tr th:only-of-type {\n",
       "        vertical-align: middle;\n",
       "    }\n",
       "\n",
       "    .dataframe tbody tr th {\n",
       "        vertical-align: top;\n",
       "    }\n",
       "\n",
       "    .dataframe thead th {\n",
       "        text-align: right;\n",
       "    }\n",
       "</style>\n",
       "<table border=\"1\" class=\"dataframe\">\n",
       "  <thead>\n",
       "    <tr style=\"text-align: right;\">\n",
       "      <th></th>\n",
       "      <th>dataset_name</th>\n",
       "      <th>task_type</th>\n",
       "      <th>obs_shape</th>\n",
       "      <th>label_size</th>\n",
       "      <th>explain_size</th>\n",
       "      <th>show_image_indices</th>\n",
       "    </tr>\n",
       "  </thead>\n",
       "  <tbody>\n",
       "    <tr>\n",
       "      <th>0</th>\n",
       "      <td>mnist</td>\n",
       "      <td>multi_class_classification</td>\n",
       "      <td>(1, 28, 28)</td>\n",
       "      <td>10</td>\n",
       "      <td>32</td>\n",
       "      <td>[1, 3, 5, 7, 2, 0, 13, 15, 17, 4]</td>\n",
       "    </tr>\n",
       "  </tbody>\n",
       "</table>\n",
       "</div>"
      ],
      "text/plain": [
       "  dataset_name                   task_type    obs_shape  label_size  \\\n",
       "0        mnist  multi_class_classification  (1, 28, 28)          10   \n",
       "\n",
       "   explain_size                 show_image_indices  \n",
       "0            32  [1, 3, 5, 7, 2, 0, 13, 15, 17, 4]  "
      ]
     },
     "metadata": {},
     "output_type": "display_data"
    },
    {
     "name": "stdout",
     "output_type": "stream",
     "text": [
      "\n",
      "\n",
      "\n",
      "\n"
     ]
    }
   ],
   "source": [
    "from causal_learning import CausalLearning\n",
    "\n",
    "# Set the device to GPU if available, else CPU\n",
    "device = torch.device(\"cuda\" if torch.cuda.is_available() else \"cpu\") \n",
    "\n",
    "# Initialize the CausalLearning class with the training configuration, data configuration, device, and use_print and use_wandb flags\n",
    "causal_learning = CausalLearning(ml_config, data_config, device, use_print=True, use_wandb=False)"
   ]
  },
  {
   "cell_type": "markdown",
   "metadata": {},
   "source": [
    "### **6. Train Causal Learning**\n",
    "\n",
    "Initiates the training process for the causal learning using the `trainset` and `testset`. \n",
    "\n",
    "During the training, the model will be trained on the `trainset` and evaluated on the `testset`. \n",
    "\n",
    "The results of the training and evaluation will include various metrics. \n",
    "\n",
    "Additionally, the output will include visual result generated by the CCNet (Causal Convolutional Network) for handwritten digits 0 to 9, with 10 examples for each digit. "
   ]
  },
  {
   "cell_type": "code",
   "execution_count": 6,
   "metadata": {},
   "outputs": [
    {
     "data": {
      "text/html": [
       "<img src=\"data:image/png;base64,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\" style=\"width: 800px; height: 800px;\" />"
      ],
      "text/plain": [
       "<IPython.core.display.HTML object>"
      ]
     },
     "metadata": {},
     "output_type": "display_data"
    },
    {
     "name": "stdout",
     "output_type": "stream",
     "text": [
      "[3/100][289/937][Time 5.31]\n",
      "Unified LR across all optimizers: 0.000182257351722607\n",
      "=====================Train Metrics=======================\n",
      "CCNet:  Three Resnet18\n",
      "Inf: 0.0057\tGen: 0.1132\tRec: 0.1129\tE: 0.0059\tR: 0.0054\tP: 0.2204\n",
      "\n",
      "accuracy: 0.9727\n",
      "precision: 0.9739\n",
      "recall: 0.9711\n",
      "f1_score: 0.9713\n",
      "\n",
      "=====================Eval Metrics========================\n",
      "accuracy: 1.0000\n",
      "precision: 1.0000\n",
      "recall: 1.0000\n",
      "f1_score: 1.0000\n",
      "\n"
     ]
    }
   ],
   "source": [
    "causal_learning.train(trainset, testset)"
   ]
  }
 ],
 "metadata": {
  "kernelspec": {
   "display_name": "ccnets",
   "language": "python",
   "name": "python3"
  },
  "language_info": {
   "codemirror_mode": {
    "name": "ipython",
    "version": 3
   },
   "file_extension": ".py",
   "mimetype": "text/x-python",
   "name": "python",
   "nbconvert_exporter": "python",
   "pygments_lexer": "ipython3",
   "version": "3.9.19"
  }
 },
 "nbformat": 4,
 "nbformat_minor": 2
}
