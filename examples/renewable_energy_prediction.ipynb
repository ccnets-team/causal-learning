{
 "cells": [
  {
   "cell_type": "markdown",
   "metadata": {},
   "source": [
    "Author:\n",
    "        \n",
    "        KIM, JeongYoong, jeongyoong@ccnets.org\n",
    "        \n",
    "    COPYRIGHT (c) 2024. CCNets. All Rights reserved."
   ]
  },
  {
   "cell_type": "markdown",
   "metadata": {},
   "source": [
    "<p align=\"center\">\n",
    "  <img src=\"https://storage.googleapis.com/kaggle-datasets-images/4956778/8344638/a2a6aa289fce8461958dc287f1dab799/dataset-cover.jpg?t=2024-05-07-09-36-53\" alt=\"IMG\">\n",
    "</p>"
   ]
  },
  {
   "cell_type": "markdown",
   "metadata": {},
   "source": [
    "<h1 style = 'font-family: Times New Roman'> <b>|</b><i> 1. Content</i></h1>\n",
    "\n",
    "<br>\n",
    "\n",
    "> <h4 style = 'font-family: Times New Roman'>\n",
    "This dataset explores how weather conditions impact renewable energy generation. <br><br>Spanning from January 1, 2017, to August 31, 2022, the dataset provides climate data such as temperature, pressure, wind speed, and sunlight duration at 15-minute intervals. <br><br>By incorporating variables like GHI and SunlightTime, it enables the prediction of solar energy production.\n",
    "\n",
    "\n",
    "- DataSource: https://www.kaggle.com/datasets/pythonafroz/renewable-power-generation-and-weather-conditions/data\n",
    "  \n",
    "<h1 style = 'font-family: Times New Roman'> <b>|</b><i> 2. About Dataset</i></h1>\n",
    "\n",
    "<br> \n",
    "\n",
    "<details>\n",
    "    <summary>More Columns Info</summary>\n",
    "    17 columns in the dataset, below is <u>description of main features</u>:\n",
    "\n",
    "    *  (1) Time: The timestamp of the recorded data in the format of YYYY-MM-DD HH:MM:SS.\n",
    "        \n",
    "    *  (2) Energy delta[Wh]: The difference in energy consumption in Watt-hours (Wh) from the previous timestamp to the current timestamp.\n",
    "        \n",
    "    *  (3) GHI: Global Horizontal Irradiance in Watts per square meter (W/m²) measured by a pyranometer.\n",
    "        \n",
    "    *  (4) temp: The temperature in degrees Celsius (°C) measured at the same height as the pyranometer.\n",
    "\n",
    "    *  (5) pressure: The atmospheric pressure in hectopascals (hPa) measured at the same height as the pyranometer.\n",
    "\n",
    "    *  (6) humidity: The relative humidity in percentage (%) measured at the same height as the pyranometer.\n",
    "\n",
    "    *  (7) wind_speed: The wind speed in meters per second (m/s) measured at the same height as the pyranometer.\n",
    "\n",
    "    *  (8) rain_1h: The amount of precipitation in millimeters (mm) measured over the past hour.\n",
    "    \n",
    "    *  (9) snow_1h: The amount of snowfall in millimeters.\n",
    "\n",
    "    *  (10) clouds_all: The cloud situation.\n",
    "</details>    \n",
    "    \n",
    "<h1 style = 'font-family: Times New Roman'> <b>|</b><i> 3. Goal of the Notebook</i></h1>\n",
    "    \n",
    "> <h4 style = 'font-family: Times New Roman'>\n",
    "Goal is to train and test model using GPT, Pytorch. <br><br>\n",
    "    The Target Column used here is <b>Energy delta[Wh]</b>\n",
    "</h4>\n",
    "\n",
    " "
   ]
  },
  {
   "cell_type": "markdown",
   "metadata": {},
   "source": [
    "***"
   ]
  },
  {
   "cell_type": "markdown",
   "metadata": {},
   "source": [
    "<a id=\"1\"></a>\n",
    "> <h1 style = 'font-family: Times New Roman'><b> <b style = 'color: #42c2f5'>1.</b> Import Necessary Libraries </b></h1>"
   ]
  },
  {
   "cell_type": "code",
   "execution_count": 1,
   "metadata": {},
   "outputs": [],
   "source": [
    "import os\n",
    "import sys\n",
    "import warnings\n",
    "warnings.filterwarnings(\"ignore\")\n",
    "\n",
    "path_append = \"../\"\n",
    "sys.path.append(path_append)  # Go up one directory from where you are."
   ]
  },
  {
   "cell_type": "code",
   "execution_count": 2,
   "metadata": {},
   "outputs": [
    {
     "data": {
      "text/html": [
       "<div>\n",
       "<style scoped>\n",
       "    .dataframe tbody tr th:only-of-type {\n",
       "        vertical-align: middle;\n",
       "    }\n",
       "\n",
       "    .dataframe tbody tr th {\n",
       "        vertical-align: top;\n",
       "    }\n",
       "\n",
       "    .dataframe thead th {\n",
       "        text-align: right;\n",
       "    }\n",
       "</style>\n",
       "<table border=\"1\" class=\"dataframe\">\n",
       "  <thead>\n",
       "    <tr style=\"text-align: right;\">\n",
       "      <th></th>\n",
       "      <th>Time</th>\n",
       "      <th>Energy delta[Wh]</th>\n",
       "      <th>GHI</th>\n",
       "      <th>temp</th>\n",
       "      <th>pressure</th>\n",
       "      <th>humidity</th>\n",
       "      <th>wind_speed</th>\n",
       "      <th>rain_1h</th>\n",
       "      <th>snow_1h</th>\n",
       "      <th>clouds_all</th>\n",
       "      <th>isSun</th>\n",
       "      <th>sunlightTime</th>\n",
       "      <th>dayLength</th>\n",
       "      <th>SunlightTime/daylength</th>\n",
       "      <th>weather_type</th>\n",
       "      <th>hour</th>\n",
       "      <th>month</th>\n",
       "    </tr>\n",
       "  </thead>\n",
       "  <tbody>\n",
       "    <tr>\n",
       "      <th>0</th>\n",
       "      <td>2017-01-01 00:00:00</td>\n",
       "      <td>0</td>\n",
       "      <td>0.0</td>\n",
       "      <td>1.6</td>\n",
       "      <td>1021</td>\n",
       "      <td>100</td>\n",
       "      <td>4.9</td>\n",
       "      <td>0.0</td>\n",
       "      <td>0.0</td>\n",
       "      <td>100</td>\n",
       "      <td>0</td>\n",
       "      <td>0</td>\n",
       "      <td>450</td>\n",
       "      <td>0.0</td>\n",
       "      <td>4</td>\n",
       "      <td>0</td>\n",
       "      <td>1</td>\n",
       "    </tr>\n",
       "    <tr>\n",
       "      <th>1</th>\n",
       "      <td>2017-01-01 00:15:00</td>\n",
       "      <td>0</td>\n",
       "      <td>0.0</td>\n",
       "      <td>1.6</td>\n",
       "      <td>1021</td>\n",
       "      <td>100</td>\n",
       "      <td>4.9</td>\n",
       "      <td>0.0</td>\n",
       "      <td>0.0</td>\n",
       "      <td>100</td>\n",
       "      <td>0</td>\n",
       "      <td>0</td>\n",
       "      <td>450</td>\n",
       "      <td>0.0</td>\n",
       "      <td>4</td>\n",
       "      <td>0</td>\n",
       "      <td>1</td>\n",
       "    </tr>\n",
       "    <tr>\n",
       "      <th>2</th>\n",
       "      <td>2017-01-01 00:30:00</td>\n",
       "      <td>0</td>\n",
       "      <td>0.0</td>\n",
       "      <td>1.6</td>\n",
       "      <td>1021</td>\n",
       "      <td>100</td>\n",
       "      <td>4.9</td>\n",
       "      <td>0.0</td>\n",
       "      <td>0.0</td>\n",
       "      <td>100</td>\n",
       "      <td>0</td>\n",
       "      <td>0</td>\n",
       "      <td>450</td>\n",
       "      <td>0.0</td>\n",
       "      <td>4</td>\n",
       "      <td>0</td>\n",
       "      <td>1</td>\n",
       "    </tr>\n",
       "    <tr>\n",
       "      <th>3</th>\n",
       "      <td>2017-01-01 00:45:00</td>\n",
       "      <td>0</td>\n",
       "      <td>0.0</td>\n",
       "      <td>1.6</td>\n",
       "      <td>1021</td>\n",
       "      <td>100</td>\n",
       "      <td>4.9</td>\n",
       "      <td>0.0</td>\n",
       "      <td>0.0</td>\n",
       "      <td>100</td>\n",
       "      <td>0</td>\n",
       "      <td>0</td>\n",
       "      <td>450</td>\n",
       "      <td>0.0</td>\n",
       "      <td>4</td>\n",
       "      <td>0</td>\n",
       "      <td>1</td>\n",
       "    </tr>\n",
       "    <tr>\n",
       "      <th>4</th>\n",
       "      <td>2017-01-01 01:00:00</td>\n",
       "      <td>0</td>\n",
       "      <td>0.0</td>\n",
       "      <td>1.7</td>\n",
       "      <td>1020</td>\n",
       "      <td>100</td>\n",
       "      <td>5.2</td>\n",
       "      <td>0.0</td>\n",
       "      <td>0.0</td>\n",
       "      <td>100</td>\n",
       "      <td>0</td>\n",
       "      <td>0</td>\n",
       "      <td>450</td>\n",
       "      <td>0.0</td>\n",
       "      <td>4</td>\n",
       "      <td>1</td>\n",
       "      <td>1</td>\n",
       "    </tr>\n",
       "  </tbody>\n",
       "</table>\n",
       "</div>"
      ],
      "text/plain": [
       "                  Time  Energy delta[Wh]  GHI  temp  pressure  humidity  \\\n",
       "0  2017-01-01 00:00:00                 0  0.0   1.6      1021       100   \n",
       "1  2017-01-01 00:15:00                 0  0.0   1.6      1021       100   \n",
       "2  2017-01-01 00:30:00                 0  0.0   1.6      1021       100   \n",
       "3  2017-01-01 00:45:00                 0  0.0   1.6      1021       100   \n",
       "4  2017-01-01 01:00:00                 0  0.0   1.7      1020       100   \n",
       "\n",
       "   wind_speed  rain_1h  snow_1h  clouds_all  isSun  sunlightTime  dayLength  \\\n",
       "0         4.9      0.0      0.0         100      0             0        450   \n",
       "1         4.9      0.0      0.0         100      0             0        450   \n",
       "2         4.9      0.0      0.0         100      0             0        450   \n",
       "3         4.9      0.0      0.0         100      0             0        450   \n",
       "4         5.2      0.0      0.0         100      0             0        450   \n",
       "\n",
       "   SunlightTime/daylength  weather_type  hour  month  \n",
       "0                     0.0             4     0      1  \n",
       "1                     0.0             4     0      1  \n",
       "2                     0.0             4     0      1  \n",
       "3                     0.0             4     0      1  \n",
       "4                     0.0             4     1      1  "
      ]
     },
     "execution_count": 2,
     "metadata": {},
     "output_type": "execute_result"
    }
   ],
   "source": [
    "import pandas  as pd\n",
    "df = pd.read_csv(path_append + '../data/Renewable Power Generation and weather Conditions/Renewable.csv')\n",
    "df.head()"
   ]
  },
  {
   "cell_type": "markdown",
   "metadata": {},
   "source": [
    "<a id=\"2\"></a>\n",
    "> <h1 style = 'font-family: Times New Roman'><b> <b style = 'color: #4290f5'>2.</b> Modeling: Preprocess </b></h1>"
   ]
  },
  {
   "cell_type": "code",
   "execution_count": 3,
   "metadata": {},
   "outputs": [
    {
     "data": {
      "text/html": [
       "<div>\n",
       "<style scoped>\n",
       "    .dataframe tbody tr th:only-of-type {\n",
       "        vertical-align: middle;\n",
       "    }\n",
       "\n",
       "    .dataframe tbody tr th {\n",
       "        vertical-align: top;\n",
       "    }\n",
       "\n",
       "    .dataframe thead th {\n",
       "        text-align: right;\n",
       "    }\n",
       "</style>\n",
       "<table border=\"1\" class=\"dataframe\">\n",
       "  <thead>\n",
       "    <tr style=\"text-align: right;\">\n",
       "      <th></th>\n",
       "      <th>Min</th>\n",
       "      <th>Max</th>\n",
       "      <th>Mean</th>\n",
       "      <th>Std</th>\n",
       "      <th>Null Count</th>\n",
       "    </tr>\n",
       "  </thead>\n",
       "  <tbody>\n",
       "    <tr>\n",
       "      <th>GHI</th>\n",
       "      <td>-0.034188</td>\n",
       "      <td>4.863248</td>\n",
       "      <td>6.623192e-01</td>\n",
       "      <td>1.114787</td>\n",
       "      <td>0</td>\n",
       "    </tr>\n",
       "    <tr>\n",
       "      <th>temp</th>\n",
       "      <td>-4.213083</td>\n",
       "      <td>5.929421</td>\n",
       "      <td>8.950458e-01</td>\n",
       "      <td>1.547589</td>\n",
       "      <td>0</td>\n",
       "    </tr>\n",
       "    <tr>\n",
       "      <th>pressure</th>\n",
       "      <td>0.924568</td>\n",
       "      <td>1.062459</td>\n",
       "      <td>1.000000e+00</td>\n",
       "      <td>0.018883</td>\n",
       "      <td>0</td>\n",
       "    </tr>\n",
       "    <tr>\n",
       "      <th>humidity</th>\n",
       "      <td>-2.818182</td>\n",
       "      <td>0.727273</td>\n",
       "      <td>-1.904288e-01</td>\n",
       "      <td>0.709294</td>\n",
       "      <td>0</td>\n",
       "    </tr>\n",
       "    <tr>\n",
       "      <th>wind_speed</th>\n",
       "      <td>-1.541667</td>\n",
       "      <td>4.416667</td>\n",
       "      <td>9.906103e-02</td>\n",
       "      <td>0.759039</td>\n",
       "      <td>0</td>\n",
       "    </tr>\n",
       "    <tr>\n",
       "      <th>rain_1h</th>\n",
       "      <td>-0.066035</td>\n",
       "      <td>8.023965</td>\n",
       "      <td>1.141051e-17</td>\n",
       "      <td>0.278913</td>\n",
       "      <td>0</td>\n",
       "    </tr>\n",
       "    <tr>\n",
       "      <th>snow_1h</th>\n",
       "      <td>-0.007148</td>\n",
       "      <td>2.812852</td>\n",
       "      <td>-1.306702e-18</td>\n",
       "      <td>0.069710</td>\n",
       "      <td>0</td>\n",
       "    </tr>\n",
       "    <tr>\n",
       "      <th>clouds_all</th>\n",
       "      <td>-1.801176</td>\n",
       "      <td>0.928938</td>\n",
       "      <td>-1.850958e-16</td>\n",
       "      <td>1.000003</td>\n",
       "      <td>0</td>\n",
       "    </tr>\n",
       "    <tr>\n",
       "      <th>isSun</th>\n",
       "      <td>-0.519962</td>\n",
       "      <td>0.480038</td>\n",
       "      <td>-9.009250e-18</td>\n",
       "      <td>0.499603</td>\n",
       "      <td>0</td>\n",
       "    </tr>\n",
       "    <tr>\n",
       "      <th>sunlightTime</th>\n",
       "      <td>-0.076923</td>\n",
       "      <td>2.538462</td>\n",
       "      <td>4.659515e-01</td>\n",
       "      <td>0.702313</td>\n",
       "      <td>0</td>\n",
       "    </tr>\n",
       "    <tr>\n",
       "      <th>dayLength</th>\n",
       "      <td>0.202173</td>\n",
       "      <td>1.724925</td>\n",
       "      <td>1.000000e+00</td>\n",
       "      <td>0.520595</td>\n",
       "      <td>0</td>\n",
       "    </tr>\n",
       "    <tr>\n",
       "      <th>SunlightTime/daylength</th>\n",
       "      <td>-0.265187</td>\n",
       "      <td>0.734813</td>\n",
       "      <td>1.986007e-19</td>\n",
       "      <td>0.329023</td>\n",
       "      <td>0</td>\n",
       "    </tr>\n",
       "    <tr>\n",
       "      <th>weather_type</th>\n",
       "      <td>-0.374687</td>\n",
       "      <td>2.126565</td>\n",
       "      <td>1.000000e+00</td>\n",
       "      <td>0.806616</td>\n",
       "      <td>0</td>\n",
       "    </tr>\n",
       "    <tr>\n",
       "      <th>hour</th>\n",
       "      <td>-1.000000</td>\n",
       "      <td>3.000382</td>\n",
       "      <td>1.000000e+00</td>\n",
       "      <td>1.203921</td>\n",
       "      <td>0</td>\n",
       "    </tr>\n",
       "    <tr>\n",
       "      <th>time_scaled</th>\n",
       "      <td>-0.989492</td>\n",
       "      <td>0.989675</td>\n",
       "      <td>-3.025952e-17</td>\n",
       "      <td>0.577294</td>\n",
       "      <td>0</td>\n",
       "    </tr>\n",
       "    <tr>\n",
       "      <th>month_sin</th>\n",
       "      <td>-1.027456</td>\n",
       "      <td>0.972544</td>\n",
       "      <td>5.950799e-17</td>\n",
       "      <td>0.706813</td>\n",
       "      <td>0</td>\n",
       "    </tr>\n",
       "    <tr>\n",
       "      <th>month_cos</th>\n",
       "      <td>-0.955501</td>\n",
       "      <td>1.044499</td>\n",
       "      <td>-4.477543e-17</td>\n",
       "      <td>0.705469</td>\n",
       "      <td>0</td>\n",
       "    </tr>\n",
       "    <tr>\n",
       "      <th>Energy delta[Wh]</th>\n",
       "      <td>0.000000</td>\n",
       "      <td>5020.000000</td>\n",
       "      <td>5.730082e+02</td>\n",
       "      <td>1044.824047</td>\n",
       "      <td>0</td>\n",
       "    </tr>\n",
       "  </tbody>\n",
       "</table>\n",
       "</div>"
      ],
      "text/plain": [
       "                             Min          Max          Mean          Std  \\\n",
       "GHI                    -0.034188     4.863248  6.623192e-01     1.114787   \n",
       "temp                   -4.213083     5.929421  8.950458e-01     1.547589   \n",
       "pressure                0.924568     1.062459  1.000000e+00     0.018883   \n",
       "humidity               -2.818182     0.727273 -1.904288e-01     0.709294   \n",
       "wind_speed             -1.541667     4.416667  9.906103e-02     0.759039   \n",
       "rain_1h                -0.066035     8.023965  1.141051e-17     0.278913   \n",
       "snow_1h                -0.007148     2.812852 -1.306702e-18     0.069710   \n",
       "clouds_all             -1.801176     0.928938 -1.850958e-16     1.000003   \n",
       "isSun                  -0.519962     0.480038 -9.009250e-18     0.499603   \n",
       "sunlightTime           -0.076923     2.538462  4.659515e-01     0.702313   \n",
       "dayLength               0.202173     1.724925  1.000000e+00     0.520595   \n",
       "SunlightTime/daylength -0.265187     0.734813  1.986007e-19     0.329023   \n",
       "weather_type           -0.374687     2.126565  1.000000e+00     0.806616   \n",
       "hour                   -1.000000     3.000382  1.000000e+00     1.203921   \n",
       "time_scaled            -0.989492     0.989675 -3.025952e-17     0.577294   \n",
       "month_sin              -1.027456     0.972544  5.950799e-17     0.706813   \n",
       "month_cos              -0.955501     1.044499 -4.477543e-17     0.705469   \n",
       "Energy delta[Wh]        0.000000  5020.000000  5.730082e+02  1044.824047   \n",
       "\n",
       "                        Null Count  \n",
       "GHI                              0  \n",
       "temp                             0  \n",
       "pressure                         0  \n",
       "humidity                         0  \n",
       "wind_speed                       0  \n",
       "rain_1h                          0  \n",
       "snow_1h                          0  \n",
       "clouds_all                       0  \n",
       "isSun                            0  \n",
       "sunlightTime                     0  \n",
       "dayLength                        0  \n",
       "SunlightTime/daylength           0  \n",
       "weather_type                     0  \n",
       "hour                             0  \n",
       "time_scaled                      0  \n",
       "month_sin                        0  \n",
       "month_cos                        0  \n",
       "Energy delta[Wh]                 0  "
      ]
     },
     "metadata": {},
     "output_type": "display_data"
    },
    {
     "data": {
      "text/plain": [
       "{'num_features': 17,\n",
       " 'num_classes': 1,\n",
       " 'encoded_columns': Index([], dtype='object'),\n",
       " 'target_encoded_columns': Index([], dtype='object'),\n",
       " 'scalers': {'GHI': 'robust',\n",
       "  'temp': 'minmax',\n",
       "  'pressure': 'minmax',\n",
       "  'humidity': 'robust',\n",
       "  'wind_speed': 'robust',\n",
       "  'rain_1h': 'none',\n",
       "  'snow_1h': 'none',\n",
       "  'clouds_all': 'standard',\n",
       "  'isSun': 'none',\n",
       "  'sunlightTime': 'robust',\n",
       "  'dayLength': 'minmax',\n",
       "  'SunlightTime/daylength': 'none',\n",
       "  'weather_type': 'minmax',\n",
       "  'hour': 'minmax',\n",
       "  'time_scaled': 'none',\n",
       "  'month_sin': 'none',\n",
       "  'month_cos': 'none'}}"
      ]
     },
     "execution_count": 3,
     "metadata": {},
     "output_type": "execute_result"
    }
   ],
   "source": [
    "from tools.preprocessing.data_frame import process_dataframe, preprocess_datetime_columns\n",
    "target_columns = ['Energy delta[Wh]']\n",
    "one_hot_columns = ['weather_type']\n",
    "df = preprocess_datetime_columns(df)\n",
    "df, description = process_dataframe(df, target_columns) \n",
    "\n",
    "description"
   ]
  },
  {
   "cell_type": "code",
   "execution_count": 4,
   "metadata": {},
   "outputs": [
    {
     "name": "stdout",
     "output_type": "stream",
     "text": [
      "<class 'pandas.core.frame.DataFrame'>\n",
      "RangeIndex: 196776 entries, 0 to 196775\n",
      "Data columns (total 18 columns):\n",
      " #   Column                  Non-Null Count   Dtype  \n",
      "---  ------                  --------------   -----  \n",
      " 0   GHI                     196776 non-null  float64\n",
      " 1   temp                    196776 non-null  float64\n",
      " 2   pressure                196776 non-null  float64\n",
      " 3   humidity                196776 non-null  float64\n",
      " 4   wind_speed              196776 non-null  float64\n",
      " 5   rain_1h                 196776 non-null  float64\n",
      " 6   snow_1h                 196776 non-null  float64\n",
      " 7   clouds_all              196776 non-null  float64\n",
      " 8   isSun                   196776 non-null  float64\n",
      " 9   sunlightTime            196776 non-null  float64\n",
      " 10  dayLength               196776 non-null  float64\n",
      " 11  SunlightTime/daylength  196776 non-null  float64\n",
      " 12  weather_type            196776 non-null  float64\n",
      " 13  hour                    196776 non-null  float64\n",
      " 14  time_scaled             196776 non-null  float64\n",
      " 15  month_sin               196776 non-null  float64\n",
      " 16  month_cos               196776 non-null  float64\n",
      " 17  Energy delta[Wh]        196776 non-null  int64  \n",
      "dtypes: float64(17), int64(1)\n",
      "memory usage: 27.0 MB\n"
     ]
    }
   ],
   "source": [
    "df.info()"
   ]
  },
  {
   "cell_type": "code",
   "execution_count": 5,
   "metadata": {},
   "outputs": [
    {
     "name": "stdout",
     "output_type": "stream",
     "text": [
      "train df shape:  (157420, 18)\n",
      "test df shape:  (39356, 18)\n"
     ]
    }
   ],
   "source": [
    "import torch\n",
    "from sklearn.model_selection import train_test_split\n",
    "from tools.preprocessing.template_dataset import TemplateDataset\n",
    "\n",
    "max_seq_len = 32\n",
    "min_seq_len = 16\n",
    "train_df, test_df = train_test_split(df, test_size=0.2, shuffle=False)\n",
    "# predict the next value in the sequence\n",
    "train_df_x = train_df.iloc[:, :-1] # all columns except the last one\n",
    "train_df_y = train_df.iloc[:, -1:] # only the last column\n",
    "\n",
    "test_df_x = test_df.iloc[:, :-1] # all columns except the last one\n",
    "test_df_y = test_df.iloc[:, -1:] # only the last column\n",
    "\n",
    "print('train df shape: ', train_df.shape)\n",
    "print('test df shape: ', test_df.shape)\n",
    "trainset = TemplateDataset(train_df_x, train_df_y, min_seq_len, max_seq_len)\n",
    "testset = TemplateDataset(test_df_x, test_df_y, min_seq_len, max_seq_len)"
   ]
  },
  {
   "cell_type": "markdown",
   "metadata": {},
   "source": [
    "<a id=\"3\"></a>\n",
    "> <h1 style = 'font-family: Times New Roman'><b> <b style = 'color: #427bf5'>3.</b> Modeling</b></h1>"
   ]
  },
  {
   "cell_type": "code",
   "execution_count": 6,
   "metadata": {},
   "outputs": [],
   "source": [
    "from tools.setting.data_config import DataConfig\n",
    "from tools.setting.ml_params import MLParameters\n",
    "from trainer_hub import TrainerHub\n",
    "\n",
    "num_features = description['num_features']\n",
    "num_classes = description['num_classes']\n",
    "data_config = DataConfig(dataset_name = 'renewable-power-gen-prediction', task_type='regression', obs_shape=[num_features], label_size=num_classes)\n",
    "\n",
    "#  Set training configuration from the AlgorithmConfig class, returning them as a Namespace object.\n",
    "ml_params = MLParameters(ccnet_network = 'gpt', encoder_network = 'none')\n",
    "ml_params.algorithm.error_function = 'mae'\n",
    "\n",
    "# Set the device to GPU if available, else CPU\n",
    "device = torch.device(\"cuda\" if torch.cuda.is_available() else \"cpu\") \n",
    "\n",
    "# Initialize the TrainerHub class with the training configuration, data configuration, device, and use_print and use_wandb flags\n",
    "trainer_hub = TrainerHub(ml_params, data_config, device, use_print=True, use_wandb=False) "
   ]
  },
  {
   "cell_type": "code",
   "execution_count": 7,
   "metadata": {},
   "outputs": [
    {
     "data": {
      "text/html": [
       "wandb version 0.17.0 is available!  To upgrade, please run:\n",
       " $ pip install wandb --upgrade"
      ],
      "text/plain": [
       "<IPython.core.display.HTML object>"
      ]
     },
     "metadata": {},
     "output_type": "display_data"
    },
    {
     "data": {
      "text/html": [
       "Tracking run with wandb version 0.16.6"
      ],
      "text/plain": [
       "<IPython.core.display.HTML object>"
      ]
     },
     "metadata": {},
     "output_type": "display_data"
    },
    {
     "data": {
      "text/html": [
       "Run data is saved locally in <code>c:\\Users\\ccn-team\\Projects\\causal-learning\\examples\\wandb\\run-20240603_004327-q3zi27zt</code>"
      ],
      "text/plain": [
       "<IPython.core.display.HTML object>"
      ]
     },
     "metadata": {},
     "output_type": "display_data"
    },
    {
     "data": {
      "text/html": [
       "Syncing run <strong><a href='https://wandb.ai/ccnets/causal-learning/runs/q3zi27zt' target=\"_blank\">causal-learning-renewable-power-gen-prediction : 24-06-03 00:43:25</a></strong> to <a href='https://wandb.ai/ccnets/causal-learning' target=\"_blank\">Weights & Biases</a> (<a href='https://wandb.me/run' target=\"_blank\">docs</a>)<br/>"
      ],
      "text/plain": [
       "<IPython.core.display.HTML object>"
      ]
     },
     "metadata": {},
     "output_type": "display_data"
    },
    {
     "data": {
      "text/html": [
       " View project at <a href='https://wandb.ai/ccnets/causal-learning' target=\"_blank\">https://wandb.ai/ccnets/causal-learning</a>"
      ],
      "text/plain": [
       "<IPython.core.display.HTML object>"
      ]
     },
     "metadata": {},
     "output_type": "display_data"
    },
    {
     "data": {
      "text/html": [
       " View run at <a href='https://wandb.ai/ccnets/causal-learning/runs/q3zi27zt' target=\"_blank\">https://wandb.ai/ccnets/causal-learning/runs/q3zi27zt</a>"
      ],
      "text/plain": [
       "<IPython.core.display.HTML object>"
      ]
     },
     "metadata": {},
     "output_type": "display_data"
    },
    {
     "name": "stderr",
     "output_type": "stream",
     "text": [
      "\u001b[34m\u001b[1mwandb\u001b[0m: Adding directory to artifact (.\\..\\saved\\renewable-power-gen-prediction\\causal-learning)... Done. 0.0s\n"
     ]
    },
    {
     "data": {
      "application/vnd.jupyter.widget-view+json": {
       "model_id": "ffe51973e01c4a7f9446932f5e7ffa73",
       "version_major": 2,
       "version_minor": 0
      },
      "text/plain": [
       "Epochs:   0%|          | 0/100 [00:00<?, ?it/s]"
      ]
     },
     "metadata": {},
     "output_type": "display_data"
    },
    {
     "data": {
      "application/vnd.jupyter.widget-view+json": {
       "model_id": "95e24b959679431082fed7d8dfb4569d",
       "version_major": 2,
       "version_minor": 0
      },
      "text/plain": [
       "Iterations:   0%|          | 0/2459 [00:00<?, ?it/s]"
      ]
     },
     "metadata": {},
     "output_type": "display_data"
    },
    {
     "name": "stdout",
     "output_type": "stream",
     "text": [
      "[0/100][100/2459][Time 11.10]\n",
      "Unified LR across all optimizers: 0.0001993957766378747\n",
      "--------------------Training Metrics--------------------\n",
      "CCNet:  Three Gpt\n",
      "Inf: 0.1588\tGen: 0.2952\tRec: 0.3294\tE: 0.1240\tR: 0.1919\tP: 0.4680\n",
      "--------------------Test Metrics------------------------\n",
      "mse: 1855724.5000\n",
      "mae: 729.8712\n",
      "r2: -0.3897\n",
      "\n",
      "[0/100][200/2459][Time 10.50]\n",
      "Unified LR across all optimizers: 0.00019879933411171295\n",
      "--------------------Training Metrics--------------------\n",
      "CCNet:  Three Gpt\n",
      "Inf: 0.0636\tGen: 0.1451\tRec: 0.1590\tE: 0.0482\tR: 0.0758\tP: 0.2451\n",
      "--------------------Test Metrics------------------------\n",
      "mse: 1605779.1250\n",
      "mae: 652.9637\n",
      "r2: -0.3463\n",
      "\n",
      "[0/100][300/2459][Time 10.57]\n",
      "Unified LR across all optimizers: 0.00019820467569398644\n",
      "--------------------Training Metrics--------------------\n",
      "CCNet:  Three Gpt\n",
      "Inf: 0.0483\tGen: 0.1185\tRec: 0.1284\tE: 0.0380\tR: 0.0574\tP: 0.2012\n",
      "--------------------Test Metrics------------------------\n",
      "mse: 1228045.0000\n",
      "mae: 545.2129\n",
      "r2: -0.3026\n",
      "\n",
      "[0/100][400/2459][Time 10.55]\n",
      "Unified LR across all optimizers: 0.00019761179604798148\n",
      "--------------------Training Metrics--------------------\n",
      "CCNet:  Three Gpt\n",
      "Inf: 0.0406\tGen: 0.1117\tRec: 0.1197\tE: 0.0324\tR: 0.0491\tP: 0.1930\n",
      "--------------------Test Metrics------------------------\n",
      "mse: 1629717.2500\n",
      "mae: 661.1119\n",
      "r2: -0.3585\n",
      "\n",
      "[0/100][500/2459][Time 10.51]\n",
      "Unified LR across all optimizers: 0.0001970206898529479\n",
      "--------------------Training Metrics--------------------\n",
      "CCNet:  Three Gpt\n",
      "Inf: 0.0149\tGen: 0.1005\tRec: 0.0988\tE: 0.0167\tR: 0.0135\tP: 0.1858\n",
      "--------------------Test Metrics------------------------\n",
      "mse: 1510697.6250\n",
      "mae: 610.2863\n",
      "r2: -0.3195\n",
      "\n"
     ]
    }
   ],
   "source": [
    "trainer_hub.train(trainset, testset)"
   ]
  },
  {
   "cell_type": "code",
   "execution_count": null,
   "metadata": {},
   "outputs": [],
   "source": [
    "trainer_hub.test(testset)"
   ]
  }
 ],
 "metadata": {
  "kernelspec": {
   "display_name": "ccnets",
   "language": "python",
   "name": "python3"
  },
  "language_info": {
   "codemirror_mode": {
    "name": "ipython",
    "version": 3
   },
   "file_extension": ".py",
   "mimetype": "text/x-python",
   "name": "python",
   "nbconvert_exporter": "python",
   "pygments_lexer": "ipython3",
   "version": "3.10.9"
  }
 },
 "nbformat": 4,
 "nbformat_minor": 2
}
