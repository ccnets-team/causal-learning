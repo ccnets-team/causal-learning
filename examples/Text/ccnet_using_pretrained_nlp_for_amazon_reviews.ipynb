{
 "cells": [
  {
   "cell_type": "markdown",
   "metadata": {},
   "source": [
    "'''\n",
    "Author:\n",
    "        \n",
    "        PARK, JunHo, junho@ccnets.org\n",
    "\n",
    "        \n",
    "        KIM, JoengYoong, jeongyoong@ccnets.org\n",
    "        \n",
    "    COPYRIGHT (c) 2024. CCNets. All Rights reserved.\n",
    "'''"
   ]
  },
  {
   "cell_type": "code",
   "execution_count": 1,
   "metadata": {},
   "outputs": [],
   "source": [
    "import sys\n",
    "path_append = \"../../\"\n",
    "sys.path.append(path_append)  # Go up one directory from where you are.\n",
    "\n",
    "from nn.utils.init import set_random_seed\n",
    "set_random_seed(0)"
   ]
  },
  {
   "cell_type": "code",
   "execution_count": 2,
   "metadata": {},
   "outputs": [
    {
     "data": {
      "text/html": [
       "<div>\n",
       "<style scoped>\n",
       "    .dataframe tbody tr th:only-of-type {\n",
       "        vertical-align: middle;\n",
       "    }\n",
       "\n",
       "    .dataframe tbody tr th {\n",
       "        vertical-align: top;\n",
       "    }\n",
       "\n",
       "    .dataframe thead th {\n",
       "        text-align: right;\n",
       "    }\n",
       "</style>\n",
       "<table border=\"1\" class=\"dataframe\">\n",
       "  <thead>\n",
       "    <tr style=\"text-align: right;\">\n",
       "      <th></th>\n",
       "      <th>Unnamed: 0</th>\n",
       "      <th>reviewerName</th>\n",
       "      <th>overall</th>\n",
       "      <th>reviewText</th>\n",
       "      <th>reviewTime</th>\n",
       "      <th>day_diff</th>\n",
       "      <th>helpful_yes</th>\n",
       "      <th>helpful_no</th>\n",
       "      <th>total_vote</th>\n",
       "      <th>score_pos_neg_diff</th>\n",
       "      <th>score_average_rating</th>\n",
       "      <th>wilson_lower_bound</th>\n",
       "    </tr>\n",
       "  </thead>\n",
       "  <tbody>\n",
       "    <tr>\n",
       "      <th>0</th>\n",
       "      <td>0</td>\n",
       "      <td>NaN</td>\n",
       "      <td>4.0</td>\n",
       "      <td>No issues.</td>\n",
       "      <td>2014-07-23</td>\n",
       "      <td>138</td>\n",
       "      <td>0</td>\n",
       "      <td>0</td>\n",
       "      <td>0</td>\n",
       "      <td>0</td>\n",
       "      <td>0.0</td>\n",
       "      <td>0.0</td>\n",
       "    </tr>\n",
       "    <tr>\n",
       "      <th>1</th>\n",
       "      <td>1</td>\n",
       "      <td>0mie</td>\n",
       "      <td>5.0</td>\n",
       "      <td>Purchased this for my device, it worked as adv...</td>\n",
       "      <td>2013-10-25</td>\n",
       "      <td>409</td>\n",
       "      <td>0</td>\n",
       "      <td>0</td>\n",
       "      <td>0</td>\n",
       "      <td>0</td>\n",
       "      <td>0.0</td>\n",
       "      <td>0.0</td>\n",
       "    </tr>\n",
       "    <tr>\n",
       "      <th>2</th>\n",
       "      <td>2</td>\n",
       "      <td>1K3</td>\n",
       "      <td>4.0</td>\n",
       "      <td>it works as expected. I should have sprung for...</td>\n",
       "      <td>2012-12-23</td>\n",
       "      <td>715</td>\n",
       "      <td>0</td>\n",
       "      <td>0</td>\n",
       "      <td>0</td>\n",
       "      <td>0</td>\n",
       "      <td>0.0</td>\n",
       "      <td>0.0</td>\n",
       "    </tr>\n",
       "    <tr>\n",
       "      <th>3</th>\n",
       "      <td>3</td>\n",
       "      <td>1m2</td>\n",
       "      <td>5.0</td>\n",
       "      <td>This think has worked out great.Had a diff. br...</td>\n",
       "      <td>2013-11-21</td>\n",
       "      <td>382</td>\n",
       "      <td>0</td>\n",
       "      <td>0</td>\n",
       "      <td>0</td>\n",
       "      <td>0</td>\n",
       "      <td>0.0</td>\n",
       "      <td>0.0</td>\n",
       "    </tr>\n",
       "    <tr>\n",
       "      <th>4</th>\n",
       "      <td>4</td>\n",
       "      <td>2&amp;amp;1/2Men</td>\n",
       "      <td>5.0</td>\n",
       "      <td>Bought it with Retail Packaging, arrived legit...</td>\n",
       "      <td>2013-07-13</td>\n",
       "      <td>513</td>\n",
       "      <td>0</td>\n",
       "      <td>0</td>\n",
       "      <td>0</td>\n",
       "      <td>0</td>\n",
       "      <td>0.0</td>\n",
       "      <td>0.0</td>\n",
       "    </tr>\n",
       "  </tbody>\n",
       "</table>\n",
       "</div>"
      ],
      "text/plain": [
       "   Unnamed: 0  reviewerName  overall  \\\n",
       "0           0           NaN      4.0   \n",
       "1           1          0mie      5.0   \n",
       "2           2           1K3      4.0   \n",
       "3           3           1m2      5.0   \n",
       "4           4  2&amp;1/2Men      5.0   \n",
       "\n",
       "                                          reviewText  reviewTime  day_diff  \\\n",
       "0                                         No issues.  2014-07-23       138   \n",
       "1  Purchased this for my device, it worked as adv...  2013-10-25       409   \n",
       "2  it works as expected. I should have sprung for...  2012-12-23       715   \n",
       "3  This think has worked out great.Had a diff. br...  2013-11-21       382   \n",
       "4  Bought it with Retail Packaging, arrived legit...  2013-07-13       513   \n",
       "\n",
       "   helpful_yes  helpful_no  total_vote  score_pos_neg_diff  \\\n",
       "0            0           0           0                   0   \n",
       "1            0           0           0                   0   \n",
       "2            0           0           0                   0   \n",
       "3            0           0           0                   0   \n",
       "4            0           0           0                   0   \n",
       "\n",
       "   score_average_rating  wilson_lower_bound  \n",
       "0                   0.0                 0.0  \n",
       "1                   0.0                 0.0  \n",
       "2                   0.0                 0.0  \n",
       "3                   0.0                 0.0  \n",
       "4                   0.0                 0.0  "
      ]
     },
     "execution_count": 2,
     "metadata": {},
     "output_type": "execute_result"
    }
   ],
   "source": [
    "# https://www.kaggle.com/datasets/tarkkaanko/amazon/\n",
    "\n",
    "import pandas as pd\n",
    "df = pd.read_csv(path_append + '../data/Amazon reviews/amazon_reviews.csv')\n",
    "df.head()"
   ]
  },
  {
   "cell_type": "code",
   "execution_count": 3,
   "metadata": {},
   "outputs": [],
   "source": [
    "import torch\n",
    "from torch.utils.data import Dataset\n",
    "from transformers import AutoTokenizer, AutoModel\n",
    "\n",
    "class PretrainedModelDataset(Dataset):\n",
    "    def __init__(self, df, tokenizer, model, num_classes, device, max_length=512, precompute_batches=64, **kwargs):\n",
    "        self.df = df.copy()\n",
    "        self.df['overall'] -= 1  # Shift labels to 0-4 range\n",
    "        self.model = model\n",
    "        self.tokenizer = tokenizer\n",
    "        self.max_length = max_length\n",
    "        self.num_classes = num_classes\n",
    "        self.device = device\n",
    "        self.precompute_batches = precompute_batches\n",
    "        self.X_cache = None\n",
    "        self.y_cache = None\n",
    "        self.total_iters = 0\n",
    "        self.dataset_length = len(self.df)\n",
    "        # Efficiently select a random subset of indices\n",
    "        self._shuffle_indices()\n",
    "        self._precompute_batches(0)\n",
    "        \n",
    "    def _shuffle_indices(self):\n",
    "        self.batch_indices = torch.randperm(len(self.df))\n",
    "        \n",
    "    def _precompute_batches(self, start_idx):\n",
    "        end_idx = min(start_idx + self.precompute_batches, self.dataset_length)\n",
    "        batch_indices = self.batch_indices[start_idx:end_idx].tolist()\n",
    "\n",
    "        # Gather batch data\n",
    "        X_batch = [self.df.iloc[i][\"reviewText\"] for i in batch_indices]\n",
    "        y_batch = [self.df.iloc[i][\"overall\"] for i in batch_indices]\n",
    "\n",
    "        # Ensure all elements in X_batch are strings\n",
    "        X_batch = [str(x) for x in X_batch]\n",
    "\n",
    "        # Ensure y_batch contains valid numeric values\n",
    "        y_batch = [float(y) for y in y_batch]\n",
    "        \n",
    "        # Tokenize the batch\n",
    "        X = self.tokenizer(X_batch, truncation=True, max_length=self.max_length, padding='max_length', return_tensors='pt')\n",
    "        # Move inputs to the correct device\n",
    "        input_ids = X['input_ids'].to(self.device)\n",
    "        attention_mask = X['attention_mask'].to(self.device)\n",
    "\n",
    "        # Get the last hidden state from the RoBERTa model\n",
    "        with torch.no_grad():\n",
    "            outputs = self.model(input_ids=input_ids, attention_mask=attention_mask)\n",
    "            last_hidden_state = outputs.hidden_states[0]\n",
    "            \n",
    "        masked_hidden_states = last_hidden_state * attention_mask.unsqueeze(-1)\n",
    "        # Reshape the labels for the entire batch\n",
    "        y_tensor = torch.tensor(y_batch, dtype=torch.float).unsqueeze(1)  # Shape: (batch_size, 1)\n",
    "        y_tensor = y_tensor.unsqueeze(1).repeat(1, last_hidden_state.size(1), 1)  # Shape: (batch_size, sequence_length, num_classes)\n",
    "        y_tensor[attention_mask.unsqueeze(-1) > 0] = -1\n",
    "        \n",
    "        # Store precomputed batch in cache\n",
    "        self.X_cache = masked_hidden_states\n",
    "        self.y_cache = y_tensor\n",
    "\n",
    "    def __len__(self):\n",
    "        return self.dataset_length\n",
    "    \n",
    "    def __getitem__(self, idx):\n",
    "        batch_idx = idx // self.precompute_batches\n",
    "        batch_start_idx = batch_idx * self.precompute_batches\n",
    "        cur_idx = idx % self.precompute_batches\n",
    "\n",
    "        if self.total_iters % self.dataset_length == 0:\n",
    "            self._shuffle_indices()\n",
    "\n",
    "        if self.total_iters % self.precompute_batches == 0:\n",
    "            self._precompute_batches(batch_start_idx)\n",
    "\n",
    "        self.total_iters += 1\n",
    "\n",
    "        if cur_idx >= len(self.X_cache):\n",
    "            cur_idx = idx % len(self.X_cache)\n",
    "\n",
    "        X = self.X_cache[cur_idx]\n",
    "        y = self.y_cache[cur_idx]\n",
    "        return X, y"
   ]
  },
  {
   "cell_type": "code",
   "execution_count": 4,
   "metadata": {},
   "outputs": [
    {
     "name": "stderr",
     "output_type": "stream",
     "text": [
      "Some weights of the model checkpoint at cardiffnlp/twitter-roberta-base-irony were not used when initializing RobertaModel: ['classifier.out_proj.bias', 'classifier.out_proj.weight', 'classifier.dense.weight', 'classifier.dense.bias']\n",
      "- This IS expected if you are initializing RobertaModel from the checkpoint of a model trained on another task or with another architecture (e.g. initializing a BertForSequenceClassification model from a BertForPreTraining model).\n",
      "- This IS NOT expected if you are initializing RobertaModel from the checkpoint of a model that you expect to be exactly identical (initializing a BertForSequenceClassification model from a BertForSequenceClassification model).\n",
      "Some weights of RobertaModel were not initialized from the model checkpoint at cardiffnlp/twitter-roberta-base-irony and are newly initialized: ['roberta.pooler.dense.bias', 'roberta.pooler.dense.weight']\n",
      "You should probably TRAIN this model on a down-stream task to be able to use it for predictions and inference.\n"
     ]
    }
   ],
   "source": [
    "from sklearn.model_selection import train_test_split\n",
    "from transformers import AutoModel, AutoConfig\n",
    "# Initialize tokenizer and model\n",
    "TARGET_MODEL = \"cardiffnlp/twitter-roberta-base-irony\"\n",
    "device = torch.device('cuda' if torch.cuda.is_available() else 'cpu')\n",
    "\n",
    "tokenizer = AutoTokenizer.from_pretrained(TARGET_MODEL, use_fast=True)\n",
    "tokenizer.pad_token = tokenizer.eos_token\n",
    "# Assuming the model and tokenizer are already loaded correctly\n",
    "config = AutoConfig.from_pretrained(TARGET_MODEL, output_hidden_states=True)\n",
    "pretrained_model = AutoModel.from_pretrained(TARGET_MODEL, config=config)\n",
    "pretrained_model.to(device)\n",
    "pretrained_model.eval()\n",
    "\n",
    "# Assuming df is your DataFrame\n",
    "train_df, test_df = train_test_split(df, stratify=df[\"overall\"], test_size=0.2)\n",
    "num_classes = 1\n",
    "# Create datasets\n",
    "trainset = PretrainedModelDataset(train_df, tokenizer, pretrained_model, num_classes, device, max_length=128)\n",
    "testset = PretrainedModelDataset(test_df, tokenizer, pretrained_model, num_classes, device, max_length=128)"
   ]
  },
  {
   "cell_type": "code",
   "execution_count": 5,
   "metadata": {},
   "outputs": [],
   "source": [
    "from tools.setting.data_config import DataConfig\n",
    "from tools.setting.ml_params import MLParameters\n",
    "from trainer_hub import TrainerHub\n",
    "import torch\n",
    "\n",
    "data_config = DataConfig(dataset_name = 'amazon_reviews', task_type='regression', obs_shape=[pretrained_model.config.hidden_size], label_size=num_classes)\n",
    "\n",
    "#  Set training configuration from the AlgorithmConfig class, returning them as a Namespace object.\n",
    "ml_params = MLParameters(ccnet_network = 'gpt', encoder_network = 'none')\n",
    "\n",
    "# Set the device to GPU if available, else CPU\n",
    "device = torch.device(\"cuda\" if torch.cuda.is_available() else \"cpu\") \n",
    "\n",
    "# Initialize the TrainerHub class with the training configuration, data configuration, device, and use_print and use_wandb flags\n",
    "trainer_hub = TrainerHub(ml_params, data_config, device, use_print=True, use_wandb=False) "
   ]
  },
  {
   "cell_type": "code",
   "execution_count": 6,
   "metadata": {},
   "outputs": [
    {
     "data": {
      "application/vnd.jupyter.widget-view+json": {
       "model_id": "7ae3471b59d645418e62fb4a0f7668e0",
       "version_major": 2,
       "version_minor": 0
      },
      "text/plain": [
       "Epochs:   0%|          | 0/100 [00:00<?, ?it/s]"
      ]
     },
     "metadata": {},
     "output_type": "display_data"
    },
    {
     "data": {
      "application/vnd.jupyter.widget-view+json": {
       "model_id": "234d9b9af9db46b48253f578d5baa76e",
       "version_major": 2,
       "version_minor": 0
      },
      "text/plain": [
       "Iterations:   0%|          | 0/61 [00:00<?, ?it/s]"
      ]
     },
     "metadata": {},
     "output_type": "display_data"
    },
    {
     "name": "stdout",
     "output_type": "stream",
     "text": [
      "[0/100][50/61][Time 25.14]\n",
      "Unified LR across all optimizers: 0.0001995308238189185\n",
      "--------------------Training Metrics--------------------\n",
      "Trainer:  gpt\n",
      "Inf: 0.0226\tGen: 0.1570\tRec: 0.1557\tE: 0.0239\tR: 0.0212\tP: 0.2901\n",
      "--------------------Test Metrics------------------------\n",
      "mse: 4.2345\n",
      "mae: 1.0015\n",
      "r2: -0.6551\n",
      "\n"
     ]
    },
    {
     "data": {
      "application/vnd.jupyter.widget-view+json": {
       "model_id": "058485fbb6f6485bb107546393326e36",
       "version_major": 2,
       "version_minor": 0
      },
      "text/plain": [
       "Iterations:   0%|          | 0/61 [00:00<?, ?it/s]"
      ]
     },
     "metadata": {},
     "output_type": "display_data"
    },
    {
     "name": "stdout",
     "output_type": "stream",
     "text": [
      "[1/100][39/61][Time 24.58]\n",
      "Unified LR across all optimizers: 0.00019907191565870155\n",
      "--------------------Training Metrics--------------------\n",
      "Trainer:  gpt\n",
      "Inf: 0.0002\tGen: 0.0967\tRec: 0.0966\tE: 0.0003\tR: 0.0002\tP: 0.1931\n",
      "--------------------Test Metrics------------------------\n",
      "mse: 4.7987\n",
      "mae: 1.0904\n",
      "r2: -0.7910\n",
      "\n"
     ]
    },
    {
     "data": {
      "application/vnd.jupyter.widget-view+json": {
       "model_id": "cb758f2b054d4bdfb5b0e86d6ccab6f5",
       "version_major": 2,
       "version_minor": 0
      },
      "text/plain": [
       "Iterations:   0%|          | 0/61 [00:00<?, ?it/s]"
      ]
     },
     "metadata": {},
     "output_type": "display_data"
    },
    {
     "name": "stdout",
     "output_type": "stream",
     "text": [
      "[2/100][28/61][Time 24.45]\n",
      "Unified LR across all optimizers: 0.00019861406295796434\n",
      "--------------------Training Metrics--------------------\n",
      "Trainer:  gpt\n",
      "Inf: 0.0002\tGen: 0.0959\tRec: 0.0959\tE: 0.0002\tR: 0.0001\tP: 0.1916\n",
      "--------------------Test Metrics------------------------\n",
      "mse: 3.9484\n",
      "mae: 0.9371\n",
      "r2: -0.5050\n",
      "\n"
     ]
    },
    {
     "data": {
      "application/vnd.jupyter.widget-view+json": {
       "model_id": "9ed22e85cdf8437c99f01f9919a2ed26",
       "version_major": 2,
       "version_minor": 0
      },
      "text/plain": [
       "Iterations:   0%|          | 0/61 [00:00<?, ?it/s]"
      ]
     },
     "metadata": {},
     "output_type": "display_data"
    },
    {
     "name": "stdout",
     "output_type": "stream",
     "text": [
      "[3/100][17/61][Time 24.50]\n",
      "Unified LR across all optimizers: 0.00019815726328921765\n",
      "--------------------Training Metrics--------------------\n",
      "Trainer:  gpt\n",
      "Inf: 0.0002\tGen: 0.0917\tRec: 0.0917\tE: 0.0002\tR: 0.0001\tP: 0.1833\n",
      "--------------------Test Metrics------------------------\n",
      "mse: 5.8245\n",
      "mae: 1.3953\n",
      "r2: -1.0727\n",
      "\n"
     ]
    },
    {
     "data": {
      "application/vnd.jupyter.widget-view+json": {
       "model_id": "0bee16eb38e2475aa1f115242c117453",
       "version_major": 2,
       "version_minor": 0
      },
      "text/plain": [
       "Iterations:   0%|          | 0/61 [00:00<?, ?it/s]"
      ]
     },
     "metadata": {},
     "output_type": "display_data"
    },
    {
     "name": "stdout",
     "output_type": "stream",
     "text": [
      "[4/100][6/61][Time 24.54]\n",
      "Unified LR across all optimizers: 0.00019770151423055492\n",
      "--------------------Training Metrics--------------------\n",
      "Trainer:  gpt\n",
      "Inf: 0.0001\tGen: 0.0902\tRec: 0.0901\tE: 0.0002\tR: 0.0001\tP: 0.1802\n",
      "--------------------Test Metrics------------------------\n",
      "mse: 3.6596\n",
      "mae: 0.8929\n",
      "r2: -0.2932\n",
      "\n",
      "[4/100][56/61][Time 24.47]\n",
      "Unified LR across all optimizers: 0.00019724681336564005\n",
      "--------------------Training Metrics--------------------\n",
      "Trainer:  gpt\n",
      "Inf: 0.0001\tGen: 0.0879\tRec: 0.0879\tE: 0.0001\tR: 0.0001\tP: 0.1757\n",
      "--------------------Test Metrics------------------------\n",
      "mse: 1.0243\n",
      "mae: 0.5850\n",
      "r2: 0.6427\n",
      "\n"
     ]
    },
    {
     "data": {
      "application/vnd.jupyter.widget-view+json": {
       "model_id": "66bf5210f1694ac1a4048284be8bf021",
       "version_major": 2,
       "version_minor": 0
      },
      "text/plain": [
       "Iterations:   0%|          | 0/61 [00:00<?, ?it/s]"
      ]
     },
     "metadata": {},
     "output_type": "display_data"
    },
    {
     "name": "stdout",
     "output_type": "stream",
     "text": [
      "[5/100][45/61][Time 24.59]\n",
      "Unified LR across all optimizers: 0.00019679315828369438\n",
      "--------------------Training Metrics--------------------\n",
      "Trainer:  gpt\n",
      "Inf: 0.0001\tGen: 0.0848\tRec: 0.0848\tE: 0.0001\tR: 0.0001\tP: 0.1694\n",
      "--------------------Test Metrics------------------------\n",
      "mse: 0.7503\n",
      "mae: 0.3393\n",
      "r2: 0.7183\n",
      "\n"
     ]
    },
    {
     "data": {
      "application/vnd.jupyter.widget-view+json": {
       "model_id": "2d2267cd29c6486d80e642ec062039db",
       "version_major": 2,
       "version_minor": 0
      },
      "text/plain": [
       "Iterations:   0%|          | 0/61 [00:00<?, ?it/s]"
      ]
     },
     "metadata": {},
     "output_type": "display_data"
    },
    {
     "name": "stdout",
     "output_type": "stream",
     "text": [
      "[6/100][34/61][Time 24.54]\n",
      "Unified LR across all optimizers: 0.00019634054657948372\n",
      "--------------------Training Metrics--------------------\n",
      "Trainer:  gpt\n",
      "Inf: 0.0001\tGen: 0.0812\tRec: 0.0811\tE: 0.0001\tR: 0.0001\tP: 0.1622\n",
      "--------------------Test Metrics------------------------\n",
      "mse: 0.6480\n",
      "mae: 0.2872\n",
      "r2: 0.7694\n",
      "\n"
     ]
    },
    {
     "data": {
      "application/vnd.jupyter.widget-view+json": {
       "model_id": "70b9ab4df46b4b49a5c6938d709ced89",
       "version_major": 2,
       "version_minor": 0
      },
      "text/plain": [
       "Iterations:   0%|          | 0/61 [00:00<?, ?it/s]"
      ]
     },
     "metadata": {},
     "output_type": "display_data"
    },
    {
     "name": "stdout",
     "output_type": "stream",
     "text": [
      "[7/100][23/61][Time 24.48]\n",
      "Unified LR across all optimizers: 0.00019588897585330582\n",
      "--------------------Training Metrics--------------------\n",
      "Trainer:  gpt\n",
      "Inf: 0.0001\tGen: 0.0769\tRec: 0.0769\tE: 0.0001\tR: 0.0000\tP: 0.1538\n",
      "--------------------Test Metrics------------------------\n",
      "mse: 0.7733\n",
      "mae: 0.3063\n",
      "r2: 0.7359\n",
      "\n"
     ]
    },
    {
     "data": {
      "application/vnd.jupyter.widget-view+json": {
       "model_id": "f37b048978c54c0686752e00bef6f3c6",
       "version_major": 2,
       "version_minor": 0
      },
      "text/plain": [
       "Iterations:   0%|          | 0/61 [00:00<?, ?it/s]"
      ]
     },
     "metadata": {},
     "output_type": "display_data"
    },
    {
     "name": "stdout",
     "output_type": "stream",
     "text": [
      "[8/100][12/61][Time 24.50]\n",
      "Unified LR across all optimizers: 0.00019543844371097777\n",
      "--------------------Training Metrics--------------------\n",
      "Trainer:  gpt\n",
      "Inf: 0.0001\tGen: 0.0768\tRec: 0.0768\tE: 0.0001\tR: 0.0000\tP: 0.1535\n",
      "--------------------Test Metrics------------------------\n",
      "mse: 0.5853\n",
      "mae: 0.2631\n",
      "r2: 0.7805\n",
      "\n"
     ]
    },
    {
     "data": {
      "application/vnd.jupyter.widget-view+json": {
       "model_id": "f007741523d645c2bca52b74582c2240",
       "version_major": 2,
       "version_minor": 0
      },
      "text/plain": [
       "Iterations:   0%|          | 0/61 [00:00<?, ?it/s]"
      ]
     },
     "metadata": {},
     "output_type": "display_data"
    },
    {
     "name": "stdout",
     "output_type": "stream",
     "text": [
      "[9/100][1/61][Time 24.43]\n",
      "Unified LR across all optimizers: 0.00019498894776382288\n",
      "--------------------Training Metrics--------------------\n",
      "Trainer:  gpt\n",
      "Inf: 0.0001\tGen: 0.0729\tRec: 0.0729\tE: 0.0001\tR: 0.0000\tP: 0.1458\n",
      "--------------------Test Metrics------------------------\n",
      "mse: 0.8038\n",
      "mae: 0.2990\n",
      "r2: 0.7195\n",
      "\n",
      "[9/100][51/61][Time 24.50]\n",
      "Unified LR across all optimizers: 0.00019454048562865856\n",
      "--------------------Training Metrics--------------------\n",
      "Trainer:  gpt\n",
      "Inf: 0.0001\tGen: 0.0712\tRec: 0.0712\tE: 0.0001\tR: 0.0000\tP: 0.1423\n",
      "--------------------Test Metrics------------------------\n",
      "mse: 0.7403\n",
      "mae: 0.3048\n",
      "r2: 0.7481\n",
      "\n"
     ]
    },
    {
     "data": {
      "application/vnd.jupyter.widget-view+json": {
       "model_id": "c00eb7102f2d4cfdb0d96a3f278b3a6d",
       "version_major": 2,
       "version_minor": 0
      },
      "text/plain": [
       "Iterations:   0%|          | 0/61 [00:00<?, ?it/s]"
      ]
     },
     "metadata": {},
     "output_type": "display_data"
    },
    {
     "name": "stdout",
     "output_type": "stream",
     "text": [
      "[10/100][40/61][Time 24.57]\n",
      "Unified LR across all optimizers: 0.00019409305492778308\n",
      "--------------------Training Metrics--------------------\n",
      "Trainer:  gpt\n",
      "Inf: 0.0001\tGen: 0.0713\tRec: 0.0713\tE: 0.0001\tR: 0.0000\tP: 0.1425\n",
      "--------------------Test Metrics------------------------\n",
      "mse: 0.4320\n",
      "mae: 0.2175\n",
      "r2: 0.8446\n",
      "\n"
     ]
    },
    {
     "data": {
      "application/vnd.jupyter.widget-view+json": {
       "model_id": "3643f5e50d10489aafb44ea8790224c5",
       "version_major": 2,
       "version_minor": 0
      },
      "text/plain": [
       "Iterations:   0%|          | 0/61 [00:00<?, ?it/s]"
      ]
     },
     "metadata": {},
     "output_type": "display_data"
    },
    {
     "name": "stdout",
     "output_type": "stream",
     "text": [
      "[11/100][29/61][Time 24.48]\n",
      "Unified LR across all optimizers: 0.00019364665328896346\n",
      "--------------------Training Metrics--------------------\n",
      "Trainer:  gpt\n",
      "Inf: 0.0001\tGen: 0.0673\tRec: 0.0673\tE: 0.0001\tR: 0.0001\tP: 0.1345\n",
      "--------------------Test Metrics------------------------\n",
      "mse: 0.5826\n",
      "mae: 0.2483\n",
      "r2: 0.7994\n",
      "\n"
     ]
    },
    {
     "data": {
      "application/vnd.jupyter.widget-view+json": {
       "model_id": "da5ce72f24eb4e98ad2374ab327328f8",
       "version_major": 2,
       "version_minor": 0
      },
      "text/plain": [
       "Iterations:   0%|          | 0/61 [00:00<?, ?it/s]"
      ]
     },
     "metadata": {},
     "output_type": "display_data"
    },
    {
     "name": "stdout",
     "output_type": "stream",
     "text": [
      "[12/100][18/61][Time 24.68]\n",
      "Unified LR across all optimizers: 0.00019320127834542263\n",
      "--------------------Training Metrics--------------------\n",
      "Trainer:  gpt\n",
      "Inf: 0.0001\tGen: 0.0674\tRec: 0.0673\tE: 0.0001\tR: 0.0000\tP: 0.1346\n",
      "--------------------Test Metrics------------------------\n",
      "mse: 0.7422\n",
      "mae: 0.2998\n",
      "r2: 0.7362\n",
      "\n"
     ]
    },
    {
     "data": {
      "application/vnd.jupyter.widget-view+json": {
       "model_id": "ae77680b9f9c4ff59ffd5e87d0c36de8",
       "version_major": 2,
       "version_minor": 0
      },
      "text/plain": [
       "Iterations:   0%|          | 0/61 [00:00<?, ?it/s]"
      ]
     },
     "metadata": {},
     "output_type": "display_data"
    },
    {
     "name": "stdout",
     "output_type": "stream",
     "text": [
      "[13/100][7/61][Time 24.39]\n",
      "Unified LR across all optimizers: 0.00019275692773582703\n",
      "--------------------Training Metrics--------------------\n",
      "Trainer:  gpt\n",
      "Inf: 0.0001\tGen: 0.0666\tRec: 0.0666\tE: 0.0001\tR: 0.0000\tP: 0.1332\n",
      "--------------------Test Metrics------------------------\n",
      "mse: 0.7531\n",
      "mae: 0.3023\n",
      "r2: 0.7227\n",
      "\n",
      "[13/100][57/61][Time 23.45]\n",
      "Unified LR across all optimizers: 0.0001923135991042739\n",
      "--------------------Training Metrics--------------------\n",
      "Trainer:  gpt\n",
      "Inf: 0.0000\tGen: 0.0660\tRec: 0.0660\tE: 0.0000\tR: 0.0000\tP: 0.1320\n",
      "--------------------Test Metrics------------------------\n",
      "mse: 0.5588\n",
      "mae: 0.2574\n",
      "r2: 0.7901\n",
      "\n"
     ]
    },
    {
     "data": {
      "application/vnd.jupyter.widget-view+json": {
       "model_id": "79e6d6a87c074388a4c514e56392fb04",
       "version_major": 2,
       "version_minor": 0
      },
      "text/plain": [
       "Iterations:   0%|          | 0/61 [00:00<?, ?it/s]"
      ]
     },
     "metadata": {},
     "output_type": "display_data"
    },
    {
     "name": "stdout",
     "output_type": "stream",
     "text": [
      "[14/100][46/61][Time 24.74]\n",
      "Unified LR across all optimizers: 0.0001918712901002789\n",
      "--------------------Training Metrics--------------------\n",
      "Trainer:  gpt\n",
      "Inf: 0.0000\tGen: 0.0616\tRec: 0.0616\tE: 0.0001\tR: 0.0000\tP: 0.1232\n",
      "--------------------Test Metrics------------------------\n",
      "mse: 0.7000\n",
      "mae: 0.2943\n",
      "r2: 0.7595\n",
      "\n"
     ]
    },
    {
     "data": {
      "application/vnd.jupyter.widget-view+json": {
       "model_id": "979c52f4240d4dde8b85da64b701446e",
       "version_major": 2,
       "version_minor": 0
      },
      "text/plain": [
       "Iterations:   0%|          | 0/61 [00:00<?, ?it/s]"
      ]
     },
     "metadata": {},
     "output_type": "display_data"
    },
    {
     "name": "stdout",
     "output_type": "stream",
     "text": [
      "[15/100][35/61][Time 24.97]\n",
      "Unified LR across all optimizers: 0.00019142999837876384\n",
      "--------------------Training Metrics--------------------\n",
      "Trainer:  gpt\n",
      "Inf: 0.0001\tGen: 0.0603\tRec: 0.0603\tE: 0.0001\tR: 0.0000\tP: 0.1206\n",
      "--------------------Test Metrics------------------------\n",
      "mse: 0.7528\n",
      "mae: 0.3138\n",
      "r2: 0.7372\n",
      "\n"
     ]
    },
    {
     "data": {
      "application/vnd.jupyter.widget-view+json": {
       "model_id": "a23373e7825441c2af4133e547b0fa1e",
       "version_major": 2,
       "version_minor": 0
      },
      "text/plain": [
       "Iterations:   0%|          | 0/61 [00:00<?, ?it/s]"
      ]
     },
     "metadata": {},
     "output_type": "display_data"
    },
    {
     "name": "stdout",
     "output_type": "stream",
     "text": [
      "[16/100][24/61][Time 24.59]\n",
      "Unified LR across all optimizers: 0.00019098972160004388\n",
      "--------------------Training Metrics--------------------\n",
      "Trainer:  gpt\n",
      "Inf: 0.0001\tGen: 0.0599\tRec: 0.0599\tE: 0.0001\tR: 0.0001\tP: 0.1198\n",
      "--------------------Test Metrics------------------------\n",
      "mse: 0.7073\n",
      "mae: 0.2927\n",
      "r2: 0.7434\n",
      "\n"
     ]
    },
    {
     "data": {
      "application/vnd.jupyter.widget-view+json": {
       "model_id": "bcc589dbcae642af8f59144b37fe2219",
       "version_major": 2,
       "version_minor": 0
      },
      "text/plain": [
       "Iterations:   0%|          | 0/61 [00:00<?, ?it/s]"
      ]
     },
     "metadata": {},
     "output_type": "display_data"
    },
    {
     "name": "stdout",
     "output_type": "stream",
     "text": [
      "[17/100][13/61][Time 24.56]\n",
      "Unified LR across all optimizers: 0.00019055045742981543\n",
      "--------------------Training Metrics--------------------\n",
      "Trainer:  gpt\n",
      "Inf: 0.0001\tGen: 0.0591\tRec: 0.0591\tE: 0.0001\tR: 0.0000\tP: 0.1181\n",
      "--------------------Test Metrics------------------------\n",
      "mse: 0.6742\n",
      "mae: 0.2728\n",
      "r2: 0.7727\n",
      "\n"
     ]
    },
    {
     "data": {
      "application/vnd.jupyter.widget-view+json": {
       "model_id": "38d7fa6bc8f34bfab4d58f3f65b52000",
       "version_major": 2,
       "version_minor": 0
      },
      "text/plain": [
       "Iterations:   0%|          | 0/61 [00:00<?, ?it/s]"
      ]
     },
     "metadata": {},
     "output_type": "display_data"
    },
    {
     "name": "stdout",
     "output_type": "stream",
     "text": [
      "[18/100][2/61][Time 24.60]\n",
      "Unified LR across all optimizers: 0.00019011220353914353\n",
      "--------------------Training Metrics--------------------\n",
      "Trainer:  gpt\n",
      "Inf: 0.0000\tGen: 0.0600\tRec: 0.0600\tE: 0.0000\tR: 0.0000\tP: 0.1200\n",
      "--------------------Test Metrics------------------------\n",
      "mse: 0.6094\n",
      "mae: 0.2585\n",
      "r2: 0.7615\n",
      "\n",
      "[18/100][52/61][Time 24.46]\n",
      "Unified LR across all optimizers: 0.00018967495760444968\n",
      "--------------------Training Metrics--------------------\n",
      "Trainer:  gpt\n",
      "Inf: 0.0000\tGen: 0.0575\tRec: 0.0575\tE: 0.0001\tR: 0.0000\tP: 0.1150\n",
      "--------------------Test Metrics------------------------\n",
      "mse: 0.7293\n",
      "mae: 0.2945\n",
      "r2: 0.7202\n",
      "\n"
     ]
    },
    {
     "data": {
      "application/vnd.jupyter.widget-view+json": {
       "model_id": "ab13aedf616648118dcc5ca9acfd3645",
       "version_major": 2,
       "version_minor": 0
      },
      "text/plain": [
       "Iterations:   0%|          | 0/61 [00:00<?, ?it/s]"
      ]
     },
     "metadata": {},
     "output_type": "display_data"
    }
   ],
   "source": [
    "trainer_hub.train(trainset, testset)"
   ]
  }
 ],
 "metadata": {
  "kernelspec": {
   "display_name": "ccnets",
   "language": "python",
   "name": "python3"
  },
  "language_info": {
   "codemirror_mode": {
    "name": "ipython",
    "version": 3
   },
   "file_extension": ".py",
   "mimetype": "text/x-python",
   "name": "python",
   "nbconvert_exporter": "python",
   "pygments_lexer": "ipython3",
   "version": "3.9.18"
  }
 },
 "nbformat": 4,
 "nbformat_minor": 2
}
