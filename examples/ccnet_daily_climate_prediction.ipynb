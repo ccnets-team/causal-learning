{
 "cells": [
  {
   "cell_type": "markdown",
   "id": "ace33ea6",
   "metadata": {},
   "source": [
    "Authors : Jinsu Kim, JunHo Park\n",
    "\n",
    "ⓒ 2022 CCNets, Inc. All Rights Reserved."
   ]
  },
  {
   "attachments": {},
   "cell_type": "markdown",
   "id": "86e99e77",
   "metadata": {
    "papermill": {
     "duration": 0.011182,
     "end_time": "2023-06-06T07:48:39.422820",
     "exception": false,
     "start_time": "2023-06-06T07:48:39.411638",
     "status": "completed"
    },
    "tags": []
   },
   "source": [
    "![](https://storage.googleapis.com/kaggle-datasets-images/312121/636393/a5097396fc07cf882d3e0d631b100a36/dataset-cover.jpg?t=2019-08-23-15-00-53)"
   ]
  },
  {
   "attachments": {},
   "cell_type": "markdown",
   "id": "190c2467",
   "metadata": {
    "papermill": {
     "duration": 0.011099,
     "end_time": "2023-06-06T07:48:39.445154",
     "exception": false,
     "start_time": "2023-06-06T07:48:39.434055",
     "status": "completed"
    },
    "tags": []
   },
   "source": [
    "***"
   ]
  },
  {
   "attachments": {},
   "cell_type": "markdown",
   "id": "2633cc40",
   "metadata": {
    "papermill": {
     "duration": 0.010898,
     "end_time": "2023-06-06T07:48:39.467494",
     "exception": false,
     "start_time": "2023-06-06T07:48:39.456596",
     "status": "completed"
    },
    "tags": []
   },
   "source": [
    "<h1 style = 'font-family: Times New Roman'> <b>|</b><i> 1. Content</i></h1>\n",
    "\n",
    "<br>\n",
    "\n",
    "> <h4 style = 'font-family: Times New Roman'>\n",
    "The Dataset is fully dedicated for the developers who want to train the model on Weather Forecasting for Indian climate.<br><br> This dataset provides data from 1st January 2013 to 24th April 2017 in the city of Delhi, India. <br><br>The 4 parameters here are\n",
    "meantemp, humidity, wind_speed, meanpressure.\n",
    "    \n",
    "  \n",
    "<h1 style = 'font-family: Times New Roman'> <b>|</b><i> 2. About Dataset</i></h1>\n",
    "\n",
    "<br> \n",
    "    \n",
    "5 columns in the dataset, below is <u>description of features</u>:\n",
    "\n",
    "*  (1) <b>meantemp</b>: Mean temperature averaged out from multiple 3 hour intervals in a day. \n",
    "    \n",
    "*  (2) <b>humidity</b>: Humidity value for the day (units are grams of water vapor per cubic meter volume of air).\n",
    "    \n",
    "    \n",
    "*  (3) <b>wind_speed</b>: Wind speed measured in kmph.\n",
    "    \n",
    "    \n",
    "*  (4) <b>meanpressure</b>: Pressure reading of weather (measure in atm)\n",
    "    \n",
    "    \n",
    "<h1 style = 'font-family: Times New Roman'> <b>|</b><i> 3. Goal of the Notebook</i></h1>\n",
    "    \n",
    "> <h4 style = 'font-family: Times New Roman'>\n",
    "Goal is to train and test model using GPT, Pytorch. <br><br>\n",
    "    The Target Column used here is <b>meantemp</b>\n",
    "</h4>\n",
    "\n",
    " "
   ]
  },
  {
   "cell_type": "markdown",
   "id": "02a794e7",
   "metadata": {},
   "source": [
    "https://www.kaggle.com/datasets/sumanthvrao/daily-climate-time-series-data"
   ]
  },
  {
   "attachments": {},
   "cell_type": "markdown",
   "id": "c651489d",
   "metadata": {
    "papermill": {
     "duration": 0.010985,
     "end_time": "2023-06-06T07:48:39.512835",
     "exception": false,
     "start_time": "2023-06-06T07:48:39.501850",
     "status": "completed"
    },
    "tags": []
   },
   "source": [
    "***"
   ]
  },
  {
   "attachments": {},
   "cell_type": "markdown",
   "id": "7ee258dd",
   "metadata": {
    "papermill": {
     "duration": 0.011662,
     "end_time": "2023-06-06T07:48:39.535835",
     "exception": false,
     "start_time": "2023-06-06T07:48:39.524173",
     "status": "completed"
    },
    "tags": []
   },
   "source": [
    "<a id=\"1\"></a>\n",
    "> <h1 style = 'font-family: Times New Roman'><b> <b style = 'color: #42c2f5'>1.</b> Import Necessary Libraries </b></h1>"
   ]
  },
  {
   "cell_type": "code",
   "execution_count": 1,
   "id": "795ae437",
   "metadata": {},
   "outputs": [],
   "source": [
    "import os\n",
    "import sys\n",
    "path_append = \"../\"\n",
    "sys.path.append(path_append)  # Go up one directory from where you are."
   ]
  },
  {
   "cell_type": "code",
   "execution_count": 2,
   "id": "5301b228",
   "metadata": {
    "execution": {
     "iopub.execute_input": "2023-06-06T07:48:45.607892Z",
     "iopub.status.busy": "2023-06-06T07:48:45.607512Z",
     "iopub.status.idle": "2023-06-06T07:48:45.631478Z",
     "shell.execute_reply": "2023-06-06T07:48:45.630508Z"
    },
    "papermill": {
     "duration": 0.038975,
     "end_time": "2023-06-06T07:48:45.633894",
     "exception": false,
     "start_time": "2023-06-06T07:48:45.594919",
     "status": "completed"
    },
    "tags": []
   },
   "outputs": [
    {
     "name": "stderr",
     "output_type": "stream",
     "text": [
      "c:\\Users\\CCNets-team\\anaconda3\\lib\\site-packages\\pandas\\core\\computation\\expressions.py:21: UserWarning: Pandas requires version '2.8.4' or newer of 'numexpr' (version '2.8.3' currently installed).\n",
      "  from pandas.core.computation.check import NUMEXPR_INSTALLED\n",
      "c:\\Users\\CCNets-team\\anaconda3\\lib\\site-packages\\pandas\\core\\arrays\\masked.py:60: UserWarning: Pandas requires version '1.3.6' or newer of 'bottleneck' (version '1.3.5' currently installed).\n",
      "  from pandas.core import (\n"
     ]
    },
    {
     "data": {
      "text/html": [
       "<div>\n",
       "<style scoped>\n",
       "    .dataframe tbody tr th:only-of-type {\n",
       "        vertical-align: middle;\n",
       "    }\n",
       "\n",
       "    .dataframe tbody tr th {\n",
       "        vertical-align: top;\n",
       "    }\n",
       "\n",
       "    .dataframe thead th {\n",
       "        text-align: right;\n",
       "    }\n",
       "</style>\n",
       "<table border=\"1\" class=\"dataframe\">\n",
       "  <thead>\n",
       "    <tr style=\"text-align: right;\">\n",
       "      <th></th>\n",
       "      <th>date</th>\n",
       "      <th>meantemp</th>\n",
       "      <th>humidity</th>\n",
       "      <th>wind_speed</th>\n",
       "      <th>meanpressure</th>\n",
       "    </tr>\n",
       "  </thead>\n",
       "  <tbody>\n",
       "    <tr>\n",
       "      <th>0</th>\n",
       "      <td>2013-01-01</td>\n",
       "      <td>10.000000</td>\n",
       "      <td>84.500000</td>\n",
       "      <td>0.000000</td>\n",
       "      <td>1015.666667</td>\n",
       "    </tr>\n",
       "    <tr>\n",
       "      <th>1</th>\n",
       "      <td>2013-01-02</td>\n",
       "      <td>7.400000</td>\n",
       "      <td>92.000000</td>\n",
       "      <td>2.980000</td>\n",
       "      <td>1017.800000</td>\n",
       "    </tr>\n",
       "    <tr>\n",
       "      <th>2</th>\n",
       "      <td>2013-01-03</td>\n",
       "      <td>7.166667</td>\n",
       "      <td>87.000000</td>\n",
       "      <td>4.633333</td>\n",
       "      <td>1018.666667</td>\n",
       "    </tr>\n",
       "    <tr>\n",
       "      <th>3</th>\n",
       "      <td>2013-01-04</td>\n",
       "      <td>8.666667</td>\n",
       "      <td>71.333333</td>\n",
       "      <td>1.233333</td>\n",
       "      <td>1017.166667</td>\n",
       "    </tr>\n",
       "    <tr>\n",
       "      <th>4</th>\n",
       "      <td>2013-01-05</td>\n",
       "      <td>6.000000</td>\n",
       "      <td>86.833333</td>\n",
       "      <td>3.700000</td>\n",
       "      <td>1016.500000</td>\n",
       "    </tr>\n",
       "  </tbody>\n",
       "</table>\n",
       "</div>"
      ],
      "text/plain": [
       "         date   meantemp   humidity  wind_speed  meanpressure\n",
       "0  2013-01-01  10.000000  84.500000    0.000000   1015.666667\n",
       "1  2013-01-02   7.400000  92.000000    2.980000   1017.800000\n",
       "2  2013-01-03   7.166667  87.000000    4.633333   1018.666667\n",
       "3  2013-01-04   8.666667  71.333333    1.233333   1017.166667\n",
       "4  2013-01-05   6.000000  86.833333    3.700000   1016.500000"
      ]
     },
     "execution_count": 2,
     "metadata": {},
     "output_type": "execute_result"
    }
   ],
   "source": [
    "import pandas  as pd\n",
    "train_df = pd.read_csv(path_append + '../data/Daily Climate/DailyDelhiClimateTrain.csv')\n",
    "test_df = pd.read_csv(path_append + '../data/Daily Climate/DailyDelhiClimateTest.csv')\n",
    "train_df.head()"
   ]
  },
  {
   "attachments": {},
   "cell_type": "markdown",
   "id": "e96bc665",
   "metadata": {
    "papermill": {
     "duration": 0.013688,
     "end_time": "2023-06-06T07:48:47.482824",
     "exception": false,
     "start_time": "2023-06-06T07:48:47.469136",
     "status": "completed"
    },
    "tags": []
   },
   "source": [
    "<a id=\"2\"></a>\n",
    "> <h1 style = 'font-family: Times New Roman'><b> <b style = 'color: #4290f5'>2.</b> Modeling: Preprocess </b></h1>"
   ]
  },
  {
   "cell_type": "code",
   "execution_count": 3,
   "id": "98f3898b",
   "metadata": {
    "execution": {
     "iopub.execute_input": "2023-06-06T07:48:47.430173Z",
     "iopub.status.busy": "2023-06-06T07:48:47.429869Z",
     "iopub.status.idle": "2023-06-06T07:48:47.452861Z",
     "shell.execute_reply": "2023-06-06T07:48:47.451873Z"
    },
    "papermill": {
     "duration": 0.040115,
     "end_time": "2023-06-06T07:48:47.455226",
     "exception": false,
     "start_time": "2023-06-06T07:48:47.415111",
     "status": "completed"
    },
    "tags": []
   },
   "outputs": [
    {
     "name": "stdout",
     "output_type": "stream",
     "text": [
      "Train set \n",
      "\n",
      "\n"
     ]
    },
    {
     "data": {
      "text/html": [
       "<div>\n",
       "<style scoped>\n",
       "    .dataframe tbody tr th:only-of-type {\n",
       "        vertical-align: middle;\n",
       "    }\n",
       "\n",
       "    .dataframe tbody tr th {\n",
       "        vertical-align: top;\n",
       "    }\n",
       "\n",
       "    .dataframe thead th {\n",
       "        text-align: right;\n",
       "    }\n",
       "</style>\n",
       "<table border=\"1\" class=\"dataframe\">\n",
       "  <thead>\n",
       "    <tr style=\"text-align: right;\">\n",
       "      <th></th>\n",
       "      <th>date</th>\n",
       "      <th>meantemp</th>\n",
       "      <th>humidity</th>\n",
       "      <th>wind_speed</th>\n",
       "      <th>meanpressure</th>\n",
       "    </tr>\n",
       "  </thead>\n",
       "  <tbody>\n",
       "    <tr>\n",
       "      <th>0</th>\n",
       "      <td>2013-01-01</td>\n",
       "      <td>10.000000</td>\n",
       "      <td>84.500000</td>\n",
       "      <td>0.000000</td>\n",
       "      <td>1015.666667</td>\n",
       "    </tr>\n",
       "    <tr>\n",
       "      <th>1</th>\n",
       "      <td>2013-01-02</td>\n",
       "      <td>7.400000</td>\n",
       "      <td>92.000000</td>\n",
       "      <td>2.980000</td>\n",
       "      <td>1017.800000</td>\n",
       "    </tr>\n",
       "    <tr>\n",
       "      <th>2</th>\n",
       "      <td>2013-01-03</td>\n",
       "      <td>7.166667</td>\n",
       "      <td>87.000000</td>\n",
       "      <td>4.633333</td>\n",
       "      <td>1018.666667</td>\n",
       "    </tr>\n",
       "    <tr>\n",
       "      <th>3</th>\n",
       "      <td>2013-01-04</td>\n",
       "      <td>8.666667</td>\n",
       "      <td>71.333333</td>\n",
       "      <td>1.233333</td>\n",
       "      <td>1017.166667</td>\n",
       "    </tr>\n",
       "    <tr>\n",
       "      <th>4</th>\n",
       "      <td>2013-01-05</td>\n",
       "      <td>6.000000</td>\n",
       "      <td>86.833333</td>\n",
       "      <td>3.700000</td>\n",
       "      <td>1016.500000</td>\n",
       "    </tr>\n",
       "  </tbody>\n",
       "</table>\n",
       "</div>"
      ],
      "text/plain": [
       "         date   meantemp   humidity  wind_speed  meanpressure\n",
       "0  2013-01-01  10.000000  84.500000    0.000000   1015.666667\n",
       "1  2013-01-02   7.400000  92.000000    2.980000   1017.800000\n",
       "2  2013-01-03   7.166667  87.000000    4.633333   1018.666667\n",
       "3  2013-01-04   8.666667  71.333333    1.233333   1017.166667\n",
       "4  2013-01-05   6.000000  86.833333    3.700000   1016.500000"
      ]
     },
     "execution_count": 3,
     "metadata": {},
     "output_type": "execute_result"
    }
   ],
   "source": [
    "print('Train set \\n\\n')\n",
    "train_df.head()"
   ]
  },
  {
   "cell_type": "code",
   "execution_count": 4,
   "id": "7acbfacc",
   "metadata": {},
   "outputs": [
    {
     "name": "stdout",
     "output_type": "stream",
     "text": [
      "    meantemp   humidity  wind_speed  meanpressure  year  month  day\n",
      "0  10.000000  84.500000    0.000000   1015.666667     0      1    1\n",
      "1   7.400000  92.000000    2.980000   1017.800000     0      1    2\n",
      "2   7.166667  87.000000    4.633333   1018.666667     0      1    3\n",
      "3   8.666667  71.333333    1.233333   1017.166667     0      1    4\n",
      "4   6.000000  86.833333    3.700000   1016.500000     0      1    5\n",
      "    meantemp   humidity  wind_speed  meanpressure  year  month  day\n",
      "0  15.913043  85.869565    2.743478     59.000000     0      1    1\n",
      "1  18.500000  77.222222    2.894444   1018.277778     0      1    2\n",
      "2  17.111111  81.888889    4.016667   1018.333333     0      1    3\n",
      "3  18.700000  70.050000    4.545000   1015.700000     0      1    4\n",
      "4  18.388889  74.944444    3.300000   1014.333333     0      1    5\n"
     ]
    }
   ],
   "source": [
    "from datetime import datetime\n",
    "import pandas as pd\n",
    "\n",
    "# extract the year, month and day from the date column and drop the date column\n",
    "def extract_date_parts(date):\n",
    "    date_obj = datetime.strptime(date, '%Y-%m-%d')\n",
    "    return date_obj.year, date_obj.month, date_obj.day\n",
    "\n",
    "train_df[['year', 'month', 'day']] = train_df['date'].apply(\n",
    "    lambda x: pd.Series(extract_date_parts(x))\n",
    ")\n",
    "test_df[['year', 'month', 'day']] = test_df['date'].apply(\n",
    "    lambda x: pd.Series(extract_date_parts(x))\n",
    ")\n",
    "\n",
    "train_df.drop('date', axis=1, inplace=True)\n",
    "test_df.drop('date', axis=1, inplace=True)\n",
    "\n",
    "# Convert the year column to categorical\n",
    "train_df['year'] = train_df['year'].astype('category').cat.codes\n",
    "test_df['year'] = test_df['year'].astype('category').cat.codes\n",
    "\n",
    "print(train_df.head())\n",
    "print(test_df.head())"
   ]
  },
  {
   "cell_type": "code",
   "execution_count": 5,
   "id": "959070da",
   "metadata": {
    "execution": {
     "iopub.execute_input": "2023-06-06T07:48:47.512131Z",
     "iopub.status.busy": "2023-06-06T07:48:47.511830Z",
     "iopub.status.idle": "2023-06-06T07:48:47.529581Z",
     "shell.execute_reply": "2023-06-06T07:48:47.528569Z"
    },
    "papermill": {
     "duration": 0.035184,
     "end_time": "2023-06-06T07:48:47.531950",
     "exception": false,
     "start_time": "2023-06-06T07:48:47.496766",
     "status": "completed"
    },
    "tags": []
   },
   "outputs": [
    {
     "name": "stderr",
     "output_type": "stream",
     "text": [
      "C:\\Users\\CCNets-team\\AppData\\Local\\Temp\\ipykernel_57432\\671890747.py:15: FutureWarning: Setting an item of incompatible dtype is deprecated and will raise in a future error of pandas. Value '0       0.0\n",
      "1       0.0\n",
      "2       0.0\n",
      "3       0.0\n",
      "4       0.0\n",
      "       ... \n",
      "1457    3.0\n",
      "1458    3.0\n",
      "1459    3.0\n",
      "1460    3.0\n",
      "1461    4.0\n",
      "Name: year, Length: 1462, dtype: float64' has dtype incompatible with int8, please explicitly cast to a compatible dtype first.\n",
      "  train_df.iloc[:, -3] = train_df.iloc[:, -3].astype(float)\n",
      "C:\\Users\\CCNets-team\\AppData\\Local\\Temp\\ipykernel_57432\\671890747.py:16: FutureWarning: Setting an item of incompatible dtype is deprecated and will raise in a future error of pandas. Value '0      0.0\n",
      "1      0.0\n",
      "2      0.0\n",
      "3      0.0\n",
      "4      0.0\n",
      "      ... \n",
      "109    0.0\n",
      "110    0.0\n",
      "111    0.0\n",
      "112    0.0\n",
      "113    0.0\n",
      "Name: year, Length: 114, dtype: float64' has dtype incompatible with int8, please explicitly cast to a compatible dtype first.\n",
      "  test_df.iloc[:, -3] = test_df.iloc[:, -3].astype(float)\n"
     ]
    }
   ],
   "source": [
    "import pandas as pd\n",
    "from sklearn.preprocessing import MinMaxScaler, RobustScaler\n",
    "\n",
    "# Assuming train_df and test_df are pandas DataFrames\n",
    "\n",
    "# Initialize scalers\n",
    "robust_scaler = RobustScaler()\n",
    "min_max_scaler = MinMaxScaler(feature_range = (0, 1))\n",
    "\n",
    "# Apply StandardScaler to all but the last column\n",
    "train_df.iloc[:, 1:-3] = robust_scaler.fit_transform(train_df.iloc[:, 1:-3].astype(float))\n",
    "test_df.iloc[:, 1:-3] = robust_scaler.transform(test_df.iloc[:, 1:-3].astype(float))\n",
    "\n",
    "# Ensure the last three columns are converted to float\n",
    "train_df.iloc[:, -3] = train_df.iloc[:, -3].astype(float)\n",
    "test_df.iloc[:, -3] = test_df.iloc[:, -3].astype(float)\n",
    "\n",
    "# Apply MinMaxScaler to the last column\n",
    "train_df.iloc[:, :1] =  min_max_scaler.fit_transform(train_df.iloc[:, :1].values.reshape(-1, 1))\n",
    "test_df.iloc[:, :1] = min_max_scaler.transform(test_df.iloc[:, :1].values.reshape(-1, 1))\n",
    "\n",
    "# Verification of the number of features\n",
    "num_features = train_df.shape[1]\n"
   ]
  },
  {
   "cell_type": "code",
   "execution_count": 6,
   "id": "4ce90a1a",
   "metadata": {},
   "outputs": [
    {
     "data": {
      "text/html": [
       "<div>\n",
       "<style scoped>\n",
       "    .dataframe tbody tr th:only-of-type {\n",
       "        vertical-align: middle;\n",
       "    }\n",
       "\n",
       "    .dataframe tbody tr th {\n",
       "        vertical-align: top;\n",
       "    }\n",
       "\n",
       "    .dataframe thead th {\n",
       "        text-align: right;\n",
       "    }\n",
       "</style>\n",
       "<table border=\"1\" class=\"dataframe\">\n",
       "  <thead>\n",
       "    <tr style=\"text-align: right;\">\n",
       "      <th></th>\n",
       "      <th>meantemp</th>\n",
       "      <th>humidity</th>\n",
       "      <th>wind_speed</th>\n",
       "      <th>meanpressure</th>\n",
       "      <th>year</th>\n",
       "      <th>month</th>\n",
       "      <th>day</th>\n",
       "    </tr>\n",
       "  </thead>\n",
       "  <tbody>\n",
       "    <tr>\n",
       "      <th>0</th>\n",
       "      <td>0.122271</td>\n",
       "      <td>1.001431</td>\n",
       "      <td>-1.079544</td>\n",
       "      <td>0.531494</td>\n",
       "      <td>0.0</td>\n",
       "      <td>1</td>\n",
       "      <td>1</td>\n",
       "    </tr>\n",
       "    <tr>\n",
       "      <th>1</th>\n",
       "      <td>0.042795</td>\n",
       "      <td>1.344778</td>\n",
       "      <td>-0.562473</td>\n",
       "      <td>0.691120</td>\n",
       "      <td>0.0</td>\n",
       "      <td>1</td>\n",
       "      <td>2</td>\n",
       "    </tr>\n",
       "    <tr>\n",
       "      <th>2</th>\n",
       "      <td>0.035662</td>\n",
       "      <td>1.115880</td>\n",
       "      <td>-0.275598</td>\n",
       "      <td>0.755969</td>\n",
       "      <td>0.0</td>\n",
       "      <td>1</td>\n",
       "      <td>3</td>\n",
       "    </tr>\n",
       "    <tr>\n",
       "      <th>3</th>\n",
       "      <td>0.081514</td>\n",
       "      <td>0.398665</td>\n",
       "      <td>-0.865544</td>\n",
       "      <td>0.643731</td>\n",
       "      <td>0.0</td>\n",
       "      <td>1</td>\n",
       "      <td>4</td>\n",
       "    </tr>\n",
       "    <tr>\n",
       "      <th>4</th>\n",
       "      <td>0.000000</td>\n",
       "      <td>1.108250</td>\n",
       "      <td>-0.437544</td>\n",
       "      <td>0.593848</td>\n",
       "      <td>0.0</td>\n",
       "      <td>1</td>\n",
       "      <td>5</td>\n",
       "    </tr>\n",
       "    <tr>\n",
       "      <th>...</th>\n",
       "      <td>...</td>\n",
       "      <td>...</td>\n",
       "      <td>...</td>\n",
       "      <td>...</td>\n",
       "      <td>...</td>\n",
       "      <td>...</td>\n",
       "      <td>...</td>\n",
       "    </tr>\n",
       "    <tr>\n",
       "      <th>1457</th>\n",
       "      <td>0.342890</td>\n",
       "      <td>0.248056</td>\n",
       "      <td>-0.463948</td>\n",
       "      <td>0.523903</td>\n",
       "      <td>3.0</td>\n",
       "      <td>12</td>\n",
       "      <td>28</td>\n",
       "    </tr>\n",
       "    <tr>\n",
       "      <th>1458</th>\n",
       "      <td>0.282387</td>\n",
       "      <td>1.155120</td>\n",
       "      <td>-0.038462</td>\n",
       "      <td>0.624134</td>\n",
       "      <td>3.0</td>\n",
       "      <td>12</td>\n",
       "      <td>29</td>\n",
       "    </tr>\n",
       "    <tr>\n",
       "      <th>1459</th>\n",
       "      <td>0.247453</td>\n",
       "      <td>1.237959</td>\n",
       "      <td>0.007808</td>\n",
       "      <td>0.698959</td>\n",
       "      <td>3.0</td>\n",
       "      <td>12</td>\n",
       "      <td>30</td>\n",
       "    </tr>\n",
       "    <tr>\n",
       "      <th>1460</th>\n",
       "      <td>0.276718</td>\n",
       "      <td>1.115880</td>\n",
       "      <td>0.191443</td>\n",
       "      <td>0.563918</td>\n",
       "      <td>3.0</td>\n",
       "      <td>12</td>\n",
       "      <td>31</td>\n",
       "    </tr>\n",
       "    <tr>\n",
       "      <th>1461</th>\n",
       "      <td>0.122271</td>\n",
       "      <td>1.711016</td>\n",
       "      <td>-1.079544</td>\n",
       "      <td>0.556436</td>\n",
       "      <td>4.0</td>\n",
       "      <td>1</td>\n",
       "      <td>1</td>\n",
       "    </tr>\n",
       "  </tbody>\n",
       "</table>\n",
       "<p>1462 rows × 7 columns</p>\n",
       "</div>"
      ],
      "text/plain": [
       "      meantemp  humidity  wind_speed  meanpressure  year  month  day\n",
       "0     0.122271  1.001431   -1.079544      0.531494   0.0      1    1\n",
       "1     0.042795  1.344778   -0.562473      0.691120   0.0      1    2\n",
       "2     0.035662  1.115880   -0.275598      0.755969   0.0      1    3\n",
       "3     0.081514  0.398665   -0.865544      0.643731   0.0      1    4\n",
       "4     0.000000  1.108250   -0.437544      0.593848   0.0      1    5\n",
       "...        ...       ...         ...           ...   ...    ...  ...\n",
       "1457  0.342890  0.248056   -0.463948      0.523903   3.0     12   28\n",
       "1458  0.282387  1.155120   -0.038462      0.624134   3.0     12   29\n",
       "1459  0.247453  1.237959    0.007808      0.698959   3.0     12   30\n",
       "1460  0.276718  1.115880    0.191443      0.563918   3.0     12   31\n",
       "1461  0.122271  1.711016   -1.079544      0.556436   4.0      1    1\n",
       "\n",
       "[1462 rows x 7 columns]"
      ]
     },
     "execution_count": 6,
     "metadata": {},
     "output_type": "execute_result"
    }
   ],
   "source": [
    "train_df"
   ]
  },
  {
   "cell_type": "code",
   "execution_count": 7,
   "id": "fe1d6169",
   "metadata": {
    "execution": {
     "iopub.execute_input": "2023-06-06T07:48:47.561153Z",
     "iopub.status.busy": "2023-06-06T07:48:47.560859Z",
     "iopub.status.idle": "2023-06-06T07:48:47.614267Z",
     "shell.execute_reply": "2023-06-06T07:48:47.613108Z"
    },
    "papermill": {
     "duration": 0.07063,
     "end_time": "2023-06-06T07:48:47.616557",
     "exception": false,
     "start_time": "2023-06-06T07:48:47.545927",
     "status": "completed"
    },
    "tags": []
   },
   "outputs": [],
   "source": [
    "import torch\n",
    "from torch.utils.data import Dataset\n",
    "import random\n",
    "\n",
    "class SequentialDataset(Dataset):\n",
    "    def __init__(self, df, indices, max_window_size):\n",
    "        self.df = df\n",
    "        self.indices = indices\n",
    "        self.max_window_size = max_window_size\n",
    "        self.min_window_size = max_window_size // 2\n",
    "\n",
    "    def __len__(self):\n",
    "        return len(self.indices)\n",
    "\n",
    "    def __getitem__(self, idx):\n",
    "        start_idx = self.indices[idx]\n",
    "        # window_size = random.randint(self.min_window_size, self.max_window_size)\n",
    "        window_size = self.max_window_size\n",
    "        end_idx = min(start_idx + window_size, len(self.df))\n",
    "\n",
    "        seq = self.df.iloc[start_idx:end_idx]\n",
    "        X, y = seq.values[:-1, :], seq.values[1:, :1] # mean temperature is the last column\n",
    "\n",
    "        X = torch.tensor(X, dtype=torch.float32)\n",
    "        y = torch.tensor(y, dtype=torch.float32)\n",
    "        return X, y"
   ]
  },
  {
   "cell_type": "code",
   "execution_count": 8,
   "id": "5bfef904",
   "metadata": {
    "execution": {
     "iopub.execute_input": "2023-06-06T07:48:47.646918Z",
     "iopub.status.busy": "2023-06-06T07:48:47.646590Z",
     "iopub.status.idle": "2023-06-06T07:48:47.653608Z",
     "shell.execute_reply": "2023-06-06T07:48:47.652474Z"
    },
    "papermill": {
     "duration": 0.024645,
     "end_time": "2023-06-06T07:48:47.655918",
     "exception": false,
     "start_time": "2023-06-06T07:48:47.631273",
     "status": "completed"
    },
    "tags": []
   },
   "outputs": [
    {
     "name": "stdout",
     "output_type": "stream",
     "text": [
      "train df shape:  (1462, 7)\n",
      "test df shape:  (114, 7)\n",
      "Train indices:  1456\n",
      "Test indices:  108\n"
     ]
    }
   ],
   "source": [
    "from random import shuffle\n",
    "\n",
    "# Assume 'df' is your DataFrame and 'event' is the column containing labels\n",
    "\n",
    "def generate_indices(df, max_window_size):\n",
    "    indices = []\n",
    "    max_index = len(df) - max_window_size + 1  # Calculate the maximum starting index\n",
    "    \n",
    "    for i in range(max_index):\n",
    "        # Check if all labels in the window are the same\n",
    "        indices.append(i)\n",
    "    \n",
    "    return indices\n",
    "\n",
    "# Assuming 'df' and 'num_classes' are defined\n",
    "max_window_size = 7\n",
    "train_indices = generate_indices(train_df, max_window_size)\n",
    "test_indices = generate_indices(test_df, max_window_size)\n",
    "\n",
    "print('train df shape: ', train_df.shape)\n",
    "print('test df shape: ', test_df.shape)\n",
    "print('Train indices: ', len(train_indices))\n",
    "print('Test indices: ', len(test_indices))\n",
    "\n",
    "trainset = SequentialDataset(df=train_df, indices=train_indices, max_window_size=max_window_size)\n",
    "testset = SequentialDataset(df=test_df, indices=test_indices, max_window_size=max_window_size)"
   ]
  },
  {
   "cell_type": "code",
   "execution_count": 9,
   "id": "ecea8703",
   "metadata": {},
   "outputs": [
    {
     "data": {
      "text/html": [
       "<div>\n",
       "<style scoped>\n",
       "    .dataframe tbody tr th:only-of-type {\n",
       "        vertical-align: middle;\n",
       "    }\n",
       "\n",
       "    .dataframe tbody tr th {\n",
       "        vertical-align: top;\n",
       "    }\n",
       "\n",
       "    .dataframe thead th {\n",
       "        text-align: right;\n",
       "    }\n",
       "</style>\n",
       "<table border=\"1\" class=\"dataframe\">\n",
       "  <thead>\n",
       "    <tr style=\"text-align: right;\">\n",
       "      <th></th>\n",
       "      <th>meantemp</th>\n",
       "      <th>humidity</th>\n",
       "      <th>wind_speed</th>\n",
       "      <th>meanpressure</th>\n",
       "      <th>year</th>\n",
       "      <th>month</th>\n",
       "      <th>day</th>\n",
       "    </tr>\n",
       "  </thead>\n",
       "  <tbody>\n",
       "    <tr>\n",
       "      <th>0</th>\n",
       "      <td>0.122271</td>\n",
       "      <td>1.001431</td>\n",
       "      <td>-1.079544</td>\n",
       "      <td>0.531494</td>\n",
       "      <td>0.0</td>\n",
       "      <td>1</td>\n",
       "      <td>1</td>\n",
       "    </tr>\n",
       "    <tr>\n",
       "      <th>1</th>\n",
       "      <td>0.042795</td>\n",
       "      <td>1.344778</td>\n",
       "      <td>-0.562473</td>\n",
       "      <td>0.691120</td>\n",
       "      <td>0.0</td>\n",
       "      <td>1</td>\n",
       "      <td>2</td>\n",
       "    </tr>\n",
       "    <tr>\n",
       "      <th>2</th>\n",
       "      <td>0.035662</td>\n",
       "      <td>1.115880</td>\n",
       "      <td>-0.275598</td>\n",
       "      <td>0.755969</td>\n",
       "      <td>0.0</td>\n",
       "      <td>1</td>\n",
       "      <td>3</td>\n",
       "    </tr>\n",
       "    <tr>\n",
       "      <th>3</th>\n",
       "      <td>0.081514</td>\n",
       "      <td>0.398665</td>\n",
       "      <td>-0.865544</td>\n",
       "      <td>0.643731</td>\n",
       "      <td>0.0</td>\n",
       "      <td>1</td>\n",
       "      <td>4</td>\n",
       "    </tr>\n",
       "    <tr>\n",
       "      <th>4</th>\n",
       "      <td>0.000000</td>\n",
       "      <td>1.108250</td>\n",
       "      <td>-0.437544</td>\n",
       "      <td>0.593848</td>\n",
       "      <td>0.0</td>\n",
       "      <td>1</td>\n",
       "      <td>5</td>\n",
       "    </tr>\n",
       "    <tr>\n",
       "      <th>...</th>\n",
       "      <td>...</td>\n",
       "      <td>...</td>\n",
       "      <td>...</td>\n",
       "      <td>...</td>\n",
       "      <td>...</td>\n",
       "      <td>...</td>\n",
       "      <td>...</td>\n",
       "    </tr>\n",
       "    <tr>\n",
       "      <th>1457</th>\n",
       "      <td>0.342890</td>\n",
       "      <td>0.248056</td>\n",
       "      <td>-0.463948</td>\n",
       "      <td>0.523903</td>\n",
       "      <td>3.0</td>\n",
       "      <td>12</td>\n",
       "      <td>28</td>\n",
       "    </tr>\n",
       "    <tr>\n",
       "      <th>1458</th>\n",
       "      <td>0.282387</td>\n",
       "      <td>1.155120</td>\n",
       "      <td>-0.038462</td>\n",
       "      <td>0.624134</td>\n",
       "      <td>3.0</td>\n",
       "      <td>12</td>\n",
       "      <td>29</td>\n",
       "    </tr>\n",
       "    <tr>\n",
       "      <th>1459</th>\n",
       "      <td>0.247453</td>\n",
       "      <td>1.237959</td>\n",
       "      <td>0.007808</td>\n",
       "      <td>0.698959</td>\n",
       "      <td>3.0</td>\n",
       "      <td>12</td>\n",
       "      <td>30</td>\n",
       "    </tr>\n",
       "    <tr>\n",
       "      <th>1460</th>\n",
       "      <td>0.276718</td>\n",
       "      <td>1.115880</td>\n",
       "      <td>0.191443</td>\n",
       "      <td>0.563918</td>\n",
       "      <td>3.0</td>\n",
       "      <td>12</td>\n",
       "      <td>31</td>\n",
       "    </tr>\n",
       "    <tr>\n",
       "      <th>1461</th>\n",
       "      <td>0.122271</td>\n",
       "      <td>1.711016</td>\n",
       "      <td>-1.079544</td>\n",
       "      <td>0.556436</td>\n",
       "      <td>4.0</td>\n",
       "      <td>1</td>\n",
       "      <td>1</td>\n",
       "    </tr>\n",
       "  </tbody>\n",
       "</table>\n",
       "<p>1462 rows × 7 columns</p>\n",
       "</div>"
      ],
      "text/plain": [
       "      meantemp  humidity  wind_speed  meanpressure  year  month  day\n",
       "0     0.122271  1.001431   -1.079544      0.531494   0.0      1    1\n",
       "1     0.042795  1.344778   -0.562473      0.691120   0.0      1    2\n",
       "2     0.035662  1.115880   -0.275598      0.755969   0.0      1    3\n",
       "3     0.081514  0.398665   -0.865544      0.643731   0.0      1    4\n",
       "4     0.000000  1.108250   -0.437544      0.593848   0.0      1    5\n",
       "...        ...       ...         ...           ...   ...    ...  ...\n",
       "1457  0.342890  0.248056   -0.463948      0.523903   3.0     12   28\n",
       "1458  0.282387  1.155120   -0.038462      0.624134   3.0     12   29\n",
       "1459  0.247453  1.237959    0.007808      0.698959   3.0     12   30\n",
       "1460  0.276718  1.115880    0.191443      0.563918   3.0     12   31\n",
       "1461  0.122271  1.711016   -1.079544      0.556436   4.0      1    1\n",
       "\n",
       "[1462 rows x 7 columns]"
      ]
     },
     "execution_count": 9,
     "metadata": {},
     "output_type": "execute_result"
    }
   ],
   "source": [
    "train_df"
   ]
  },
  {
   "attachments": {},
   "cell_type": "markdown",
   "id": "0afd0de6",
   "metadata": {
    "papermill": {
     "duration": 0.013979,
     "end_time": "2023-06-06T07:48:47.684234",
     "exception": false,
     "start_time": "2023-06-06T07:48:47.670255",
     "status": "completed"
    },
    "tags": []
   },
   "source": [
    "<a id=\"3\"></a>\n",
    "> <h1 style = 'font-family: Times New Roman'><b> <b style = 'color: #427bf5'>3.</b> Modeling</b></h1>"
   ]
  },
  {
   "cell_type": "code",
   "execution_count": 10,
   "id": "e30c7982",
   "metadata": {
    "execution": {
     "iopub.execute_input": "2023-06-06T07:48:47.810201Z",
     "iopub.status.busy": "2023-06-06T07:48:47.809899Z",
     "iopub.status.idle": "2023-06-06T07:48:47.838881Z",
     "shell.execute_reply": "2023-06-06T07:48:47.837946Z"
    },
    "papermill": {
     "duration": 0.046557,
     "end_time": "2023-06-06T07:48:47.841396",
     "exception": false,
     "start_time": "2023-06-06T07:48:47.794839",
     "status": "completed"
    },
    "tags": []
   },
   "outputs": [
    {
     "name": "stderr",
     "output_type": "stream",
     "text": [
      "c:\\Users\\CCNets-team\\anaconda3\\lib\\site-packages\\transformers\\utils\\generic.py:311: UserWarning: torch.utils._pytree._register_pytree_node is deprecated. Please use torch.utils._pytree.register_pytree_node instead.\n",
      "  torch.utils._pytree._register_pytree_node(\n"
     ]
    }
   ],
   "source": [
    "from tools.setting.data_config import DataConfig\n",
    "from tools.setting.ml_params import MLParameters\n",
    "from trainer_hub import TrainerHub\n",
    "\n",
    "data_config = DataConfig(dataset_name = 'daily-delhi-climate', task_type='regression', obs_shape=[num_features], label_size=1)\n",
    "\n",
    "#  Set training configuration from the AlgorithmConfig class, returning them as a Namespace object.\n",
    "ml_params = MLParameters(ccnet_network = 'gpt', encoder_network = 'none')\n",
    "\n",
    "ml_params.num_epoch = 100\n",
    "ml_params.model.ccnet_config.dropout = 0.1\n",
    "ml_params.optimization.decay_rate_100k = 0.001\n",
    "\n",
    "# Set the device to GPU if available, else CPU\n",
    "device = torch.device(\"cuda\" if torch.cuda.is_available() else \"cpu\") \n",
    "\n",
    "# Initialize the TrainerHub class with the training configuration, data configuration, device, and use_print and use_wandb flags\n",
    "trainer_hub = TrainerHub(ml_params, data_config, device, use_print=True, use_wandb=False) "
   ]
  },
  {
   "cell_type": "code",
   "execution_count": 11,
   "id": "097ad7b1",
   "metadata": {},
   "outputs": [
    {
     "data": {
      "application/vnd.jupyter.widget-view+json": {
       "model_id": "18542660cd2a4fd09ee472258312cc9f",
       "version_major": 2,
       "version_minor": 0
      },
      "text/plain": [
       "Epochs:   0%|          | 0/100 [00:00<?, ?it/s]"
      ]
     },
     "metadata": {},
     "output_type": "display_data"
    },
    {
     "data": {
      "application/vnd.jupyter.widget-view+json": {
       "model_id": "c366084a908f4455b188daeb5f3615ca",
       "version_major": 2,
       "version_minor": 0
      },
      "text/plain": [
       "Iterations:   0%|          | 0/22 [00:00<?, ?it/s]"
      ]
     },
     "metadata": {},
     "output_type": "display_data"
    },
    {
     "data": {
      "application/vnd.jupyter.widget-view+json": {
       "model_id": "1531aeb005e64a24babffbd71dc33724",
       "version_major": 2,
       "version_minor": 0
      },
      "text/plain": [
       "Iterations:   0%|          | 0/22 [00:00<?, ?it/s]"
      ]
     },
     "metadata": {},
     "output_type": "display_data"
    },
    {
     "data": {
      "application/vnd.jupyter.widget-view+json": {
       "model_id": "1fb9d95814b348e18510c3f0423566ab",
       "version_major": 2,
       "version_minor": 0
      },
      "text/plain": [
       "Iterations:   0%|          | 0/22 [00:00<?, ?it/s]"
      ]
     },
     "metadata": {},
     "output_type": "display_data"
    },
    {
     "name": "stdout",
     "output_type": "stream",
     "text": [
      "[2/100][6/22][Time 5.01]\n",
      "Unified LR across all optimizers: 0.0001992966486266836\n",
      "--------------------Training Metrics--------------------\n",
      "Trainer:  gpt\n",
      "Inf: 0.0709\tGen: 2.0697\tRec: 2.0920\tE: 0.0486\tR: 0.0931\tP: 4.0908\n",
      "--------------------Test Metrics------------------------\n",
      "mse: 28.4789\n",
      "mae: 5.2573\n",
      "r2: -734.5325\n",
      "\n"
     ]
    },
    {
     "data": {
      "application/vnd.jupyter.widget-view+json": {
       "model_id": "548cddb78f804ff88513fbe2a8bfc0e1",
       "version_major": 2,
       "version_minor": 0
      },
      "text/plain": [
       "Iterations:   0%|          | 0/22 [00:00<?, ?it/s]"
      ]
     },
     "metadata": {},
     "output_type": "display_data"
    },
    {
     "data": {
      "application/vnd.jupyter.widget-view+json": {
       "model_id": "1ae55451387a43e29d9d9600b849533b",
       "version_major": 2,
       "version_minor": 0
      },
      "text/plain": [
       "Iterations:   0%|          | 0/22 [00:00<?, ?it/s]"
      ]
     },
     "metadata": {},
     "output_type": "display_data"
    },
    {
     "name": "stdout",
     "output_type": "stream",
     "text": [
      "[4/100][12/22][Time 4.39]\n",
      "Unified LR across all optimizers: 0.00019860948975280947\n",
      "--------------------Training Metrics--------------------\n",
      "Trainer:  gpt\n",
      "Inf: 0.0035\tGen: 1.3890\tRec: 1.3895\tE: 0.0030\tR: 0.0039\tP: 2.7751\n",
      "--------------------Test Metrics------------------------\n",
      "mse: 8.1634\n",
      "mae: 2.8105\n",
      "r2: -209.8373\n",
      "\n"
     ]
    },
    {
     "data": {
      "application/vnd.jupyter.widget-view+json": {
       "model_id": "6b78ae3317d740b6a9228daac07c9e8f",
       "version_major": 2,
       "version_minor": 0
      },
      "text/plain": [
       "Iterations:   0%|          | 0/22 [00:00<?, ?it/s]"
      ]
     },
     "metadata": {},
     "output_type": "display_data"
    },
    {
     "data": {
      "application/vnd.jupyter.widget-view+json": {
       "model_id": "f3ee3548ec24428d9cb20a82b510d026",
       "version_major": 2,
       "version_minor": 0
      },
      "text/plain": [
       "Iterations:   0%|          | 0/22 [00:00<?, ?it/s]"
      ]
     },
     "metadata": {},
     "output_type": "display_data"
    },
    {
     "name": "stdout",
     "output_type": "stream",
     "text": [
      "[6/100][18/22][Time 4.53]\n",
      "Unified LR across all optimizers: 0.00019792470014766712\n",
      "--------------------Training Metrics--------------------\n",
      "Trainer:  gpt\n",
      "Inf: 0.0030\tGen: 1.1578\tRec: 1.1582\tE: 0.0026\tR: 0.0033\tP: 2.3130\n",
      "--------------------Test Metrics------------------------\n",
      "mse: 8.0221\n",
      "mae: 2.7940\n",
      "r2: -206.1885\n",
      "\n"
     ]
    },
    {
     "data": {
      "application/vnd.jupyter.widget-view+json": {
       "model_id": "8ab480dfe5684ec1a17cc74a970b1b34",
       "version_major": 2,
       "version_minor": 0
      },
      "text/plain": [
       "Iterations:   0%|          | 0/22 [00:00<?, ?it/s]"
      ]
     },
     "metadata": {},
     "output_type": "display_data"
    },
    {
     "data": {
      "application/vnd.jupyter.widget-view+json": {
       "model_id": "e112c5005d8244c5bd72f2ac97e9c52f",
       "version_major": 2,
       "version_minor": 0
      },
      "text/plain": [
       "Iterations:   0%|          | 0/22 [00:00<?, ?it/s]"
      ]
     },
     "metadata": {},
     "output_type": "display_data"
    },
    {
     "data": {
      "application/vnd.jupyter.widget-view+json": {
       "model_id": "20181e21838148e1b7f9b266c23629f2",
       "version_major": 2,
       "version_minor": 0
      },
      "text/plain": [
       "Iterations:   0%|          | 0/22 [00:00<?, ?it/s]"
      ]
     },
     "metadata": {},
     "output_type": "display_data"
    },
    {
     "name": "stdout",
     "output_type": "stream",
     "text": [
      "[9/100][2/22][Time 4.45]\n",
      "Unified LR across all optimizers: 0.00019724227164220792\n",
      "--------------------Training Metrics--------------------\n",
      "Trainer:  gpt\n",
      "Inf: 0.0023\tGen: 0.9696\tRec: 0.9697\tE: 0.0021\tR: 0.0025\tP: 1.9370\n",
      "--------------------Test Metrics------------------------\n",
      "mse: 0.0726\n",
      "mae: 0.2216\n",
      "r2: -0.8749\n",
      "\n"
     ]
    },
    {
     "data": {
      "application/vnd.jupyter.widget-view+json": {
       "model_id": "79a0f8b864f84dafaab9608cee4f8e91",
       "version_major": 2,
       "version_minor": 0
      },
      "text/plain": [
       "Iterations:   0%|          | 0/22 [00:00<?, ?it/s]"
      ]
     },
     "metadata": {},
     "output_type": "display_data"
    },
    {
     "data": {
      "application/vnd.jupyter.widget-view+json": {
       "model_id": "58e328895baa44a28f317b5bcaea558c",
       "version_major": 2,
       "version_minor": 0
      },
      "text/plain": [
       "Iterations:   0%|          | 0/22 [00:00<?, ?it/s]"
      ]
     },
     "metadata": {},
     "output_type": "display_data"
    },
    {
     "name": "stdout",
     "output_type": "stream",
     "text": [
      "[11/100][8/22][Time 4.63]\n",
      "Unified LR across all optimizers: 0.00019656219609554926\n",
      "--------------------Training Metrics--------------------\n",
      "Trainer:  gpt\n",
      "Inf: 0.0021\tGen: 0.8501\tRec: 0.8507\tE: 0.0015\tR: 0.0027\tP: 1.6986\n",
      "--------------------Test Metrics------------------------\n",
      "mse: 0.0186\n",
      "mae: 0.1051\n",
      "r2: 0.5206\n",
      "\n"
     ]
    },
    {
     "data": {
      "application/vnd.jupyter.widget-view+json": {
       "model_id": "8bffbef5109448ca958d68e576c4c847",
       "version_major": 2,
       "version_minor": 0
      },
      "text/plain": [
       "Iterations:   0%|          | 0/22 [00:00<?, ?it/s]"
      ]
     },
     "metadata": {},
     "output_type": "display_data"
    },
    {
     "data": {
      "application/vnd.jupyter.widget-view+json": {
       "model_id": "2669e47f00fc4f128f059104e13b61ff",
       "version_major": 2,
       "version_minor": 0
      },
      "text/plain": [
       "Iterations:   0%|          | 0/22 [00:00<?, ?it/s]"
      ]
     },
     "metadata": {},
     "output_type": "display_data"
    },
    {
     "name": "stdout",
     "output_type": "stream",
     "text": [
      "[13/100][14/22][Time 4.62]\n",
      "Unified LR across all optimizers: 0.00019588446539487778\n",
      "--------------------Training Metrics--------------------\n",
      "Trainer:  gpt\n",
      "Inf: 0.0017\tGen: 0.7580\tRec: 0.7583\tE: 0.0013\tR: 0.0020\tP: 1.5146\n",
      "--------------------Test Metrics------------------------\n",
      "mse: 0.0219\n",
      "mae: 0.1220\n",
      "r2: 0.4356\n",
      "\n"
     ]
    },
    {
     "data": {
      "application/vnd.jupyter.widget-view+json": {
       "model_id": "d49746cc279a44469f07fc4192abb47d",
       "version_major": 2,
       "version_minor": 0
      },
      "text/plain": [
       "Iterations:   0%|          | 0/22 [00:00<?, ?it/s]"
      ]
     },
     "metadata": {},
     "output_type": "display_data"
    },
    {
     "data": {
      "application/vnd.jupyter.widget-view+json": {
       "model_id": "edea2ec7000d493fbb3e85ba3a6324cd",
       "version_major": 2,
       "version_minor": 0
      },
      "text/plain": [
       "Iterations:   0%|          | 0/22 [00:00<?, ?it/s]"
      ]
     },
     "metadata": {},
     "output_type": "display_data"
    },
    {
     "name": "stdout",
     "output_type": "stream",
     "text": [
      "[15/100][20/22][Time 4.43]\n",
      "Unified LR across all optimizers: 0.00019520907145535233\n",
      "--------------------Training Metrics--------------------\n",
      "Trainer:  gpt\n",
      "Inf: 0.0016\tGen: 0.6657\tRec: 0.6660\tE: 0.0013\tR: 0.0020\tP: 1.3301\n",
      "--------------------Test Metrics------------------------\n",
      "mse: 0.0616\n",
      "mae: 0.2260\n",
      "r2: -0.5916\n",
      "\n"
     ]
    },
    {
     "data": {
      "application/vnd.jupyter.widget-view+json": {
       "model_id": "06884f0ed695498da912269c68a7bd75",
       "version_major": 2,
       "version_minor": 0
      },
      "text/plain": [
       "Iterations:   0%|          | 0/22 [00:00<?, ?it/s]"
      ]
     },
     "metadata": {},
     "output_type": "display_data"
    },
    {
     "data": {
      "application/vnd.jupyter.widget-view+json": {
       "model_id": "a4a6f0172cb64b65846c8ba4df36be39",
       "version_major": 2,
       "version_minor": 0
      },
      "text/plain": [
       "Iterations:   0%|          | 0/22 [00:00<?, ?it/s]"
      ]
     },
     "metadata": {},
     "output_type": "display_data"
    },
    {
     "data": {
      "application/vnd.jupyter.widget-view+json": {
       "model_id": "daa6b600ddb04e6ba9ca559497670208",
       "version_major": 2,
       "version_minor": 0
      },
      "text/plain": [
       "Iterations:   0%|          | 0/22 [00:00<?, ?it/s]"
      ]
     },
     "metadata": {},
     "output_type": "display_data"
    },
    {
     "name": "stdout",
     "output_type": "stream",
     "text": [
      "[18/100][4/22][Time 4.33]\n",
      "Unified LR across all optimizers: 0.0001945360062200079\n",
      "--------------------Training Metrics--------------------\n",
      "Trainer:  gpt\n",
      "Inf: 0.0019\tGen: 0.6020\tRec: 0.6024\tE: 0.0015\tR: 0.0024\tP: 1.2024\n",
      "--------------------Test Metrics------------------------\n",
      "mse: 0.0110\n",
      "mae: 0.0844\n",
      "r2: 0.7167\n",
      "\n"
     ]
    },
    {
     "data": {
      "application/vnd.jupyter.widget-view+json": {
       "model_id": "f3202b2a9a7b454fabd20d9534b4d493",
       "version_major": 2,
       "version_minor": 0
      },
      "text/plain": [
       "Iterations:   0%|          | 0/22 [00:00<?, ?it/s]"
      ]
     },
     "metadata": {},
     "output_type": "display_data"
    },
    {
     "data": {
      "application/vnd.jupyter.widget-view+json": {
       "model_id": "62d71b648e6c408d9c4e3b63ffd048e0",
       "version_major": 2,
       "version_minor": 0
      },
      "text/plain": [
       "Iterations:   0%|          | 0/22 [00:00<?, ?it/s]"
      ]
     },
     "metadata": {},
     "output_type": "display_data"
    },
    {
     "name": "stdout",
     "output_type": "stream",
     "text": [
      "[20/100][10/22][Time 4.44]\n",
      "Unified LR across all optimizers: 0.00019386526165965896\n",
      "--------------------Training Metrics--------------------\n",
      "Trainer:  gpt\n",
      "Inf: 0.0016\tGen: 0.5670\tRec: 0.5674\tE: 0.0012\tR: 0.0020\tP: 1.1328\n",
      "--------------------Test Metrics------------------------\n",
      "mse: 0.0108\n",
      "mae: 0.0792\n",
      "r2: 0.7207\n",
      "\n"
     ]
    },
    {
     "data": {
      "application/vnd.jupyter.widget-view+json": {
       "model_id": "75651117a46e4d3b86c54a9c459a4afa",
       "version_major": 2,
       "version_minor": 0
      },
      "text/plain": [
       "Iterations:   0%|          | 0/22 [00:00<?, ?it/s]"
      ]
     },
     "metadata": {},
     "output_type": "display_data"
    },
    {
     "data": {
      "application/vnd.jupyter.widget-view+json": {
       "model_id": "c7131b2658e348e8978d00926c80b146",
       "version_major": 2,
       "version_minor": 0
      },
      "text/plain": [
       "Iterations:   0%|          | 0/22 [00:00<?, ?it/s]"
      ]
     },
     "metadata": {},
     "output_type": "display_data"
    },
    {
     "name": "stdout",
     "output_type": "stream",
     "text": [
      "[22/100][16/22][Time 4.53]\n",
      "Unified LR across all optimizers: 0.00019319682977280412\n",
      "--------------------Training Metrics--------------------\n",
      "Trainer:  gpt\n",
      "Inf: 0.0019\tGen: 0.4998\tRec: 0.5003\tE: 0.0014\tR: 0.0023\tP: 0.9982\n",
      "--------------------Test Metrics------------------------\n",
      "mse: 0.0139\n",
      "mae: 0.1002\n",
      "r2: 0.6413\n",
      "\n"
     ]
    },
    {
     "data": {
      "application/vnd.jupyter.widget-view+json": {
       "model_id": "ebeeeed6b02b4ce49fcb0b4e7de7fb09",
       "version_major": 2,
       "version_minor": 0
      },
      "text/plain": [
       "Iterations:   0%|          | 0/22 [00:00<?, ?it/s]"
      ]
     },
     "metadata": {},
     "output_type": "display_data"
    },
    {
     "data": {
      "application/vnd.jupyter.widget-view+json": {
       "model_id": "6e83955a08a24d38a0b5fd5a3ade1b7b",
       "version_major": 2,
       "version_minor": 0
      },
      "text/plain": [
       "Iterations:   0%|          | 0/22 [00:00<?, ?it/s]"
      ]
     },
     "metadata": {},
     "output_type": "display_data"
    },
    {
     "data": {
      "application/vnd.jupyter.widget-view+json": {
       "model_id": "e4f10601f018425180c1d0fe7379bb2c",
       "version_major": 2,
       "version_minor": 0
      },
      "text/plain": [
       "Iterations:   0%|          | 0/22 [00:00<?, ?it/s]"
      ]
     },
     "metadata": {},
     "output_type": "display_data"
    },
    {
     "name": "stdout",
     "output_type": "stream",
     "text": [
      "[25/100][0/22][Time 4.44]\n",
      "Unified LR across all optimizers: 0.0001925307025855305\n",
      "--------------------Training Metrics--------------------\n",
      "Trainer:  gpt\n",
      "Inf: 0.0020\tGen: 0.4741\tRec: 0.4746\tE: 0.0015\tR: 0.0025\tP: 0.9467\n",
      "--------------------Test Metrics------------------------\n",
      "mse: 0.0093\n",
      "mae: 0.0777\n",
      "r2: 0.7594\n",
      "\n"
     ]
    },
    {
     "data": {
      "application/vnd.jupyter.widget-view+json": {
       "model_id": "92d3636b309543f4b4003b40912ebcb6",
       "version_major": 2,
       "version_minor": 0
      },
      "text/plain": [
       "Iterations:   0%|          | 0/22 [00:00<?, ?it/s]"
      ]
     },
     "metadata": {},
     "output_type": "display_data"
    },
    {
     "data": {
      "application/vnd.jupyter.widget-view+json": {
       "model_id": "f35e24ad80fa4c149457e4e08d20c3f6",
       "version_major": 2,
       "version_minor": 0
      },
      "text/plain": [
       "Iterations:   0%|          | 0/22 [00:00<?, ?it/s]"
      ]
     },
     "metadata": {},
     "output_type": "display_data"
    },
    {
     "name": "stdout",
     "output_type": "stream",
     "text": [
      "[27/100][6/22][Time 4.49]\n",
      "Unified LR across all optimizers: 0.00019186687215141878\n",
      "--------------------Training Metrics--------------------\n",
      "Trainer:  gpt\n",
      "Inf: 0.0020\tGen: 0.4439\tRec: 0.4443\tE: 0.0016\tR: 0.0025\tP: 0.8862\n",
      "--------------------Test Metrics------------------------\n",
      "mse: 0.0107\n",
      "mae: 0.0775\n",
      "r2: 0.7227\n",
      "\n"
     ]
    },
    {
     "data": {
      "application/vnd.jupyter.widget-view+json": {
       "model_id": "9f46f1e1b24c47c5a2ee64ca80773bd3",
       "version_major": 2,
       "version_minor": 0
      },
      "text/plain": [
       "Iterations:   0%|          | 0/22 [00:00<?, ?it/s]"
      ]
     },
     "metadata": {},
     "output_type": "display_data"
    },
    {
     "data": {
      "application/vnd.jupyter.widget-view+json": {
       "model_id": "4870c362adcd41caaeac588f100b98f3",
       "version_major": 2,
       "version_minor": 0
      },
      "text/plain": [
       "Iterations:   0%|          | 0/22 [00:00<?, ?it/s]"
      ]
     },
     "metadata": {},
     "output_type": "display_data"
    },
    {
     "name": "stdout",
     "output_type": "stream",
     "text": [
      "[29/100][12/22][Time 4.84]\n",
      "Unified LR across all optimizers: 0.00019120533055144799\n",
      "--------------------Training Metrics--------------------\n",
      "Trainer:  gpt\n",
      "Inf: 0.0024\tGen: 0.4110\tRec: 0.4115\tE: 0.0018\tR: 0.0029\tP: 0.8201\n",
      "--------------------Test Metrics------------------------\n",
      "mse: 0.0126\n",
      "mae: 0.0931\n",
      "r2: 0.6757\n",
      "\n"
     ]
    },
    {
     "data": {
      "application/vnd.jupyter.widget-view+json": {
       "model_id": "c1c998378bdc465fab6c1438c10416d2",
       "version_major": 2,
       "version_minor": 0
      },
      "text/plain": [
       "Iterations:   0%|          | 0/22 [00:00<?, ?it/s]"
      ]
     },
     "metadata": {},
     "output_type": "display_data"
    },
    {
     "data": {
      "application/vnd.jupyter.widget-view+json": {
       "model_id": "f07ef121214044ca92d4226c21ab2506",
       "version_major": 2,
       "version_minor": 0
      },
      "text/plain": [
       "Iterations:   0%|          | 0/22 [00:00<?, ?it/s]"
      ]
     },
     "metadata": {},
     "output_type": "display_data"
    },
    {
     "name": "stdout",
     "output_type": "stream",
     "text": [
      "[31/100][18/22][Time 4.79]\n",
      "Unified LR across all optimizers: 0.0001905460698939014\n",
      "--------------------Training Metrics--------------------\n",
      "Trainer:  gpt\n",
      "Inf: 0.0027\tGen: 0.4089\tRec: 0.4097\tE: 0.0019\tR: 0.0034\tP: 0.8159\n",
      "--------------------Test Metrics------------------------\n",
      "mse: 0.0156\n",
      "mae: 0.1080\n",
      "r2: 0.5965\n",
      "\n"
     ]
    },
    {
     "data": {
      "application/vnd.jupyter.widget-view+json": {
       "model_id": "a56a783e23e14f3598a49430b0baf299",
       "version_major": 2,
       "version_minor": 0
      },
      "text/plain": [
       "Iterations:   0%|          | 0/22 [00:00<?, ?it/s]"
      ]
     },
     "metadata": {},
     "output_type": "display_data"
    },
    {
     "data": {
      "application/vnd.jupyter.widget-view+json": {
       "model_id": "cba12760cdfa4f789e9cdccd5695d003",
       "version_major": 2,
       "version_minor": 0
      },
      "text/plain": [
       "Iterations:   0%|          | 0/22 [00:00<?, ?it/s]"
      ]
     },
     "metadata": {},
     "output_type": "display_data"
    },
    {
     "data": {
      "application/vnd.jupyter.widget-view+json": {
       "model_id": "19a8170992db49e791b30c2bbe652203",
       "version_major": 2,
       "version_minor": 0
      },
      "text/plain": [
       "Iterations:   0%|          | 0/22 [00:00<?, ?it/s]"
      ]
     },
     "metadata": {},
     "output_type": "display_data"
    },
    {
     "name": "stdout",
     "output_type": "stream",
     "text": [
      "[34/100][2/22][Time 4.49]\n",
      "Unified LR across all optimizers: 0.00018988908231427226\n",
      "--------------------Training Metrics--------------------\n",
      "Trainer:  gpt\n",
      "Inf: 0.0026\tGen: 0.3809\tRec: 0.3814\tE: 0.0021\tR: 0.0032\tP: 0.7597\n",
      "--------------------Test Metrics------------------------\n",
      "mse: 0.0148\n",
      "mae: 0.1051\n",
      "r2: 0.6170\n",
      "\n"
     ]
    },
    {
     "data": {
      "application/vnd.jupyter.widget-view+json": {
       "model_id": "cac787e7a4bc4c2fa96c9606264c230b",
       "version_major": 2,
       "version_minor": 0
      },
      "text/plain": [
       "Iterations:   0%|          | 0/22 [00:00<?, ?it/s]"
      ]
     },
     "metadata": {},
     "output_type": "display_data"
    },
    {
     "data": {
      "application/vnd.jupyter.widget-view+json": {
       "model_id": "d0b6578e46884620a03f8ac4533ab388",
       "version_major": 2,
       "version_minor": 0
      },
      "text/plain": [
       "Iterations:   0%|          | 0/22 [00:00<?, ?it/s]"
      ]
     },
     "metadata": {},
     "output_type": "display_data"
    },
    {
     "name": "stdout",
     "output_type": "stream",
     "text": [
      "[36/100][8/22][Time 4.43]\n",
      "Unified LR across all optimizers: 0.00018923435997517015\n",
      "--------------------Training Metrics--------------------\n",
      "Trainer:  gpt\n",
      "Inf: 0.0026\tGen: 0.3798\tRec: 0.3803\tE: 0.0020\tR: 0.0032\tP: 0.7575\n",
      "--------------------Test Metrics------------------------\n",
      "mse: 0.0119\n",
      "mae: 0.0876\n",
      "r2: 0.6914\n",
      "\n"
     ]
    },
    {
     "data": {
      "application/vnd.jupyter.widget-view+json": {
       "model_id": "31ed9e8f46cc4395b643919ba2495cfe",
       "version_major": 2,
       "version_minor": 0
      },
      "text/plain": [
       "Iterations:   0%|          | 0/22 [00:00<?, ?it/s]"
      ]
     },
     "metadata": {},
     "output_type": "display_data"
    },
    {
     "data": {
      "application/vnd.jupyter.widget-view+json": {
       "model_id": "57d8d799d46b4308bdd8a8d78b0fa956",
       "version_major": 2,
       "version_minor": 0
      },
      "text/plain": [
       "Iterations:   0%|          | 0/22 [00:00<?, ?it/s]"
      ]
     },
     "metadata": {},
     "output_type": "display_data"
    },
    {
     "name": "stdout",
     "output_type": "stream",
     "text": [
      "[38/100][14/22][Time 4.53]\n",
      "Unified LR across all optimizers: 0.00018858189506622733\n",
      "--------------------Training Metrics--------------------\n",
      "Trainer:  gpt\n",
      "Inf: 0.0025\tGen: 0.3690\tRec: 0.3696\tE: 0.0020\tR: 0.0030\tP: 0.7361\n",
      "--------------------Test Metrics------------------------\n",
      "mse: 0.0104\n",
      "mae: 0.0776\n",
      "r2: 0.7325\n",
      "\n"
     ]
    },
    {
     "data": {
      "application/vnd.jupyter.widget-view+json": {
       "model_id": "f65f636579e64537b35ecb45cab1e4ef",
       "version_major": 2,
       "version_minor": 0
      },
      "text/plain": [
       "Iterations:   0%|          | 0/22 [00:00<?, ?it/s]"
      ]
     },
     "metadata": {},
     "output_type": "display_data"
    },
    {
     "data": {
      "application/vnd.jupyter.widget-view+json": {
       "model_id": "b8101c42fdda4b649192a535446bec59",
       "version_major": 2,
       "version_minor": 0
      },
      "text/plain": [
       "Iterations:   0%|          | 0/22 [00:00<?, ?it/s]"
      ]
     },
     "metadata": {},
     "output_type": "display_data"
    },
    {
     "name": "stdout",
     "output_type": "stream",
     "text": [
      "[40/100][20/22][Time 4.28]\n",
      "Unified LR across all optimizers: 0.00018793167980400528\n",
      "--------------------Training Metrics--------------------\n",
      "Trainer:  gpt\n",
      "Inf: 0.0028\tGen: 0.3570\tRec: 0.3575\tE: 0.0023\tR: 0.0034\tP: 0.7117\n",
      "--------------------Test Metrics------------------------\n",
      "mse: 0.0090\n",
      "mae: 0.0763\n",
      "r2: 0.7663\n",
      "\n"
     ]
    },
    {
     "data": {
      "application/vnd.jupyter.widget-view+json": {
       "model_id": "1a669d6a4ccd4869a6ae3b990b896b7b",
       "version_major": 2,
       "version_minor": 0
      },
      "text/plain": [
       "Iterations:   0%|          | 0/22 [00:00<?, ?it/s]"
      ]
     },
     "metadata": {},
     "output_type": "display_data"
    },
    {
     "data": {
      "application/vnd.jupyter.widget-view+json": {
       "model_id": "cbce073c850f4d67aef840bc74c8daf5",
       "version_major": 2,
       "version_minor": 0
      },
      "text/plain": [
       "Iterations:   0%|          | 0/22 [00:00<?, ?it/s]"
      ]
     },
     "metadata": {},
     "output_type": "display_data"
    },
    {
     "data": {
      "application/vnd.jupyter.widget-view+json": {
       "model_id": "26245212c8c848dca2a32f78a0d18847",
       "version_major": 2,
       "version_minor": 0
      },
      "text/plain": [
       "Iterations:   0%|          | 0/22 [00:00<?, ?it/s]"
      ]
     },
     "metadata": {},
     "output_type": "display_data"
    },
    {
     "name": "stdout",
     "output_type": "stream",
     "text": [
      "[43/100][4/22][Time 4.25]\n",
      "Unified LR across all optimizers: 0.00018728370643190262\n",
      "--------------------Training Metrics--------------------\n",
      "Trainer:  gpt\n",
      "Inf: 0.0028\tGen: 0.3428\tRec: 0.3435\tE: 0.0022\tR: 0.0034\tP: 0.6835\n",
      "--------------------Test Metrics------------------------\n",
      "mse: 0.0087\n",
      "mae: 0.0710\n",
      "r2: 0.7764\n",
      "\n"
     ]
    },
    {
     "data": {
      "application/vnd.jupyter.widget-view+json": {
       "model_id": "640d97e0788a4fd0b0a91675152b32eb",
       "version_major": 2,
       "version_minor": 0
      },
      "text/plain": [
       "Iterations:   0%|          | 0/22 [00:00<?, ?it/s]"
      ]
     },
     "metadata": {},
     "output_type": "display_data"
    },
    {
     "data": {
      "application/vnd.jupyter.widget-view+json": {
       "model_id": "959add4e89894423a882419a14c5a3c7",
       "version_major": 2,
       "version_minor": 0
      },
      "text/plain": [
       "Iterations:   0%|          | 0/22 [00:00<?, ?it/s]"
      ]
     },
     "metadata": {},
     "output_type": "display_data"
    },
    {
     "name": "stdout",
     "output_type": "stream",
     "text": [
      "[45/100][10/22][Time 4.60]\n",
      "Unified LR across all optimizers: 0.0001866379672200617\n",
      "--------------------Training Metrics--------------------\n",
      "Trainer:  gpt\n",
      "Inf: 0.0054\tGen: 0.3444\tRec: 0.3471\tE: 0.0026\tR: 0.0081\tP: 0.6861\n",
      "--------------------Test Metrics------------------------\n",
      "mse: 0.0104\n",
      "mae: 0.0860\n",
      "r2: 0.7305\n",
      "\n"
     ]
    },
    {
     "data": {
      "application/vnd.jupyter.widget-view+json": {
       "model_id": "084f295032aa405bafaa757fb06b16b2",
       "version_major": 2,
       "version_minor": 0
      },
      "text/plain": [
       "Iterations:   0%|          | 0/22 [00:00<?, ?it/s]"
      ]
     },
     "metadata": {},
     "output_type": "display_data"
    },
    {
     "data": {
      "application/vnd.jupyter.widget-view+json": {
       "model_id": "ad24a6b347eb44f8924d46e73630e8fc",
       "version_major": 2,
       "version_minor": 0
      },
      "text/plain": [
       "Iterations:   0%|          | 0/22 [00:00<?, ?it/s]"
      ]
     },
     "metadata": {},
     "output_type": "display_data"
    },
    {
     "name": "stdout",
     "output_type": "stream",
     "text": [
      "[47/100][16/22][Time 4.63]\n",
      "Unified LR across all optimizers: 0.00018599445446527716\n",
      "--------------------Training Metrics--------------------\n",
      "Trainer:  gpt\n",
      "Inf: 0.0031\tGen: 0.3372\tRec: 0.3377\tE: 0.0026\tR: 0.0036\tP: 0.6717\n",
      "--------------------Test Metrics------------------------\n",
      "mse: 0.0082\n",
      "mae: 0.0730\n",
      "r2: 0.7892\n",
      "\n"
     ]
    },
    {
     "data": {
      "application/vnd.jupyter.widget-view+json": {
       "model_id": "f971a824fa244f75b0cb7cdd59d53300",
       "version_major": 2,
       "version_minor": 0
      },
      "text/plain": [
       "Iterations:   0%|          | 0/22 [00:00<?, ?it/s]"
      ]
     },
     "metadata": {},
     "output_type": "display_data"
    },
    {
     "data": {
      "application/vnd.jupyter.widget-view+json": {
       "model_id": "14f4750eb0f046f9856fa2debafddfb1",
       "version_major": 2,
       "version_minor": 0
      },
      "text/plain": [
       "Iterations:   0%|          | 0/22 [00:00<?, ?it/s]"
      ]
     },
     "metadata": {},
     "output_type": "display_data"
    },
    {
     "data": {
      "application/vnd.jupyter.widget-view+json": {
       "model_id": "8e035107227c41b69a8636f02015f9dc",
       "version_major": 2,
       "version_minor": 0
      },
      "text/plain": [
       "Iterations:   0%|          | 0/22 [00:00<?, ?it/s]"
      ]
     },
     "metadata": {},
     "output_type": "display_data"
    },
    {
     "name": "stdout",
     "output_type": "stream",
     "text": [
      "[50/100][0/22][Time 4.57]\n",
      "Unified LR across all optimizers: 0.0001853531604909033\n",
      "--------------------Training Metrics--------------------\n",
      "Trainer:  gpt\n",
      "Inf: 0.0044\tGen: 0.3395\tRec: 0.3409\tE: 0.0030\tR: 0.0059\tP: 0.6760\n",
      "--------------------Test Metrics------------------------\n",
      "mse: 0.0154\n",
      "mae: 0.1072\n",
      "r2: 0.6034\n",
      "\n"
     ]
    },
    {
     "data": {
      "application/vnd.jupyter.widget-view+json": {
       "model_id": "4b0b9c84d9894261909c856fde58a146",
       "version_major": 2,
       "version_minor": 0
      },
      "text/plain": [
       "Iterations:   0%|          | 0/22 [00:00<?, ?it/s]"
      ]
     },
     "metadata": {},
     "output_type": "display_data"
    },
    {
     "data": {
      "application/vnd.jupyter.widget-view+json": {
       "model_id": "1fb32a6c82e34179a9b7403426eac674",
       "version_major": 2,
       "version_minor": 0
      },
      "text/plain": [
       "Iterations:   0%|          | 0/22 [00:00<?, ?it/s]"
      ]
     },
     "metadata": {},
     "output_type": "display_data"
    },
    {
     "name": "stdout",
     "output_type": "stream",
     "text": [
      "[52/100][6/22][Time 4.68]\n",
      "Unified LR across all optimizers: 0.00018471407764676314\n",
      "--------------------Training Metrics--------------------\n",
      "Trainer:  gpt\n",
      "Inf: 0.0036\tGen: 0.3327\tRec: 0.3336\tE: 0.0027\tR: 0.0046\tP: 0.6627\n",
      "--------------------Test Metrics------------------------\n",
      "mse: 0.0091\n",
      "mae: 0.0760\n",
      "r2: 0.7655\n",
      "\n"
     ]
    },
    {
     "data": {
      "application/vnd.jupyter.widget-view+json": {
       "model_id": "245c84e915044f5cbe750d19eb1b4508",
       "version_major": 2,
       "version_minor": 0
      },
      "text/plain": [
       "Iterations:   0%|          | 0/22 [00:00<?, ?it/s]"
      ]
     },
     "metadata": {},
     "output_type": "display_data"
    },
    {
     "data": {
      "application/vnd.jupyter.widget-view+json": {
       "model_id": "f861ab6dd9824ba495f1c3cfeb610f20",
       "version_major": 2,
       "version_minor": 0
      },
      "text/plain": [
       "Iterations:   0%|          | 0/22 [00:00<?, ?it/s]"
      ]
     },
     "metadata": {},
     "output_type": "display_data"
    },
    {
     "name": "stdout",
     "output_type": "stream",
     "text": [
      "[54/100][12/22][Time 4.47]\n",
      "Unified LR across all optimizers: 0.0001840771983090567\n",
      "--------------------Training Metrics--------------------\n",
      "Trainer:  gpt\n",
      "Inf: 0.0049\tGen: 0.3149\tRec: 0.3171\tE: 0.0028\tR: 0.0070\tP: 0.6271\n",
      "--------------------Test Metrics------------------------\n",
      "mse: 0.0196\n",
      "mae: 0.1200\n",
      "r2: 0.4942\n",
      "\n"
     ]
    },
    {
     "data": {
      "application/vnd.jupyter.widget-view+json": {
       "model_id": "d1470e28da5c417c89047aa44abf06b4",
       "version_major": 2,
       "version_minor": 0
      },
      "text/plain": [
       "Iterations:   0%|          | 0/22 [00:00<?, ?it/s]"
      ]
     },
     "metadata": {},
     "output_type": "display_data"
    },
    {
     "data": {
      "application/vnd.jupyter.widget-view+json": {
       "model_id": "0ef85ee4eac54304b2c194bc66e2c36c",
       "version_major": 2,
       "version_minor": 0
      },
      "text/plain": [
       "Iterations:   0%|          | 0/22 [00:00<?, ?it/s]"
      ]
     },
     "metadata": {},
     "output_type": "display_data"
    },
    {
     "name": "stdout",
     "output_type": "stream",
     "text": [
      "[56/100][18/22][Time 4.38]\n",
      "Unified LR across all optimizers: 0.00018344251488027063\n",
      "--------------------Training Metrics--------------------\n",
      "Trainer:  gpt\n",
      "Inf: 0.0110\tGen: 0.3281\tRec: 0.3343\tE: 0.0048\tR: 0.0172\tP: 0.6515\n",
      "--------------------Test Metrics------------------------\n",
      "mse: 0.0124\n",
      "mae: 0.0863\n",
      "r2: 0.6790\n",
      "\n"
     ]
    },
    {
     "data": {
      "application/vnd.jupyter.widget-view+json": {
       "model_id": "7ce5afad18ba40448393002891b07f15",
       "version_major": 2,
       "version_minor": 0
      },
      "text/plain": [
       "Iterations:   0%|          | 0/22 [00:00<?, ?it/s]"
      ]
     },
     "metadata": {},
     "output_type": "display_data"
    },
    {
     "data": {
      "application/vnd.jupyter.widget-view+json": {
       "model_id": "bd5a7ceb78b84cc28f2272b1113ea42b",
       "version_major": 2,
       "version_minor": 0
      },
      "text/plain": [
       "Iterations:   0%|          | 0/22 [00:00<?, ?it/s]"
      ]
     },
     "metadata": {},
     "output_type": "display_data"
    },
    {
     "data": {
      "application/vnd.jupyter.widget-view+json": {
       "model_id": "5c98a8bf8f5b4dfa9dfb549e47e255d1",
       "version_major": 2,
       "version_minor": 0
      },
      "text/plain": [
       "Iterations:   0%|          | 0/22 [00:00<?, ?it/s]"
      ]
     },
     "metadata": {},
     "output_type": "display_data"
    },
    {
     "name": "stdout",
     "output_type": "stream",
     "text": [
      "[59/100][2/22][Time 4.41]\n",
      "Unified LR across all optimizers: 0.0001828100197890869\n",
      "--------------------Training Metrics--------------------\n",
      "Trainer:  gpt\n",
      "Inf: 0.0067\tGen: 0.3280\tRec: 0.3312\tE: 0.0035\tR: 0.0099\tP: 0.6525\n",
      "--------------------Test Metrics------------------------\n",
      "mse: 0.0108\n",
      "mae: 0.0796\n",
      "r2: 0.7222\n",
      "\n"
     ]
    },
    {
     "data": {
      "application/vnd.jupyter.widget-view+json": {
       "model_id": "39172f8ea8994930ac16de3d857a1701",
       "version_major": 2,
       "version_minor": 0
      },
      "text/plain": [
       "Iterations:   0%|          | 0/22 [00:00<?, ?it/s]"
      ]
     },
     "metadata": {},
     "output_type": "display_data"
    },
    {
     "data": {
      "application/vnd.jupyter.widget-view+json": {
       "model_id": "fff762815c3d4f1b9281aea7bcbcc5c0",
       "version_major": 2,
       "version_minor": 0
      },
      "text/plain": [
       "Iterations:   0%|          | 0/22 [00:00<?, ?it/s]"
      ]
     },
     "metadata": {},
     "output_type": "display_data"
    },
    {
     "name": "stdout",
     "output_type": "stream",
     "text": [
      "[61/100][8/22][Time 4.39]\n",
      "Unified LR across all optimizers: 0.00018217970549029257\n",
      "--------------------Training Metrics--------------------\n",
      "Trainer:  gpt\n",
      "Inf: 0.0072\tGen: 0.3218\tRec: 0.3254\tE: 0.0036\tR: 0.0109\tP: 0.6400\n",
      "--------------------Test Metrics------------------------\n",
      "mse: 0.0204\n",
      "mae: 0.1254\n",
      "r2: 0.4738\n",
      "\n"
     ]
    },
    {
     "data": {
      "application/vnd.jupyter.widget-view+json": {
       "model_id": "8d317b2e4e7a4b97a43f4a642d5a7c3f",
       "version_major": 2,
       "version_minor": 0
      },
      "text/plain": [
       "Iterations:   0%|          | 0/22 [00:00<?, ?it/s]"
      ]
     },
     "metadata": {},
     "output_type": "display_data"
    },
    {
     "data": {
      "application/vnd.jupyter.widget-view+json": {
       "model_id": "47a35edd9fe0493bb5e3777e7983c3a6",
       "version_major": 2,
       "version_minor": 0
      },
      "text/plain": [
       "Iterations:   0%|          | 0/22 [00:00<?, ?it/s]"
      ]
     },
     "metadata": {},
     "output_type": "display_data"
    },
    {
     "name": "stdout",
     "output_type": "stream",
     "text": [
      "[63/100][14/22][Time 4.48]\n",
      "Unified LR across all optimizers: 0.00018155156446469055\n",
      "--------------------Training Metrics--------------------\n",
      "Trainer:  gpt\n",
      "Inf: 0.0064\tGen: 0.2967\tRec: 0.2989\tE: 0.0042\tR: 0.0086\tP: 0.5892\n",
      "--------------------Test Metrics------------------------\n",
      "mse: 0.0131\n",
      "mae: 0.0876\n",
      "r2: 0.6615\n",
      "\n"
     ]
    },
    {
     "data": {
      "application/vnd.jupyter.widget-view+json": {
       "model_id": "1d1a01d1d295435183d4155e0d61a9ae",
       "version_major": 2,
       "version_minor": 0
      },
      "text/plain": [
       "Iterations:   0%|          | 0/22 [00:00<?, ?it/s]"
      ]
     },
     "metadata": {},
     "output_type": "display_data"
    },
    {
     "data": {
      "application/vnd.jupyter.widget-view+json": {
       "model_id": "528aef50b8ca47f1adbd2b84658a908d",
       "version_major": 2,
       "version_minor": 0
      },
      "text/plain": [
       "Iterations:   0%|          | 0/22 [00:00<?, ?it/s]"
      ]
     },
     "metadata": {},
     "output_type": "display_data"
    },
    {
     "name": "stdout",
     "output_type": "stream",
     "text": [
      "[65/100][20/22][Time 4.54]\n",
      "Unified LR across all optimizers: 0.00018092558921900873\n",
      "--------------------Training Metrics--------------------\n",
      "Trainer:  gpt\n",
      "Inf: 0.0060\tGen: 0.3221\tRec: 0.3246\tE: 0.0036\tR: 0.0085\tP: 0.6406\n",
      "--------------------Test Metrics------------------------\n",
      "mse: 0.0110\n",
      "mae: 0.0868\n",
      "r2: 0.7160\n",
      "\n"
     ]
    },
    {
     "data": {
      "application/vnd.jupyter.widget-view+json": {
       "model_id": "6f02aebe78ed4326b81ac2cfa9bb18b3",
       "version_major": 2,
       "version_minor": 0
      },
      "text/plain": [
       "Iterations:   0%|          | 0/22 [00:00<?, ?it/s]"
      ]
     },
     "metadata": {},
     "output_type": "display_data"
    },
    {
     "data": {
      "application/vnd.jupyter.widget-view+json": {
       "model_id": "8a0ef19daaac4c4b9a4e8b774dacbe66",
       "version_major": 2,
       "version_minor": 0
      },
      "text/plain": [
       "Iterations:   0%|          | 0/22 [00:00<?, ?it/s]"
      ]
     },
     "metadata": {},
     "output_type": "display_data"
    },
    {
     "data": {
      "application/vnd.jupyter.widget-view+json": {
       "model_id": "a2264f62c1ef442cb8e9dfa161c4b690",
       "version_major": 2,
       "version_minor": 0
      },
      "text/plain": [
       "Iterations:   0%|          | 0/22 [00:00<?, ?it/s]"
      ]
     },
     "metadata": {},
     "output_type": "display_data"
    },
    {
     "name": "stdout",
     "output_type": "stream",
     "text": [
      "[68/100][4/22][Time 4.40]\n",
      "Unified LR across all optimizers: 0.00018030177228581167\n",
      "--------------------Training Metrics--------------------\n",
      "Trainer:  gpt\n",
      "Inf: 0.0042\tGen: 0.2933\tRec: 0.2944\tE: 0.0031\tR: 0.0053\tP: 0.5835\n",
      "--------------------Test Metrics------------------------\n",
      "mse: 0.0130\n",
      "mae: 0.0905\n",
      "r2: 0.6640\n",
      "\n"
     ]
    },
    {
     "data": {
      "application/vnd.jupyter.widget-view+json": {
       "model_id": "f280cd3a2ab54c3aa2ce1724c4d092c4",
       "version_major": 2,
       "version_minor": 0
      },
      "text/plain": [
       "Iterations:   0%|          | 0/22 [00:00<?, ?it/s]"
      ]
     },
     "metadata": {},
     "output_type": "display_data"
    },
    {
     "data": {
      "application/vnd.jupyter.widget-view+json": {
       "model_id": "70c383c8fae741c587c3837165268724",
       "version_major": 2,
       "version_minor": 0
      },
      "text/plain": [
       "Iterations:   0%|          | 0/22 [00:00<?, ?it/s]"
      ]
     },
     "metadata": {},
     "output_type": "display_data"
    },
    {
     "name": "stdout",
     "output_type": "stream",
     "text": [
      "[70/100][10/22][Time 4.34]\n",
      "Unified LR across all optimizers: 0.00017968010622341094\n",
      "--------------------Training Metrics--------------------\n",
      "Trainer:  gpt\n",
      "Inf: 0.0043\tGen: 0.2962\tRec: 0.2972\tE: 0.0033\tR: 0.0053\tP: 0.5890\n",
      "--------------------Test Metrics------------------------\n",
      "mse: 0.0120\n",
      "mae: 0.0917\n",
      "r2: 0.6900\n",
      "\n"
     ]
    },
    {
     "data": {
      "application/vnd.jupyter.widget-view+json": {
       "model_id": "0a9319b63ed6480598bf4bb7ea8151f8",
       "version_major": 2,
       "version_minor": 0
      },
      "text/plain": [
       "Iterations:   0%|          | 0/22 [00:00<?, ?it/s]"
      ]
     },
     "metadata": {},
     "output_type": "display_data"
    },
    {
     "data": {
      "application/vnd.jupyter.widget-view+json": {
       "model_id": "3d5df9b77b414c8d86c05078b9751672",
       "version_major": 2,
       "version_minor": 0
      },
      "text/plain": [
       "Iterations:   0%|          | 0/22 [00:00<?, ?it/s]"
      ]
     },
     "metadata": {},
     "output_type": "display_data"
    },
    {
     "name": "stdout",
     "output_type": "stream",
     "text": [
      "[72/100][16/22][Time 4.68]\n",
      "Unified LR across all optimizers: 0.0001790605836157762\n",
      "--------------------Training Metrics--------------------\n",
      "Trainer:  gpt\n",
      "Inf: 0.0046\tGen: 0.3155\tRec: 0.3166\tE: 0.0035\tR: 0.0057\tP: 0.6276\n",
      "--------------------Test Metrics------------------------\n",
      "mse: 0.0143\n",
      "mae: 0.1023\n",
      "r2: 0.6316\n",
      "\n"
     ]
    },
    {
     "data": {
      "application/vnd.jupyter.widget-view+json": {
       "model_id": "6916a244206b40809ac00464f9115edb",
       "version_major": 2,
       "version_minor": 0
      },
      "text/plain": [
       "Iterations:   0%|          | 0/22 [00:00<?, ?it/s]"
      ]
     },
     "metadata": {},
     "output_type": "display_data"
    },
    {
     "data": {
      "application/vnd.jupyter.widget-view+json": {
       "model_id": "b8c4efd20fe34ce1bc642dd776c5a96f",
       "version_major": 2,
       "version_minor": 0
      },
      "text/plain": [
       "Iterations:   0%|          | 0/22 [00:00<?, ?it/s]"
      ]
     },
     "metadata": {},
     "output_type": "display_data"
    },
    {
     "data": {
      "application/vnd.jupyter.widget-view+json": {
       "model_id": "90e4bfc924af472faf88dfb4253fa7f6",
       "version_major": 2,
       "version_minor": 0
      },
      "text/plain": [
       "Iterations:   0%|          | 0/22 [00:00<?, ?it/s]"
      ]
     },
     "metadata": {},
     "output_type": "display_data"
    },
    {
     "name": "stdout",
     "output_type": "stream",
     "text": [
      "[75/100][0/22][Time 4.67]\n",
      "Unified LR across all optimizers: 0.00017844319707244736\n",
      "--------------------Training Metrics--------------------\n",
      "Trainer:  gpt\n",
      "Inf: 0.0045\tGen: 0.2880\tRec: 0.2893\tE: 0.0032\tR: 0.0059\tP: 0.5727\n",
      "--------------------Test Metrics------------------------\n",
      "mse: 0.0094\n",
      "mae: 0.0813\n",
      "r2: 0.7575\n",
      "\n"
     ]
    },
    {
     "data": {
      "application/vnd.jupyter.widget-view+json": {
       "model_id": "7968fe4b723b45998c8812d761815a74",
       "version_major": 2,
       "version_minor": 0
      },
      "text/plain": [
       "Iterations:   0%|          | 0/22 [00:00<?, ?it/s]"
      ]
     },
     "metadata": {},
     "output_type": "display_data"
    },
    {
     "data": {
      "application/vnd.jupyter.widget-view+json": {
       "model_id": "99c85be4f29245eba7eb09d17c03ce8c",
       "version_major": 2,
       "version_minor": 0
      },
      "text/plain": [
       "Iterations:   0%|          | 0/22 [00:00<?, ?it/s]"
      ]
     },
     "metadata": {},
     "output_type": "display_data"
    },
    {
     "name": "stdout",
     "output_type": "stream",
     "text": [
      "[77/100][6/22][Time 4.45]\n",
      "Unified LR across all optimizers: 0.00017782793922844578\n",
      "--------------------Training Metrics--------------------\n",
      "Trainer:  gpt\n",
      "Inf: 0.0048\tGen: 0.3049\tRec: 0.3059\tE: 0.0038\tR: 0.0058\tP: 0.6059\n",
      "--------------------Test Metrics------------------------\n",
      "mse: 0.0106\n",
      "mae: 0.0799\n",
      "r2: 0.7259\n",
      "\n"
     ]
    },
    {
     "data": {
      "application/vnd.jupyter.widget-view+json": {
       "model_id": "36d72ccf77a947a7ab12a6366373a0aa",
       "version_major": 2,
       "version_minor": 0
      },
      "text/plain": [
       "Iterations:   0%|          | 0/22 [00:00<?, ?it/s]"
      ]
     },
     "metadata": {},
     "output_type": "display_data"
    },
    {
     "data": {
      "application/vnd.jupyter.widget-view+json": {
       "model_id": "96831b7b5a4c4df49fc9cf0f81dd5319",
       "version_major": 2,
       "version_minor": 0
      },
      "text/plain": [
       "Iterations:   0%|          | 0/22 [00:00<?, ?it/s]"
      ]
     },
     "metadata": {},
     "output_type": "display_data"
    },
    {
     "name": "stdout",
     "output_type": "stream",
     "text": [
      "[79/100][12/22][Time 4.45]\n",
      "Unified LR across all optimizers: 0.00017721480274418683\n",
      "--------------------Training Metrics--------------------\n",
      "Trainer:  gpt\n",
      "Inf: 0.0040\tGen: 0.2855\tRec: 0.2863\tE: 0.0032\tR: 0.0048\tP: 0.5679\n",
      "--------------------Test Metrics------------------------\n",
      "mse: 0.0110\n",
      "mae: 0.0797\n",
      "r2: 0.7161\n",
      "\n"
     ]
    },
    {
     "data": {
      "application/vnd.jupyter.widget-view+json": {
       "model_id": "3608089dac6947b9a878f906efb17ab3",
       "version_major": 2,
       "version_minor": 0
      },
      "text/plain": [
       "Iterations:   0%|          | 0/22 [00:00<?, ?it/s]"
      ]
     },
     "metadata": {},
     "output_type": "display_data"
    },
    {
     "data": {
      "application/vnd.jupyter.widget-view+json": {
       "model_id": "fb0e2c27be684b93869e1b76dc4e21de",
       "version_major": 2,
       "version_minor": 0
      },
      "text/plain": [
       "Iterations:   0%|          | 0/22 [00:00<?, ?it/s]"
      ]
     },
     "metadata": {},
     "output_type": "display_data"
    },
    {
     "name": "stdout",
     "output_type": "stream",
     "text": [
      "[81/100][18/22][Time 4.56]\n",
      "Unified LR across all optimizers: 0.000176603780305392\n",
      "--------------------Training Metrics--------------------\n",
      "Trainer:  gpt\n",
      "Inf: 0.0057\tGen: 0.2973\tRec: 0.2987\tE: 0.0043\tR: 0.0071\tP: 0.5902\n",
      "--------------------Test Metrics------------------------\n",
      "mse: 0.0110\n",
      "mae: 0.0870\n",
      "r2: 0.7147\n",
      "\n"
     ]
    },
    {
     "data": {
      "application/vnd.jupyter.widget-view+json": {
       "model_id": "fd357699b53e4e9aa0008de9edb8ff0d",
       "version_major": 2,
       "version_minor": 0
      },
      "text/plain": [
       "Iterations:   0%|          | 0/22 [00:00<?, ?it/s]"
      ]
     },
     "metadata": {},
     "output_type": "display_data"
    },
    {
     "data": {
      "application/vnd.jupyter.widget-view+json": {
       "model_id": "b37df0c4079345309176128685cb0680",
       "version_major": 2,
       "version_minor": 0
      },
      "text/plain": [
       "Iterations:   0%|          | 0/22 [00:00<?, ?it/s]"
      ]
     },
     "metadata": {},
     "output_type": "display_data"
    },
    {
     "data": {
      "application/vnd.jupyter.widget-view+json": {
       "model_id": "8a216a3cd2f74732ab3a885fb482ce9e",
       "version_major": 2,
       "version_minor": 0
      },
      "text/plain": [
       "Iterations:   0%|          | 0/22 [00:00<?, ?it/s]"
      ]
     },
     "metadata": {},
     "output_type": "display_data"
    },
    {
     "name": "stdout",
     "output_type": "stream",
     "text": [
      "[84/100][2/22][Time 4.54]\n",
      "Unified LR across all optimizers: 0.00017599486462300197\n",
      "--------------------Training Metrics--------------------\n",
      "Trainer:  gpt\n",
      "Inf: 0.0050\tGen: 0.2961\tRec: 0.2971\tE: 0.0039\tR: 0.0061\tP: 0.5882\n",
      "--------------------Test Metrics------------------------\n",
      "mse: 0.0108\n",
      "mae: 0.0785\n",
      "r2: 0.7207\n",
      "\n"
     ]
    },
    {
     "data": {
      "application/vnd.jupyter.widget-view+json": {
       "model_id": "3c2f20941de0410ead8942a5a8476574",
       "version_major": 2,
       "version_minor": 0
      },
      "text/plain": [
       "Iterations:   0%|          | 0/22 [00:00<?, ?it/s]"
      ]
     },
     "metadata": {},
     "output_type": "display_data"
    },
    {
     "data": {
      "application/vnd.jupyter.widget-view+json": {
       "model_id": "202c25af5c67476893d822d8b68d70c0",
       "version_major": 2,
       "version_minor": 0
      },
      "text/plain": [
       "Iterations:   0%|          | 0/22 [00:00<?, ?it/s]"
      ]
     },
     "metadata": {},
     "output_type": "display_data"
    },
    {
     "name": "stdout",
     "output_type": "stream",
     "text": [
      "[86/100][8/22][Time 4.46]\n",
      "Unified LR across all optimizers: 0.00017538804843308947\n",
      "--------------------Training Metrics--------------------\n",
      "Trainer:  gpt\n",
      "Inf: 0.0045\tGen: 0.2979\tRec: 0.2988\tE: 0.0036\tR: 0.0054\tP: 0.5921\n",
      "--------------------Test Metrics------------------------\n",
      "mse: 0.0117\n",
      "mae: 0.0875\n",
      "r2: 0.6988\n",
      "\n"
     ]
    },
    {
     "data": {
      "application/vnd.jupyter.widget-view+json": {
       "model_id": "2c82ebe6857843ebb87c42f911de055d",
       "version_major": 2,
       "version_minor": 0
      },
      "text/plain": [
       "Iterations:   0%|          | 0/22 [00:00<?, ?it/s]"
      ]
     },
     "metadata": {},
     "output_type": "display_data"
    },
    {
     "data": {
      "application/vnd.jupyter.widget-view+json": {
       "model_id": "ae14fdec4e2a4a1a8755e873fbafe17e",
       "version_major": 2,
       "version_minor": 0
      },
      "text/plain": [
       "Iterations:   0%|          | 0/22 [00:00<?, ?it/s]"
      ]
     },
     "metadata": {},
     "output_type": "display_data"
    },
    {
     "name": "stdout",
     "output_type": "stream",
     "text": [
      "[88/100][14/22][Time 4.49]\n",
      "Unified LR across all optimizers: 0.0001747833244967727\n",
      "--------------------Training Metrics--------------------\n",
      "Trainer:  gpt\n",
      "Inf: 0.0082\tGen: 0.2819\tRec: 0.2859\tE: 0.0041\tR: 0.0122\tP: 0.5596\n",
      "--------------------Test Metrics------------------------\n",
      "mse: 0.0153\n",
      "mae: 0.0957\n",
      "r2: 0.6060\n",
      "\n"
     ]
    },
    {
     "data": {
      "application/vnd.jupyter.widget-view+json": {
       "model_id": "37ec565e0ddd4f9db235778835f8306f",
       "version_major": 2,
       "version_minor": 0
      },
      "text/plain": [
       "Iterations:   0%|          | 0/22 [00:00<?, ?it/s]"
      ]
     },
     "metadata": {},
     "output_type": "display_data"
    },
    {
     "data": {
      "application/vnd.jupyter.widget-view+json": {
       "model_id": "9134d1d54e664990ba9ceeda4e23668e",
       "version_major": 2,
       "version_minor": 0
      },
      "text/plain": [
       "Iterations:   0%|          | 0/22 [00:00<?, ?it/s]"
      ]
     },
     "metadata": {},
     "output_type": "display_data"
    },
    {
     "name": "stdout",
     "output_type": "stream",
     "text": [
      "[90/100][20/22][Time 4.42]\n",
      "Unified LR across all optimizers: 0.00017418068560012899\n",
      "--------------------Training Metrics--------------------\n",
      "Trainer:  gpt\n",
      "Inf: 0.0050\tGen: 0.2885\tRec: 0.2891\tE: 0.0043\tR: 0.0056\tP: 0.5727\n",
      "--------------------Test Metrics------------------------\n",
      "mse: 0.0159\n",
      "mae: 0.0998\n",
      "r2: 0.5894\n",
      "\n"
     ]
    },
    {
     "data": {
      "application/vnd.jupyter.widget-view+json": {
       "model_id": "9fc8b1a3218b452a9c3cbaffa1aa458b",
       "version_major": 2,
       "version_minor": 0
      },
      "text/plain": [
       "Iterations:   0%|          | 0/22 [00:00<?, ?it/s]"
      ]
     },
     "metadata": {},
     "output_type": "display_data"
    },
    {
     "data": {
      "application/vnd.jupyter.widget-view+json": {
       "model_id": "9a980346363c49908e8a9c585f9dcd90",
       "version_major": 2,
       "version_minor": 0
      },
      "text/plain": [
       "Iterations:   0%|          | 0/22 [00:00<?, ?it/s]"
      ]
     },
     "metadata": {},
     "output_type": "display_data"
    },
    {
     "data": {
      "application/vnd.jupyter.widget-view+json": {
       "model_id": "37c35b50321346a1b3e3568dbc825da7",
       "version_major": 2,
       "version_minor": 0
      },
      "text/plain": [
       "Iterations:   0%|          | 0/22 [00:00<?, ?it/s]"
      ]
     },
     "metadata": {},
     "output_type": "display_data"
    },
    {
     "name": "stdout",
     "output_type": "stream",
     "text": [
      "[93/100][4/22][Time 4.40]\n",
      "Unified LR across all optimizers: 0.00017358012455410848\n",
      "--------------------Training Metrics--------------------\n",
      "Trainer:  gpt\n",
      "Inf: 0.0060\tGen: 0.2724\tRec: 0.2742\tE: 0.0042\tR: 0.0078\tP: 0.5406\n",
      "--------------------Test Metrics------------------------\n",
      "mse: 0.0130\n",
      "mae: 0.0916\n",
      "r2: 0.6647\n",
      "\n"
     ]
    },
    {
     "data": {
      "application/vnd.jupyter.widget-view+json": {
       "model_id": "f7a034e235ec42dfbbf9fdbf4757ee56",
       "version_major": 2,
       "version_minor": 0
      },
      "text/plain": [
       "Iterations:   0%|          | 0/22 [00:00<?, ?it/s]"
      ]
     },
     "metadata": {},
     "output_type": "display_data"
    },
    {
     "data": {
      "application/vnd.jupyter.widget-view+json": {
       "model_id": "2c5a6b97de5e41b8aea14b89d4242f11",
       "version_major": 2,
       "version_minor": 0
      },
      "text/plain": [
       "Iterations:   0%|          | 0/22 [00:00<?, ?it/s]"
      ]
     },
     "metadata": {},
     "output_type": "display_data"
    },
    {
     "name": "stdout",
     "output_type": "stream",
     "text": [
      "[95/100][10/22][Time 4.58]\n",
      "Unified LR across all optimizers: 0.0001729816341944489\n",
      "--------------------Training Metrics--------------------\n",
      "Trainer:  gpt\n",
      "Inf: 0.0046\tGen: 0.2873\tRec: 0.2881\tE: 0.0037\tR: 0.0054\tP: 0.5708\n",
      "--------------------Test Metrics------------------------\n",
      "mse: 0.0119\n",
      "mae: 0.0902\n",
      "r2: 0.6916\n",
      "\n"
     ]
    },
    {
     "data": {
      "application/vnd.jupyter.widget-view+json": {
       "model_id": "84d3403db5ff49dbab66e399cc8a9ed3",
       "version_major": 2,
       "version_minor": 0
      },
      "text/plain": [
       "Iterations:   0%|          | 0/22 [00:00<?, ?it/s]"
      ]
     },
     "metadata": {},
     "output_type": "display_data"
    },
    {
     "data": {
      "application/vnd.jupyter.widget-view+json": {
       "model_id": "fd5c7d21484942d99855e60f19e7469e",
       "version_major": 2,
       "version_minor": 0
      },
      "text/plain": [
       "Iterations:   0%|          | 0/22 [00:00<?, ?it/s]"
      ]
     },
     "metadata": {},
     "output_type": "display_data"
    },
    {
     "name": "stdout",
     "output_type": "stream",
     "text": [
      "[97/100][16/22][Time 4.59]\n",
      "Unified LR across all optimizers: 0.0001723852073815896\n",
      "--------------------Training Metrics--------------------\n",
      "Trainer:  gpt\n",
      "Inf: 0.0044\tGen: 0.2788\tRec: 0.2794\tE: 0.0037\tR: 0.0050\tP: 0.5538\n",
      "--------------------Test Metrics------------------------\n",
      "mse: 0.0127\n",
      "mae: 0.0901\n",
      "r2: 0.6723\n",
      "\n"
     ]
    },
    {
     "data": {
      "application/vnd.jupyter.widget-view+json": {
       "model_id": "aeab95b407484a0aa9228aa2a189007d",
       "version_major": 2,
       "version_minor": 0
      },
      "text/plain": [
       "Iterations:   0%|          | 0/22 [00:00<?, ?it/s]"
      ]
     },
     "metadata": {},
     "output_type": "display_data"
    },
    {
     "data": {
      "application/vnd.jupyter.widget-view+json": {
       "model_id": "0ead80cfcc1142389f3b23e3dc64d678",
       "version_major": 2,
       "version_minor": 0
      },
      "text/plain": [
       "Iterations:   0%|          | 0/22 [00:00<?, ?it/s]"
      ]
     },
     "metadata": {},
     "output_type": "display_data"
    }
   ],
   "source": [
    "trainer_hub.train(trainset, testset)"
   ]
  }
 ],
 "metadata": {
  "kernelspec": {
   "display_name": "Python 3",
   "language": "python",
   "name": "python3"
  },
  "language_info": {
   "codemirror_mode": {
    "name": "ipython",
    "version": 3
   },
   "file_extension": ".py",
   "mimetype": "text/x-python",
   "name": "python",
   "nbconvert_exporter": "python",
   "pygments_lexer": "ipython3",
   "version": "3.9.18"
  },
  "papermill": {
   "default_parameters": {},
   "duration": 83.906344,
   "end_time": "2023-06-06T07:49:52.571607",
   "environment_variables": {},
   "exception": null,
   "input_path": "__notebook__.ipynb",
   "output_path": "__notebook__.ipynb",
   "parameters": {},
   "start_time": "2023-06-06T07:48:28.665263",
   "version": "2.4.0"
  }
 },
 "nbformat": 4,
 "nbformat_minor": 5
}
